{
 "cells": [
  {
   "cell_type": "markdown",
   "id": "dd1e551a-1d73-4e57-a25c-a1be97fbfebd",
   "metadata": {},
   "source": [
    "Social Network Ads veri setinin üzerinde sınıflandırma algoritmaları kullanacağız"
   ]
  },
  {
   "cell_type": "code",
   "execution_count": 1,
   "id": "9c2d41ef-b989-48b1-bacc-416e7c057673",
   "metadata": {},
   "outputs": [],
   "source": [
    "from warnings import filterwarnings\n",
    "filterwarnings('ignore')\n",
    "\n",
    "import numpy as np\n",
    "import pandas as pd\n",
    "import matplotlib.pyplot as plt\n",
    "from sklearn.metrics import confusion_matrix"
   ]
  },
  {
   "cell_type": "code",
   "execution_count": 2,
   "id": "0492b6ca-04eb-47c3-90b9-f77a99f36c20",
   "metadata": {},
   "outputs": [],
   "source": [
    "veriler = pd.read_csv(\"Social_Network_Ads.csv\")  #verilerimizi yüklüyoruz"
   ]
  },
  {
   "cell_type": "code",
   "execution_count": 3,
   "id": "b5a7ed68-5d9e-46bb-9417-a2840b15c5a6",
   "metadata": {},
   "outputs": [
    {
     "data": {
      "text/html": [
       "<div>\n",
       "<style scoped>\n",
       "    .dataframe tbody tr th:only-of-type {\n",
       "        vertical-align: middle;\n",
       "    }\n",
       "\n",
       "    .dataframe tbody tr th {\n",
       "        vertical-align: top;\n",
       "    }\n",
       "\n",
       "    .dataframe thead th {\n",
       "        text-align: right;\n",
       "    }\n",
       "</style>\n",
       "<table border=\"1\" class=\"dataframe\">\n",
       "  <thead>\n",
       "    <tr style=\"text-align: right;\">\n",
       "      <th></th>\n",
       "      <th>User ID</th>\n",
       "      <th>Gender</th>\n",
       "      <th>Age</th>\n",
       "      <th>EstimatedSalary</th>\n",
       "      <th>Purchased</th>\n",
       "    </tr>\n",
       "  </thead>\n",
       "  <tbody>\n",
       "    <tr>\n",
       "      <th>0</th>\n",
       "      <td>15624510</td>\n",
       "      <td>Male</td>\n",
       "      <td>19.0</td>\n",
       "      <td>19000.0</td>\n",
       "      <td>0</td>\n",
       "    </tr>\n",
       "    <tr>\n",
       "      <th>1</th>\n",
       "      <td>15810944</td>\n",
       "      <td>Male</td>\n",
       "      <td>35.0</td>\n",
       "      <td>20000.0</td>\n",
       "      <td>0</td>\n",
       "    </tr>\n",
       "    <tr>\n",
       "      <th>2</th>\n",
       "      <td>15668575</td>\n",
       "      <td>Female</td>\n",
       "      <td>26.0</td>\n",
       "      <td>43000.0</td>\n",
       "      <td>0</td>\n",
       "    </tr>\n",
       "    <tr>\n",
       "      <th>3</th>\n",
       "      <td>15603246</td>\n",
       "      <td>Female</td>\n",
       "      <td>27.0</td>\n",
       "      <td>57000.0</td>\n",
       "      <td>0</td>\n",
       "    </tr>\n",
       "    <tr>\n",
       "      <th>4</th>\n",
       "      <td>15804002</td>\n",
       "      <td>Male</td>\n",
       "      <td>19.0</td>\n",
       "      <td>76000.0</td>\n",
       "      <td>0</td>\n",
       "    </tr>\n",
       "  </tbody>\n",
       "</table>\n",
       "</div>"
      ],
      "text/plain": [
       "    User ID  Gender   Age  EstimatedSalary  Purchased\n",
       "0  15624510    Male  19.0          19000.0          0\n",
       "1  15810944    Male  35.0          20000.0          0\n",
       "2  15668575  Female  26.0          43000.0          0\n",
       "3  15603246  Female  27.0          57000.0          0\n",
       "4  15804002    Male  19.0          76000.0          0"
      ]
     },
     "execution_count": 3,
     "metadata": {},
     "output_type": "execute_result"
    }
   ],
   "source": [
    "veriler.head()"
   ]
  },
  {
   "cell_type": "code",
   "execution_count": 4,
   "id": "f6c92107-e887-4b97-a3b9-4d8ce2a71072",
   "metadata": {},
   "outputs": [
    {
     "data": {
      "text/plain": [
       "User ID            0\n",
       "Gender             0\n",
       "Age                0\n",
       "EstimatedSalary    0\n",
       "Purchased          0\n",
       "dtype: int64"
      ]
     },
     "execution_count": 4,
     "metadata": {},
     "output_type": "execute_result"
    }
   ],
   "source": [
    "veriler.isnull().sum()  #eksik bir veri olmadığını görebiliyoruz"
   ]
  },
  {
   "cell_type": "code",
   "execution_count": 5,
   "id": "ee161406-59c9-4556-9aab-b5ac42f4baf6",
   "metadata": {},
   "outputs": [
    {
     "data": {
      "text/html": [
       "<div>\n",
       "<style scoped>\n",
       "    .dataframe tbody tr th:only-of-type {\n",
       "        vertical-align: middle;\n",
       "    }\n",
       "\n",
       "    .dataframe tbody tr th {\n",
       "        vertical-align: top;\n",
       "    }\n",
       "\n",
       "    .dataframe thead th {\n",
       "        text-align: right;\n",
       "    }\n",
       "</style>\n",
       "<table border=\"1\" class=\"dataframe\">\n",
       "  <thead>\n",
       "    <tr style=\"text-align: right;\">\n",
       "      <th></th>\n",
       "      <th>count</th>\n",
       "      <th>mean</th>\n",
       "      <th>std</th>\n",
       "      <th>min</th>\n",
       "      <th>25%</th>\n",
       "      <th>50%</th>\n",
       "      <th>75%</th>\n",
       "      <th>max</th>\n",
       "    </tr>\n",
       "  </thead>\n",
       "  <tbody>\n",
       "    <tr>\n",
       "      <th>User ID</th>\n",
       "      <td>400.0</td>\n",
       "      <td>1.569154e+07</td>\n",
       "      <td>71658.321581</td>\n",
       "      <td>15566689.0</td>\n",
       "      <td>15626763.75</td>\n",
       "      <td>15694341.5</td>\n",
       "      <td>15750363.0</td>\n",
       "      <td>15815236.0</td>\n",
       "    </tr>\n",
       "    <tr>\n",
       "      <th>Age</th>\n",
       "      <td>400.0</td>\n",
       "      <td>3.765500e+01</td>\n",
       "      <td>10.482877</td>\n",
       "      <td>18.0</td>\n",
       "      <td>29.75</td>\n",
       "      <td>37.0</td>\n",
       "      <td>46.0</td>\n",
       "      <td>60.0</td>\n",
       "    </tr>\n",
       "    <tr>\n",
       "      <th>EstimatedSalary</th>\n",
       "      <td>400.0</td>\n",
       "      <td>6.974250e+04</td>\n",
       "      <td>34096.960282</td>\n",
       "      <td>15000.0</td>\n",
       "      <td>43000.00</td>\n",
       "      <td>70000.0</td>\n",
       "      <td>88000.0</td>\n",
       "      <td>150000.0</td>\n",
       "    </tr>\n",
       "    <tr>\n",
       "      <th>Purchased</th>\n",
       "      <td>400.0</td>\n",
       "      <td>3.575000e-01</td>\n",
       "      <td>0.479864</td>\n",
       "      <td>0.0</td>\n",
       "      <td>0.00</td>\n",
       "      <td>0.0</td>\n",
       "      <td>1.0</td>\n",
       "      <td>1.0</td>\n",
       "    </tr>\n",
       "  </tbody>\n",
       "</table>\n",
       "</div>"
      ],
      "text/plain": [
       "                 count          mean           std         min          25%  \\\n",
       "User ID          400.0  1.569154e+07  71658.321581  15566689.0  15626763.75   \n",
       "Age              400.0  3.765500e+01     10.482877        18.0        29.75   \n",
       "EstimatedSalary  400.0  6.974250e+04  34096.960282     15000.0     43000.00   \n",
       "Purchased        400.0  3.575000e-01      0.479864         0.0         0.00   \n",
       "\n",
       "                        50%         75%         max  \n",
       "User ID          15694341.5  15750363.0  15815236.0  \n",
       "Age                    37.0        46.0        60.0  \n",
       "EstimatedSalary     70000.0     88000.0    150000.0  \n",
       "Purchased               0.0         1.0         1.0  "
      ]
     },
     "execution_count": 5,
     "metadata": {},
     "output_type": "execute_result"
    }
   ],
   "source": [
    "veriler.describe().T"
   ]
  },
  {
   "cell_type": "code",
   "execution_count": 6,
   "id": "df7c5d86-e072-4384-8aa3-5c4ee366ea66",
   "metadata": {},
   "outputs": [
    {
     "name": "stdout",
     "output_type": "stream",
     "text": [
      "<class 'pandas.core.frame.DataFrame'>\n",
      "RangeIndex: 400 entries, 0 to 399\n",
      "Data columns (total 5 columns):\n",
      " #   Column           Non-Null Count  Dtype  \n",
      "---  ------           --------------  -----  \n",
      " 0   User ID          400 non-null    int64  \n",
      " 1   Gender           400 non-null    object \n",
      " 2   Age              400 non-null    float64\n",
      " 3   EstimatedSalary  400 non-null    float64\n",
      " 4   Purchased        400 non-null    int64  \n",
      "dtypes: float64(2), int64(2), object(1)\n",
      "memory usage: 15.8+ KB\n"
     ]
    }
   ],
   "source": [
    "veriler.info()"
   ]
  },
  {
   "cell_type": "markdown",
   "id": "354c7b47-6f4a-4cd0-aa48-0420c6425dbb",
   "metadata": {},
   "source": [
    "Makine öğrenmesi algoritmalarında kullanabilmek için verileri numerik değerlere çevirmeliyiz"
   ]
  },
  {
   "cell_type": "code",
   "execution_count": 7,
   "id": "55316ab3-1cab-4f75-afe6-31799d1a248d",
   "metadata": {},
   "outputs": [],
   "source": [
    "veriler=pd.get_dummies(veriler,columns=[\"Gender\"],drop_first=True)"
   ]
  },
  {
   "cell_type": "code",
   "execution_count": 8,
   "id": "09e2b951-b189-44ed-982f-ec7a09e834e4",
   "metadata": {},
   "outputs": [
    {
     "data": {
      "text/html": [
       "<div>\n",
       "<style scoped>\n",
       "    .dataframe tbody tr th:only-of-type {\n",
       "        vertical-align: middle;\n",
       "    }\n",
       "\n",
       "    .dataframe tbody tr th {\n",
       "        vertical-align: top;\n",
       "    }\n",
       "\n",
       "    .dataframe thead th {\n",
       "        text-align: right;\n",
       "    }\n",
       "</style>\n",
       "<table border=\"1\" class=\"dataframe\">\n",
       "  <thead>\n",
       "    <tr style=\"text-align: right;\">\n",
       "      <th></th>\n",
       "      <th>User ID</th>\n",
       "      <th>Age</th>\n",
       "      <th>EstimatedSalary</th>\n",
       "      <th>Purchased</th>\n",
       "      <th>Gender_Male</th>\n",
       "    </tr>\n",
       "  </thead>\n",
       "  <tbody>\n",
       "    <tr>\n",
       "      <th>0</th>\n",
       "      <td>15624510</td>\n",
       "      <td>19.0</td>\n",
       "      <td>19000.0</td>\n",
       "      <td>0</td>\n",
       "      <td>1</td>\n",
       "    </tr>\n",
       "    <tr>\n",
       "      <th>1</th>\n",
       "      <td>15810944</td>\n",
       "      <td>35.0</td>\n",
       "      <td>20000.0</td>\n",
       "      <td>0</td>\n",
       "      <td>1</td>\n",
       "    </tr>\n",
       "    <tr>\n",
       "      <th>2</th>\n",
       "      <td>15668575</td>\n",
       "      <td>26.0</td>\n",
       "      <td>43000.0</td>\n",
       "      <td>0</td>\n",
       "      <td>0</td>\n",
       "    </tr>\n",
       "    <tr>\n",
       "      <th>3</th>\n",
       "      <td>15603246</td>\n",
       "      <td>27.0</td>\n",
       "      <td>57000.0</td>\n",
       "      <td>0</td>\n",
       "      <td>0</td>\n",
       "    </tr>\n",
       "    <tr>\n",
       "      <th>4</th>\n",
       "      <td>15804002</td>\n",
       "      <td>19.0</td>\n",
       "      <td>76000.0</td>\n",
       "      <td>0</td>\n",
       "      <td>1</td>\n",
       "    </tr>\n",
       "  </tbody>\n",
       "</table>\n",
       "</div>"
      ],
      "text/plain": [
       "    User ID   Age  EstimatedSalary  Purchased  Gender_Male\n",
       "0  15624510  19.0          19000.0          0            1\n",
       "1  15810944  35.0          20000.0          0            1\n",
       "2  15668575  26.0          43000.0          0            0\n",
       "3  15603246  27.0          57000.0          0            0\n",
       "4  15804002  19.0          76000.0          0            1"
      ]
     },
     "execution_count": 8,
     "metadata": {},
     "output_type": "execute_result"
    }
   ],
   "source": [
    "veriler.head() #Cinsiyetleri numerik bir değere çevirdik fakat aralarında bir kademe değeri olmaması için dummies yöntemi kullandım"
   ]
  },
  {
   "cell_type": "code",
   "execution_count": 9,
   "id": "a7bb379a-c57c-41c0-8258-f79cc70602a2",
   "metadata": {},
   "outputs": [
    {
     "data": {
      "text/html": [
       "<div>\n",
       "<style scoped>\n",
       "    .dataframe tbody tr th:only-of-type {\n",
       "        vertical-align: middle;\n",
       "    }\n",
       "\n",
       "    .dataframe tbody tr th {\n",
       "        vertical-align: top;\n",
       "    }\n",
       "\n",
       "    .dataframe thead th {\n",
       "        text-align: right;\n",
       "    }\n",
       "</style>\n",
       "<table border=\"1\" class=\"dataframe\">\n",
       "  <thead>\n",
       "    <tr style=\"text-align: right;\">\n",
       "      <th></th>\n",
       "      <th>User ID</th>\n",
       "      <th>Age</th>\n",
       "      <th>EstimatedSalary</th>\n",
       "      <th>Purchased</th>\n",
       "      <th>Gender_Male</th>\n",
       "    </tr>\n",
       "  </thead>\n",
       "  <tbody>\n",
       "    <tr>\n",
       "      <th>User ID</th>\n",
       "      <td>1.000000</td>\n",
       "      <td>-0.000721</td>\n",
       "      <td>0.071097</td>\n",
       "      <td>0.007120</td>\n",
       "      <td>-0.025249</td>\n",
       "    </tr>\n",
       "    <tr>\n",
       "      <th>Age</th>\n",
       "      <td>-0.000721</td>\n",
       "      <td>1.000000</td>\n",
       "      <td>0.155238</td>\n",
       "      <td>0.622454</td>\n",
       "      <td>-0.073741</td>\n",
       "    </tr>\n",
       "    <tr>\n",
       "      <th>EstimatedSalary</th>\n",
       "      <td>0.071097</td>\n",
       "      <td>0.155238</td>\n",
       "      <td>1.000000</td>\n",
       "      <td>0.362083</td>\n",
       "      <td>-0.060435</td>\n",
       "    </tr>\n",
       "    <tr>\n",
       "      <th>Purchased</th>\n",
       "      <td>0.007120</td>\n",
       "      <td>0.622454</td>\n",
       "      <td>0.362083</td>\n",
       "      <td>1.000000</td>\n",
       "      <td>-0.042469</td>\n",
       "    </tr>\n",
       "    <tr>\n",
       "      <th>Gender_Male</th>\n",
       "      <td>-0.025249</td>\n",
       "      <td>-0.073741</td>\n",
       "      <td>-0.060435</td>\n",
       "      <td>-0.042469</td>\n",
       "      <td>1.000000</td>\n",
       "    </tr>\n",
       "  </tbody>\n",
       "</table>\n",
       "</div>"
      ],
      "text/plain": [
       "                  User ID       Age  EstimatedSalary  Purchased  Gender_Male\n",
       "User ID          1.000000 -0.000721         0.071097   0.007120    -0.025249\n",
       "Age             -0.000721  1.000000         0.155238   0.622454    -0.073741\n",
       "EstimatedSalary  0.071097  0.155238         1.000000   0.362083    -0.060435\n",
       "Purchased        0.007120  0.622454         0.362083   1.000000    -0.042469\n",
       "Gender_Male     -0.025249 -0.073741        -0.060435  -0.042469     1.000000"
      ]
     },
     "execution_count": 9,
     "metadata": {},
     "output_type": "execute_result"
    }
   ],
   "source": [
    "veriler.corr()"
   ]
  },
  {
   "cell_type": "markdown",
   "id": "78205d45-b44e-4966-9e4a-ee3b88721fa6",
   "metadata": {},
   "source": [
    "Verilerin birbirleriyle olan korelasyonlarına baktığımızda User ID ve Cinsiyetin diğer değişkenlere etkisinin az olduğunu görebiliriz"
   ]
  },
  {
   "cell_type": "markdown",
   "id": "d6afe46b-c927-4384-b170-02ebbd676eb5",
   "metadata": {},
   "source": [
    "Verilerimizi tahmin ve Sınıflandırma algoritmalarımda kullanmak üzere alırken cinsiyet ve ID leri almayabiliriz"
   ]
  },
  {
   "cell_type": "code",
   "execution_count": 10,
   "id": "6b03b3a7-3b12-49c5-9681-068f19307e93",
   "metadata": {},
   "outputs": [],
   "source": [
    "x = veriler.iloc[:,1:3].values \n",
    "y=veriler.iloc[:,3:4].values\n",
    "# Bağımsız değişkenlerimize  Age EstimatedSalary değerlerini alıyoruz\n",
    "# Bağımlı değişkene Purchased değerlerini alıyoruz"
   ]
  },
  {
   "cell_type": "markdown",
   "id": "68622677-28c9-48e4-8e4a-f44c565a1837",
   "metadata": {},
   "source": [
    "Verilerimizi istediğimiz durumlara göre aldıktan sonra bunları test ve train olarak parçalıyoruz"
   ]
  },
  {
   "cell_type": "code",
   "execution_count": 11,
   "id": "c3691790-aa17-4ed4-9af6-65aa0bc8e255",
   "metadata": {},
   "outputs": [],
   "source": [
    "from sklearn.model_selection import train_test_split\n",
    "x_train,x_test,y_train,y_test = train_test_split(x,y,test_size = 0.2 , random_state = 0)"
   ]
  },
  {
   "cell_type": "markdown",
   "id": "e8fd597a-bd1b-47f9-a2ad-e64e7eaef72d",
   "metadata": {},
   "source": [
    "Algoritmaların daha rahat çalışabilmesi için verileri ölçeklendiriyoruz"
   ]
  },
  {
   "cell_type": "code",
   "execution_count": 12,
   "id": "4dac8ffa-4a2b-44d8-a327-c844647eb8ae",
   "metadata": {},
   "outputs": [],
   "source": [
    "from sklearn.preprocessing import StandardScaler\n",
    "sc = StandardScaler()"
   ]
  },
  {
   "cell_type": "code",
   "execution_count": 13,
   "id": "31f1dc19-2ee5-4a13-a529-ac1183c47e1f",
   "metadata": {},
   "outputs": [],
   "source": [
    "X_train = sc.fit_transform(x_train) \n",
    "X_test = sc.fit_transform(x_test)\n",
    "#test ve train verilerimizi ölçeklendirdik"
   ]
  },
  {
   "cell_type": "markdown",
   "id": "5d7964c6-98ae-4fb8-bb4e-a4f75bcd4c87",
   "metadata": {},
   "source": [
    "Başlamadan önce sonuçları daha rahat görmemizi sağlayacak confusion matrix kütüphanesini tanımlayalım"
   ]
  },
  {
   "cell_type": "code",
   "execution_count": 14,
   "id": "830e6678-1004-469e-a987-54d582a2085d",
   "metadata": {},
   "outputs": [],
   "source": [
    "from sklearn.metrics import confusion_matrix"
   ]
  },
  {
   "cell_type": "markdown",
   "id": "b660d430-58c3-401b-9cd9-27ecc938f9b4",
   "metadata": {},
   "source": [
    "Tahmin değerlerinin başarı oranını incelemek için gereken kütüphaneleri kuralım "
   ]
  },
  {
   "cell_type": "code",
   "execution_count": 15,
   "id": "acec073e-5c5c-49ee-8fdd-8ba1db2852d2",
   "metadata": {},
   "outputs": [],
   "source": [
    "from sklearn.metrics import confusion_matrix,accuracy_score,recall_score,precision_score,f1_score,fbeta_score,classification_report"
   ]
  },
  {
   "cell_type": "markdown",
   "id": "c43bcbc6-7676-4d74-b860-cda11c3a2c7a",
   "metadata": {},
   "source": [
    "**Algoritmaları kullanmaya başlayabiliriz**"
   ]
  },
  {
   "cell_type": "markdown",
   "id": "d2d661ce-cb32-4f69-8eab-e363bdce4ec9",
   "metadata": {},
   "source": [
    "# Logistic Regression"
   ]
  },
  {
   "cell_type": "code",
   "execution_count": 16,
   "id": "624dbbc4-c7d8-4f76-9128-f9da2aee3ca2",
   "metadata": {},
   "outputs": [],
   "source": [
    "from sklearn.linear_model import LogisticRegression\n",
    "logr = LogisticRegression(random_state = 0)  \n",
    "logr.fit(X_train,y_train) #fit komutu ile X_traini y_traine göre eğitiyoruz\n",
    "y_pred = logr.predict(X_test)  # Öğrendiği bilgilere göre tahmin etmesini istiyoruz"
   ]
  },
  {
   "cell_type": "code",
   "execution_count": 17,
   "id": "14e9822e-d55d-4fb8-8274-e6d2d8af7b15",
   "metadata": {},
   "outputs": [
    {
     "data": {
      "text/plain": [
       "array([[52,  6],\n",
       "       [ 3, 19]])"
      ]
     },
     "execution_count": 17,
     "metadata": {},
     "output_type": "execute_result"
    }
   ],
   "source": [
    "cm = confusion_matrix(y_test,y_pred)  #confusion matrix ile sonucu daha rahat görebiliriz\n",
    "cm  #sonucu inceliyoruz"
   ]
  },
  {
   "cell_type": "code",
   "execution_count": 18,
   "id": "16f7ad2e-6b40-4636-8bd2-6962bc3987f5",
   "metadata": {},
   "outputs": [
    {
     "data": {
      "text/plain": [
       "0.8875"
      ]
     },
     "execution_count": 18,
     "metadata": {},
     "output_type": "execute_result"
    }
   ],
   "source": [
    "LogisticRegression = accuracy_score(y_test,y_pred) #başarı oranımızı görebiliriz\n",
    "LogisticRegression"
   ]
  },
  {
   "cell_type": "markdown",
   "id": "8f2b667e-5989-4f19-96b3-571fda2b5137",
   "metadata": {},
   "source": [
    "# KNN"
   ]
  },
  {
   "cell_type": "code",
   "execution_count": 19,
   "id": "dc5fda0f-a6be-4085-84dd-2a10a5110ea3",
   "metadata": {},
   "outputs": [],
   "source": [
    "from sklearn.neighbors import KNeighborsClassifier\n"
   ]
  },
  {
   "cell_type": "code",
   "execution_count": 20,
   "id": "1d22f459-14d3-4d81-96ce-2ee1df98dab0",
   "metadata": {},
   "outputs": [],
   "source": [
    "knn = KNeighborsClassifier(n_neighbors=5)  #komşu parametresi default olarak 5 geliyor  #diğer değerler default\n",
    "knn.fit(X_train,y_train)\n",
    "y_pred = knn.predict(X_test)"
   ]
  },
  {
   "cell_type": "code",
   "execution_count": 21,
   "id": "6eb89710-77da-434e-8f6e-7dc52d8abf7b",
   "metadata": {},
   "outputs": [
    {
     "data": {
      "text/plain": [
       "array([[54,  4],\n",
       "       [ 1, 21]])"
      ]
     },
     "execution_count": 21,
     "metadata": {},
     "output_type": "execute_result"
    }
   ],
   "source": [
    "cm = confusion_matrix(y_test,y_pred)  #confusion matrix ile sonucu daha rahat görebiliriz\n",
    "cm  #sonucu inceliyoruz"
   ]
  },
  {
   "cell_type": "code",
   "execution_count": 22,
   "id": "9b06cc35-147a-44b5-a664-c1867ddcde05",
   "metadata": {},
   "outputs": [
    {
     "data": {
      "text/plain": [
       "0.9375"
      ]
     },
     "execution_count": 22,
     "metadata": {},
     "output_type": "execute_result"
    }
   ],
   "source": [
    "KNeighbors = accuracy_score(y_test,y_pred) #başarı oranımızı görebiliriz\n",
    "KNeighbors"
   ]
  },
  {
   "cell_type": "markdown",
   "id": "f08f4a50-4df5-4ba9-97bc-107f79059635",
   "metadata": {},
   "source": [
    "n_neighbors parametresini farklı değişkenlerde uygulayarak en iyi çalışan parametreyi bulabiliriz"
   ]
  },
  {
   "cell_type": "code",
   "execution_count": 23,
   "id": "9f0fc518-7b58-4263-9f49-0b4d82a3d248",
   "metadata": {},
   "outputs": [
    {
     "data": {
      "text/plain": [
       "array([[54,  4],\n",
       "       [ 1, 21]])"
      ]
     },
     "execution_count": 23,
     "metadata": {},
     "output_type": "execute_result"
    }
   ],
   "source": [
    "knn = KNeighborsClassifier(n_neighbors=3)  #komşu parametresi default olarak 5 geliyor\n",
    "knn.fit(X_train,y_train)\n",
    "y_pred = knn.predict(X_test)\n",
    "cm = confusion_matrix(y_test,y_pred)  \n",
    "cm"
   ]
  },
  {
   "cell_type": "code",
   "execution_count": 24,
   "id": "21c28da2-b259-4e43-a23f-61e3d259937f",
   "metadata": {},
   "outputs": [
    {
     "data": {
      "text/plain": [
       "0.9375"
      ]
     },
     "execution_count": 24,
     "metadata": {},
     "output_type": "execute_result"
    }
   ],
   "source": [
    "KNeighbors = accuracy_score(y_test,y_pred) #başarı oranımızı görebiliriz\n",
    "KNeighbors"
   ]
  },
  {
   "cell_type": "code",
   "execution_count": 25,
   "id": "69a2c0c3-d751-4c6e-a361-616d2cde5672",
   "metadata": {},
   "outputs": [
    {
     "data": {
      "text/plain": [
       "array([[55,  3],\n",
       "       [ 1, 21]])"
      ]
     },
     "execution_count": 25,
     "metadata": {},
     "output_type": "execute_result"
    }
   ],
   "source": [
    "knn = KNeighborsClassifier(n_neighbors=10)  #komşu parametresi default olarak 5 geliyor\n",
    "knn.fit(X_train,y_train)\n",
    "y_pred = knn.predict(X_test)\n",
    "cm = confusion_matrix(y_test,y_pred)  \n",
    "cm"
   ]
  },
  {
   "cell_type": "code",
   "execution_count": 26,
   "id": "43bc2de8-00bf-4d5b-8bb8-0eb88ede1c39",
   "metadata": {},
   "outputs": [
    {
     "data": {
      "text/plain": [
       "0.95"
      ]
     },
     "execution_count": 26,
     "metadata": {},
     "output_type": "execute_result"
    }
   ],
   "source": [
    "KNeighbors = accuracy_score(y_test,y_pred) #başarı oranımızı görebiliriz\n",
    "KNeighbors"
   ]
  },
  {
   "cell_type": "code",
   "execution_count": 27,
   "id": "fbfc6f86-6f5b-4ef2-a8e1-409b3156991d",
   "metadata": {},
   "outputs": [],
   "source": [
    "# Değişkenlerle oynadığımız zaman aralarında çok büyük bir fark görülmüyor\n",
    "# Son değişken olarak n_neighbors = 10 parametresi olan algoritmayı kullanıyorum bu sonucu diğerleri ile karşılaştıracağım"
   ]
  },
  {
   "cell_type": "markdown",
   "id": "8ff09fcc-8509-403e-9dac-816a85c36093",
   "metadata": {},
   "source": [
    "# Support Vector Classification"
   ]
  },
  {
   "cell_type": "code",
   "execution_count": 28,
   "id": "1bc09b22-01de-4c4b-8cc9-dc2ffc0923fe",
   "metadata": {},
   "outputs": [],
   "source": [
    "from sklearn.svm import SVC"
   ]
  },
  {
   "cell_type": "code",
   "execution_count": 29,
   "id": "b52995fb-107c-4e22-a912-2a1984b2db9a",
   "metadata": {},
   "outputs": [
    {
     "data": {
      "text/plain": [
       "array([[55,  3],\n",
       "       [ 5, 17]])"
      ]
     },
     "execution_count": 29,
     "metadata": {},
     "output_type": "execute_result"
    }
   ],
   "source": [
    "svc = SVC(kernel =\"poly\")\n",
    "svc.fit(X_train,y_train)\n",
    "y_pred = svc.predict(X_test)\n",
    "cm = confusion_matrix(y_test,y_pred)\n",
    "cm"
   ]
  },
  {
   "cell_type": "code",
   "execution_count": 30,
   "id": "9e8e22f4-a0dd-40f0-ad90-cb772f36f3ef",
   "metadata": {},
   "outputs": [
    {
     "data": {
      "text/plain": [
       "0.9"
      ]
     },
     "execution_count": 30,
     "metadata": {},
     "output_type": "execute_result"
    }
   ],
   "source": [
    "SupportVectorC = accuracy_score(y_test,y_pred) #başarı oranımızı görebiliriz\n",
    "SupportVectorC"
   ]
  },
  {
   "cell_type": "code",
   "execution_count": 31,
   "id": "20b3df48-a30e-4213-86f4-d741611013f3",
   "metadata": {},
   "outputs": [
    {
     "data": {
      "text/plain": [
       "array([[52,  6],\n",
       "       [ 3, 19]])"
      ]
     },
     "execution_count": 31,
     "metadata": {},
     "output_type": "execute_result"
    }
   ],
   "source": [
    "svc = SVC(kernel =\"linear\")\n",
    "svc.fit(X_train,y_train)\n",
    "y_pred = svc.predict(X_test)\n",
    "cm = confusion_matrix(y_test,y_pred)\n",
    "cm"
   ]
  },
  {
   "cell_type": "code",
   "execution_count": 32,
   "id": "e1fa1e20-92d3-439c-b1c7-d034be201066",
   "metadata": {},
   "outputs": [
    {
     "data": {
      "text/plain": [
       "0.8875"
      ]
     },
     "execution_count": 32,
     "metadata": {},
     "output_type": "execute_result"
    }
   ],
   "source": [
    "SupportVectorC = accuracy_score(y_test,y_pred) #başarı oranımızı görebiliriz\n",
    "SupportVectorC"
   ]
  },
  {
   "cell_type": "code",
   "execution_count": 33,
   "id": "b5a87a02-da95-41c1-8a9a-1c2feac581b8",
   "metadata": {},
   "outputs": [
    {
     "data": {
      "text/plain": [
       "array([[54,  4],\n",
       "       [ 1, 21]])"
      ]
     },
     "execution_count": 33,
     "metadata": {},
     "output_type": "execute_result"
    }
   ],
   "source": [
    "svc = SVC(kernel =\"rbf\")\n",
    "svc.fit(X_train,y_train)\n",
    "y_pred = svc.predict(X_test)\n",
    "cm = confusion_matrix(y_test,y_pred)\n",
    "cm"
   ]
  },
  {
   "cell_type": "code",
   "execution_count": 34,
   "id": "4b643750-3365-41db-b0c7-9258671e19f3",
   "metadata": {},
   "outputs": [
    {
     "data": {
      "text/plain": [
       "0.9375"
      ]
     },
     "execution_count": 34,
     "metadata": {},
     "output_type": "execute_result"
    }
   ],
   "source": [
    "SupportVectorC = accuracy_score(y_test,y_pred) #başarı oranımızı görebiliriz\n",
    "SupportVectorC"
   ]
  },
  {
   "cell_type": "code",
   "execution_count": 35,
   "id": "ce8088f9-d016-4889-8ccc-df1ac3771967",
   "metadata": {},
   "outputs": [],
   "source": [
    "# 3 farklı parametreyi kullandığımızda aralarında rbf parametresi en yüksek sonucu veriyor\n",
    "# Karşılaştırma olarak rbf parametresini kullanacağım"
   ]
  },
  {
   "cell_type": "markdown",
   "id": "c2d1d1c3-2cb6-4b47-a7fd-e1633b39ee85",
   "metadata": {},
   "source": [
    "# Gaussian Process Classifier"
   ]
  },
  {
   "cell_type": "code",
   "execution_count": 36,
   "id": "7ae422d2-7819-4866-9f4b-83ce09260536",
   "metadata": {},
   "outputs": [],
   "source": [
    "from sklearn.gaussian_process import GaussianProcessClassifier"
   ]
  },
  {
   "cell_type": "code",
   "execution_count": 37,
   "id": "c990f68d-2e03-4449-807f-6eb81d50564e",
   "metadata": {},
   "outputs": [
    {
     "data": {
      "text/plain": [
       "array([[55,  3],\n",
       "       [ 5, 17]])"
      ]
     },
     "execution_count": 37,
     "metadata": {},
     "output_type": "execute_result"
    }
   ],
   "source": [
    "gps = SVC(kernel =\"poly\")\n",
    "gps.fit(X_train,y_train)\n",
    "y_pred = gps.predict(X_test)\n",
    "cm = confusion_matrix(y_test,y_pred)\n",
    "cm"
   ]
  },
  {
   "cell_type": "code",
   "execution_count": 38,
   "id": "0fdf54c6-cff8-420c-82e7-b447b028ef1f",
   "metadata": {},
   "outputs": [
    {
     "data": {
      "text/plain": [
       "0.9"
      ]
     },
     "execution_count": 38,
     "metadata": {},
     "output_type": "execute_result"
    }
   ],
   "source": [
    "GaussianClassifier = accuracy_score(y_test,y_pred) #başarı oranımızı görebiliriz\n",
    "GaussianClassifier"
   ]
  },
  {
   "cell_type": "markdown",
   "id": "e55fc3ab-807c-4d83-a5eb-db24c3b9b877",
   "metadata": {},
   "source": [
    "# Decision Tree"
   ]
  },
  {
   "cell_type": "code",
   "execution_count": 39,
   "id": "f089cc5d-1aad-455e-9791-e9b5e5875777",
   "metadata": {},
   "outputs": [],
   "source": [
    "from sklearn.tree import DecisionTreeClassifier"
   ]
  },
  {
   "cell_type": "code",
   "execution_count": 40,
   "id": "f1781e6b-833c-4270-9be6-f1fb640a2483",
   "metadata": {},
   "outputs": [
    {
     "data": {
      "text/plain": [
       "array([[53,  5],\n",
       "       [ 2, 20]])"
      ]
     },
     "execution_count": 40,
     "metadata": {},
     "output_type": "execute_result"
    }
   ],
   "source": [
    "dtc = DecisionTreeClassifier(criterion = \"gini\")\n",
    "dtc.fit(X_train,y_train)\n",
    "y_pred = dtc.predict(X_test)\n",
    "cm = confusion_matrix(y_test,y_pred)\n",
    "cm"
   ]
  },
  {
   "cell_type": "code",
   "execution_count": 41,
   "id": "46d26be7-614a-4c14-8f1e-6d1164d2ba3f",
   "metadata": {},
   "outputs": [
    {
     "data": {
      "text/plain": [
       "0.9125"
      ]
     },
     "execution_count": 41,
     "metadata": {},
     "output_type": "execute_result"
    }
   ],
   "source": [
    "DecisionTreeC = accuracy_score(y_test,y_pred) #başarı oranımızı görebiliriz\n",
    "DecisionTreeC\n"
   ]
  },
  {
   "cell_type": "code",
   "execution_count": 42,
   "id": "bad1282a-cbfb-4d22-a7ce-0648c4ad7460",
   "metadata": {},
   "outputs": [
    {
     "data": {
      "text/plain": [
       "array([[53,  5],\n",
       "       [ 1, 21]])"
      ]
     },
     "execution_count": 42,
     "metadata": {},
     "output_type": "execute_result"
    }
   ],
   "source": [
    "dtc = DecisionTreeClassifier(criterion = \"entropy\")\n",
    "dtc.fit(X_train,y_train)\n",
    "y_pred = dtc.predict(X_test)\n",
    "cm = confusion_matrix(y_test,y_pred)\n",
    "cm"
   ]
  },
  {
   "cell_type": "code",
   "execution_count": 43,
   "id": "f2722472-39b7-4ded-99dd-869b3d2d0670",
   "metadata": {},
   "outputs": [
    {
     "data": {
      "text/plain": [
       "0.925"
      ]
     },
     "execution_count": 43,
     "metadata": {},
     "output_type": "execute_result"
    }
   ],
   "source": [
    "DecisionTreeC = accuracy_score(y_test,y_pred) #başarı oranımızı görebiliriz\n",
    "DecisionTreeC"
   ]
  },
  {
   "cell_type": "code",
   "execution_count": 44,
   "id": "e6cc53c1-e555-4bc2-8ec6-b7e0bfcefe03",
   "metadata": {},
   "outputs": [],
   "source": [
    "# 2 farklı parametreden yüksek olanı kaydettik"
   ]
  },
  {
   "cell_type": "markdown",
   "id": "d540c644-94df-47c2-b451-40d2d4831778",
   "metadata": {},
   "source": [
    "# Random Forest"
   ]
  },
  {
   "cell_type": "code",
   "execution_count": 45,
   "id": "c3a8186c-ca0f-4b53-9a54-60ec7adb256a",
   "metadata": {},
   "outputs": [],
   "source": [
    "from sklearn.ensemble import RandomForestClassifier"
   ]
  },
  {
   "cell_type": "code",
   "execution_count": 46,
   "id": "a4b1743e-2e75-4d00-bb97-61b4854100df",
   "metadata": {},
   "outputs": [
    {
     "data": {
      "text/plain": [
       "array([[54,  4],\n",
       "       [ 2, 20]])"
      ]
     },
     "execution_count": 46,
     "metadata": {},
     "output_type": "execute_result"
    }
   ],
   "source": [
    "rfc = RandomForestClassifier(n_estimators = 10,criterion = \"gini\")\n",
    "rfc.fit(X_train,y_train)\n",
    "y_pred = rfc.predict(X_test)\n",
    "cm = confusion_matrix(y_test,y_pred)\n",
    "cm"
   ]
  },
  {
   "cell_type": "code",
   "execution_count": 47,
   "id": "5690a8f2-15ca-4726-94e8-67de43a0ac20",
   "metadata": {},
   "outputs": [
    {
     "data": {
      "text/plain": [
       "0.925"
      ]
     },
     "execution_count": 47,
     "metadata": {},
     "output_type": "execute_result"
    }
   ],
   "source": [
    "RandomForestC = accuracy_score(y_test,y_pred) #başarı oranımızı görebiliriz\n",
    "RandomForestC\n"
   ]
  },
  {
   "cell_type": "code",
   "execution_count": 48,
   "id": "1527b77e-d090-4c51-b7c3-05283fb37b16",
   "metadata": {},
   "outputs": [
    {
     "data": {
      "text/plain": [
       "array([[56,  2],\n",
       "       [ 1, 21]])"
      ]
     },
     "execution_count": 48,
     "metadata": {},
     "output_type": "execute_result"
    }
   ],
   "source": [
    "rfc = RandomForestClassifier(n_estimators = 10,criterion = \"entropy\")\n",
    "rfc.fit(X_train,y_train)\n",
    "y_pred = rfc.predict(X_test)\n",
    "cm = confusion_matrix(y_test,y_pred)\n",
    "cm"
   ]
  },
  {
   "cell_type": "code",
   "execution_count": 49,
   "id": "20389dd2-ce0c-47b5-814a-0ba11b31f970",
   "metadata": {},
   "outputs": [
    {
     "data": {
      "text/plain": [
       "0.9625"
      ]
     },
     "execution_count": 49,
     "metadata": {},
     "output_type": "execute_result"
    }
   ],
   "source": [
    "RandomForestC = accuracy_score(y_test,y_pred) #başarı oranımızı görebiliriz\n",
    "RandomForestC"
   ]
  },
  {
   "cell_type": "code",
   "execution_count": 50,
   "id": "3cfa51db-03d5-45a2-afdc-c3c2b3d0f588",
   "metadata": {},
   "outputs": [],
   "source": [
    "# Confusion matrixde sonuçlar tamamen doğru gibi gözükse de accuracy değeri daha doğru bir değer"
   ]
  },
  {
   "cell_type": "markdown",
   "id": "da4af753-9247-4183-b68e-2d97980246c7",
   "metadata": {},
   "source": [
    "# Ada Boost"
   ]
  },
  {
   "cell_type": "code",
   "execution_count": 51,
   "id": "df32f0c7-311f-443c-a346-959f8674cdcf",
   "metadata": {},
   "outputs": [],
   "source": [
    "from sklearn.ensemble import AdaBoostClassifier"
   ]
  },
  {
   "cell_type": "code",
   "execution_count": 52,
   "id": "c2e85e7b-ef7f-4f0c-9b8d-4277b5f37f8f",
   "metadata": {},
   "outputs": [
    {
     "data": {
      "text/plain": [
       "array([[55,  3],\n",
       "       [ 4, 18]])"
      ]
     },
     "execution_count": 52,
     "metadata": {},
     "output_type": "execute_result"
    }
   ],
   "source": [
    "adab = AdaBoostClassifier(n_estimators=100, random_state=0)\n",
    "adab.fit(X_train,y_train)\n",
    "y_pred = adab.predict(X_test)\n",
    "cm = confusion_matrix(y_test,y_pred)\n",
    "cm"
   ]
  },
  {
   "cell_type": "code",
   "execution_count": 53,
   "id": "1a34540b-1ca5-41c4-a10f-a882b4080f48",
   "metadata": {},
   "outputs": [
    {
     "data": {
      "text/plain": [
       "0.9125"
      ]
     },
     "execution_count": 53,
     "metadata": {},
     "output_type": "execute_result"
    }
   ],
   "source": [
    "AdaBoostC = accuracy_score(y_test,y_pred) #başarı oranımızı görebiliriz\n",
    "AdaBoostC\n"
   ]
  },
  {
   "cell_type": "code",
   "execution_count": 54,
   "id": "675dda76-49f0-4178-8ea9-a0caf0a8a07c",
   "metadata": {},
   "outputs": [],
   "source": [
    "# Confusion matrixde sonuçlar tamamen doğru gibi gözükse de accuracy değeri daha doğru bir değer"
   ]
  },
  {
   "cell_type": "markdown",
   "id": "7c8f6c88-832b-4304-92a5-c9f958f104f6",
   "metadata": {},
   "source": [
    "# Gaussian Naive Bayes"
   ]
  },
  {
   "cell_type": "code",
   "execution_count": 55,
   "id": "f7a05e7e-a5ba-4e1f-80b2-3ea16a576219",
   "metadata": {},
   "outputs": [],
   "source": [
    "from sklearn.naive_bayes import GaussianNB"
   ]
  },
  {
   "cell_type": "code",
   "execution_count": 56,
   "id": "62622874-9210-45bd-b12a-8ef78021d93c",
   "metadata": {},
   "outputs": [
    {
     "data": {
      "text/plain": [
       "array([[54,  4],\n",
       "       [ 1, 21]])"
      ]
     },
     "execution_count": 56,
     "metadata": {},
     "output_type": "execute_result"
    }
   ],
   "source": [
    "gausnb = GaussianNB()\n",
    "gausnb.fit(X_train,y_train)\n",
    "y_pred = gausnb.predict(X_test)\n",
    "cm = confusion_matrix(y_test,y_pred)\n",
    "cm"
   ]
  },
  {
   "cell_type": "code",
   "execution_count": 57,
   "id": "419ca59a-4697-4d0b-8ff2-5ecd2fc61858",
   "metadata": {},
   "outputs": [
    {
     "data": {
      "text/plain": [
       "0.9375"
      ]
     },
     "execution_count": 57,
     "metadata": {},
     "output_type": "execute_result"
    }
   ],
   "source": [
    "GaussianNB = accuracy_score(y_test,y_pred) #başarı oranımızı görebiliriz\n",
    "GaussianNB\n"
   ]
  },
  {
   "cell_type": "code",
   "execution_count": 58,
   "id": "e33d612e-cc1b-413a-91dd-1898d1ae6e3a",
   "metadata": {},
   "outputs": [
    {
     "name": "stdout",
     "output_type": "stream",
     "text": [
      "LogisticRegression: 0.8875\n",
      "KNeighbors: 0.95\n",
      "Support Vector C: 0.9375\n",
      "GaussianClassifier: 0.9\n",
      "DecisionTreeC: 0.925\n",
      "RandomForestC: 0.9625\n",
      "GaussianNB: 0.9375\n",
      "AdaBoostC: 0.9125\n"
     ]
    }
   ],
   "source": [
    "print(\"LogisticRegression:\", LogisticRegression)\n",
    "print(\"KNeighbors:\",KNeighbors)\n",
    "print(\"Support Vector C:\",SupportVectorC)\n",
    "print(\"GaussianClassifier:\", GaussianClassifier)\n",
    "print(\"DecisionTreeC:\",DecisionTreeC)\n",
    "print(\"RandomForestC:\",RandomForestC)\n",
    "print(\"GaussianNB:\",GaussianNB)\n",
    "print(\"AdaBoostC:\",AdaBoostC)"
   ]
  },
  {
   "cell_type": "code",
   "execution_count": 59,
   "id": "e0c523c9-7448-4681-aa4c-963b68f2a24e",
   "metadata": {},
   "outputs": [],
   "source": [
    "# Algoritmaların sonuçlarını incelediğimizde en başarılı olanların KNN ve RandomForest olduğunu görebiliriz"
   ]
  },
  {
   "cell_type": "code",
   "execution_count": null,
   "id": "f08f7990-696f-4fe5-8a41-bd0b3e2c8f58",
   "metadata": {},
   "outputs": [],
   "source": []
  },
  {
   "cell_type": "code",
   "execution_count": null,
   "id": "a9535c48-d359-4b78-868a-9cba358e019b",
   "metadata": {},
   "outputs": [],
   "source": []
  },
  {
   "cell_type": "code",
   "execution_count": null,
   "id": "fcbf2c13-f342-43d0-a60c-bd92421b1a68",
   "metadata": {},
   "outputs": [],
   "source": []
  },
  {
   "cell_type": "code",
   "execution_count": null,
   "id": "f6d62b61-1543-4052-9399-120445f8e7f1",
   "metadata": {},
   "outputs": [],
   "source": []
  },
  {
   "cell_type": "code",
   "execution_count": null,
   "id": "48d95d68-dbcc-4f43-9ee5-993814c61b05",
   "metadata": {},
   "outputs": [],
   "source": []
  }
 ],
 "metadata": {
  "kernelspec": {
   "display_name": "Python 3 (ipykernel)",
   "language": "python",
   "name": "python3"
  },
  "language_info": {
   "codemirror_mode": {
    "name": "ipython",
    "version": 3
   },
   "file_extension": ".py",
   "mimetype": "text/x-python",
   "name": "python",
   "nbconvert_exporter": "python",
   "pygments_lexer": "ipython3",
   "version": "3.9.12"
  }
 },
 "nbformat": 4,
 "nbformat_minor": 5
}
