{
 "cells": [
  {
   "cell_type": "markdown",
   "id": "0ae7cb0b-0ab6-4f7b-9dfc-f26cfba2351e",
   "metadata": {},
   "source": [
    "**Veri bilimi için istatistik**"
   ]
  },
  {
   "cell_type": "markdown",
   "id": "9a524ebd-e6e8-4406-9e80-8b06041f2357",
   "metadata": {},
   "source": [
    "Örnek teorisi"
   ]
  },
  {
   "cell_type": "code",
   "execution_count": 1,
   "id": "80ac4cdb-e653-4030-8de6-39ebf34ddadf",
   "metadata": {},
   "outputs": [],
   "source": [
    "import numpy as np"
   ]
  },
  {
   "cell_type": "code",
   "execution_count": 2,
   "id": "10985696-62ed-41ce-ac18-93e19102d707",
   "metadata": {},
   "outputs": [],
   "source": [
    "populasyon = np.random.randint(0,80,10000)"
   ]
  },
  {
   "cell_type": "code",
   "execution_count": 3,
   "id": "35590c86-33ae-4fc6-828c-429ba50e2ead",
   "metadata": {},
   "outputs": [
    {
     "data": {
      "text/plain": [
       "array([23, 37, 11, ..., 38, 68, 57])"
      ]
     },
     "execution_count": 3,
     "metadata": {},
     "output_type": "execute_result"
    }
   ],
   "source": [
    "populasyon"
   ]
  },
  {
   "cell_type": "code",
   "execution_count": 6,
   "id": "cec1b4fa-db2e-4262-a857-b0fcc14648a1",
   "metadata": {},
   "outputs": [],
   "source": [
    "#örneklem çekme"
   ]
  },
  {
   "cell_type": "code",
   "execution_count": 8,
   "id": "f3825f5a-234a-45e5-9ddc-5978edbf1dcf",
   "metadata": {},
   "outputs": [],
   "source": [
    "np.random.seed(10)  #farklı rastgele örnek çekmesin diye bir seed atıyoruz aynısı gelsin diye\n",
    "orneklem = np.random.choice( a = populasyon, size = 100)"
   ]
  },
  {
   "cell_type": "code",
   "execution_count": 9,
   "id": "05f27c10-f37e-4ef4-9f4f-66754ce5cf24",
   "metadata": {},
   "outputs": [
    {
     "data": {
      "text/plain": [
       "array([27, 18, 54, 55, 12, 62,  5,  8, 76, 69])"
      ]
     },
     "execution_count": 9,
     "metadata": {},
     "output_type": "execute_result"
    }
   ],
   "source": [
    "orneklem[0:10]"
   ]
  },
  {
   "cell_type": "code",
   "execution_count": 10,
   "id": "1806e727-6104-4f1e-bc2c-273157e06b63",
   "metadata": {},
   "outputs": [
    {
     "data": {
      "text/plain": [
       "39.56"
      ]
     },
     "execution_count": 10,
     "metadata": {},
     "output_type": "execute_result"
    }
   ],
   "source": [
    "orneklem.mean()"
   ]
  },
  {
   "cell_type": "code",
   "execution_count": 11,
   "id": "65d1349c-01ce-46a7-b94a-3573633c3c38",
   "metadata": {},
   "outputs": [
    {
     "data": {
      "text/plain": [
       "39.3616"
      ]
     },
     "execution_count": 11,
     "metadata": {},
     "output_type": "execute_result"
    }
   ],
   "source": [
    "populasyon.mean()"
   ]
  },
  {
   "cell_type": "code",
   "execution_count": 12,
   "id": "7e2b823a-dfbf-420d-9a08-88ec5ab9dd28",
   "metadata": {},
   "outputs": [],
   "source": [
    "# tüm veri ile rastgele aldığımız 100 veri arasındaki değerler birbirine yakın \n",
    "# tüm değerleri incelemek zor bu yüzden parçalara ayıracağız\n"
   ]
  },
  {
   "cell_type": "code",
   "execution_count": 13,
   "id": "2bba58fa-9d6b-4814-b961-f39dbf5fcc3f",
   "metadata": {},
   "outputs": [],
   "source": [
    "#örneklem dağılımı"
   ]
  },
  {
   "cell_type": "code",
   "execution_count": 16,
   "id": "f4575312-014c-4da2-9674-a733c010eb85",
   "metadata": {},
   "outputs": [],
   "source": [
    "np.random.seed(10)\n",
    "orneklem1=np.random.choice(a=populasyon,size=100)\n",
    "orneklem2=np.random.choice(a=populasyon,size=100)\n",
    "orneklem3=np.random.choice(a=populasyon,size=100)\n",
    "orneklem4=np.random.choice(a=populasyon,size=100)\n",
    "orneklem5=np.random.choice(a=populasyon,size=100)\n",
    "orneklem6=np.random.choice(a=populasyon,size=100)\n",
    "orneklem7=np.random.choice(a=populasyon,size=100)\n",
    "orneklem8=np.random.choice(a=populasyon,size=100)\n",
    "orneklem9=np.random.choice(a=populasyon,size=100)\n",
    "orneklem10=np.random.choice(a=populasyon,size=100)"
   ]
  },
  {
   "cell_type": "code",
   "execution_count": 17,
   "id": "5f62e7c7-52c4-4b7b-a869-0082b1b05d6d",
   "metadata": {},
   "outputs": [
    {
     "data": {
      "text/plain": [
       "39.05400000000001"
      ]
     },
     "execution_count": 17,
     "metadata": {},
     "output_type": "execute_result"
    }
   ],
   "source": [
    "(orneklem1.mean() +orneklem2.mean() +orneklem3.mean()+orneklem4.mean()+orneklem5.mean()+\n",
    "orneklem6.mean()+orneklem7.mean()+orneklem8.mean()+orneklem9.mean()+orneklem10.mean() ) / 10"
   ]
  },
  {
   "cell_type": "code",
   "execution_count": 18,
   "id": "e0cc3336-faac-4d0e-abef-e35328ce0742",
   "metadata": {},
   "outputs": [],
   "source": [
    "#populasyon ortalaması ile 10 tane örneklemin ortalaması arasındaki fark 0.3 çıktı ve birbirine yakın değerler"
   ]
  },
  {
   "cell_type": "code",
   "execution_count": 19,
   "id": "e763180f-70d4-4fef-a463-7f3ba4aff04c",
   "metadata": {},
   "outputs": [
    {
     "data": {
      "text/plain": [
       "39.7"
      ]
     },
     "execution_count": 19,
     "metadata": {},
     "output_type": "execute_result"
    }
   ],
   "source": [
    "orneklem7.mean()"
   ]
  },
  {
   "cell_type": "code",
   "execution_count": 20,
   "id": "06011757-08a2-4e78-a466-0c90a6315f27",
   "metadata": {},
   "outputs": [
    {
     "data": {
      "text/plain": [
       "39.56"
      ]
     },
     "execution_count": 20,
     "metadata": {},
     "output_type": "execute_result"
    }
   ],
   "source": [
    "orneklem1.mean()"
   ]
  },
  {
   "cell_type": "markdown",
   "id": "8f31014b-672b-46fb-b153-702cc84c4a6d",
   "metadata": {},
   "source": [
    "Betimsel istatistikler"
   ]
  },
  {
   "cell_type": "code",
   "execution_count": 22,
   "id": "d6b06bf3-29f6-497f-809f-3a110823ec76",
   "metadata": {},
   "outputs": [],
   "source": [
    "#kovaryans ve korelasyon"
   ]
  },
  {
   "cell_type": "code",
   "execution_count": null,
   "id": "4883c235-1cd6-430d-a92f-e9837fdc5aa2",
   "metadata": {},
   "outputs": [],
   "source": []
  },
  {
   "cell_type": "code",
   "execution_count": 26,
   "id": "1abc030a-d67a-4543-9b06-4dc3e3c7f03a",
   "metadata": {},
   "outputs": [
    {
     "data": {
      "text/html": [
       "<div>\n",
       "<style scoped>\n",
       "    .dataframe tbody tr th:only-of-type {\n",
       "        vertical-align: middle;\n",
       "    }\n",
       "\n",
       "    .dataframe tbody tr th {\n",
       "        vertical-align: top;\n",
       "    }\n",
       "\n",
       "    .dataframe thead th {\n",
       "        text-align: right;\n",
       "    }\n",
       "</style>\n",
       "<table border=\"1\" class=\"dataframe\">\n",
       "  <thead>\n",
       "    <tr style=\"text-align: right;\">\n",
       "      <th></th>\n",
       "      <th>total_bill</th>\n",
       "      <th>tip</th>\n",
       "      <th>sex</th>\n",
       "      <th>smoker</th>\n",
       "      <th>day</th>\n",
       "      <th>time</th>\n",
       "      <th>size</th>\n",
       "    </tr>\n",
       "  </thead>\n",
       "  <tbody>\n",
       "    <tr>\n",
       "      <th>0</th>\n",
       "      <td>16.99</td>\n",
       "      <td>1.01</td>\n",
       "      <td>Female</td>\n",
       "      <td>No</td>\n",
       "      <td>Sun</td>\n",
       "      <td>Dinner</td>\n",
       "      <td>2</td>\n",
       "    </tr>\n",
       "    <tr>\n",
       "      <th>1</th>\n",
       "      <td>10.34</td>\n",
       "      <td>1.66</td>\n",
       "      <td>Male</td>\n",
       "      <td>No</td>\n",
       "      <td>Sun</td>\n",
       "      <td>Dinner</td>\n",
       "      <td>3</td>\n",
       "    </tr>\n",
       "    <tr>\n",
       "      <th>2</th>\n",
       "      <td>21.01</td>\n",
       "      <td>3.50</td>\n",
       "      <td>Male</td>\n",
       "      <td>No</td>\n",
       "      <td>Sun</td>\n",
       "      <td>Dinner</td>\n",
       "      <td>3</td>\n",
       "    </tr>\n",
       "    <tr>\n",
       "      <th>3</th>\n",
       "      <td>23.68</td>\n",
       "      <td>3.31</td>\n",
       "      <td>Male</td>\n",
       "      <td>No</td>\n",
       "      <td>Sun</td>\n",
       "      <td>Dinner</td>\n",
       "      <td>2</td>\n",
       "    </tr>\n",
       "    <tr>\n",
       "      <th>4</th>\n",
       "      <td>24.59</td>\n",
       "      <td>3.61</td>\n",
       "      <td>Female</td>\n",
       "      <td>No</td>\n",
       "      <td>Sun</td>\n",
       "      <td>Dinner</td>\n",
       "      <td>4</td>\n",
       "    </tr>\n",
       "  </tbody>\n",
       "</table>\n",
       "</div>"
      ],
      "text/plain": [
       "   total_bill   tip     sex smoker  day    time  size\n",
       "0       16.99  1.01  Female     No  Sun  Dinner     2\n",
       "1       10.34  1.66    Male     No  Sun  Dinner     3\n",
       "2       21.01  3.50    Male     No  Sun  Dinner     3\n",
       "3       23.68  3.31    Male     No  Sun  Dinner     2\n",
       "4       24.59  3.61  Female     No  Sun  Dinner     4"
      ]
     },
     "execution_count": 26,
     "metadata": {},
     "output_type": "execute_result"
    }
   ],
   "source": [
    "import seaborn as sns\n",
    "tips = sns.load_dataset(\"tips\")\n",
    "df = tips.copy()\n",
    "df.head()"
   ]
  },
  {
   "cell_type": "code",
   "execution_count": 28,
   "id": "5bab1bc5-f51b-40f6-95a6-2275e1dfc574",
   "metadata": {},
   "outputs": [
    {
     "data": {
      "text/html": [
       "<div>\n",
       "<style scoped>\n",
       "    .dataframe tbody tr th:only-of-type {\n",
       "        vertical-align: middle;\n",
       "    }\n",
       "\n",
       "    .dataframe tbody tr th {\n",
       "        vertical-align: top;\n",
       "    }\n",
       "\n",
       "    .dataframe thead th {\n",
       "        text-align: right;\n",
       "    }\n",
       "</style>\n",
       "<table border=\"1\" class=\"dataframe\">\n",
       "  <thead>\n",
       "    <tr style=\"text-align: right;\">\n",
       "      <th></th>\n",
       "      <th>count</th>\n",
       "      <th>mean</th>\n",
       "      <th>std</th>\n",
       "      <th>min</th>\n",
       "      <th>25%</th>\n",
       "      <th>50%</th>\n",
       "      <th>75%</th>\n",
       "      <th>max</th>\n",
       "    </tr>\n",
       "  </thead>\n",
       "  <tbody>\n",
       "    <tr>\n",
       "      <th>total_bill</th>\n",
       "      <td>244.0</td>\n",
       "      <td>19.785943</td>\n",
       "      <td>8.902412</td>\n",
       "      <td>3.07</td>\n",
       "      <td>13.3475</td>\n",
       "      <td>17.795</td>\n",
       "      <td>24.1275</td>\n",
       "      <td>50.81</td>\n",
       "    </tr>\n",
       "    <tr>\n",
       "      <th>tip</th>\n",
       "      <td>244.0</td>\n",
       "      <td>2.998279</td>\n",
       "      <td>1.383638</td>\n",
       "      <td>1.00</td>\n",
       "      <td>2.0000</td>\n",
       "      <td>2.900</td>\n",
       "      <td>3.5625</td>\n",
       "      <td>10.00</td>\n",
       "    </tr>\n",
       "    <tr>\n",
       "      <th>size</th>\n",
       "      <td>244.0</td>\n",
       "      <td>2.569672</td>\n",
       "      <td>0.951100</td>\n",
       "      <td>1.00</td>\n",
       "      <td>2.0000</td>\n",
       "      <td>2.000</td>\n",
       "      <td>3.0000</td>\n",
       "      <td>6.00</td>\n",
       "    </tr>\n",
       "  </tbody>\n",
       "</table>\n",
       "</div>"
      ],
      "text/plain": [
       "            count       mean       std   min      25%     50%      75%    max\n",
       "total_bill  244.0  19.785943  8.902412  3.07  13.3475  17.795  24.1275  50.81\n",
       "tip         244.0   2.998279  1.383638  1.00   2.0000   2.900   3.5625  10.00\n",
       "size        244.0   2.569672  0.951100  1.00   2.0000   2.000   3.0000   6.00"
      ]
     },
     "execution_count": 28,
     "metadata": {},
     "output_type": "execute_result"
    }
   ],
   "source": [
    "df.describe().T"
   ]
  },
  {
   "cell_type": "code",
   "execution_count": 29,
   "id": "6c51eac9-96e4-454a-97b9-3735ee6690ab",
   "metadata": {},
   "outputs": [
    {
     "name": "stdout",
     "output_type": "stream",
     "text": [
      "Collecting researchpy\n",
      "  Downloading researchpy-0.3.2-py3-none-any.whl (15 kB)\n",
      "Requirement already satisfied: scipy in c:\\programdata\\anaconda3\\lib\\site-packages (from researchpy) (1.7.3)\n",
      "Requirement already satisfied: statsmodels in c:\\programdata\\anaconda3\\lib\\site-packages (from researchpy) (0.13.2)\n",
      "Requirement already satisfied: pandas in c:\\programdata\\anaconda3\\lib\\site-packages (from researchpy) (1.4.2)\n",
      "Requirement already satisfied: patsy in c:\\programdata\\anaconda3\\lib\\site-packages (from researchpy) (0.5.2)\n",
      "Requirement already satisfied: numpy in c:\\programdata\\anaconda3\\lib\\site-packages (from researchpy) (1.21.5)\n",
      "Requirement already satisfied: python-dateutil>=2.8.1 in c:\\programdata\\anaconda3\\lib\\site-packages (from pandas->researchpy) (2.8.2)\n",
      "Requirement already satisfied: pytz>=2020.1 in c:\\programdata\\anaconda3\\lib\\site-packages (from pandas->researchpy) (2021.3)\n",
      "Requirement already satisfied: six>=1.5 in c:\\programdata\\anaconda3\\lib\\site-packages (from python-dateutil>=2.8.1->pandas->researchpy) (1.16.0)\n",
      "Requirement already satisfied: packaging>=21.3 in c:\\programdata\\anaconda3\\lib\\site-packages (from statsmodels->researchpy) (21.3)\n",
      "Requirement already satisfied: pyparsing!=3.0.5,>=2.0.2 in c:\\programdata\\anaconda3\\lib\\site-packages (from packaging>=21.3->statsmodels->researchpy) (3.0.4)\n",
      "Installing collected packages: researchpy\n",
      "Successfully installed researchpy-0.3.2\n"
     ]
    }
   ],
   "source": [
    "!pip install researchpy\n",
    "import researchpy as rp"
   ]
  },
  {
   "cell_type": "code",
   "execution_count": 31,
   "id": "e75f6df7-a8ea-4bfb-9872-82b54c0b8f1a",
   "metadata": {},
   "outputs": [
    {
     "name": "stdout",
     "output_type": "stream",
     "text": [
      "\n",
      "\n"
     ]
    },
    {
     "data": {
      "text/html": [
       "<div>\n",
       "<style scoped>\n",
       "    .dataframe tbody tr th:only-of-type {\n",
       "        vertical-align: middle;\n",
       "    }\n",
       "\n",
       "    .dataframe tbody tr th {\n",
       "        vertical-align: top;\n",
       "    }\n",
       "\n",
       "    .dataframe thead th {\n",
       "        text-align: right;\n",
       "    }\n",
       "</style>\n",
       "<table border=\"1\" class=\"dataframe\">\n",
       "  <thead>\n",
       "    <tr style=\"text-align: right;\">\n",
       "      <th></th>\n",
       "      <th>Variable</th>\n",
       "      <th>N</th>\n",
       "      <th>Mean</th>\n",
       "      <th>SD</th>\n",
       "      <th>SE</th>\n",
       "      <th>95% Conf.</th>\n",
       "      <th>Interval</th>\n",
       "    </tr>\n",
       "  </thead>\n",
       "  <tbody>\n",
       "    <tr>\n",
       "      <th>0</th>\n",
       "      <td>total_bill</td>\n",
       "      <td>244.0</td>\n",
       "      <td>19.7859</td>\n",
       "      <td>8.9024</td>\n",
       "      <td>0.5699</td>\n",
       "      <td>18.6633</td>\n",
       "      <td>20.9086</td>\n",
       "    </tr>\n",
       "    <tr>\n",
       "      <th>1</th>\n",
       "      <td>tip</td>\n",
       "      <td>244.0</td>\n",
       "      <td>2.9983</td>\n",
       "      <td>1.3836</td>\n",
       "      <td>0.0886</td>\n",
       "      <td>2.8238</td>\n",
       "      <td>3.1728</td>\n",
       "    </tr>\n",
       "    <tr>\n",
       "      <th>2</th>\n",
       "      <td>size</td>\n",
       "      <td>244.0</td>\n",
       "      <td>2.5697</td>\n",
       "      <td>0.9511</td>\n",
       "      <td>0.0609</td>\n",
       "      <td>2.4497</td>\n",
       "      <td>2.6896</td>\n",
       "    </tr>\n",
       "  </tbody>\n",
       "</table>\n",
       "</div>"
      ],
      "text/plain": [
       "     Variable      N     Mean      SD      SE  95% Conf.  Interval\n",
       "0  total_bill  244.0  19.7859  8.9024  0.5699    18.6633   20.9086\n",
       "1         tip  244.0   2.9983  1.3836  0.0886     2.8238    3.1728\n",
       "2        size  244.0   2.5697  0.9511  0.0609     2.4497    2.6896"
      ]
     },
     "execution_count": 31,
     "metadata": {},
     "output_type": "execute_result"
    }
   ],
   "source": [
    "rp.summary_cont(df[[\"total_bill\",\"tip\",\"size\"]])  #sayısal değişkenler için"
   ]
  },
  {
   "cell_type": "code",
   "execution_count": 32,
   "id": "c338c7da-fdbb-4539-802c-c7701f24474a",
   "metadata": {},
   "outputs": [
    {
     "data": {
      "text/html": [
       "<div>\n",
       "<style scoped>\n",
       "    .dataframe tbody tr th:only-of-type {\n",
       "        vertical-align: middle;\n",
       "    }\n",
       "\n",
       "    .dataframe tbody tr th {\n",
       "        vertical-align: top;\n",
       "    }\n",
       "\n",
       "    .dataframe thead th {\n",
       "        text-align: right;\n",
       "    }\n",
       "</style>\n",
       "<table border=\"1\" class=\"dataframe\">\n",
       "  <thead>\n",
       "    <tr style=\"text-align: right;\">\n",
       "      <th></th>\n",
       "      <th>Variable</th>\n",
       "      <th>Outcome</th>\n",
       "      <th>Count</th>\n",
       "      <th>Percent</th>\n",
       "    </tr>\n",
       "  </thead>\n",
       "  <tbody>\n",
       "    <tr>\n",
       "      <th>0</th>\n",
       "      <td>sex</td>\n",
       "      <td>Male</td>\n",
       "      <td>157</td>\n",
       "      <td>64.34</td>\n",
       "    </tr>\n",
       "    <tr>\n",
       "      <th>1</th>\n",
       "      <td></td>\n",
       "      <td>Female</td>\n",
       "      <td>87</td>\n",
       "      <td>35.66</td>\n",
       "    </tr>\n",
       "    <tr>\n",
       "      <th>2</th>\n",
       "      <td>smoker</td>\n",
       "      <td>No</td>\n",
       "      <td>151</td>\n",
       "      <td>61.89</td>\n",
       "    </tr>\n",
       "    <tr>\n",
       "      <th>3</th>\n",
       "      <td></td>\n",
       "      <td>Yes</td>\n",
       "      <td>93</td>\n",
       "      <td>38.11</td>\n",
       "    </tr>\n",
       "    <tr>\n",
       "      <th>4</th>\n",
       "      <td>day</td>\n",
       "      <td>Sat</td>\n",
       "      <td>87</td>\n",
       "      <td>35.66</td>\n",
       "    </tr>\n",
       "    <tr>\n",
       "      <th>5</th>\n",
       "      <td></td>\n",
       "      <td>Sun</td>\n",
       "      <td>76</td>\n",
       "      <td>31.15</td>\n",
       "    </tr>\n",
       "    <tr>\n",
       "      <th>6</th>\n",
       "      <td></td>\n",
       "      <td>Thur</td>\n",
       "      <td>62</td>\n",
       "      <td>25.41</td>\n",
       "    </tr>\n",
       "    <tr>\n",
       "      <th>7</th>\n",
       "      <td></td>\n",
       "      <td>Fri</td>\n",
       "      <td>19</td>\n",
       "      <td>7.79</td>\n",
       "    </tr>\n",
       "  </tbody>\n",
       "</table>\n",
       "</div>"
      ],
      "text/plain": [
       "  Variable Outcome  Count  Percent\n",
       "0      sex    Male    157    64.34\n",
       "1           Female     87    35.66\n",
       "2   smoker      No    151    61.89\n",
       "3              Yes     93    38.11\n",
       "4      day     Sat     87    35.66\n",
       "5              Sun     76    31.15\n",
       "6             Thur     62    25.41\n",
       "7              Fri     19     7.79"
      ]
     },
     "execution_count": 32,
     "metadata": {},
     "output_type": "execute_result"
    }
   ],
   "source": [
    "rp.summary_cat(df[[\"sex\",\"smoker\",\"day\"]])  # kategorik değişkenler için"
   ]
  },
  {
   "cell_type": "markdown",
   "id": "e49e30d6-0dc4-4dbb-90e9-d3208db2e632",
   "metadata": {},
   "source": [
    "df[[\"tip\",\"total_bill\"]].cov()  # coveryans"
   ]
  },
  {
   "cell_type": "code",
   "execution_count": 34,
   "id": "994002fe-f291-43ed-8d8b-095e25e78147",
   "metadata": {},
   "outputs": [
    {
     "data": {
      "text/html": [
       "<div>\n",
       "<style scoped>\n",
       "    .dataframe tbody tr th:only-of-type {\n",
       "        vertical-align: middle;\n",
       "    }\n",
       "\n",
       "    .dataframe tbody tr th {\n",
       "        vertical-align: top;\n",
       "    }\n",
       "\n",
       "    .dataframe thead th {\n",
       "        text-align: right;\n",
       "    }\n",
       "</style>\n",
       "<table border=\"1\" class=\"dataframe\">\n",
       "  <thead>\n",
       "    <tr style=\"text-align: right;\">\n",
       "      <th></th>\n",
       "      <th>tip</th>\n",
       "      <th>total_bill</th>\n",
       "    </tr>\n",
       "  </thead>\n",
       "  <tbody>\n",
       "    <tr>\n",
       "      <th>tip</th>\n",
       "      <td>1.000000</td>\n",
       "      <td>0.675734</td>\n",
       "    </tr>\n",
       "    <tr>\n",
       "      <th>total_bill</th>\n",
       "      <td>0.675734</td>\n",
       "      <td>1.000000</td>\n",
       "    </tr>\n",
       "  </tbody>\n",
       "</table>\n",
       "</div>"
      ],
      "text/plain": [
       "                 tip  total_bill\n",
       "tip         1.000000    0.675734\n",
       "total_bill  0.675734    1.000000"
      ]
     },
     "execution_count": 34,
     "metadata": {},
     "output_type": "execute_result"
    }
   ],
   "source": [
    "df[[\"tip\",\"total_bill\"]].corr()  #korelasyon"
   ]
  },
  {
   "cell_type": "markdown",
   "id": "0f1f3692-03c7-4d58-b8a1-01a5623d313c",
   "metadata": {},
   "source": [
    "güven aralığı nasıl hesaplanır"
   ]
  },
  {
   "cell_type": "code",
   "execution_count": 1,
   "id": "53613516-47fc-4ac7-8c16-af6fef2adf99",
   "metadata": {},
   "outputs": [],
   "source": [
    "# n sayısı ortalama sayısı ve standart sapma bulunur\n",
    "# güven aralığına karar verilir\n",
    "# güven aralığı genelde 95-99 arasındadır 95 kullanılır ama\n",
    "# z tablo değeri hesaplama ( 1,96 - 2,57)\n",
    "# x +- z(s/kökn) = 180 +- 1,96 x (40/kök100)\n",
    "# sonuç 172-188 arasında çıkar"
   ]
  },
  {
   "cell_type": "markdown",
   "id": "b60b082e-331e-46fa-a343-be7044adcbec",
   "metadata": {},
   "source": [
    "bu demek oluyorki websitesine gelenlerden 5 tanesi 172 ve 188 saniye aralıkları dışında ziyaret ediyor.\n"
   ]
  },
  {
   "cell_type": "markdown",
   "id": "79990604-3977-4450-bafb-d1193e6738b9",
   "metadata": {},
   "source": [
    "**iş uygulaması: fiyat stratejisi karar destek**"
   ]
  },
  {
   "cell_type": "code",
   "execution_count": 4,
   "id": "6e30ad7c-ee4e-4768-b171-7c94f1543ba6",
   "metadata": {},
   "outputs": [],
   "source": [
    "import numpy as np\n",
    "fiyatlar = np.random.randint(10,110,1000)"
   ]
  },
  {
   "cell_type": "code",
   "execution_count": 6,
   "id": "248861e1-797f-4a98-8bfa-69db45a24d5a",
   "metadata": {},
   "outputs": [
    {
     "data": {
      "text/plain": [
       "60.034"
      ]
     },
     "execution_count": 6,
     "metadata": {},
     "output_type": "execute_result"
    }
   ],
   "source": [
    "fiyatlar.mean()"
   ]
  },
  {
   "cell_type": "code",
   "execution_count": 7,
   "id": "d0ec91de-83c5-44be-9065-c923a84e211d",
   "metadata": {},
   "outputs": [],
   "source": [
    "import statsmodels.stats.api as sms"
   ]
  },
  {
   "cell_type": "code",
   "execution_count": 10,
   "id": "a7ff3109-c3a3-40fc-bb56-144ba6fd7ad5",
   "metadata": {},
   "outputs": [
    {
     "data": {
      "text/plain": [
       "(58.2514420208086, 61.8165579791914)"
      ]
     },
     "execution_count": 10,
     "metadata": {},
     "output_type": "execute_result"
    }
   ],
   "source": [
    "sms.DescrStatsW(fiyatlar).tconfint_mean()  #Kullanıcıların ele aldığı kullanıcıların %95 oranındaki fiyatlar"
   ]
  },
  {
   "cell_type": "markdown",
   "id": "15ddb923-9c05-4d9c-9fcb-e8505a501e94",
   "metadata": {},
   "source": [
    "**olasılığa giriş ve olasılık dağılımları**"
   ]
  },
  {
   "cell_type": "markdown",
   "id": "66171443-5579-484d-969a-d69af489e0bb",
   "metadata": {},
   "source": [
    "Bernou Dagilim\n",
    "f(k;p)=p²(1-p)for&(0,1)€\n",
    "\n",
    "E(X)=P\n",
    "\n",
    "Var[X]=pq=p(1-P)"
   ]
  },
  {
   "cell_type": "code",
   "execution_count": 12,
   "id": "117ea7f2-397a-409f-a12a-10384f1bd7ce",
   "metadata": {},
   "outputs": [],
   "source": [
    "from scipy.stats import bernoulli"
   ]
  },
  {
   "cell_type": "code",
   "execution_count": 13,
   "id": "d858bd6d-fff9-43cd-afec-db0df75dd623",
   "metadata": {},
   "outputs": [],
   "source": [
    "p = 0.6"
   ]
  },
  {
   "cell_type": "code",
   "execution_count": 16,
   "id": "330d0e82-0627-4acd-8cc1-6b240682db82",
   "metadata": {},
   "outputs": [
    {
     "data": {
      "text/plain": [
       "0.4"
      ]
     },
     "execution_count": 16,
     "metadata": {},
     "output_type": "execute_result"
    }
   ],
   "source": [
    "rv = bernoulli(p)\n",
    "rv.pmf(k = 0) #propality mass function #yazı gelme olasığını hesaplıyor"
   ]
  },
  {
   "cell_type": "code",
   "execution_count": null,
   "id": "9d2b2900-1d38-4936-be41-e8f766cb01c3",
   "metadata": {},
   "outputs": [
    {
     "name": "stdout",
     "output_type": "stream",
     "text": [
      "Atış Sayısı: 2 --- Yazı Olasılığı: 50.00\n",
      "Atış Sayısı: 4 --- Yazı Olasılığı: 0.00\n",
      "Atış Sayısı: 8 --- Yazı Olasılığı: 62.50\n",
      "Atış Sayısı: 16 --- Yazı Olasılığı: 43.75\n",
      "Atış Sayısı: 32 --- Yazı Olasılığı: 46.88\n",
      "Atış Sayısı: 64 --- Yazı Olasılığı: 56.25\n",
      "Atış Sayısı: 128 --- Yazı Olasılığı: 50.78\n",
      "Atış Sayısı: 256 --- Yazı Olasılığı: 52.73\n",
      "Atış Sayısı: 512 --- Yazı Olasılığı: 52.93\n",
      "Atış Sayısı: 1024 --- Yazı Olasılığı: 50.20\n",
      "Atış Sayısı: 2048 --- Yazı Olasılığı: 48.58\n",
      "Atış Sayısı: 4096 --- Yazı Olasılığı: 49.49\n",
      "Atış Sayısı: 8192 --- Yazı Olasılığı: 49.58\n",
      "Atış Sayısı: 16384 --- Yazı Olasılığı: 49.96\n",
      "Atış Sayısı: 32768 --- Yazı Olasılığı: 50.00\n",
      "Atış Sayısı: 65536 --- Yazı Olasılığı: 49.68\n",
      "Atış Sayısı: 131072 --- Yazı Olasılığı: 49.97\n",
      "Atış Sayısı: 262144 --- Yazı Olasılığı: 50.13\n",
      "Atış Sayısı: 524288 --- Yazı Olasılığı: 50.01\n",
      "Atış Sayısı: 1048576 --- Yazı Olasılığı: 50.09\n"
     ]
    }
   ],
   "source": [
    "import numpy as np\n",
    "rng = np.random.RandomState(123)\n",
    "for i in np.arange(1,21):\n",
    "    deney_sayisi = 2**i\n",
    "    yazi_turalar = rng.randint(0,2,size = deney_sayisi)\n",
    "    yazi_olasiliklari = np.mean(yazi_turalar)\n",
    "    print(\"Atış Sayısı:\",deney_sayisi,\"---\",'Yazı Olasılığı: %.2f' % (yazi_olasiliklari * 100))"
   ]
  },
  {
   "cell_type": "markdown",
   "id": "6ab7276d-1769-4a3a-99a3-6fc52425979a",
   "metadata": {},
   "source": [
    "**BİNOM DAĞILIMI**\n"
   ]
  },
  {
   "cell_type": "markdown",
   "id": "438e58d5-6f17-40d1-823f-134c3e7a3c88",
   "metadata": {},
   "source": [
    "${\\displaystyle f(k;n,p)={n \\choose k}p^{k}(1-p)^{n-k}}$, k = 0, 1, 2, ...,n\n",
    "\n",
    "\n",
    "${\\displaystyle \\operatorname {E} (X)=np}$\n",
    "\n",
    "\n",
    "${\\displaystyle \\operatorname {Var} (X)=np(1-p)}$"
   ]
  },
  {
   "cell_type": "code",
   "execution_count": 21,
   "id": "ea2bef40-8ecc-4073-b070-73a7bd5c1eb2",
   "metadata": {},
   "outputs": [],
   "source": [
    "#bernoulli yasasının n defa denenmiş halidir."
   ]
  },
  {
   "cell_type": "markdown",
   "id": "205f16f8-c0f1-46d4-8190-3de00ceb44ff",
   "metadata": {},
   "source": [
    "reklam tıklanma olasılıkları hesaplama"
   ]
  },
  {
   "cell_type": "markdown",
   "id": "83ce38e6-baee-4087-b65e-aad1c7491e1d",
   "metadata": {},
   "source": [
    "dağılım ve tıklama olasılığı 0.01  \n",
    "soru :  reklamı 100 kişi gördüğünde 1,5,10 tıklanma olasılığı"
   ]
  },
  {
   "cell_type": "code",
   "execution_count": 22,
   "id": "140c75a1-96f9-47a3-a1ab-abc3d3e922ea",
   "metadata": {},
   "outputs": [],
   "source": [
    "from scipy.stats import binom"
   ]
  },
  {
   "cell_type": "code",
   "execution_count": 23,
   "id": "7ba81609-b740-49f6-a2c9-4dbcf7a1f8e6",
   "metadata": {},
   "outputs": [],
   "source": [
    "p = 0.01\n",
    "n = 100\n",
    "rv = binom(n,p)"
   ]
  },
  {
   "cell_type": "code",
   "execution_count": 24,
   "id": "92ab7f26-96eb-4dc8-8d83-a81fe64e44ea",
   "metadata": {},
   "outputs": [
    {
     "name": "stdout",
     "output_type": "stream",
     "text": [
      "0.36972963764972666\n",
      "0.002897787123761478\n",
      "7.006035693977194e-08\n"
     ]
    }
   ],
   "source": [
    "print(rv.pmf(1))\n",
    "print(rv.pmf(5))\n",
    "print(rv.pmf(10))\n"
   ]
  },
  {
   "cell_type": "markdown",
   "id": "9432d1c7-a405-4b1f-9442-92464d62f4da",
   "metadata": {},
   "source": [
    "**Poisson Dağılımı**"
   ]
  },
  {
   "cell_type": "code",
   "execution_count": 25,
   "id": "d7ceaf09-da71-40f9-9dd1-91e69ed8b873",
   "metadata": {},
   "outputs": [],
   "source": [
    "#nadiren gözüken olaylar poissona dahil edilir\n",
    "# 10bin kelimeden oluşan kitapta katalı kelime sayısı\n",
    "# 4000 öğrencili okulda hatalı not giriş sayısı\n",
    "# rötara düşen uçuş sefer sayısı"
   ]
  },
  {
   "cell_type": "markdown",
   "id": "b7391f7c-f6c2-462d-8f72-786efe36daef",
   "metadata": {},
   "source": [
    "bir üniversitede 5000 not girişinde 5 tane notun yanlış girilme olasılığı  \n",
    "poisson ve lambda 0.2"
   ]
  },
  {
   "cell_type": "markdown",
   "id": "36efc043-049b-4d34-9395-a873990e032d",
   "metadata": {},
   "source": [
    "İş uygulaması :  hatalı iilan girişi olasılıkları hesaplanacak"
   ]
  },
  {
   "cell_type": "code",
   "execution_count": 26,
   "id": "5eea8c87-02c5-4b83-8965-2c476e324de3",
   "metadata": {},
   "outputs": [],
   "source": [
    "# bir yıl süresince ölçüm\n",
    "# dağılım biliniyor  lambda 0.1"
   ]
  },
  {
   "cell_type": "code",
   "execution_count": 27,
   "id": "7f42b879-d994-4d5a-a8f7-d5665bceac6a",
   "metadata": {},
   "outputs": [],
   "source": [
    "# hiç hata olmaması 3 hata olması ve 5 hata olması ?"
   ]
  },
  {
   "cell_type": "markdown",
   "id": "a473b610-38d9-47f6-9531-ca3e85d25d67",
   "metadata": {},
   "source": [
    "f(0;0.1):\n",
    "f(3;0.1)=\n",
    "f(5;0.1)=\n",
    "        0.1⁰e-0.1\n",
    "          0!\n",
    "        0.1³ -0.1\n",
    "          3!\n",
    "        0.15e-0.1\n",
    "          5!\n",
    "              =0.9048374180\n",
    "              =0.0001508062\n",
    "              =0.0000000754"
   ]
  },
  {
   "cell_type": "code",
   "execution_count": 29,
   "id": "a25c9f1b-b3b4-4e46-9823-c557049f3ab9",
   "metadata": {},
   "outputs": [],
   "source": [
    "from scipy.stats import poisson"
   ]
  },
  {
   "cell_type": "code",
   "execution_count": 31,
   "id": "a12295bd-4821-4d55-aee1-8f1dcbea7728",
   "metadata": {},
   "outputs": [],
   "source": [
    "lambda_ = 0.1"
   ]
  },
  {
   "cell_type": "code",
   "execution_count": 33,
   "id": "a7270730-a09b-40a5-b2ad-4b3e2498468e",
   "metadata": {},
   "outputs": [
    {
     "data": {
      "text/plain": [
       "0.9048374180359595"
      ]
     },
     "execution_count": 33,
     "metadata": {},
     "output_type": "execute_result"
    }
   ],
   "source": [
    "rv = poisson(mu = lambda_ )\n",
    "rv.pmf(k =0)"
   ]
  },
  {
   "cell_type": "code",
   "execution_count": 34,
   "id": "a49f857f-a546-4452-ba95-085e415cee7b",
   "metadata": {},
   "outputs": [
    {
     "data": {
      "text/plain": [
       "0.00015080623633932676"
      ]
     },
     "execution_count": 34,
     "metadata": {},
     "output_type": "execute_result"
    }
   ],
   "source": [
    "rv.pmf(k =3)"
   ]
  },
  {
   "cell_type": "code",
   "execution_count": 35,
   "id": "0af1818b-6e56-45e3-9d04-0f204031f7b1",
   "metadata": {},
   "outputs": [
    {
     "data": {
      "text/plain": [
       "7.54031181696634e-08"
      ]
     },
     "execution_count": 35,
     "metadata": {},
     "output_type": "execute_result"
    }
   ],
   "source": [
    "rv.pmf(k =5)"
   ]
  },
  {
   "cell_type": "markdown",
   "id": "36088462-a5e5-4799-9e43-a415ca3d3f08",
   "metadata": {},
   "source": [
    "**NORMAL DAĞILIM**"
   ]
  },
  {
   "cell_type": "code",
   "execution_count": null,
   "id": "36f4d67f-0bf1-4e38-afdc-6e4939ad4038",
   "metadata": {},
   "outputs": [],
   "source": []
  }
 ],
 "metadata": {
  "kernelspec": {
   "display_name": "Python 3 (ipykernel)",
   "language": "python",
   "name": "python3"
  },
  "language_info": {
   "codemirror_mode": {
    "name": "ipython",
    "version": 3
   },
   "file_extension": ".py",
   "mimetype": "text/x-python",
   "name": "python",
   "nbconvert_exporter": "python",
   "pygments_lexer": "ipython3",
   "version": "3.9.12"
  }
 },
 "nbformat": 4,
 "nbformat_minor": 5
}
