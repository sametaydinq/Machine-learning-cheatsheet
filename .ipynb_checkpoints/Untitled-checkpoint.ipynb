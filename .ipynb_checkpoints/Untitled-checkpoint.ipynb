{
 "cells": [
  {
   "cell_type": "code",
   "execution_count": 7,
   "id": "80853f53-9ad9-4145-9434-1918f3d296d2",
   "metadata": {},
   "outputs": [],
   "source": [
    "import numpy as np\n",
    "import pandas as pd\n",
    "import seaborn as sns\n",
    "veri = pd.read_csv(\"veriler.csv\")"
   ]
  },
  {
   "cell_type": "code",
   "execution_count": 8,
   "id": "8974edba-780a-4b45-a21e-7b138272b5b1",
   "metadata": {},
   "outputs": [
    {
     "data": {
      "text/plain": [
       "<bound method DataFrame.info of    ulke  boy  kilo  yas cinsiyet\n",
       "0    tr  130    30   10        e\n",
       "1    tr  125    36   11        e\n",
       "2    tr  135    34   10        k\n",
       "3    tr  133    30    9        k\n",
       "4    tr  129    38   12        e\n",
       "5    tr  180    90   30        e\n",
       "6    tr  190    80   25        e\n",
       "7    tr  175    90   35        e\n",
       "8    tr  177    60   22        k\n",
       "9    us  185   105   33        e\n",
       "10   us  165    55   27        k\n",
       "11   us  155    50   44        k\n",
       "12   us  160    58   39        k\n",
       "13   us  162    59   41        k\n",
       "14   us  167    62   55        k\n",
       "15   fr  174    70   47        e\n",
       "16   fr  193    90   23        e\n",
       "17   fr  187    80   27        e\n",
       "18   fr  183    88   28        e\n",
       "19   fr  159    40   29        k\n",
       "20   fr  164    66   32        k\n",
       "21   fr  166    56   42        k>"
      ]
     },
     "execution_count": 8,
     "metadata": {},
     "output_type": "execute_result"
    }
   ],
   "source": [
    "veri.info"
   ]
  },
  {
   "cell_type": "code",
   "execution_count": 12,
   "id": "8d51046b-e399-49f2-9edf-8d9960880971",
   "metadata": {},
   "outputs": [
    {
     "data": {
      "text/plain": [
       "ulke        0\n",
       "boy         0\n",
       "kilo        0\n",
       "yas         0\n",
       "cinsiyet    0\n",
       "dtype: int64"
      ]
     },
     "execution_count": 12,
     "metadata": {},
     "output_type": "execute_result"
    }
   ],
   "source": [
    "veri.isnull().sum()  #EKsik veri kontrolünü yapıyoruz"
   ]
  },
  {
   "cell_type": "code",
   "execution_count": 13,
   "id": "c1453851-6f89-41d7-b357-c64e9c13549e",
   "metadata": {},
   "outputs": [
    {
     "data": {
      "text/html": [
       "<div>\n",
       "<style scoped>\n",
       "    .dataframe tbody tr th:only-of-type {\n",
       "        vertical-align: middle;\n",
       "    }\n",
       "\n",
       "    .dataframe tbody tr th {\n",
       "        vertical-align: top;\n",
       "    }\n",
       "\n",
       "    .dataframe thead th {\n",
       "        text-align: right;\n",
       "    }\n",
       "</style>\n",
       "<table border=\"1\" class=\"dataframe\">\n",
       "  <thead>\n",
       "    <tr style=\"text-align: right;\">\n",
       "      <th></th>\n",
       "      <th>count</th>\n",
       "      <th>mean</th>\n",
       "      <th>std</th>\n",
       "      <th>min</th>\n",
       "      <th>25%</th>\n",
       "      <th>50%</th>\n",
       "      <th>75%</th>\n",
       "      <th>max</th>\n",
       "    </tr>\n",
       "  </thead>\n",
       "  <tbody>\n",
       "    <tr>\n",
       "      <th>boy</th>\n",
       "      <td>22.0</td>\n",
       "      <td>163.363636</td>\n",
       "      <td>21.077059</td>\n",
       "      <td>125.0</td>\n",
       "      <td>156.00</td>\n",
       "      <td>165.5</td>\n",
       "      <td>179.25</td>\n",
       "      <td>193.0</td>\n",
       "    </tr>\n",
       "    <tr>\n",
       "      <th>kilo</th>\n",
       "      <td>22.0</td>\n",
       "      <td>62.136364</td>\n",
       "      <td>22.286651</td>\n",
       "      <td>30.0</td>\n",
       "      <td>42.50</td>\n",
       "      <td>59.5</td>\n",
       "      <td>80.00</td>\n",
       "      <td>105.0</td>\n",
       "    </tr>\n",
       "    <tr>\n",
       "      <th>yas</th>\n",
       "      <td>22.0</td>\n",
       "      <td>28.681818</td>\n",
       "      <td>12.988590</td>\n",
       "      <td>9.0</td>\n",
       "      <td>22.25</td>\n",
       "      <td>28.5</td>\n",
       "      <td>38.00</td>\n",
       "      <td>55.0</td>\n",
       "    </tr>\n",
       "  </tbody>\n",
       "</table>\n",
       "</div>"
      ],
      "text/plain": [
       "      count        mean        std    min     25%    50%     75%    max\n",
       "boy    22.0  163.363636  21.077059  125.0  156.00  165.5  179.25  193.0\n",
       "kilo   22.0   62.136364  22.286651   30.0   42.50   59.5   80.00  105.0\n",
       "yas    22.0   28.681818  12.988590    9.0   22.25   28.5   38.00   55.0"
      ]
     },
     "execution_count": 13,
     "metadata": {},
     "output_type": "execute_result"
    }
   ],
   "source": [
    "veri.describe().T  #verileri inceliyoruz"
   ]
  },
  {
   "cell_type": "markdown",
   "id": "87821267-4219-46f9-b36f-9ca8cb539779",
   "metadata": {},
   "source": [
    "Verilerin standart sapmasının yüksek olduğunu görebiliriz\n",
    "Aykırı değerleri kontrol edelim"
   ]
  },
  {
   "cell_type": "code",
   "execution_count": 19,
   "id": "d9abcd71-b476-47d0-8a4a-cf9f7696828f",
   "metadata": {},
   "outputs": [
    {
     "data": {
      "text/plain": [
       "<AxesSubplot:xlabel='yas'>"
      ]
     },
     "execution_count": 19,
     "metadata": {},
     "output_type": "execute_result"
    },
    {
     "data": {
      "image/png": "[encoded data removed]",
      "text/plain": [
       "<Figure size 432x288 with 1 Axes>"
      ]
     },
     "metadata": {
      "needs_background": "light"
     },
     "output_type": "display_data"
    }
   ],
   "source": [
    "sns.boxplot(x =veri[\"yas\"])"
   ]
  },
  {
   "cell_type": "code",
   "execution_count": 20,
   "id": "a0ceea0c-187d-4ec6-846a-0130cda81df2",
   "metadata": {},
   "outputs": [
    {
     "data": {
      "text/plain": [
       "<AxesSubplot:xlabel='kilo'>"
      ]
     },
     "execution_count": 20,
     "metadata": {},
     "output_type": "execute_result"
    },
    {
     "data": {
      "image/png": "[encoded data removed]",
      "text/plain": [
       "<Figure size 432x288 with 1 Axes>"
      ]
     },
     "metadata": {
      "needs_background": "light"
     },
     "output_type": "display_data"
    }
   ],
   "source": [
    "sns.boxplot(x =veri[\"kilo\"])\n"
   ]
  },
  {
   "cell_type": "code",
   "execution_count": 21,
   "id": "f4062bcf-f248-4762-82d9-88d4b4ffeca5",
   "metadata": {},
   "outputs": [
    {
     "data": {
      "text/plain": [
       "<AxesSubplot:xlabel='boy'>"
      ]
     },
     "execution_count": 21,
     "metadata": {},
     "output_type": "execute_result"
    },
    {
     "data": {
      "image/png": "[encoded data removed]",
      "text/plain": [
       "<Figure size 432x288 with 1 Axes>"
      ]
     },
     "metadata": {
      "needs_background": "light"
     },
     "output_type": "display_data"
    }
   ],
   "source": [
    "sns.boxplot(x =veri[\"boy\"])"
   ]
  },
  {
   "cell_type": "markdown",
   "id": "9c97c0ff-39a3-4b5e-bc14-76d080d77ea8",
   "metadata": {},
   "source": [
    "Göze çarpan bir aykırı değer bulunmamaktadır."
   ]
  },
  {
   "cell_type": "code",
   "execution_count": 23,
   "id": "4227f6bc-b028-4c1d-8cfe-ccff1838e6f9",
   "metadata": {},
   "outputs": [
    {
     "data": {
      "text/plain": [
       "<seaborn.axisgrid.PairGrid at 0x7fc47322ae20>"
      ]
     },
     "execution_count": 23,
     "metadata": {},
     "output_type": "execute_result"
    },
    {
     "data": {
      "image/png": "[encoded data removed]",
      "text/plain": [
       "<Figure size 540x540 with 12 Axes>"
      ]
     },
     "metadata": {
      "needs_background": "light"
     },
     "output_type": "display_data"
    }
   ],
   "source": [
    "sns.pairplot(veri)"
   ]
  },
  {
   "cell_type": "code",
   "execution_count": 26,
   "id": "14bb973a-d7c4-49c3-b012-345078ce71a5",
   "metadata": {},
   "outputs": [
    {
     "data": {
      "text/html": [
       "<div>\n",
       "<style scoped>\n",
       "    .dataframe tbody tr th:only-of-type {\n",
       "        vertical-align: middle;\n",
       "    }\n",
       "\n",
       "    .dataframe tbody tr th {\n",
       "        vertical-align: top;\n",
       "    }\n",
       "\n",
       "    .dataframe thead th {\n",
       "        text-align: right;\n",
       "    }\n",
       "</style>\n",
       "<table border=\"1\" class=\"dataframe\">\n",
       "  <thead>\n",
       "    <tr style=\"text-align: right;\">\n",
       "      <th></th>\n",
       "      <th>boy</th>\n",
       "      <th>kilo</th>\n",
       "      <th>yas</th>\n",
       "    </tr>\n",
       "  </thead>\n",
       "  <tbody>\n",
       "    <tr>\n",
       "      <th>boy</th>\n",
       "      <td>1.000000</td>\n",
       "      <td>0.899177</td>\n",
       "      <td>0.508706</td>\n",
       "    </tr>\n",
       "    <tr>\n",
       "      <th>kilo</th>\n",
       "      <td>0.899177</td>\n",
       "      <td>1.000000</td>\n",
       "      <td>0.423259</td>\n",
       "    </tr>\n",
       "    <tr>\n",
       "      <th>yas</th>\n",
       "      <td>0.508706</td>\n",
       "      <td>0.423259</td>\n",
       "      <td>1.000000</td>\n",
       "    </tr>\n",
       "  </tbody>\n",
       "</table>\n",
       "</div>"
      ],
      "text/plain": [
       "           boy      kilo       yas\n",
       "boy   1.000000  0.899177  0.508706\n",
       "kilo  0.899177  1.000000  0.423259\n",
       "yas   0.508706  0.423259  1.000000"
      ]
     },
     "execution_count": 26,
     "metadata": {},
     "output_type": "execute_result"
    }
   ],
   "source": [
    "df[[\"boy\",\"kilo\",\"yas\"]].corr() "
   ]
  },
  {
   "cell_type": "code",
   "execution_count": null,
   "id": "8bd8bef3-8751-4767-a2cc-10fc5b9880fe",
   "metadata": {},
   "outputs": [],
   "source": []
  },
  {
   "cell_type": "markdown",
   "id": "fc2e210d-14c9-449a-8e03-2b1e5c6b173b",
   "metadata": {},
   "source": [
    "Boy ve kilo Korelasyon ilişkilerinin ülke ayrımlarına göre grafiklerini inceleyebiliriz"
   ]
  },
  {
   "cell_type": "code",
   "execution_count": 54,
   "id": "019c6d74-83b8-42bc-be17-4eefd8f32d01",
   "metadata": {},
   "outputs": [
    {
     "data": {
      "image/png": "[encoded data removed]",
      "text/plain": [
       "<Figure size 1080x360 with 3 Axes>"
      ]
     },
     "metadata": {
      "needs_background": "light"
     },
     "output_type": "display_data"
    }
   ],
   "source": [
    "sns.lmplot(x = \"kilo\",y = \"boy\",  col = \"ulke\",data = df);"
   ]
  },
  {
   "cell_type": "code",
   "execution_count": null,
   "id": "b8bbab14-1d70-41be-8610-f69b168ec2db",
   "metadata": {},
   "outputs": [],
   "source": []
  },
  {
   "cell_type": "markdown",
   "id": "6df1b97c-1213-4b5f-b2aa-492854fc5a19",
   "metadata": {},
   "source": [
    "Korelasyon bilgilerini incelediğimizde boy ve kilonun aralarındaki ilişkinin yüksek olduğu gözükür\n",
    "Fakat yaşın boy ve kilo ile olan ilişkisi boy ve kilonun arasındaki ilişki kadar yüksek değildir\n",
    "Buna bakılarak genellikle çoğunlukla boy ve kilo arasında bir doğru orantı gözlenir"
   ]
  },
  {
   "cell_type": "markdown",
   "id": "f8cfeb97-97c5-40ca-910a-4e301966dc9f",
   "metadata": {},
   "source": [
    "**Bu ilişkileri cinsiyet ve ülkeler bazında incelebiliyiz**"
   ]
  },
  {
   "cell_type": "code",
   "execution_count": 30,
   "id": "4e954514-81c3-4339-abd8-ede5ba616286",
   "metadata": {},
   "outputs": [
    {
     "data": {
      "text/html": [
       "<div>\n",
       "<style scoped>\n",
       "    .dataframe tbody tr th:only-of-type {\n",
       "        vertical-align: middle;\n",
       "    }\n",
       "\n",
       "    .dataframe tbody tr th {\n",
       "        vertical-align: top;\n",
       "    }\n",
       "\n",
       "    .dataframe thead th {\n",
       "        text-align: right;\n",
       "    }\n",
       "</style>\n",
       "<table border=\"1\" class=\"dataframe\">\n",
       "  <thead>\n",
       "    <tr style=\"text-align: right;\">\n",
       "      <th></th>\n",
       "      <th>ulke</th>\n",
       "      <th>fr</th>\n",
       "      <th>tr</th>\n",
       "      <th>us</th>\n",
       "    </tr>\n",
       "  </thead>\n",
       "  <tbody>\n",
       "    <tr>\n",
       "      <th rowspan=\"8\" valign=\"top\">boy</th>\n",
       "      <th>count</th>\n",
       "      <td>7.000000</td>\n",
       "      <td>9.000000</td>\n",
       "      <td>6.000000</td>\n",
       "    </tr>\n",
       "    <tr>\n",
       "      <th>mean</th>\n",
       "      <td>175.142857</td>\n",
       "      <td>152.666667</td>\n",
       "      <td>165.666667</td>\n",
       "    </tr>\n",
       "    <tr>\n",
       "      <th>std</th>\n",
       "      <td>12.850792</td>\n",
       "      <td>26.856098</td>\n",
       "      <td>10.347302</td>\n",
       "    </tr>\n",
       "    <tr>\n",
       "      <th>min</th>\n",
       "      <td>159.000000</td>\n",
       "      <td>125.000000</td>\n",
       "      <td>155.000000</td>\n",
       "    </tr>\n",
       "    <tr>\n",
       "      <th>25%</th>\n",
       "      <td>165.000000</td>\n",
       "      <td>130.000000</td>\n",
       "      <td>160.500000</td>\n",
       "    </tr>\n",
       "    <tr>\n",
       "      <th>50%</th>\n",
       "      <td>174.000000</td>\n",
       "      <td>135.000000</td>\n",
       "      <td>163.500000</td>\n",
       "    </tr>\n",
       "    <tr>\n",
       "      <th>75%</th>\n",
       "      <td>185.000000</td>\n",
       "      <td>177.000000</td>\n",
       "      <td>166.500000</td>\n",
       "    </tr>\n",
       "    <tr>\n",
       "      <th>max</th>\n",
       "      <td>193.000000</td>\n",
       "      <td>190.000000</td>\n",
       "      <td>185.000000</td>\n",
       "    </tr>\n",
       "    <tr>\n",
       "      <th rowspan=\"8\" valign=\"top\">yas</th>\n",
       "      <th>count</th>\n",
       "      <td>7.000000</td>\n",
       "      <td>9.000000</td>\n",
       "      <td>6.000000</td>\n",
       "    </tr>\n",
       "    <tr>\n",
       "      <th>mean</th>\n",
       "      <td>32.571429</td>\n",
       "      <td>18.222222</td>\n",
       "      <td>39.833333</td>\n",
       "    </tr>\n",
       "    <tr>\n",
       "      <th>std</th>\n",
       "      <td>8.695921</td>\n",
       "      <td>9.947082</td>\n",
       "      <td>9.600347</td>\n",
       "    </tr>\n",
       "    <tr>\n",
       "      <th>min</th>\n",
       "      <td>23.000000</td>\n",
       "      <td>9.000000</td>\n",
       "      <td>27.000000</td>\n",
       "    </tr>\n",
       "    <tr>\n",
       "      <th>25%</th>\n",
       "      <td>27.500000</td>\n",
       "      <td>10.000000</td>\n",
       "      <td>34.500000</td>\n",
       "    </tr>\n",
       "    <tr>\n",
       "      <th>50%</th>\n",
       "      <td>29.000000</td>\n",
       "      <td>12.000000</td>\n",
       "      <td>40.000000</td>\n",
       "    </tr>\n",
       "    <tr>\n",
       "      <th>75%</th>\n",
       "      <td>37.000000</td>\n",
       "      <td>25.000000</td>\n",
       "      <td>43.250000</td>\n",
       "    </tr>\n",
       "    <tr>\n",
       "      <th>max</th>\n",
       "      <td>47.000000</td>\n",
       "      <td>35.000000</td>\n",
       "      <td>55.000000</td>\n",
       "    </tr>\n",
       "    <tr>\n",
       "      <th rowspan=\"8\" valign=\"top\">kilo</th>\n",
       "      <th>count</th>\n",
       "      <td>7.000000</td>\n",
       "      <td>9.000000</td>\n",
       "      <td>6.000000</td>\n",
       "    </tr>\n",
       "    <tr>\n",
       "      <th>mean</th>\n",
       "      <td>70.000000</td>\n",
       "      <td>54.222222</td>\n",
       "      <td>64.833333</td>\n",
       "    </tr>\n",
       "    <tr>\n",
       "      <th>std</th>\n",
       "      <td>17.962925</td>\n",
       "      <td>26.066155</td>\n",
       "      <td>20.093946</td>\n",
       "    </tr>\n",
       "    <tr>\n",
       "      <th>min</th>\n",
       "      <td>40.000000</td>\n",
       "      <td>30.000000</td>\n",
       "      <td>50.000000</td>\n",
       "    </tr>\n",
       "    <tr>\n",
       "      <th>25%</th>\n",
       "      <td>61.000000</td>\n",
       "      <td>34.000000</td>\n",
       "      <td>55.750000</td>\n",
       "    </tr>\n",
       "    <tr>\n",
       "      <th>50%</th>\n",
       "      <td>70.000000</td>\n",
       "      <td>38.000000</td>\n",
       "      <td>58.500000</td>\n",
       "    </tr>\n",
       "    <tr>\n",
       "      <th>75%</th>\n",
       "      <td>84.000000</td>\n",
       "      <td>80.000000</td>\n",
       "      <td>61.250000</td>\n",
       "    </tr>\n",
       "    <tr>\n",
       "      <th>max</th>\n",
       "      <td>90.000000</td>\n",
       "      <td>90.000000</td>\n",
       "      <td>105.000000</td>\n",
       "    </tr>\n",
       "  </tbody>\n",
       "</table>\n",
       "</div>"
      ],
      "text/plain": [
       "ulke                fr          tr          us\n",
       "boy  count    7.000000    9.000000    6.000000\n",
       "     mean   175.142857  152.666667  165.666667\n",
       "     std     12.850792   26.856098   10.347302\n",
       "     min    159.000000  125.000000  155.000000\n",
       "     25%    165.000000  130.000000  160.500000\n",
       "     50%    174.000000  135.000000  163.500000\n",
       "     75%    185.000000  177.000000  166.500000\n",
       "     max    193.000000  190.000000  185.000000\n",
       "yas  count    7.000000    9.000000    6.000000\n",
       "     mean    32.571429   18.222222   39.833333\n",
       "     std      8.695921    9.947082    9.600347\n",
       "     min     23.000000    9.000000   27.000000\n",
       "     25%     27.500000   10.000000   34.500000\n",
       "     50%     29.000000   12.000000   40.000000\n",
       "     75%     37.000000   25.000000   43.250000\n",
       "     max     47.000000   35.000000   55.000000\n",
       "kilo count    7.000000    9.000000    6.000000\n",
       "     mean    70.000000   54.222222   64.833333\n",
       "     std     17.962925   26.066155   20.093946\n",
       "     min     40.000000   30.000000   50.000000\n",
       "     25%     61.000000   34.000000   55.750000\n",
       "     50%     70.000000   38.000000   58.500000\n",
       "     75%     84.000000   80.000000   61.250000\n",
       "     max     90.000000   90.000000  105.000000"
      ]
     },
     "execution_count": 30,
     "metadata": {},
     "output_type": "execute_result"
    }
   ],
   "source": [
    "df.groupby(\"ulke\")[[\"boy\",\"yas\",\"kilo\"]].describe().T"
   ]
  },
  {
   "cell_type": "markdown",
   "id": "df7078b9-6061-4866-afbf-fb7f02ea80a1",
   "metadata": {},
   "source": [
    "Verileri okuduğumuzda türk vatandaşlarının boyu kilosu ve yaşı ortalama olarak diğerlerine göre daha düşük"
   ]
  },
  {
   "cell_type": "markdown",
   "id": "4284327b-2b26-47ee-9693-4183f07e993a",
   "metadata": {},
   "source": [
    "Boy ve kilo olarak fransız vatandaşlar daha yüksek"
   ]
  },
  {
   "cell_type": "markdown",
   "id": "b01b7aff-fcea-4a38-853d-9c416340ccc1",
   "metadata": {},
   "source": [
    "**Bu çıkarımları verileri okumadan görsellerine bakarak çok daha hızlı anlayabiliriz**"
   ]
  },
  {
   "cell_type": "code",
   "execution_count": 32,
   "id": "56ebd632-72d4-4f07-8c77-0b2a75dc68bd",
   "metadata": {},
   "outputs": [
    {
     "data": {
      "image/png": "[encoded data removed]",
      "text/plain": [
       "<Figure size 432x288 with 1 Axes>"
      ]
     },
     "metadata": {
      "needs_background": "light"
     },
     "output_type": "display_data"
    }
   ],
   "source": [
    "sns.scatterplot( x = \"ulke\", y = \"boy\",data = df);"
   ]
  },
  {
   "cell_type": "code",
   "execution_count": 33,
   "id": "e16f235b-b72a-4507-9576-32b35b8605ef",
   "metadata": {},
   "outputs": [
    {
     "data": {
      "image/png": "[encoded data removed]",
      "text/plain": [
       "<Figure size 432x288 with 1 Axes>"
      ]
     },
     "metadata": {
      "needs_background": "light"
     },
     "output_type": "display_data"
    }
   ],
   "source": [
    "sns.scatterplot( x = \"ulke\", y = \"yas\",data = df);"
   ]
  },
  {
   "cell_type": "code",
   "execution_count": 34,
   "id": "2f684924-3de8-49f5-a0f8-4794ac2940b6",
   "metadata": {},
   "outputs": [
    {
     "data": {
      "image/png": "[encoded data removed]",
      "text/plain": [
       "<Figure size 432x288 with 1 Axes>"
      ]
     },
     "metadata": {
      "needs_background": "light"
     },
     "output_type": "display_data"
    }
   ],
   "source": [
    "sns.scatterplot( x = \"ulke\", y = \"kilo\",data = df);"
   ]
  },
  {
   "cell_type": "markdown",
   "id": "c8105716-7305-49e5-ac38-ddd2df4aa819",
   "metadata": {},
   "source": [
    "Grafiklere baktığımızda tr vatandaşlarının yoğunluğunun aşağıda  diğer vatandaşların yukarıda olduğu gözüküyor"
   ]
  },
  {
   "cell_type": "code",
   "execution_count": null,
   "id": "bd159600-e81f-40e2-9d5d-d164c54751dd",
   "metadata": {},
   "outputs": [],
   "source": []
  },
  {
   "cell_type": "markdown",
   "id": "a5acb9f2-46a6-4841-8824-84dd8d1d41d3",
   "metadata": {},
   "source": [
    "**Bu grafiklere 3. argüman olarak cinsiyeti ekleyebilir ve cinsiyete göre dağılımda da fikir sahibi olabiliriz**"
   ]
  },
  {
   "cell_type": "code",
   "execution_count": 75,
   "id": "61dfa2e4-b01b-48a1-b6ff-3223203cf3f1",
   "metadata": {},
   "outputs": [
    {
     "data": {
      "image/png": "[encoded data removed]",
      "text/plain": [
       "<Figure size 432x288 with 1 Axes>"
      ]
     },
     "metadata": {
      "needs_background": "light"
     },
     "output_type": "display_data"
    }
   ],
   "source": [
    "sns.scatterplot( x = \"ulke\", y =\"yas\" ,hue = \"cinsiyet\",data = df);"
   ]
  },
  {
   "cell_type": "markdown",
   "id": "4ef04e2a-b69f-4095-a925-7ee743f83657",
   "metadata": {},
   "source": [
    "Cinsiyetlerde amerikan vatandaşlarda kızların çoğunluk olduğu diğer ülkelerde çok büyük farklar olmadığı görülüyor"
   ]
  },
  {
   "cell_type": "code",
   "execution_count": 77,
   "id": "311133f1-91cb-4f7c-9490-3f4056cbcabd",
   "metadata": {},
   "outputs": [
    {
     "data": {
      "text/html": [
       "<div>\n",
       "<style scoped>\n",
       "    .dataframe tbody tr th:only-of-type {\n",
       "        vertical-align: middle;\n",
       "    }\n",
       "\n",
       "    .dataframe tbody tr th {\n",
       "        vertical-align: top;\n",
       "    }\n",
       "\n",
       "    .dataframe thead th {\n",
       "        text-align: right;\n",
       "    }\n",
       "</style>\n",
       "<table border=\"1\" class=\"dataframe\">\n",
       "  <thead>\n",
       "    <tr style=\"text-align: right;\">\n",
       "      <th></th>\n",
       "      <th></th>\n",
       "      <th>boy</th>\n",
       "      <th>kilo</th>\n",
       "      <th>yas</th>\n",
       "    </tr>\n",
       "    <tr>\n",
       "      <th>ulke</th>\n",
       "      <th>cinsiyet</th>\n",
       "      <th></th>\n",
       "      <th></th>\n",
       "      <th></th>\n",
       "    </tr>\n",
       "  </thead>\n",
       "  <tbody>\n",
       "    <tr>\n",
       "      <th rowspan=\"2\" valign=\"top\">fr</th>\n",
       "      <th>e</th>\n",
       "      <td>4</td>\n",
       "      <td>4</td>\n",
       "      <td>4</td>\n",
       "    </tr>\n",
       "    <tr>\n",
       "      <th>k</th>\n",
       "      <td>3</td>\n",
       "      <td>3</td>\n",
       "      <td>3</td>\n",
       "    </tr>\n",
       "    <tr>\n",
       "      <th rowspan=\"2\" valign=\"top\">tr</th>\n",
       "      <th>e</th>\n",
       "      <td>6</td>\n",
       "      <td>6</td>\n",
       "      <td>6</td>\n",
       "    </tr>\n",
       "    <tr>\n",
       "      <th>k</th>\n",
       "      <td>3</td>\n",
       "      <td>3</td>\n",
       "      <td>3</td>\n",
       "    </tr>\n",
       "    <tr>\n",
       "      <th rowspan=\"2\" valign=\"top\">us</th>\n",
       "      <th>e</th>\n",
       "      <td>1</td>\n",
       "      <td>1</td>\n",
       "      <td>1</td>\n",
       "    </tr>\n",
       "    <tr>\n",
       "      <th>k</th>\n",
       "      <td>5</td>\n",
       "      <td>5</td>\n",
       "      <td>5</td>\n",
       "    </tr>\n",
       "  </tbody>\n",
       "</table>\n",
       "</div>"
      ],
      "text/plain": [
       "               boy  kilo  yas\n",
       "ulke cinsiyet                \n",
       "fr   e           4     4    4\n",
       "     k           3     3    3\n",
       "tr   e           6     6    6\n",
       "     k           3     3    3\n",
       "us   e           1     1    1\n",
       "     k           5     5    5"
      ]
     },
     "execution_count": 77,
     "metadata": {},
     "output_type": "execute_result"
    }
   ],
   "source": [
    "df.groupby([\"ulke\",\"cinsiyet\"]).count()"
   ]
  },
  {
   "cell_type": "markdown",
   "id": "355b5a3d-d3f5-42b2-8a99-713214150e05",
   "metadata": {},
   "source": [
    "Verileri okuyarakta bu grafiği doğrulayabiliriz"
   ]
  },
  {
   "cell_type": "markdown",
   "id": "a4c15d8d-5d48-4eb0-bb71-d256e2fe0dc0",
   "metadata": {},
   "source": [
    "**EKSİK VERİLER**"
   ]
  },
  {
   "cell_type": "code",
   "execution_count": 81,
   "id": "f9a2b5d4-6893-4d98-82ee-031037b80c77",
   "metadata": {},
   "outputs": [],
   "source": [
    "import numpy as np\n",
    "import pandas as pd\n",
    "import seaborn as sns\n",
    "eksikveri = pd.read_csv(\"eksikveriler.csv\")"
   ]
  },
  {
   "cell_type": "code",
   "execution_count": 82,
   "id": "74d386cc-b40b-46fd-a353-9ef35647f007",
   "metadata": {},
   "outputs": [
    {
     "data": {
      "text/html": [
       "<div>\n",
       "<style scoped>\n",
       "    .dataframe tbody tr th:only-of-type {\n",
       "        vertical-align: middle;\n",
       "    }\n",
       "\n",
       "    .dataframe tbody tr th {\n",
       "        vertical-align: top;\n",
       "    }\n",
       "\n",
       "    .dataframe thead th {\n",
       "        text-align: right;\n",
       "    }\n",
       "</style>\n",
       "<table border=\"1\" class=\"dataframe\">\n",
       "  <thead>\n",
       "    <tr style=\"text-align: right;\">\n",
       "      <th></th>\n",
       "      <th>ulke</th>\n",
       "      <th>boy</th>\n",
       "      <th>kilo</th>\n",
       "      <th>yas</th>\n",
       "      <th>cinsiyet</th>\n",
       "    </tr>\n",
       "  </thead>\n",
       "  <tbody>\n",
       "    <tr>\n",
       "      <th>0</th>\n",
       "      <td>tr</td>\n",
       "      <td>130</td>\n",
       "      <td>30</td>\n",
       "      <td>10.0</td>\n",
       "      <td>e</td>\n",
       "    </tr>\n",
       "    <tr>\n",
       "      <th>1</th>\n",
       "      <td>tr</td>\n",
       "      <td>125</td>\n",
       "      <td>36</td>\n",
       "      <td>11.0</td>\n",
       "      <td>e</td>\n",
       "    </tr>\n",
       "    <tr>\n",
       "      <th>2</th>\n",
       "      <td>tr</td>\n",
       "      <td>135</td>\n",
       "      <td>34</td>\n",
       "      <td>10.0</td>\n",
       "      <td>k</td>\n",
       "    </tr>\n",
       "    <tr>\n",
       "      <th>3</th>\n",
       "      <td>tr</td>\n",
       "      <td>133</td>\n",
       "      <td>30</td>\n",
       "      <td>9.0</td>\n",
       "      <td>k</td>\n",
       "    </tr>\n",
       "    <tr>\n",
       "      <th>4</th>\n",
       "      <td>tr</td>\n",
       "      <td>129</td>\n",
       "      <td>38</td>\n",
       "      <td>12.0</td>\n",
       "      <td>e</td>\n",
       "    </tr>\n",
       "    <tr>\n",
       "      <th>5</th>\n",
       "      <td>tr</td>\n",
       "      <td>180</td>\n",
       "      <td>90</td>\n",
       "      <td>30.0</td>\n",
       "      <td>e</td>\n",
       "    </tr>\n",
       "    <tr>\n",
       "      <th>6</th>\n",
       "      <td>tr</td>\n",
       "      <td>190</td>\n",
       "      <td>80</td>\n",
       "      <td>25.0</td>\n",
       "      <td>e</td>\n",
       "    </tr>\n",
       "    <tr>\n",
       "      <th>7</th>\n",
       "      <td>tr</td>\n",
       "      <td>175</td>\n",
       "      <td>90</td>\n",
       "      <td>35.0</td>\n",
       "      <td>e</td>\n",
       "    </tr>\n",
       "    <tr>\n",
       "      <th>8</th>\n",
       "      <td>tr</td>\n",
       "      <td>177</td>\n",
       "      <td>60</td>\n",
       "      <td>22.0</td>\n",
       "      <td>k</td>\n",
       "    </tr>\n",
       "    <tr>\n",
       "      <th>9</th>\n",
       "      <td>us</td>\n",
       "      <td>185</td>\n",
       "      <td>105</td>\n",
       "      <td>33.0</td>\n",
       "      <td>e</td>\n",
       "    </tr>\n",
       "    <tr>\n",
       "      <th>10</th>\n",
       "      <td>us</td>\n",
       "      <td>165</td>\n",
       "      <td>55</td>\n",
       "      <td>27.0</td>\n",
       "      <td>k</td>\n",
       "    </tr>\n",
       "    <tr>\n",
       "      <th>11</th>\n",
       "      <td>us</td>\n",
       "      <td>155</td>\n",
       "      <td>50</td>\n",
       "      <td>44.0</td>\n",
       "      <td>k</td>\n",
       "    </tr>\n",
       "    <tr>\n",
       "      <th>12</th>\n",
       "      <td>us</td>\n",
       "      <td>160</td>\n",
       "      <td>58</td>\n",
       "      <td>NaN</td>\n",
       "      <td>k</td>\n",
       "    </tr>\n",
       "    <tr>\n",
       "      <th>13</th>\n",
       "      <td>us</td>\n",
       "      <td>162</td>\n",
       "      <td>59</td>\n",
       "      <td>41.0</td>\n",
       "      <td>k</td>\n",
       "    </tr>\n",
       "    <tr>\n",
       "      <th>14</th>\n",
       "      <td>us</td>\n",
       "      <td>167</td>\n",
       "      <td>62</td>\n",
       "      <td>55.0</td>\n",
       "      <td>k</td>\n",
       "    </tr>\n",
       "    <tr>\n",
       "      <th>15</th>\n",
       "      <td>fr</td>\n",
       "      <td>174</td>\n",
       "      <td>70</td>\n",
       "      <td>47.0</td>\n",
       "      <td>e</td>\n",
       "    </tr>\n",
       "    <tr>\n",
       "      <th>16</th>\n",
       "      <td>fr</td>\n",
       "      <td>193</td>\n",
       "      <td>90</td>\n",
       "      <td>NaN</td>\n",
       "      <td>e</td>\n",
       "    </tr>\n",
       "    <tr>\n",
       "      <th>17</th>\n",
       "      <td>fr</td>\n",
       "      <td>187</td>\n",
       "      <td>80</td>\n",
       "      <td>27.0</td>\n",
       "      <td>e</td>\n",
       "    </tr>\n",
       "    <tr>\n",
       "      <th>18</th>\n",
       "      <td>fr</td>\n",
       "      <td>183</td>\n",
       "      <td>88</td>\n",
       "      <td>28.0</td>\n",
       "      <td>e</td>\n",
       "    </tr>\n",
       "    <tr>\n",
       "      <th>19</th>\n",
       "      <td>fr</td>\n",
       "      <td>159</td>\n",
       "      <td>40</td>\n",
       "      <td>29.0</td>\n",
       "      <td>k</td>\n",
       "    </tr>\n",
       "    <tr>\n",
       "      <th>20</th>\n",
       "      <td>fr</td>\n",
       "      <td>164</td>\n",
       "      <td>66</td>\n",
       "      <td>32.0</td>\n",
       "      <td>k</td>\n",
       "    </tr>\n",
       "    <tr>\n",
       "      <th>21</th>\n",
       "      <td>fr</td>\n",
       "      <td>166</td>\n",
       "      <td>56</td>\n",
       "      <td>42.0</td>\n",
       "      <td>k</td>\n",
       "    </tr>\n",
       "  </tbody>\n",
       "</table>\n",
       "</div>"
      ],
      "text/plain": [
       "   ulke  boy  kilo   yas cinsiyet\n",
       "0    tr  130    30  10.0        e\n",
       "1    tr  125    36  11.0        e\n",
       "2    tr  135    34  10.0        k\n",
       "3    tr  133    30   9.0        k\n",
       "4    tr  129    38  12.0        e\n",
       "5    tr  180    90  30.0        e\n",
       "6    tr  190    80  25.0        e\n",
       "7    tr  175    90  35.0        e\n",
       "8    tr  177    60  22.0        k\n",
       "9    us  185   105  33.0        e\n",
       "10   us  165    55  27.0        k\n",
       "11   us  155    50  44.0        k\n",
       "12   us  160    58   NaN        k\n",
       "13   us  162    59  41.0        k\n",
       "14   us  167    62  55.0        k\n",
       "15   fr  174    70  47.0        e\n",
       "16   fr  193    90   NaN        e\n",
       "17   fr  187    80  27.0        e\n",
       "18   fr  183    88  28.0        e\n",
       "19   fr  159    40  29.0        k\n",
       "20   fr  164    66  32.0        k\n",
       "21   fr  166    56  42.0        k"
      ]
     },
     "execution_count": 82,
     "metadata": {},
     "output_type": "execute_result"
    }
   ],
   "source": [
    "eksikveri"
   ]
  },
  {
   "cell_type": "code",
   "execution_count": 83,
   "id": "3e3424ca-f87d-4c89-b841-0edcae139c40",
   "metadata": {},
   "outputs": [
    {
     "data": {
      "text/plain": [
       "ulke        0\n",
       "boy         0\n",
       "kilo        0\n",
       "yas         2\n",
       "cinsiyet    0\n",
       "dtype: int64"
      ]
     },
     "execution_count": 83,
     "metadata": {},
     "output_type": "execute_result"
    }
   ],
   "source": [
    "eksikveri.isnull().sum()"
   ]
  },
  {
   "cell_type": "markdown",
   "id": "770078cc-0d5d-4509-b199-b17578a223fa",
   "metadata": {},
   "source": [
    "**Veri setini inceleme aşamasını tekrar yapmayacağım doğrudan eksik veriyi dolduracağım**"
   ]
  },
  {
   "cell_type": "code",
   "execution_count": null,
   "id": "bbe5010a-a2ac-401e-92b4-e3f09711ddbd",
   "metadata": {},
   "outputs": [],
   "source": []
  },
  {
   "cell_type": "code",
   "execution_count": 129,
   "id": "cff7cc7e-4595-4139-83b1-6878641fac02",
   "metadata": {},
   "outputs": [],
   "source": [
    "eksikveri_yas = eksikveri[\"yas\"]"
   ]
  },
  {
   "cell_type": "code",
   "execution_count": 130,
   "id": "3247ce78-3459-4c7b-8dfb-f6b6ed0ed68f",
   "metadata": {},
   "outputs": [],
   "source": [
    "veri_yas = eksikveri[\"yas\"]"
   ]
  },
  {
   "cell_type": "code",
   "execution_count": null,
   "id": "aee3afb9-29bd-4708-87e9-c976c10d9d4a",
   "metadata": {},
   "outputs": [],
   "source": []
  },
  {
   "cell_type": "code",
   "execution_count": 131,
   "id": "26f980c5-5478-4573-b08d-26a207098ecc",
   "metadata": {},
   "outputs": [
    {
     "data": {
      "text/plain": [
       "0     10.0\n",
       "1     11.0\n",
       "2     10.0\n",
       "3      9.0\n",
       "4     12.0\n",
       "5     30.0\n",
       "6     25.0\n",
       "7     35.0\n",
       "8     22.0\n",
       "9     33.0\n",
       "10    27.0\n",
       "11    44.0\n",
       "12     NaN\n",
       "13    41.0\n",
       "14    55.0\n",
       "15    47.0\n",
       "16     NaN\n",
       "17    27.0\n",
       "18    28.0\n",
       "19    29.0\n",
       "20    32.0\n",
       "21    42.0\n",
       "Name: yas, dtype: float64"
      ]
     },
     "execution_count": 131,
     "metadata": {},
     "output_type": "execute_result"
    }
   ],
   "source": [
    "eksikveri_yas"
   ]
  },
  {
   "cell_type": "code",
   "execution_count": 132,
   "id": "3dfe75b8-ab92-4cda-8914-b14dcccc8aee",
   "metadata": {},
   "outputs": [
    {
     "data": {
      "text/plain": [
       "28.45"
      ]
     },
     "execution_count": 132,
     "metadata": {},
     "output_type": "execute_result"
    }
   ],
   "source": [
    "eksikveri_yas.mean()"
   ]
  },
  {
   "cell_type": "code",
   "execution_count": 140,
   "id": "ed2f2083-9cbf-49ec-9e9c-0e832bd1603e",
   "metadata": {},
   "outputs": [],
   "source": [
    "eksikveri_yas = eksikveri[eksikveri[\"yas\"].isnull()==True]"
   ]
  },
  {
   "cell_type": "code",
   "execution_count": 141,
   "id": "fb46de4e-d264-4bec-950c-eef59c4c54a5",
   "metadata": {},
   "outputs": [
    {
     "data": {
      "text/html": [
       "<div>\n",
       "<style scoped>\n",
       "    .dataframe tbody tr th:only-of-type {\n",
       "        vertical-align: middle;\n",
       "    }\n",
       "\n",
       "    .dataframe tbody tr th {\n",
       "        vertical-align: top;\n",
       "    }\n",
       "\n",
       "    .dataframe thead th {\n",
       "        text-align: right;\n",
       "    }\n",
       "</style>\n",
       "<table border=\"1\" class=\"dataframe\">\n",
       "  <thead>\n",
       "    <tr style=\"text-align: right;\">\n",
       "      <th></th>\n",
       "      <th>ulke</th>\n",
       "      <th>boy</th>\n",
       "      <th>kilo</th>\n",
       "      <th>yas</th>\n",
       "      <th>cinsiyet</th>\n",
       "    </tr>\n",
       "  </thead>\n",
       "  <tbody>\n",
       "    <tr>\n",
       "      <th>12</th>\n",
       "      <td>us</td>\n",
       "      <td>160</td>\n",
       "      <td>58</td>\n",
       "      <td>NaN</td>\n",
       "      <td>k</td>\n",
       "    </tr>\n",
       "    <tr>\n",
       "      <th>16</th>\n",
       "      <td>fr</td>\n",
       "      <td>193</td>\n",
       "      <td>90</td>\n",
       "      <td>NaN</td>\n",
       "      <td>e</td>\n",
       "    </tr>\n",
       "  </tbody>\n",
       "</table>\n",
       "</div>"
      ],
      "text/plain": [
       "   ulke  boy  kilo  yas cinsiyet\n",
       "12   us  160    58  NaN        k\n",
       "16   fr  193    90  NaN        e"
      ]
     },
     "execution_count": 141,
     "metadata": {},
     "output_type": "execute_result"
    }
   ],
   "source": [
    "eksikveri_yas"
   ]
  },
  {
   "cell_type": "code",
   "execution_count": 143,
   "id": "9e44e2ce-40b8-499b-b1be-4e80ab1aeb06",
   "metadata": {},
   "outputs": [
    {
     "name": "stderr",
     "output_type": "stream",
     "text": [
      "/tmp/ipykernel_34525/1769915616.py:1: SettingWithCopyWarning: \n",
      "A value is trying to be set on a copy of a slice from a DataFrame.\n",
      "Try using .loc[row_indexer,col_indexer] = value instead\n",
      "\n",
      "See the caveats in the documentation: https://pandas.pydata.org/pandas-docs/stable/user_guide/indexing.html#returning-a-view-versus-a-copy\n",
      "  eksikveri_yas[\"yas\" ] = veri_yas.mean()\n"
     ]
    }
   ],
   "source": [
    "eksikveri_yas[\"yas\" ] = veri_yas.mean()"
   ]
  },
  {
   "cell_type": "code",
   "execution_count": null,
   "id": "80536016-4a9c-48f4-998a-a532d5cc7c29",
   "metadata": {},
   "outputs": [],
   "source": []
  },
  {
   "cell_type": "code",
   "execution_count": null,
   "id": "6df7ab5b-136e-47e7-96c7-e0167e82bf88",
   "metadata": {},
   "outputs": [],
   "source": []
  }
 ],
 "metadata": {
  "kernelspec": {
   "display_name": "Python 3 (ipykernel)",
   "language": "python",
   "name": "python3"
  },
  "language_info": {
   "codemirror_mode": {
    "name": "ipython",
    "version": 3
   },
   "file_extension": ".py",
   "mimetype": "text/x-python",
   "name": "python",
   "nbconvert_exporter": "python",
   "pygments_lexer": "ipython3",
   "version": "3.9.12"
  }
 },
 "nbformat": 4,
 "nbformat_minor": 5
}
