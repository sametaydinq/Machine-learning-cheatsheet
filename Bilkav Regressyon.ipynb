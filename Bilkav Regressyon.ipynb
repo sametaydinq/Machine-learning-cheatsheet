{
 "cells": [
  {
   "cell_type": "markdown",
   "id": "facf571e-9bc2-4fa1-b428-88147cb429eb",
   "metadata": {},
   "source": [
    "# Bilgisayar Kavramları Predict Algoritmaları"
   ]
  },
  {
   "cell_type": "code",
   "execution_count": 1,
   "id": "b8c210b4-cc6a-4b0a-b1fb-fd71aa8dff24",
   "metadata": {},
   "outputs": [],
   "source": [
    "from warnings import filterwarnings\n",
    "filterwarnings('ignore')"
   ]
  },
  {
   "cell_type": "code",
   "execution_count": 2,
   "id": "943c8c2e-03e6-4902-bc14-2494d04917d7",
   "metadata": {},
   "outputs": [],
   "source": [
    "import numpy as np\n",
    "import matplotlib.pyplot as plt\n",
    "import pandas as pd"
   ]
  },
  {
   "cell_type": "code",
   "execution_count": 3,
   "id": "4d006ad1-b713-4867-be90-1a1fafdd3c4c",
   "metadata": {},
   "outputs": [],
   "source": [
    "veriler = pd.read_csv(\"satislar.csv\")"
   ]
  },
  {
   "cell_type": "code",
   "execution_count": 4,
   "id": "e173a40b-1c46-431f-8249-b423df7eb3c7",
   "metadata": {},
   "outputs": [
    {
     "data": {
      "text/html": [
       "<div>\n",
       "<style scoped>\n",
       "    .dataframe tbody tr th:only-of-type {\n",
       "        vertical-align: middle;\n",
       "    }\n",
       "\n",
       "    .dataframe tbody tr th {\n",
       "        vertical-align: top;\n",
       "    }\n",
       "\n",
       "    .dataframe thead th {\n",
       "        text-align: right;\n",
       "    }\n",
       "</style>\n",
       "<table border=\"1\" class=\"dataframe\">\n",
       "  <thead>\n",
       "    <tr style=\"text-align: right;\">\n",
       "      <th></th>\n",
       "      <th>Aylar</th>\n",
       "      <th>Satislar</th>\n",
       "    </tr>\n",
       "  </thead>\n",
       "  <tbody>\n",
       "    <tr>\n",
       "      <th>0</th>\n",
       "      <td>8</td>\n",
       "      <td>19671.5</td>\n",
       "    </tr>\n",
       "    <tr>\n",
       "      <th>1</th>\n",
       "      <td>10</td>\n",
       "      <td>23102.5</td>\n",
       "    </tr>\n",
       "    <tr>\n",
       "      <th>2</th>\n",
       "      <td>11</td>\n",
       "      <td>18865.5</td>\n",
       "    </tr>\n",
       "    <tr>\n",
       "      <th>3</th>\n",
       "      <td>13</td>\n",
       "      <td>21762.5</td>\n",
       "    </tr>\n",
       "    <tr>\n",
       "      <th>4</th>\n",
       "      <td>14</td>\n",
       "      <td>19945.5</td>\n",
       "    </tr>\n",
       "    <tr>\n",
       "      <th>5</th>\n",
       "      <td>19</td>\n",
       "      <td>28321.0</td>\n",
       "    </tr>\n",
       "    <tr>\n",
       "      <th>6</th>\n",
       "      <td>19</td>\n",
       "      <td>30075.0</td>\n",
       "    </tr>\n",
       "    <tr>\n",
       "      <th>7</th>\n",
       "      <td>20</td>\n",
       "      <td>27222.5</td>\n",
       "    </tr>\n",
       "    <tr>\n",
       "      <th>8</th>\n",
       "      <td>20</td>\n",
       "      <td>32222.5</td>\n",
       "    </tr>\n",
       "    <tr>\n",
       "      <th>9</th>\n",
       "      <td>24</td>\n",
       "      <td>28594.5</td>\n",
       "    </tr>\n",
       "    <tr>\n",
       "      <th>10</th>\n",
       "      <td>25</td>\n",
       "      <td>31609.0</td>\n",
       "    </tr>\n",
       "    <tr>\n",
       "      <th>11</th>\n",
       "      <td>25</td>\n",
       "      <td>27897.0</td>\n",
       "    </tr>\n",
       "    <tr>\n",
       "      <th>12</th>\n",
       "      <td>25</td>\n",
       "      <td>28478.5</td>\n",
       "    </tr>\n",
       "    <tr>\n",
       "      <th>13</th>\n",
       "      <td>26</td>\n",
       "      <td>28540.5</td>\n",
       "    </tr>\n",
       "    <tr>\n",
       "      <th>14</th>\n",
       "      <td>29</td>\n",
       "      <td>30555.5</td>\n",
       "    </tr>\n",
       "    <tr>\n",
       "      <th>15</th>\n",
       "      <td>31</td>\n",
       "      <td>33969.0</td>\n",
       "    </tr>\n",
       "    <tr>\n",
       "      <th>16</th>\n",
       "      <td>32</td>\n",
       "      <td>33014.5</td>\n",
       "    </tr>\n",
       "    <tr>\n",
       "      <th>17</th>\n",
       "      <td>34</td>\n",
       "      <td>41544.0</td>\n",
       "    </tr>\n",
       "    <tr>\n",
       "      <th>18</th>\n",
       "      <td>37</td>\n",
       "      <td>40681.5</td>\n",
       "    </tr>\n",
       "    <tr>\n",
       "      <th>19</th>\n",
       "      <td>37</td>\n",
       "      <td>4697.0</td>\n",
       "    </tr>\n",
       "    <tr>\n",
       "      <th>20</th>\n",
       "      <td>42</td>\n",
       "      <td>45869.0</td>\n",
       "    </tr>\n",
       "    <tr>\n",
       "      <th>21</th>\n",
       "      <td>44</td>\n",
       "      <td>49136.5</td>\n",
       "    </tr>\n",
       "    <tr>\n",
       "      <th>22</th>\n",
       "      <td>49</td>\n",
       "      <td>50651.0</td>\n",
       "    </tr>\n",
       "    <tr>\n",
       "      <th>23</th>\n",
       "      <td>50</td>\n",
       "      <td>56906.0</td>\n",
       "    </tr>\n",
       "    <tr>\n",
       "      <th>24</th>\n",
       "      <td>54</td>\n",
       "      <td>54715.5</td>\n",
       "    </tr>\n",
       "    <tr>\n",
       "      <th>25</th>\n",
       "      <td>55</td>\n",
       "      <td>52791.0</td>\n",
       "    </tr>\n",
       "    <tr>\n",
       "      <th>26</th>\n",
       "      <td>59</td>\n",
       "      <td>58484.5</td>\n",
       "    </tr>\n",
       "    <tr>\n",
       "      <th>27</th>\n",
       "      <td>59</td>\n",
       "      <td>56317.5</td>\n",
       "    </tr>\n",
       "    <tr>\n",
       "      <th>28</th>\n",
       "      <td>64</td>\n",
       "      <td>61195.5</td>\n",
       "    </tr>\n",
       "    <tr>\n",
       "      <th>29</th>\n",
       "      <td>65</td>\n",
       "      <td>60936.0</td>\n",
       "    </tr>\n",
       "  </tbody>\n",
       "</table>\n",
       "</div>"
      ],
      "text/plain": [
       "    Aylar  Satislar\n",
       "0       8   19671.5\n",
       "1      10   23102.5\n",
       "2      11   18865.5\n",
       "3      13   21762.5\n",
       "4      14   19945.5\n",
       "5      19   28321.0\n",
       "6      19   30075.0\n",
       "7      20   27222.5\n",
       "8      20   32222.5\n",
       "9      24   28594.5\n",
       "10     25   31609.0\n",
       "11     25   27897.0\n",
       "12     25   28478.5\n",
       "13     26   28540.5\n",
       "14     29   30555.5\n",
       "15     31   33969.0\n",
       "16     32   33014.5\n",
       "17     34   41544.0\n",
       "18     37   40681.5\n",
       "19     37    4697.0\n",
       "20     42   45869.0\n",
       "21     44   49136.5\n",
       "22     49   50651.0\n",
       "23     50   56906.0\n",
       "24     54   54715.5\n",
       "25     55   52791.0\n",
       "26     59   58484.5\n",
       "27     59   56317.5\n",
       "28     64   61195.5\n",
       "29     65   60936.0"
      ]
     },
     "execution_count": 4,
     "metadata": {},
     "output_type": "execute_result"
    }
   ],
   "source": [
    "veriler"
   ]
  },
  {
   "cell_type": "code",
   "execution_count": 5,
   "id": "82420729-a5c2-4e74-aaee-82b19194be9f",
   "metadata": {},
   "outputs": [],
   "source": [
    "aylar = veriler[[\"Aylar\"]]\n",
    "satislar = veriler[[\"Satislar\"]]"
   ]
  },
  {
   "cell_type": "code",
   "execution_count": 6,
   "id": "de920ae5-67a5-41f2-a3e6-a97b05d2aa60",
   "metadata": {},
   "outputs": [
    {
     "data": {
      "text/html": [
       "<div>\n",
       "<style scoped>\n",
       "    .dataframe tbody tr th:only-of-type {\n",
       "        vertical-align: middle;\n",
       "    }\n",
       "\n",
       "    .dataframe tbody tr th {\n",
       "        vertical-align: top;\n",
       "    }\n",
       "\n",
       "    .dataframe thead th {\n",
       "        text-align: right;\n",
       "    }\n",
       "</style>\n",
       "<table border=\"1\" class=\"dataframe\">\n",
       "  <thead>\n",
       "    <tr style=\"text-align: right;\">\n",
       "      <th></th>\n",
       "      <th>Aylar</th>\n",
       "    </tr>\n",
       "  </thead>\n",
       "  <tbody>\n",
       "    <tr>\n",
       "      <th>0</th>\n",
       "      <td>8</td>\n",
       "    </tr>\n",
       "    <tr>\n",
       "      <th>1</th>\n",
       "      <td>10</td>\n",
       "    </tr>\n",
       "    <tr>\n",
       "      <th>2</th>\n",
       "      <td>11</td>\n",
       "    </tr>\n",
       "    <tr>\n",
       "      <th>3</th>\n",
       "      <td>13</td>\n",
       "    </tr>\n",
       "    <tr>\n",
       "      <th>4</th>\n",
       "      <td>14</td>\n",
       "    </tr>\n",
       "  </tbody>\n",
       "</table>\n",
       "</div>"
      ],
      "text/plain": [
       "   Aylar\n",
       "0      8\n",
       "1     10\n",
       "2     11\n",
       "3     13\n",
       "4     14"
      ]
     },
     "execution_count": 6,
     "metadata": {},
     "output_type": "execute_result"
    }
   ],
   "source": [
    "aylar.head()"
   ]
  },
  {
   "cell_type": "code",
   "execution_count": 7,
   "id": "c4ca4c54-6d84-4d02-aed6-978d1483146d",
   "metadata": {},
   "outputs": [
    {
     "data": {
      "text/html": [
       "<div>\n",
       "<style scoped>\n",
       "    .dataframe tbody tr th:only-of-type {\n",
       "        vertical-align: middle;\n",
       "    }\n",
       "\n",
       "    .dataframe tbody tr th {\n",
       "        vertical-align: top;\n",
       "    }\n",
       "\n",
       "    .dataframe thead th {\n",
       "        text-align: right;\n",
       "    }\n",
       "</style>\n",
       "<table border=\"1\" class=\"dataframe\">\n",
       "  <thead>\n",
       "    <tr style=\"text-align: right;\">\n",
       "      <th></th>\n",
       "      <th>Satislar</th>\n",
       "    </tr>\n",
       "  </thead>\n",
       "  <tbody>\n",
       "    <tr>\n",
       "      <th>0</th>\n",
       "      <td>19671.5</td>\n",
       "    </tr>\n",
       "    <tr>\n",
       "      <th>1</th>\n",
       "      <td>23102.5</td>\n",
       "    </tr>\n",
       "    <tr>\n",
       "      <th>2</th>\n",
       "      <td>18865.5</td>\n",
       "    </tr>\n",
       "    <tr>\n",
       "      <th>3</th>\n",
       "      <td>21762.5</td>\n",
       "    </tr>\n",
       "    <tr>\n",
       "      <th>4</th>\n",
       "      <td>19945.5</td>\n",
       "    </tr>\n",
       "  </tbody>\n",
       "</table>\n",
       "</div>"
      ],
      "text/plain": [
       "   Satislar\n",
       "0   19671.5\n",
       "1   23102.5\n",
       "2   18865.5\n",
       "3   21762.5\n",
       "4   19945.5"
      ]
     },
     "execution_count": 7,
     "metadata": {},
     "output_type": "execute_result"
    }
   ],
   "source": [
    "satislar.head()"
   ]
  },
  {
   "cell_type": "code",
   "execution_count": 8,
   "id": "d3a10d49-b37b-492b-a2ee-06af77395154",
   "metadata": {},
   "outputs": [
    {
     "data": {
      "text/plain": [
       "array([[ 8],\n",
       "       [10],\n",
       "       [11],\n",
       "       [13],\n",
       "       [14],\n",
       "       [19],\n",
       "       [19],\n",
       "       [20],\n",
       "       [20],\n",
       "       [24],\n",
       "       [25],\n",
       "       [25],\n",
       "       [25],\n",
       "       [26],\n",
       "       [29],\n",
       "       [31],\n",
       "       [32],\n",
       "       [34],\n",
       "       [37],\n",
       "       [37],\n",
       "       [42],\n",
       "       [44],\n",
       "       [49],\n",
       "       [50],\n",
       "       [54],\n",
       "       [55],\n",
       "       [59],\n",
       "       [59],\n",
       "       [64],\n",
       "       [65]])"
      ]
     },
     "execution_count": 8,
     "metadata": {},
     "output_type": "execute_result"
    }
   ],
   "source": [
    "satislar2 = veriler.iloc[:,:1].values\n",
    "satislar2  ##array çevirdik"
   ]
  },
  {
   "cell_type": "code",
   "execution_count": 9,
   "id": "d508d7c4-65ad-43f3-9f01-59e26e1b02af",
   "metadata": {},
   "outputs": [],
   "source": [
    "from sklearn.model_selection import train_test_split\n",
    "x_train , x_test , y_train , y_test = train_test_split(aylar,satislar,test_size =0.33,random_state = 0)"
   ]
  },
  {
   "cell_type": "code",
   "execution_count": 10,
   "id": "a753ef8f-afff-40ea-959d-896184871087",
   "metadata": {},
   "outputs": [],
   "source": [
    "from sklearn.preprocessing import StandardScaler\n",
    "sc = StandardScaler()"
   ]
  },
  {
   "cell_type": "code",
   "execution_count": 11,
   "id": "3007a2da-8d44-4df9-8f93-5f534d50b588",
   "metadata": {},
   "outputs": [],
   "source": [
    "x_train = sc.fit_transform(x_train)\n",
    "x_test = sc.fit_transform(x_test)"
   ]
  },
  {
   "cell_type": "code",
   "execution_count": 12,
   "id": "3a1e35a1-7750-4c64-a487-a119dc86bc0e",
   "metadata": {},
   "outputs": [
    {
     "data": {
      "text/plain": [
       "array([[-0.70368853],\n",
       "       [ 0.15126015],\n",
       "       [-0.63792324],\n",
       "       [-0.0460357 ],\n",
       "       [ 1.33503524]])"
      ]
     },
     "execution_count": 12,
     "metadata": {},
     "output_type": "execute_result"
    }
   ],
   "source": [
    "x_train[0:5]"
   ]
  },
  {
   "cell_type": "code",
   "execution_count": 13,
   "id": "2e79435e-98d8-47c4-9780-71c7cc36c737",
   "metadata": {},
   "outputs": [
    {
     "data": {
      "text/plain": [
       "array([[-1.68268756],\n",
       "       [ 1.33023274],\n",
       "       [-0.82997427],\n",
       "       [-0.88682182],\n",
       "       [ 1.04599497]])"
      ]
     },
     "execution_count": 13,
     "metadata": {},
     "output_type": "execute_result"
    }
   ],
   "source": [
    "x_test[0:5]"
   ]
  },
  {
   "cell_type": "code",
   "execution_count": 14,
   "id": "170efac7-739e-4a42-a049-02d5647b47da",
   "metadata": {},
   "outputs": [],
   "source": [
    "y_train = sc.fit_transform(y_train)\n",
    "y_test = sc.fit_transform(y_test)"
   ]
  },
  {
   "cell_type": "code",
   "execution_count": 15,
   "id": "ea062839-c314-489d-b613-ab445a491530",
   "metadata": {},
   "outputs": [],
   "source": [
    "from sklearn.linear_model import LinearRegression\n",
    "lr = LinearRegression()"
   ]
  },
  {
   "cell_type": "code",
   "execution_count": 16,
   "id": "a0e5316a-571d-4dc2-bf9f-e369d61eef6f",
   "metadata": {},
   "outputs": [
    {
     "data": {
      "text/plain": [
       "LinearRegression()"
      ]
     },
     "execution_count": 16,
     "metadata": {},
     "output_type": "execute_result"
    }
   ],
   "source": [
    "lr.fit(x_train,y_train)"
   ]
  },
  {
   "cell_type": "code",
   "execution_count": 17,
   "id": "f1abbbe3-550c-4c25-a82e-34fd654e433f",
   "metadata": {},
   "outputs": [],
   "source": [
    "tahmin = lr.predict(x_test)"
   ]
  },
  {
   "cell_type": "code",
   "execution_count": 18,
   "id": "08d66db9-addb-4d14-91fb-88ac68a35e87",
   "metadata": {},
   "outputs": [
    {
     "data": {
      "text/plain": [
       "array([[-1.33324088],\n",
       "       [ 1.05398097],\n",
       "       [-0.65761206],\n",
       "       [-0.70265398],\n",
       "       [ 0.82877136],\n",
       "       [ 0.60356175],\n",
       "       [ 0.82877136],\n",
       "       [-0.70265398],\n",
       "       [-0.29727668],\n",
       "       [ 0.37835214]])"
      ]
     },
     "execution_count": 18,
     "metadata": {},
     "output_type": "execute_result"
    }
   ],
   "source": [
    "tahmin  # xtestten çıkan tahmin sonuçları  gerçek y_test değerleri ile bunları karşılaştırabiliriz"
   ]
  },
  {
   "cell_type": "code",
   "execution_count": 19,
   "id": "5d35b93a-3b35-42d0-b793-98d7cb0e0d0d",
   "metadata": {},
   "outputs": [
    {
     "data": {
      "text/plain": [
       "array([[-1.66597621],\n",
       "       [ 1.25819492],\n",
       "       [-0.99762385],\n",
       "       [-0.7856508 ],\n",
       "       [ 1.0709181 ],\n",
       "       [ 0.81055426],\n",
       "       [ 0.92122098],\n",
       "       [-1.04207705],\n",
       "       [-0.09933754],\n",
       "       [ 0.52977719]])"
      ]
     },
     "execution_count": 19,
     "metadata": {},
     "output_type": "execute_result"
    }
   ],
   "source": [
    "y_test  #bunlar gerçek değerler"
   ]
  },
  {
   "cell_type": "markdown",
   "id": "1e3f37f8-5970-43e0-89f6-00eda06f8789",
   "metadata": {},
   "source": [
    "Fit transform bölümünü yapmadan tekrar işlem yapınca sonuçları birebire görebilriiz"
   ]
  },
  {
   "cell_type": "code",
   "execution_count": 20,
   "id": "03c2aab8-b48e-4e70-bc24-16f763f9d4ad",
   "metadata": {},
   "outputs": [],
   "source": [
    "x_train , x_test , y_train , y_test = train_test_split(aylar,satislar,test_size =0.33,random_state = 0)"
   ]
  },
  {
   "cell_type": "code",
   "execution_count": 21,
   "id": "bcea6183-c99f-4746-b46a-a925b902ba34",
   "metadata": {},
   "outputs": [
    {
     "data": {
      "text/plain": [
       "LinearRegression()"
      ]
     },
     "execution_count": 21,
     "metadata": {},
     "output_type": "execute_result"
    }
   ],
   "source": [
    "from sklearn.linear_model import LinearRegression\n",
    "lr = LinearRegression()\n",
    "lr.fit(x_train,y_train)"
   ]
  },
  {
   "cell_type": "code",
   "execution_count": 22,
   "id": "95d9e0fd-755b-417a-adae-b420d77cfccd",
   "metadata": {},
   "outputs": [],
   "source": [
    "tahmin = lr.predict(x_test)"
   ]
  },
  {
   "cell_type": "code",
   "execution_count": 23,
   "id": "9a51c18f-8542-4287-8bf3-4196b92e6364",
   "metadata": {},
   "outputs": [
    {
     "data": {
      "text/plain": [
       "array([[20126.21865404],\n",
       "       [57740.29412655],\n",
       "       [30771.7117123 ],\n",
       "       [30062.01217508],\n",
       "       [54191.79644047],\n",
       "       [50643.29875438],\n",
       "       [54191.79644047],\n",
       "       [30062.01217508],\n",
       "       [36449.30801003],\n",
       "       [47094.80106829]])"
      ]
     },
     "execution_count": 23,
     "metadata": {},
     "output_type": "execute_result"
    }
   ],
   "source": [
    "tahmin  #burada dönüşüm yapmadan asıl orj değerleri görebiliriz"
   ]
  },
  {
   "cell_type": "code",
   "execution_count": 24,
   "id": "743d671f-b41f-423d-94da-f2f8235433d9",
   "metadata": {},
   "outputs": [
    {
     "data": {
      "text/html": [
       "<div>\n",
       "<style scoped>\n",
       "    .dataframe tbody tr th:only-of-type {\n",
       "        vertical-align: middle;\n",
       "    }\n",
       "\n",
       "    .dataframe tbody tr th {\n",
       "        vertical-align: top;\n",
       "    }\n",
       "\n",
       "    .dataframe thead th {\n",
       "        text-align: right;\n",
       "    }\n",
       "</style>\n",
       "<table border=\"1\" class=\"dataframe\">\n",
       "  <thead>\n",
       "    <tr style=\"text-align: right;\">\n",
       "      <th></th>\n",
       "      <th>Satislar</th>\n",
       "    </tr>\n",
       "  </thead>\n",
       "  <tbody>\n",
       "    <tr>\n",
       "      <th>2</th>\n",
       "      <td>18865.5</td>\n",
       "    </tr>\n",
       "    <tr>\n",
       "      <th>28</th>\n",
       "      <td>61195.5</td>\n",
       "    </tr>\n",
       "    <tr>\n",
       "      <th>13</th>\n",
       "      <td>28540.5</td>\n",
       "    </tr>\n",
       "    <tr>\n",
       "      <th>10</th>\n",
       "      <td>31609.0</td>\n",
       "    </tr>\n",
       "    <tr>\n",
       "      <th>26</th>\n",
       "      <td>58484.5</td>\n",
       "    </tr>\n",
       "    <tr>\n",
       "      <th>24</th>\n",
       "      <td>54715.5</td>\n",
       "    </tr>\n",
       "    <tr>\n",
       "      <th>27</th>\n",
       "      <td>56317.5</td>\n",
       "    </tr>\n",
       "    <tr>\n",
       "      <th>11</th>\n",
       "      <td>27897.0</td>\n",
       "    </tr>\n",
       "    <tr>\n",
       "      <th>17</th>\n",
       "      <td>41544.0</td>\n",
       "    </tr>\n",
       "    <tr>\n",
       "      <th>22</th>\n",
       "      <td>50651.0</td>\n",
       "    </tr>\n",
       "  </tbody>\n",
       "</table>\n",
       "</div>"
      ],
      "text/plain": [
       "    Satislar\n",
       "2    18865.5\n",
       "28   61195.5\n",
       "13   28540.5\n",
       "10   31609.0\n",
       "26   58484.5\n",
       "24   54715.5\n",
       "27   56317.5\n",
       "11   27897.0\n",
       "17   41544.0\n",
       "22   50651.0"
      ]
     },
     "execution_count": 24,
     "metadata": {},
     "output_type": "execute_result"
    }
   ],
   "source": [
    "y_test   #gerçek değerler"
   ]
  },
  {
   "cell_type": "markdown",
   "id": "555872c4-baa4-4f4c-bd0a-efc32e709a9a",
   "metadata": {},
   "source": [
    "Bu verileri görselleştirebiliriz"
   ]
  },
  {
   "cell_type": "code",
   "execution_count": 25,
   "id": "00b061b1-ef22-43ed-abde-0cb6557a10fe",
   "metadata": {},
   "outputs": [],
   "source": [
    "#verileri rastgele dağıtımız için sıralamamız gerekiyor"
   ]
  },
  {
   "cell_type": "code",
   "execution_count": 26,
   "id": "e4fd1d8c-4746-430b-90eb-ee195adc31bb",
   "metadata": {},
   "outputs": [],
   "source": [
    "x_train = x_train.sort_index()\n",
    "y_train = y_train.sort_index()"
   ]
  },
  {
   "cell_type": "code",
   "execution_count": 27,
   "id": "96855e26-c8c4-437f-91aa-950aec8f8132",
   "metadata": {},
   "outputs": [
    {
     "data": {
      "text/html": [
       "<div>\n",
       "<style scoped>\n",
       "    .dataframe tbody tr th:only-of-type {\n",
       "        vertical-align: middle;\n",
       "    }\n",
       "\n",
       "    .dataframe tbody tr th {\n",
       "        vertical-align: top;\n",
       "    }\n",
       "\n",
       "    .dataframe thead th {\n",
       "        text-align: right;\n",
       "    }\n",
       "</style>\n",
       "<table border=\"1\" class=\"dataframe\">\n",
       "  <thead>\n",
       "    <tr style=\"text-align: right;\">\n",
       "      <th></th>\n",
       "      <th>Aylar</th>\n",
       "    </tr>\n",
       "  </thead>\n",
       "  <tbody>\n",
       "    <tr>\n",
       "      <th>0</th>\n",
       "      <td>8</td>\n",
       "    </tr>\n",
       "    <tr>\n",
       "      <th>1</th>\n",
       "      <td>10</td>\n",
       "    </tr>\n",
       "    <tr>\n",
       "      <th>3</th>\n",
       "      <td>13</td>\n",
       "    </tr>\n",
       "    <tr>\n",
       "      <th>4</th>\n",
       "      <td>14</td>\n",
       "    </tr>\n",
       "    <tr>\n",
       "      <th>5</th>\n",
       "      <td>19</td>\n",
       "    </tr>\n",
       "    <tr>\n",
       "      <th>6</th>\n",
       "      <td>19</td>\n",
       "    </tr>\n",
       "    <tr>\n",
       "      <th>7</th>\n",
       "      <td>20</td>\n",
       "    </tr>\n",
       "    <tr>\n",
       "      <th>8</th>\n",
       "      <td>20</td>\n",
       "    </tr>\n",
       "    <tr>\n",
       "      <th>9</th>\n",
       "      <td>24</td>\n",
       "    </tr>\n",
       "    <tr>\n",
       "      <th>12</th>\n",
       "      <td>25</td>\n",
       "    </tr>\n",
       "    <tr>\n",
       "      <th>14</th>\n",
       "      <td>29</td>\n",
       "    </tr>\n",
       "    <tr>\n",
       "      <th>15</th>\n",
       "      <td>31</td>\n",
       "    </tr>\n",
       "    <tr>\n",
       "      <th>16</th>\n",
       "      <td>32</td>\n",
       "    </tr>\n",
       "    <tr>\n",
       "      <th>18</th>\n",
       "      <td>37</td>\n",
       "    </tr>\n",
       "    <tr>\n",
       "      <th>19</th>\n",
       "      <td>37</td>\n",
       "    </tr>\n",
       "    <tr>\n",
       "      <th>20</th>\n",
       "      <td>42</td>\n",
       "    </tr>\n",
       "    <tr>\n",
       "      <th>21</th>\n",
       "      <td>44</td>\n",
       "    </tr>\n",
       "    <tr>\n",
       "      <th>23</th>\n",
       "      <td>50</td>\n",
       "    </tr>\n",
       "    <tr>\n",
       "      <th>25</th>\n",
       "      <td>55</td>\n",
       "    </tr>\n",
       "    <tr>\n",
       "      <th>29</th>\n",
       "      <td>65</td>\n",
       "    </tr>\n",
       "  </tbody>\n",
       "</table>\n",
       "</div>"
      ],
      "text/plain": [
       "    Aylar\n",
       "0       8\n",
       "1      10\n",
       "3      13\n",
       "4      14\n",
       "5      19\n",
       "6      19\n",
       "7      20\n",
       "8      20\n",
       "9      24\n",
       "12     25\n",
       "14     29\n",
       "15     31\n",
       "16     32\n",
       "18     37\n",
       "19     37\n",
       "20     42\n",
       "21     44\n",
       "23     50\n",
       "25     55\n",
       "29     65"
      ]
     },
     "execution_count": 27,
     "metadata": {},
     "output_type": "execute_result"
    }
   ],
   "source": [
    "x_train"
   ]
  },
  {
   "cell_type": "code",
   "execution_count": 28,
   "id": "3e445472-203a-4c00-beb4-1ea206b407f8",
   "metadata": {},
   "outputs": [
    {
     "data": {
      "text/html": [
       "<div>\n",
       "<style scoped>\n",
       "    .dataframe tbody tr th:only-of-type {\n",
       "        vertical-align: middle;\n",
       "    }\n",
       "\n",
       "    .dataframe tbody tr th {\n",
       "        vertical-align: top;\n",
       "    }\n",
       "\n",
       "    .dataframe thead th {\n",
       "        text-align: right;\n",
       "    }\n",
       "</style>\n",
       "<table border=\"1\" class=\"dataframe\">\n",
       "  <thead>\n",
       "    <tr style=\"text-align: right;\">\n",
       "      <th></th>\n",
       "      <th>Satislar</th>\n",
       "    </tr>\n",
       "  </thead>\n",
       "  <tbody>\n",
       "    <tr>\n",
       "      <th>0</th>\n",
       "      <td>19671.5</td>\n",
       "    </tr>\n",
       "    <tr>\n",
       "      <th>1</th>\n",
       "      <td>23102.5</td>\n",
       "    </tr>\n",
       "    <tr>\n",
       "      <th>3</th>\n",
       "      <td>21762.5</td>\n",
       "    </tr>\n",
       "    <tr>\n",
       "      <th>4</th>\n",
       "      <td>19945.5</td>\n",
       "    </tr>\n",
       "    <tr>\n",
       "      <th>5</th>\n",
       "      <td>28321.0</td>\n",
       "    </tr>\n",
       "    <tr>\n",
       "      <th>6</th>\n",
       "      <td>30075.0</td>\n",
       "    </tr>\n",
       "    <tr>\n",
       "      <th>7</th>\n",
       "      <td>27222.5</td>\n",
       "    </tr>\n",
       "    <tr>\n",
       "      <th>8</th>\n",
       "      <td>32222.5</td>\n",
       "    </tr>\n",
       "    <tr>\n",
       "      <th>9</th>\n",
       "      <td>28594.5</td>\n",
       "    </tr>\n",
       "    <tr>\n",
       "      <th>12</th>\n",
       "      <td>28478.5</td>\n",
       "    </tr>\n",
       "    <tr>\n",
       "      <th>14</th>\n",
       "      <td>30555.5</td>\n",
       "    </tr>\n",
       "    <tr>\n",
       "      <th>15</th>\n",
       "      <td>33969.0</td>\n",
       "    </tr>\n",
       "    <tr>\n",
       "      <th>16</th>\n",
       "      <td>33014.5</td>\n",
       "    </tr>\n",
       "    <tr>\n",
       "      <th>18</th>\n",
       "      <td>40681.5</td>\n",
       "    </tr>\n",
       "    <tr>\n",
       "      <th>19</th>\n",
       "      <td>4697.0</td>\n",
       "    </tr>\n",
       "    <tr>\n",
       "      <th>20</th>\n",
       "      <td>45869.0</td>\n",
       "    </tr>\n",
       "    <tr>\n",
       "      <th>21</th>\n",
       "      <td>49136.5</td>\n",
       "    </tr>\n",
       "    <tr>\n",
       "      <th>23</th>\n",
       "      <td>56906.0</td>\n",
       "    </tr>\n",
       "    <tr>\n",
       "      <th>25</th>\n",
       "      <td>52791.0</td>\n",
       "    </tr>\n",
       "    <tr>\n",
       "      <th>29</th>\n",
       "      <td>60936.0</td>\n",
       "    </tr>\n",
       "  </tbody>\n",
       "</table>\n",
       "</div>"
      ],
      "text/plain": [
       "    Satislar\n",
       "0    19671.5\n",
       "1    23102.5\n",
       "3    21762.5\n",
       "4    19945.5\n",
       "5    28321.0\n",
       "6    30075.0\n",
       "7    27222.5\n",
       "8    32222.5\n",
       "9    28594.5\n",
       "12   28478.5\n",
       "14   30555.5\n",
       "15   33969.0\n",
       "16   33014.5\n",
       "18   40681.5\n",
       "19    4697.0\n",
       "20   45869.0\n",
       "21   49136.5\n",
       "23   56906.0\n",
       "25   52791.0\n",
       "29   60936.0"
      ]
     },
     "execution_count": 28,
     "metadata": {},
     "output_type": "execute_result"
    }
   ],
   "source": [
    "y_train"
   ]
  },
  {
   "cell_type": "code",
   "execution_count": 29,
   "id": "0bc8c3e1-32c7-41e7-bab4-7943345fe5aa",
   "metadata": {},
   "outputs": [],
   "source": [
    "# plt.plot(x_train,y_train)  hata veriyor sebebini çözemedim"
   ]
  },
  {
   "cell_type": "markdown",
   "id": "4c08703d-b0f0-41a0-b111-273dce6673f9",
   "metadata": {},
   "source": [
    "# Çoklu DOğrusal Regresyon"
   ]
  },
  {
   "cell_type": "code",
   "execution_count": 30,
   "id": "c0cfb51e-a213-4676-872c-134289546e13",
   "metadata": {},
   "outputs": [
    {
     "data": {
      "text/html": [
       "<div>\n",
       "<style scoped>\n",
       "    .dataframe tbody tr th:only-of-type {\n",
       "        vertical-align: middle;\n",
       "    }\n",
       "\n",
       "    .dataframe tbody tr th {\n",
       "        vertical-align: top;\n",
       "    }\n",
       "\n",
       "    .dataframe thead th {\n",
       "        text-align: right;\n",
       "    }\n",
       "</style>\n",
       "<table border=\"1\" class=\"dataframe\">\n",
       "  <thead>\n",
       "    <tr style=\"text-align: right;\">\n",
       "      <th></th>\n",
       "      <th>ulke</th>\n",
       "      <th>boy</th>\n",
       "      <th>kilo</th>\n",
       "      <th>yas</th>\n",
       "      <th>cinsiyet</th>\n",
       "    </tr>\n",
       "  </thead>\n",
       "  <tbody>\n",
       "    <tr>\n",
       "      <th>0</th>\n",
       "      <td>tr</td>\n",
       "      <td>130</td>\n",
       "      <td>30</td>\n",
       "      <td>10</td>\n",
       "      <td>e</td>\n",
       "    </tr>\n",
       "    <tr>\n",
       "      <th>1</th>\n",
       "      <td>tr</td>\n",
       "      <td>125</td>\n",
       "      <td>36</td>\n",
       "      <td>11</td>\n",
       "      <td>e</td>\n",
       "    </tr>\n",
       "    <tr>\n",
       "      <th>2</th>\n",
       "      <td>tr</td>\n",
       "      <td>135</td>\n",
       "      <td>34</td>\n",
       "      <td>10</td>\n",
       "      <td>k</td>\n",
       "    </tr>\n",
       "    <tr>\n",
       "      <th>3</th>\n",
       "      <td>tr</td>\n",
       "      <td>133</td>\n",
       "      <td>30</td>\n",
       "      <td>9</td>\n",
       "      <td>k</td>\n",
       "    </tr>\n",
       "    <tr>\n",
       "      <th>4</th>\n",
       "      <td>tr</td>\n",
       "      <td>129</td>\n",
       "      <td>38</td>\n",
       "      <td>12</td>\n",
       "      <td>e</td>\n",
       "    </tr>\n",
       "    <tr>\n",
       "      <th>5</th>\n",
       "      <td>tr</td>\n",
       "      <td>180</td>\n",
       "      <td>90</td>\n",
       "      <td>30</td>\n",
       "      <td>e</td>\n",
       "    </tr>\n",
       "    <tr>\n",
       "      <th>6</th>\n",
       "      <td>tr</td>\n",
       "      <td>190</td>\n",
       "      <td>80</td>\n",
       "      <td>25</td>\n",
       "      <td>e</td>\n",
       "    </tr>\n",
       "    <tr>\n",
       "      <th>7</th>\n",
       "      <td>tr</td>\n",
       "      <td>175</td>\n",
       "      <td>90</td>\n",
       "      <td>35</td>\n",
       "      <td>e</td>\n",
       "    </tr>\n",
       "    <tr>\n",
       "      <th>8</th>\n",
       "      <td>tr</td>\n",
       "      <td>177</td>\n",
       "      <td>60</td>\n",
       "      <td>22</td>\n",
       "      <td>k</td>\n",
       "    </tr>\n",
       "    <tr>\n",
       "      <th>9</th>\n",
       "      <td>us</td>\n",
       "      <td>185</td>\n",
       "      <td>105</td>\n",
       "      <td>33</td>\n",
       "      <td>e</td>\n",
       "    </tr>\n",
       "    <tr>\n",
       "      <th>10</th>\n",
       "      <td>us</td>\n",
       "      <td>165</td>\n",
       "      <td>55</td>\n",
       "      <td>27</td>\n",
       "      <td>k</td>\n",
       "    </tr>\n",
       "    <tr>\n",
       "      <th>11</th>\n",
       "      <td>us</td>\n",
       "      <td>155</td>\n",
       "      <td>50</td>\n",
       "      <td>44</td>\n",
       "      <td>k</td>\n",
       "    </tr>\n",
       "    <tr>\n",
       "      <th>12</th>\n",
       "      <td>us</td>\n",
       "      <td>160</td>\n",
       "      <td>58</td>\n",
       "      <td>39</td>\n",
       "      <td>k</td>\n",
       "    </tr>\n",
       "    <tr>\n",
       "      <th>13</th>\n",
       "      <td>us</td>\n",
       "      <td>162</td>\n",
       "      <td>59</td>\n",
       "      <td>41</td>\n",
       "      <td>k</td>\n",
       "    </tr>\n",
       "    <tr>\n",
       "      <th>14</th>\n",
       "      <td>us</td>\n",
       "      <td>167</td>\n",
       "      <td>62</td>\n",
       "      <td>55</td>\n",
       "      <td>k</td>\n",
       "    </tr>\n",
       "    <tr>\n",
       "      <th>15</th>\n",
       "      <td>fr</td>\n",
       "      <td>174</td>\n",
       "      <td>70</td>\n",
       "      <td>47</td>\n",
       "      <td>e</td>\n",
       "    </tr>\n",
       "    <tr>\n",
       "      <th>16</th>\n",
       "      <td>fr</td>\n",
       "      <td>193</td>\n",
       "      <td>90</td>\n",
       "      <td>23</td>\n",
       "      <td>e</td>\n",
       "    </tr>\n",
       "    <tr>\n",
       "      <th>17</th>\n",
       "      <td>fr</td>\n",
       "      <td>187</td>\n",
       "      <td>80</td>\n",
       "      <td>27</td>\n",
       "      <td>e</td>\n",
       "    </tr>\n",
       "    <tr>\n",
       "      <th>18</th>\n",
       "      <td>fr</td>\n",
       "      <td>183</td>\n",
       "      <td>88</td>\n",
       "      <td>28</td>\n",
       "      <td>e</td>\n",
       "    </tr>\n",
       "    <tr>\n",
       "      <th>19</th>\n",
       "      <td>fr</td>\n",
       "      <td>159</td>\n",
       "      <td>40</td>\n",
       "      <td>29</td>\n",
       "      <td>k</td>\n",
       "    </tr>\n",
       "    <tr>\n",
       "      <th>20</th>\n",
       "      <td>fr</td>\n",
       "      <td>164</td>\n",
       "      <td>66</td>\n",
       "      <td>32</td>\n",
       "      <td>k</td>\n",
       "    </tr>\n",
       "    <tr>\n",
       "      <th>21</th>\n",
       "      <td>fr</td>\n",
       "      <td>166</td>\n",
       "      <td>56</td>\n",
       "      <td>42</td>\n",
       "      <td>k</td>\n",
       "    </tr>\n",
       "  </tbody>\n",
       "</table>\n",
       "</div>"
      ],
      "text/plain": [
       "   ulke  boy  kilo  yas cinsiyet\n",
       "0    tr  130    30   10        e\n",
       "1    tr  125    36   11        e\n",
       "2    tr  135    34   10        k\n",
       "3    tr  133    30    9        k\n",
       "4    tr  129    38   12        e\n",
       "5    tr  180    90   30        e\n",
       "6    tr  190    80   25        e\n",
       "7    tr  175    90   35        e\n",
       "8    tr  177    60   22        k\n",
       "9    us  185   105   33        e\n",
       "10   us  165    55   27        k\n",
       "11   us  155    50   44        k\n",
       "12   us  160    58   39        k\n",
       "13   us  162    59   41        k\n",
       "14   us  167    62   55        k\n",
       "15   fr  174    70   47        e\n",
       "16   fr  193    90   23        e\n",
       "17   fr  187    80   27        e\n",
       "18   fr  183    88   28        e\n",
       "19   fr  159    40   29        k\n",
       "20   fr  164    66   32        k\n",
       "21   fr  166    56   42        k"
      ]
     },
     "execution_count": 30,
     "metadata": {},
     "output_type": "execute_result"
    }
   ],
   "source": [
    "veriler = pd.read_csv(\"veriler.csv\")\n",
    "veriler"
   ]
  },
  {
   "cell_type": "code",
   "execution_count": 31,
   "id": "616e3ff9-dda3-49ff-a37b-1949d6226c4a",
   "metadata": {},
   "outputs": [],
   "source": [
    "from sklearn import preprocessing"
   ]
  },
  {
   "cell_type": "code",
   "execution_count": 32,
   "id": "8e27b076-7c74-451d-a8d8-0f0cd92cc7b2",
   "metadata": {},
   "outputs": [],
   "source": [
    "le = preprocessing.LabelEncoder()"
   ]
  },
  {
   "cell_type": "code",
   "execution_count": 33,
   "id": "1aff6a3d-b863-4e40-a57f-babc5b9f8f21",
   "metadata": {},
   "outputs": [
    {
     "data": {
      "text/plain": [
       "array([[0., 1., 0.],\n",
       "       [0., 1., 0.],\n",
       "       [0., 1., 0.],\n",
       "       [0., 1., 0.],\n",
       "       [0., 1., 0.],\n",
       "       [0., 1., 0.],\n",
       "       [0., 1., 0.],\n",
       "       [0., 1., 0.],\n",
       "       [0., 1., 0.],\n",
       "       [0., 0., 1.],\n",
       "       [0., 0., 1.],\n",
       "       [0., 0., 1.],\n",
       "       [0., 0., 1.],\n",
       "       [0., 0., 1.],\n",
       "       [0., 0., 1.],\n",
       "       [1., 0., 0.],\n",
       "       [1., 0., 0.],\n",
       "       [1., 0., 0.],\n",
       "       [1., 0., 0.],\n",
       "       [1., 0., 0.],\n",
       "       [1., 0., 0.],\n",
       "       [1., 0., 0.]])"
      ]
     },
     "execution_count": 33,
     "metadata": {},
     "output_type": "execute_result"
    }
   ],
   "source": [
    "ulke = veriler.iloc[:,0:1].values\n",
    "from sklearn import preprocessing\n",
    "\n",
    "le = preprocessing.LabelEncoder()\n",
    "ulke[:,0] = le.fit_transform(veriler.iloc[:,0])\n",
    "ohe = preprocessing.OneHotEncoder()\n",
    "ulke = ohe.fit_transform(ulke).toarray()\n",
    "ulke"
   ]
  },
  {
   "cell_type": "code",
   "execution_count": 34,
   "id": "2eec13bb-0c28-401a-bee5-3755c7c805ed",
   "metadata": {},
   "outputs": [
    {
     "data": {
      "text/plain": [
       "array([[1., 0.],\n",
       "       [1., 0.],\n",
       "       [0., 1.],\n",
       "       [0., 1.],\n",
       "       [1., 0.],\n",
       "       [1., 0.],\n",
       "       [1., 0.],\n",
       "       [1., 0.],\n",
       "       [0., 1.],\n",
       "       [1., 0.],\n",
       "       [0., 1.],\n",
       "       [0., 1.],\n",
       "       [0., 1.],\n",
       "       [0., 1.],\n",
       "       [0., 1.],\n",
       "       [1., 0.],\n",
       "       [1., 0.],\n",
       "       [1., 0.],\n",
       "       [1., 0.],\n",
       "       [0., 1.],\n",
       "       [0., 1.],\n",
       "       [0., 1.]])"
      ]
     },
     "execution_count": 34,
     "metadata": {},
     "output_type": "execute_result"
    }
   ],
   "source": [
    "c = veriler.iloc[:,-1:].values\n",
    "c[:,-1] = le.fit_transform(veriler.iloc[:,-1])\n",
    "ohe = preprocessing.OneHotEncoder()\n",
    "c = ohe.fit_transform(c).toarray()\n",
    "c"
   ]
  },
  {
   "cell_type": "code",
   "execution_count": 35,
   "id": "7ab7ab5f-5ae2-4642-9724-0584c917accc",
   "metadata": {},
   "outputs": [],
   "source": [
    "yas = veriler[\"yas\"]\n",
    "kilo = veriler[\"kilo\"]\n",
    "boy = veriler[\"boy\"]"
   ]
  },
  {
   "cell_type": "code",
   "execution_count": 36,
   "id": "915feda5-582c-4b24-8fab-cef3ff340f8d",
   "metadata": {},
   "outputs": [],
   "source": [
    "sonuc = pd.DataFrame(data=ulke, index = range(22), columns = ['fr','tr','us'])\n",
    "sonuc2 = pd.DataFrame(data=yas, index = range(22), columns = ['yas'])\n",
    "cinsiyet = veriler.iloc[:,-1].values\n",
    "sonuc3 = pd.DataFrame(data = c[:,:1], index = range(22), columns = ['cinsiyet'])\n",
    "sonuc4 = pd.DataFrame(data=boy, index = range(22), columns = ['boy'])\n",
    "sonuc5 = pd.DataFrame(data=kilo, index = range(22), columns = ['kilo'])"
   ]
  },
  {
   "cell_type": "code",
   "execution_count": 37,
   "id": "f3eacb6f-6eb9-4a1d-8272-bb2a3225153b",
   "metadata": {},
   "outputs": [],
   "source": [
    "s=pd.concat([sonuc,sonuc2], axis=1)\n",
    "s2=pd.concat([s,sonuc3], axis=1)\n",
    "s3=pd.concat([s2,sonuc4], axis=1)\n",
    "s4 = pd.concat([s3,sonuc5],axis = 1)"
   ]
  },
  {
   "cell_type": "code",
   "execution_count": 38,
   "id": "79036dc6-757e-4c79-b494-29e8c9f46054",
   "metadata": {},
   "outputs": [
    {
     "data": {
      "text/html": [
       "<div>\n",
       "<style scoped>\n",
       "    .dataframe tbody tr th:only-of-type {\n",
       "        vertical-align: middle;\n",
       "    }\n",
       "\n",
       "    .dataframe tbody tr th {\n",
       "        vertical-align: top;\n",
       "    }\n",
       "\n",
       "    .dataframe thead th {\n",
       "        text-align: right;\n",
       "    }\n",
       "</style>\n",
       "<table border=\"1\" class=\"dataframe\">\n",
       "  <thead>\n",
       "    <tr style=\"text-align: right;\">\n",
       "      <th></th>\n",
       "      <th>fr</th>\n",
       "      <th>tr</th>\n",
       "      <th>us</th>\n",
       "      <th>yas</th>\n",
       "      <th>cinsiyet</th>\n",
       "      <th>boy</th>\n",
       "      <th>kilo</th>\n",
       "    </tr>\n",
       "  </thead>\n",
       "  <tbody>\n",
       "    <tr>\n",
       "      <th>0</th>\n",
       "      <td>0.0</td>\n",
       "      <td>1.0</td>\n",
       "      <td>0.0</td>\n",
       "      <td>10</td>\n",
       "      <td>1.0</td>\n",
       "      <td>130</td>\n",
       "      <td>30</td>\n",
       "    </tr>\n",
       "    <tr>\n",
       "      <th>1</th>\n",
       "      <td>0.0</td>\n",
       "      <td>1.0</td>\n",
       "      <td>0.0</td>\n",
       "      <td>11</td>\n",
       "      <td>1.0</td>\n",
       "      <td>125</td>\n",
       "      <td>36</td>\n",
       "    </tr>\n",
       "    <tr>\n",
       "      <th>2</th>\n",
       "      <td>0.0</td>\n",
       "      <td>1.0</td>\n",
       "      <td>0.0</td>\n",
       "      <td>10</td>\n",
       "      <td>0.0</td>\n",
       "      <td>135</td>\n",
       "      <td>34</td>\n",
       "    </tr>\n",
       "    <tr>\n",
       "      <th>3</th>\n",
       "      <td>0.0</td>\n",
       "      <td>1.0</td>\n",
       "      <td>0.0</td>\n",
       "      <td>9</td>\n",
       "      <td>0.0</td>\n",
       "      <td>133</td>\n",
       "      <td>30</td>\n",
       "    </tr>\n",
       "    <tr>\n",
       "      <th>4</th>\n",
       "      <td>0.0</td>\n",
       "      <td>1.0</td>\n",
       "      <td>0.0</td>\n",
       "      <td>12</td>\n",
       "      <td>1.0</td>\n",
       "      <td>129</td>\n",
       "      <td>38</td>\n",
       "    </tr>\n",
       "    <tr>\n",
       "      <th>5</th>\n",
       "      <td>0.0</td>\n",
       "      <td>1.0</td>\n",
       "      <td>0.0</td>\n",
       "      <td>30</td>\n",
       "      <td>1.0</td>\n",
       "      <td>180</td>\n",
       "      <td>90</td>\n",
       "    </tr>\n",
       "    <tr>\n",
       "      <th>6</th>\n",
       "      <td>0.0</td>\n",
       "      <td>1.0</td>\n",
       "      <td>0.0</td>\n",
       "      <td>25</td>\n",
       "      <td>1.0</td>\n",
       "      <td>190</td>\n",
       "      <td>80</td>\n",
       "    </tr>\n",
       "    <tr>\n",
       "      <th>7</th>\n",
       "      <td>0.0</td>\n",
       "      <td>1.0</td>\n",
       "      <td>0.0</td>\n",
       "      <td>35</td>\n",
       "      <td>1.0</td>\n",
       "      <td>175</td>\n",
       "      <td>90</td>\n",
       "    </tr>\n",
       "    <tr>\n",
       "      <th>8</th>\n",
       "      <td>0.0</td>\n",
       "      <td>1.0</td>\n",
       "      <td>0.0</td>\n",
       "      <td>22</td>\n",
       "      <td>0.0</td>\n",
       "      <td>177</td>\n",
       "      <td>60</td>\n",
       "    </tr>\n",
       "    <tr>\n",
       "      <th>9</th>\n",
       "      <td>0.0</td>\n",
       "      <td>0.0</td>\n",
       "      <td>1.0</td>\n",
       "      <td>33</td>\n",
       "      <td>1.0</td>\n",
       "      <td>185</td>\n",
       "      <td>105</td>\n",
       "    </tr>\n",
       "    <tr>\n",
       "      <th>10</th>\n",
       "      <td>0.0</td>\n",
       "      <td>0.0</td>\n",
       "      <td>1.0</td>\n",
       "      <td>27</td>\n",
       "      <td>0.0</td>\n",
       "      <td>165</td>\n",
       "      <td>55</td>\n",
       "    </tr>\n",
       "    <tr>\n",
       "      <th>11</th>\n",
       "      <td>0.0</td>\n",
       "      <td>0.0</td>\n",
       "      <td>1.0</td>\n",
       "      <td>44</td>\n",
       "      <td>0.0</td>\n",
       "      <td>155</td>\n",
       "      <td>50</td>\n",
       "    </tr>\n",
       "    <tr>\n",
       "      <th>12</th>\n",
       "      <td>0.0</td>\n",
       "      <td>0.0</td>\n",
       "      <td>1.0</td>\n",
       "      <td>39</td>\n",
       "      <td>0.0</td>\n",
       "      <td>160</td>\n",
       "      <td>58</td>\n",
       "    </tr>\n",
       "    <tr>\n",
       "      <th>13</th>\n",
       "      <td>0.0</td>\n",
       "      <td>0.0</td>\n",
       "      <td>1.0</td>\n",
       "      <td>41</td>\n",
       "      <td>0.0</td>\n",
       "      <td>162</td>\n",
       "      <td>59</td>\n",
       "    </tr>\n",
       "    <tr>\n",
       "      <th>14</th>\n",
       "      <td>0.0</td>\n",
       "      <td>0.0</td>\n",
       "      <td>1.0</td>\n",
       "      <td>55</td>\n",
       "      <td>0.0</td>\n",
       "      <td>167</td>\n",
       "      <td>62</td>\n",
       "    </tr>\n",
       "    <tr>\n",
       "      <th>15</th>\n",
       "      <td>1.0</td>\n",
       "      <td>0.0</td>\n",
       "      <td>0.0</td>\n",
       "      <td>47</td>\n",
       "      <td>1.0</td>\n",
       "      <td>174</td>\n",
       "      <td>70</td>\n",
       "    </tr>\n",
       "    <tr>\n",
       "      <th>16</th>\n",
       "      <td>1.0</td>\n",
       "      <td>0.0</td>\n",
       "      <td>0.0</td>\n",
       "      <td>23</td>\n",
       "      <td>1.0</td>\n",
       "      <td>193</td>\n",
       "      <td>90</td>\n",
       "    </tr>\n",
       "    <tr>\n",
       "      <th>17</th>\n",
       "      <td>1.0</td>\n",
       "      <td>0.0</td>\n",
       "      <td>0.0</td>\n",
       "      <td>27</td>\n",
       "      <td>1.0</td>\n",
       "      <td>187</td>\n",
       "      <td>80</td>\n",
       "    </tr>\n",
       "    <tr>\n",
       "      <th>18</th>\n",
       "      <td>1.0</td>\n",
       "      <td>0.0</td>\n",
       "      <td>0.0</td>\n",
       "      <td>28</td>\n",
       "      <td>1.0</td>\n",
       "      <td>183</td>\n",
       "      <td>88</td>\n",
       "    </tr>\n",
       "    <tr>\n",
       "      <th>19</th>\n",
       "      <td>1.0</td>\n",
       "      <td>0.0</td>\n",
       "      <td>0.0</td>\n",
       "      <td>29</td>\n",
       "      <td>0.0</td>\n",
       "      <td>159</td>\n",
       "      <td>40</td>\n",
       "    </tr>\n",
       "    <tr>\n",
       "      <th>20</th>\n",
       "      <td>1.0</td>\n",
       "      <td>0.0</td>\n",
       "      <td>0.0</td>\n",
       "      <td>32</td>\n",
       "      <td>0.0</td>\n",
       "      <td>164</td>\n",
       "      <td>66</td>\n",
       "    </tr>\n",
       "    <tr>\n",
       "      <th>21</th>\n",
       "      <td>1.0</td>\n",
       "      <td>0.0</td>\n",
       "      <td>0.0</td>\n",
       "      <td>42</td>\n",
       "      <td>0.0</td>\n",
       "      <td>166</td>\n",
       "      <td>56</td>\n",
       "    </tr>\n",
       "  </tbody>\n",
       "</table>\n",
       "</div>"
      ],
      "text/plain": [
       "     fr   tr   us  yas  cinsiyet  boy  kilo\n",
       "0   0.0  1.0  0.0   10       1.0  130    30\n",
       "1   0.0  1.0  0.0   11       1.0  125    36\n",
       "2   0.0  1.0  0.0   10       0.0  135    34\n",
       "3   0.0  1.0  0.0    9       0.0  133    30\n",
       "4   0.0  1.0  0.0   12       1.0  129    38\n",
       "5   0.0  1.0  0.0   30       1.0  180    90\n",
       "6   0.0  1.0  0.0   25       1.0  190    80\n",
       "7   0.0  1.0  0.0   35       1.0  175    90\n",
       "8   0.0  1.0  0.0   22       0.0  177    60\n",
       "9   0.0  0.0  1.0   33       1.0  185   105\n",
       "10  0.0  0.0  1.0   27       0.0  165    55\n",
       "11  0.0  0.0  1.0   44       0.0  155    50\n",
       "12  0.0  0.0  1.0   39       0.0  160    58\n",
       "13  0.0  0.0  1.0   41       0.0  162    59\n",
       "14  0.0  0.0  1.0   55       0.0  167    62\n",
       "15  1.0  0.0  0.0   47       1.0  174    70\n",
       "16  1.0  0.0  0.0   23       1.0  193    90\n",
       "17  1.0  0.0  0.0   27       1.0  187    80\n",
       "18  1.0  0.0  0.0   28       1.0  183    88\n",
       "19  1.0  0.0  0.0   29       0.0  159    40\n",
       "20  1.0  0.0  0.0   32       0.0  164    66\n",
       "21  1.0  0.0  0.0   42       0.0  166    56"
      ]
     },
     "execution_count": 38,
     "metadata": {},
     "output_type": "execute_result"
    }
   ],
   "source": [
    "s4"
   ]
  },
  {
   "cell_type": "code",
   "execution_count": 39,
   "id": "4928e568-e18b-4140-b3c9-4ccc7022d845",
   "metadata": {},
   "outputs": [
    {
     "data": {
      "text/plain": [
       "LinearRegression()"
      ]
     },
     "execution_count": 39,
     "metadata": {},
     "output_type": "execute_result"
    }
   ],
   "source": [
    "regressor = LinearRegression()\n",
    "regressor.fit(x_train,y_train)"
   ]
  },
  {
   "cell_type": "code",
   "execution_count": 40,
   "id": "d0aefb17-1c36-4f7e-8513-321316244f80",
   "metadata": {},
   "outputs": [],
   "source": [
    "y_pred =regressor.predict(x_test)"
   ]
  },
  {
   "cell_type": "code",
   "execution_count": 41,
   "id": "37a31fa8-c527-439a-9e22-8aa56693b06c",
   "metadata": {},
   "outputs": [
    {
     "data": {
      "text/plain": [
       "array([[20126.21865404],\n",
       "       [57740.29412655],\n",
       "       [30771.7117123 ],\n",
       "       [30062.01217508],\n",
       "       [54191.79644047],\n",
       "       [50643.29875438],\n",
       "       [54191.79644047],\n",
       "       [30062.01217508],\n",
       "       [36449.30801003],\n",
       "       [47094.80106829]])"
      ]
     },
     "execution_count": 41,
     "metadata": {},
     "output_type": "execute_result"
    }
   ],
   "source": [
    "y_pred "
   ]
  },
  {
   "cell_type": "code",
   "execution_count": 42,
   "id": "543630d8-d33a-4996-9a13-d6986fc83c06",
   "metadata": {},
   "outputs": [
    {
     "data": {
      "text/html": [
       "<div>\n",
       "<style scoped>\n",
       "    .dataframe tbody tr th:only-of-type {\n",
       "        vertical-align: middle;\n",
       "    }\n",
       "\n",
       "    .dataframe tbody tr th {\n",
       "        vertical-align: top;\n",
       "    }\n",
       "\n",
       "    .dataframe thead th {\n",
       "        text-align: right;\n",
       "    }\n",
       "</style>\n",
       "<table border=\"1\" class=\"dataframe\">\n",
       "  <thead>\n",
       "    <tr style=\"text-align: right;\">\n",
       "      <th></th>\n",
       "      <th>Satislar</th>\n",
       "    </tr>\n",
       "  </thead>\n",
       "  <tbody>\n",
       "    <tr>\n",
       "      <th>2</th>\n",
       "      <td>18865.5</td>\n",
       "    </tr>\n",
       "    <tr>\n",
       "      <th>28</th>\n",
       "      <td>61195.5</td>\n",
       "    </tr>\n",
       "    <tr>\n",
       "      <th>13</th>\n",
       "      <td>28540.5</td>\n",
       "    </tr>\n",
       "    <tr>\n",
       "      <th>10</th>\n",
       "      <td>31609.0</td>\n",
       "    </tr>\n",
       "    <tr>\n",
       "      <th>26</th>\n",
       "      <td>58484.5</td>\n",
       "    </tr>\n",
       "    <tr>\n",
       "      <th>24</th>\n",
       "      <td>54715.5</td>\n",
       "    </tr>\n",
       "    <tr>\n",
       "      <th>27</th>\n",
       "      <td>56317.5</td>\n",
       "    </tr>\n",
       "    <tr>\n",
       "      <th>11</th>\n",
       "      <td>27897.0</td>\n",
       "    </tr>\n",
       "    <tr>\n",
       "      <th>17</th>\n",
       "      <td>41544.0</td>\n",
       "    </tr>\n",
       "    <tr>\n",
       "      <th>22</th>\n",
       "      <td>50651.0</td>\n",
       "    </tr>\n",
       "  </tbody>\n",
       "</table>\n",
       "</div>"
      ],
      "text/plain": [
       "    Satislar\n",
       "2    18865.5\n",
       "28   61195.5\n",
       "13   28540.5\n",
       "10   31609.0\n",
       "26   58484.5\n",
       "24   54715.5\n",
       "27   56317.5\n",
       "11   27897.0\n",
       "17   41544.0\n",
       "22   50651.0"
      ]
     },
     "execution_count": 42,
     "metadata": {},
     "output_type": "execute_result"
    }
   ],
   "source": [
    "y_test"
   ]
  },
  {
   "cell_type": "code",
   "execution_count": 43,
   "id": "7d72bc3e-c831-4626-a9df-3500c771900a",
   "metadata": {},
   "outputs": [],
   "source": [
    "# 2 tane hatalı veri var diğerlerini doğru kabul edebiliriz"
   ]
  },
  {
   "cell_type": "code",
   "execution_count": 44,
   "id": "7ff9b398-2be5-40d8-b15d-1302bf09a349",
   "metadata": {},
   "outputs": [
    {
     "data": {
      "text/html": [
       "<div>\n",
       "<style scoped>\n",
       "    .dataframe tbody tr th:only-of-type {\n",
       "        vertical-align: middle;\n",
       "    }\n",
       "\n",
       "    .dataframe tbody tr th {\n",
       "        vertical-align: top;\n",
       "    }\n",
       "\n",
       "    .dataframe thead th {\n",
       "        text-align: right;\n",
       "    }\n",
       "</style>\n",
       "<table border=\"1\" class=\"dataframe\">\n",
       "  <thead>\n",
       "    <tr style=\"text-align: right;\">\n",
       "      <th></th>\n",
       "      <th>fr</th>\n",
       "      <th>tr</th>\n",
       "      <th>us</th>\n",
       "      <th>yas</th>\n",
       "      <th>cinsiyet</th>\n",
       "      <th>boy</th>\n",
       "      <th>kilo</th>\n",
       "    </tr>\n",
       "  </thead>\n",
       "  <tbody>\n",
       "    <tr>\n",
       "      <th>0</th>\n",
       "      <td>0.0</td>\n",
       "      <td>1.0</td>\n",
       "      <td>0.0</td>\n",
       "      <td>10</td>\n",
       "      <td>1.0</td>\n",
       "      <td>130</td>\n",
       "      <td>30</td>\n",
       "    </tr>\n",
       "    <tr>\n",
       "      <th>1</th>\n",
       "      <td>0.0</td>\n",
       "      <td>1.0</td>\n",
       "      <td>0.0</td>\n",
       "      <td>11</td>\n",
       "      <td>1.0</td>\n",
       "      <td>125</td>\n",
       "      <td>36</td>\n",
       "    </tr>\n",
       "    <tr>\n",
       "      <th>2</th>\n",
       "      <td>0.0</td>\n",
       "      <td>1.0</td>\n",
       "      <td>0.0</td>\n",
       "      <td>10</td>\n",
       "      <td>0.0</td>\n",
       "      <td>135</td>\n",
       "      <td>34</td>\n",
       "    </tr>\n",
       "    <tr>\n",
       "      <th>3</th>\n",
       "      <td>0.0</td>\n",
       "      <td>1.0</td>\n",
       "      <td>0.0</td>\n",
       "      <td>9</td>\n",
       "      <td>0.0</td>\n",
       "      <td>133</td>\n",
       "      <td>30</td>\n",
       "    </tr>\n",
       "    <tr>\n",
       "      <th>4</th>\n",
       "      <td>0.0</td>\n",
       "      <td>1.0</td>\n",
       "      <td>0.0</td>\n",
       "      <td>12</td>\n",
       "      <td>1.0</td>\n",
       "      <td>129</td>\n",
       "      <td>38</td>\n",
       "    </tr>\n",
       "    <tr>\n",
       "      <th>5</th>\n",
       "      <td>0.0</td>\n",
       "      <td>1.0</td>\n",
       "      <td>0.0</td>\n",
       "      <td>30</td>\n",
       "      <td>1.0</td>\n",
       "      <td>180</td>\n",
       "      <td>90</td>\n",
       "    </tr>\n",
       "    <tr>\n",
       "      <th>6</th>\n",
       "      <td>0.0</td>\n",
       "      <td>1.0</td>\n",
       "      <td>0.0</td>\n",
       "      <td>25</td>\n",
       "      <td>1.0</td>\n",
       "      <td>190</td>\n",
       "      <td>80</td>\n",
       "    </tr>\n",
       "    <tr>\n",
       "      <th>7</th>\n",
       "      <td>0.0</td>\n",
       "      <td>1.0</td>\n",
       "      <td>0.0</td>\n",
       "      <td>35</td>\n",
       "      <td>1.0</td>\n",
       "      <td>175</td>\n",
       "      <td>90</td>\n",
       "    </tr>\n",
       "    <tr>\n",
       "      <th>8</th>\n",
       "      <td>0.0</td>\n",
       "      <td>1.0</td>\n",
       "      <td>0.0</td>\n",
       "      <td>22</td>\n",
       "      <td>0.0</td>\n",
       "      <td>177</td>\n",
       "      <td>60</td>\n",
       "    </tr>\n",
       "    <tr>\n",
       "      <th>9</th>\n",
       "      <td>0.0</td>\n",
       "      <td>0.0</td>\n",
       "      <td>1.0</td>\n",
       "      <td>33</td>\n",
       "      <td>1.0</td>\n",
       "      <td>185</td>\n",
       "      <td>105</td>\n",
       "    </tr>\n",
       "    <tr>\n",
       "      <th>10</th>\n",
       "      <td>0.0</td>\n",
       "      <td>0.0</td>\n",
       "      <td>1.0</td>\n",
       "      <td>27</td>\n",
       "      <td>0.0</td>\n",
       "      <td>165</td>\n",
       "      <td>55</td>\n",
       "    </tr>\n",
       "    <tr>\n",
       "      <th>11</th>\n",
       "      <td>0.0</td>\n",
       "      <td>0.0</td>\n",
       "      <td>1.0</td>\n",
       "      <td>44</td>\n",
       "      <td>0.0</td>\n",
       "      <td>155</td>\n",
       "      <td>50</td>\n",
       "    </tr>\n",
       "    <tr>\n",
       "      <th>12</th>\n",
       "      <td>0.0</td>\n",
       "      <td>0.0</td>\n",
       "      <td>1.0</td>\n",
       "      <td>39</td>\n",
       "      <td>0.0</td>\n",
       "      <td>160</td>\n",
       "      <td>58</td>\n",
       "    </tr>\n",
       "    <tr>\n",
       "      <th>13</th>\n",
       "      <td>0.0</td>\n",
       "      <td>0.0</td>\n",
       "      <td>1.0</td>\n",
       "      <td>41</td>\n",
       "      <td>0.0</td>\n",
       "      <td>162</td>\n",
       "      <td>59</td>\n",
       "    </tr>\n",
       "    <tr>\n",
       "      <th>14</th>\n",
       "      <td>0.0</td>\n",
       "      <td>0.0</td>\n",
       "      <td>1.0</td>\n",
       "      <td>55</td>\n",
       "      <td>0.0</td>\n",
       "      <td>167</td>\n",
       "      <td>62</td>\n",
       "    </tr>\n",
       "    <tr>\n",
       "      <th>15</th>\n",
       "      <td>1.0</td>\n",
       "      <td>0.0</td>\n",
       "      <td>0.0</td>\n",
       "      <td>47</td>\n",
       "      <td>1.0</td>\n",
       "      <td>174</td>\n",
       "      <td>70</td>\n",
       "    </tr>\n",
       "    <tr>\n",
       "      <th>16</th>\n",
       "      <td>1.0</td>\n",
       "      <td>0.0</td>\n",
       "      <td>0.0</td>\n",
       "      <td>23</td>\n",
       "      <td>1.0</td>\n",
       "      <td>193</td>\n",
       "      <td>90</td>\n",
       "    </tr>\n",
       "    <tr>\n",
       "      <th>17</th>\n",
       "      <td>1.0</td>\n",
       "      <td>0.0</td>\n",
       "      <td>0.0</td>\n",
       "      <td>27</td>\n",
       "      <td>1.0</td>\n",
       "      <td>187</td>\n",
       "      <td>80</td>\n",
       "    </tr>\n",
       "    <tr>\n",
       "      <th>18</th>\n",
       "      <td>1.0</td>\n",
       "      <td>0.0</td>\n",
       "      <td>0.0</td>\n",
       "      <td>28</td>\n",
       "      <td>1.0</td>\n",
       "      <td>183</td>\n",
       "      <td>88</td>\n",
       "    </tr>\n",
       "    <tr>\n",
       "      <th>19</th>\n",
       "      <td>1.0</td>\n",
       "      <td>0.0</td>\n",
       "      <td>0.0</td>\n",
       "      <td>29</td>\n",
       "      <td>0.0</td>\n",
       "      <td>159</td>\n",
       "      <td>40</td>\n",
       "    </tr>\n",
       "    <tr>\n",
       "      <th>20</th>\n",
       "      <td>1.0</td>\n",
       "      <td>0.0</td>\n",
       "      <td>0.0</td>\n",
       "      <td>32</td>\n",
       "      <td>0.0</td>\n",
       "      <td>164</td>\n",
       "      <td>66</td>\n",
       "    </tr>\n",
       "    <tr>\n",
       "      <th>21</th>\n",
       "      <td>1.0</td>\n",
       "      <td>0.0</td>\n",
       "      <td>0.0</td>\n",
       "      <td>42</td>\n",
       "      <td>0.0</td>\n",
       "      <td>166</td>\n",
       "      <td>56</td>\n",
       "    </tr>\n",
       "  </tbody>\n",
       "</table>\n",
       "</div>"
      ],
      "text/plain": [
       "     fr   tr   us  yas  cinsiyet  boy  kilo\n",
       "0   0.0  1.0  0.0   10       1.0  130    30\n",
       "1   0.0  1.0  0.0   11       1.0  125    36\n",
       "2   0.0  1.0  0.0   10       0.0  135    34\n",
       "3   0.0  1.0  0.0    9       0.0  133    30\n",
       "4   0.0  1.0  0.0   12       1.0  129    38\n",
       "5   0.0  1.0  0.0   30       1.0  180    90\n",
       "6   0.0  1.0  0.0   25       1.0  190    80\n",
       "7   0.0  1.0  0.0   35       1.0  175    90\n",
       "8   0.0  1.0  0.0   22       0.0  177    60\n",
       "9   0.0  0.0  1.0   33       1.0  185   105\n",
       "10  0.0  0.0  1.0   27       0.0  165    55\n",
       "11  0.0  0.0  1.0   44       0.0  155    50\n",
       "12  0.0  0.0  1.0   39       0.0  160    58\n",
       "13  0.0  0.0  1.0   41       0.0  162    59\n",
       "14  0.0  0.0  1.0   55       0.0  167    62\n",
       "15  1.0  0.0  0.0   47       1.0  174    70\n",
       "16  1.0  0.0  0.0   23       1.0  193    90\n",
       "17  1.0  0.0  0.0   27       1.0  187    80\n",
       "18  1.0  0.0  0.0   28       1.0  183    88\n",
       "19  1.0  0.0  0.0   29       0.0  159    40\n",
       "20  1.0  0.0  0.0   32       0.0  164    66\n",
       "21  1.0  0.0  0.0   42       0.0  166    56"
      ]
     },
     "execution_count": 44,
     "metadata": {},
     "output_type": "execute_result"
    }
   ],
   "source": [
    "s4"
   ]
  },
  {
   "cell_type": "code",
   "execution_count": 45,
   "id": "0ab2c1b4-5018-4173-abde-a7d685aec0c8",
   "metadata": {},
   "outputs": [
    {
     "data": {
      "text/html": [
       "<div>\n",
       "<style scoped>\n",
       "    .dataframe tbody tr th:only-of-type {\n",
       "        vertical-align: middle;\n",
       "    }\n",
       "\n",
       "    .dataframe tbody tr th {\n",
       "        vertical-align: top;\n",
       "    }\n",
       "\n",
       "    .dataframe thead th {\n",
       "        text-align: right;\n",
       "    }\n",
       "</style>\n",
       "<table border=\"1\" class=\"dataframe\">\n",
       "  <thead>\n",
       "    <tr style=\"text-align: right;\">\n",
       "      <th></th>\n",
       "      <th>fr</th>\n",
       "      <th>tr</th>\n",
       "      <th>us</th>\n",
       "      <th>yas</th>\n",
       "      <th>cinsiyet</th>\n",
       "      <th>kilo</th>\n",
       "    </tr>\n",
       "  </thead>\n",
       "  <tbody>\n",
       "    <tr>\n",
       "      <th>0</th>\n",
       "      <td>0.0</td>\n",
       "      <td>1.0</td>\n",
       "      <td>0.0</td>\n",
       "      <td>10</td>\n",
       "      <td>1.0</td>\n",
       "      <td>30</td>\n",
       "    </tr>\n",
       "    <tr>\n",
       "      <th>1</th>\n",
       "      <td>0.0</td>\n",
       "      <td>1.0</td>\n",
       "      <td>0.0</td>\n",
       "      <td>11</td>\n",
       "      <td>1.0</td>\n",
       "      <td>36</td>\n",
       "    </tr>\n",
       "    <tr>\n",
       "      <th>2</th>\n",
       "      <td>0.0</td>\n",
       "      <td>1.0</td>\n",
       "      <td>0.0</td>\n",
       "      <td>10</td>\n",
       "      <td>0.0</td>\n",
       "      <td>34</td>\n",
       "    </tr>\n",
       "    <tr>\n",
       "      <th>3</th>\n",
       "      <td>0.0</td>\n",
       "      <td>1.0</td>\n",
       "      <td>0.0</td>\n",
       "      <td>9</td>\n",
       "      <td>0.0</td>\n",
       "      <td>30</td>\n",
       "    </tr>\n",
       "    <tr>\n",
       "      <th>4</th>\n",
       "      <td>0.0</td>\n",
       "      <td>1.0</td>\n",
       "      <td>0.0</td>\n",
       "      <td>12</td>\n",
       "      <td>1.0</td>\n",
       "      <td>38</td>\n",
       "    </tr>\n",
       "    <tr>\n",
       "      <th>5</th>\n",
       "      <td>0.0</td>\n",
       "      <td>1.0</td>\n",
       "      <td>0.0</td>\n",
       "      <td>30</td>\n",
       "      <td>1.0</td>\n",
       "      <td>90</td>\n",
       "    </tr>\n",
       "    <tr>\n",
       "      <th>6</th>\n",
       "      <td>0.0</td>\n",
       "      <td>1.0</td>\n",
       "      <td>0.0</td>\n",
       "      <td>25</td>\n",
       "      <td>1.0</td>\n",
       "      <td>80</td>\n",
       "    </tr>\n",
       "    <tr>\n",
       "      <th>7</th>\n",
       "      <td>0.0</td>\n",
       "      <td>1.0</td>\n",
       "      <td>0.0</td>\n",
       "      <td>35</td>\n",
       "      <td>1.0</td>\n",
       "      <td>90</td>\n",
       "    </tr>\n",
       "    <tr>\n",
       "      <th>8</th>\n",
       "      <td>0.0</td>\n",
       "      <td>1.0</td>\n",
       "      <td>0.0</td>\n",
       "      <td>22</td>\n",
       "      <td>0.0</td>\n",
       "      <td>60</td>\n",
       "    </tr>\n",
       "    <tr>\n",
       "      <th>9</th>\n",
       "      <td>0.0</td>\n",
       "      <td>0.0</td>\n",
       "      <td>1.0</td>\n",
       "      <td>33</td>\n",
       "      <td>1.0</td>\n",
       "      <td>105</td>\n",
       "    </tr>\n",
       "    <tr>\n",
       "      <th>10</th>\n",
       "      <td>0.0</td>\n",
       "      <td>0.0</td>\n",
       "      <td>1.0</td>\n",
       "      <td>27</td>\n",
       "      <td>0.0</td>\n",
       "      <td>55</td>\n",
       "    </tr>\n",
       "    <tr>\n",
       "      <th>11</th>\n",
       "      <td>0.0</td>\n",
       "      <td>0.0</td>\n",
       "      <td>1.0</td>\n",
       "      <td>44</td>\n",
       "      <td>0.0</td>\n",
       "      <td>50</td>\n",
       "    </tr>\n",
       "    <tr>\n",
       "      <th>12</th>\n",
       "      <td>0.0</td>\n",
       "      <td>0.0</td>\n",
       "      <td>1.0</td>\n",
       "      <td>39</td>\n",
       "      <td>0.0</td>\n",
       "      <td>58</td>\n",
       "    </tr>\n",
       "    <tr>\n",
       "      <th>13</th>\n",
       "      <td>0.0</td>\n",
       "      <td>0.0</td>\n",
       "      <td>1.0</td>\n",
       "      <td>41</td>\n",
       "      <td>0.0</td>\n",
       "      <td>59</td>\n",
       "    </tr>\n",
       "    <tr>\n",
       "      <th>14</th>\n",
       "      <td>0.0</td>\n",
       "      <td>0.0</td>\n",
       "      <td>1.0</td>\n",
       "      <td>55</td>\n",
       "      <td>0.0</td>\n",
       "      <td>62</td>\n",
       "    </tr>\n",
       "    <tr>\n",
       "      <th>15</th>\n",
       "      <td>1.0</td>\n",
       "      <td>0.0</td>\n",
       "      <td>0.0</td>\n",
       "      <td>47</td>\n",
       "      <td>1.0</td>\n",
       "      <td>70</td>\n",
       "    </tr>\n",
       "    <tr>\n",
       "      <th>16</th>\n",
       "      <td>1.0</td>\n",
       "      <td>0.0</td>\n",
       "      <td>0.0</td>\n",
       "      <td>23</td>\n",
       "      <td>1.0</td>\n",
       "      <td>90</td>\n",
       "    </tr>\n",
       "    <tr>\n",
       "      <th>17</th>\n",
       "      <td>1.0</td>\n",
       "      <td>0.0</td>\n",
       "      <td>0.0</td>\n",
       "      <td>27</td>\n",
       "      <td>1.0</td>\n",
       "      <td>80</td>\n",
       "    </tr>\n",
       "    <tr>\n",
       "      <th>18</th>\n",
       "      <td>1.0</td>\n",
       "      <td>0.0</td>\n",
       "      <td>0.0</td>\n",
       "      <td>28</td>\n",
       "      <td>1.0</td>\n",
       "      <td>88</td>\n",
       "    </tr>\n",
       "    <tr>\n",
       "      <th>19</th>\n",
       "      <td>1.0</td>\n",
       "      <td>0.0</td>\n",
       "      <td>0.0</td>\n",
       "      <td>29</td>\n",
       "      <td>0.0</td>\n",
       "      <td>40</td>\n",
       "    </tr>\n",
       "    <tr>\n",
       "      <th>20</th>\n",
       "      <td>1.0</td>\n",
       "      <td>0.0</td>\n",
       "      <td>0.0</td>\n",
       "      <td>32</td>\n",
       "      <td>0.0</td>\n",
       "      <td>66</td>\n",
       "    </tr>\n",
       "    <tr>\n",
       "      <th>21</th>\n",
       "      <td>1.0</td>\n",
       "      <td>0.0</td>\n",
       "      <td>0.0</td>\n",
       "      <td>42</td>\n",
       "      <td>0.0</td>\n",
       "      <td>56</td>\n",
       "    </tr>\n",
       "  </tbody>\n",
       "</table>\n",
       "</div>"
      ],
      "text/plain": [
       "     fr   tr   us  yas  cinsiyet  kilo\n",
       "0   0.0  1.0  0.0   10       1.0    30\n",
       "1   0.0  1.0  0.0   11       1.0    36\n",
       "2   0.0  1.0  0.0   10       0.0    34\n",
       "3   0.0  1.0  0.0    9       0.0    30\n",
       "4   0.0  1.0  0.0   12       1.0    38\n",
       "5   0.0  1.0  0.0   30       1.0    90\n",
       "6   0.0  1.0  0.0   25       1.0    80\n",
       "7   0.0  1.0  0.0   35       1.0    90\n",
       "8   0.0  1.0  0.0   22       0.0    60\n",
       "9   0.0  0.0  1.0   33       1.0   105\n",
       "10  0.0  0.0  1.0   27       0.0    55\n",
       "11  0.0  0.0  1.0   44       0.0    50\n",
       "12  0.0  0.0  1.0   39       0.0    58\n",
       "13  0.0  0.0  1.0   41       0.0    59\n",
       "14  0.0  0.0  1.0   55       0.0    62\n",
       "15  1.0  0.0  0.0   47       1.0    70\n",
       "16  1.0  0.0  0.0   23       1.0    90\n",
       "17  1.0  0.0  0.0   27       1.0    80\n",
       "18  1.0  0.0  0.0   28       1.0    88\n",
       "19  1.0  0.0  0.0   29       0.0    40\n",
       "20  1.0  0.0  0.0   32       0.0    66\n",
       "21  1.0  0.0  0.0   42       0.0    56"
      ]
     },
     "execution_count": 45,
     "metadata": {},
     "output_type": "execute_result"
    }
   ],
   "source": [
    "sol = s4.iloc[:,:5]\n",
    "sag = s4.iloc[:,-1:]\n",
    "veri = pd.concat([sol,sag],axis = 1)\n",
    "veri  #boy olmayan bir veri oluşturduk\n"
   ]
  },
  {
   "cell_type": "code",
   "execution_count": 46,
   "id": "7234b9c7-e2ef-433c-8256-428f41a9a0e9",
   "metadata": {},
   "outputs": [],
   "source": [
    "x_train, x_test,y_train,y_test = train_test_split(veri,boy,test_size = 0.33,random_state = 0)"
   ]
  },
  {
   "cell_type": "code",
   "execution_count": 47,
   "id": "cf062de0-8d0a-4452-ada9-787a7e53a0c4",
   "metadata": {},
   "outputs": [],
   "source": [
    "r2 = LinearRegression()\n",
    "r2.fit(x_train,y_train)\n",
    "y_pred = r2.predict(x_test)"
   ]
  },
  {
   "cell_type": "code",
   "execution_count": 48,
   "id": "8a16e2e8-dd86-4aa8-adfc-c0c7132077d9",
   "metadata": {},
   "outputs": [
    {
     "data": {
      "text/html": [
       "<div>\n",
       "<style scoped>\n",
       "    .dataframe tbody tr th:only-of-type {\n",
       "        vertical-align: middle;\n",
       "    }\n",
       "\n",
       "    .dataframe tbody tr th {\n",
       "        vertical-align: top;\n",
       "    }\n",
       "\n",
       "    .dataframe thead th {\n",
       "        text-align: right;\n",
       "    }\n",
       "</style>\n",
       "<table border=\"1\" class=\"dataframe\">\n",
       "  <thead>\n",
       "    <tr style=\"text-align: right;\">\n",
       "      <th></th>\n",
       "      <th>fr</th>\n",
       "      <th>tr</th>\n",
       "      <th>us</th>\n",
       "      <th>yas</th>\n",
       "      <th>cinsiyet</th>\n",
       "      <th>kilo</th>\n",
       "    </tr>\n",
       "  </thead>\n",
       "  <tbody>\n",
       "    <tr>\n",
       "      <th>20</th>\n",
       "      <td>1.0</td>\n",
       "      <td>0.0</td>\n",
       "      <td>0.0</td>\n",
       "      <td>32</td>\n",
       "      <td>0.0</td>\n",
       "      <td>66</td>\n",
       "    </tr>\n",
       "    <tr>\n",
       "      <th>10</th>\n",
       "      <td>0.0</td>\n",
       "      <td>0.0</td>\n",
       "      <td>1.0</td>\n",
       "      <td>27</td>\n",
       "      <td>0.0</td>\n",
       "      <td>55</td>\n",
       "    </tr>\n",
       "    <tr>\n",
       "      <th>14</th>\n",
       "      <td>0.0</td>\n",
       "      <td>0.0</td>\n",
       "      <td>1.0</td>\n",
       "      <td>55</td>\n",
       "      <td>0.0</td>\n",
       "      <td>62</td>\n",
       "    </tr>\n",
       "    <tr>\n",
       "      <th>13</th>\n",
       "      <td>0.0</td>\n",
       "      <td>0.0</td>\n",
       "      <td>1.0</td>\n",
       "      <td>41</td>\n",
       "      <td>0.0</td>\n",
       "      <td>59</td>\n",
       "    </tr>\n",
       "    <tr>\n",
       "      <th>1</th>\n",
       "      <td>0.0</td>\n",
       "      <td>1.0</td>\n",
       "      <td>0.0</td>\n",
       "      <td>11</td>\n",
       "      <td>1.0</td>\n",
       "      <td>36</td>\n",
       "    </tr>\n",
       "    <tr>\n",
       "      <th>21</th>\n",
       "      <td>1.0</td>\n",
       "      <td>0.0</td>\n",
       "      <td>0.0</td>\n",
       "      <td>42</td>\n",
       "      <td>0.0</td>\n",
       "      <td>56</td>\n",
       "    </tr>\n",
       "    <tr>\n",
       "      <th>11</th>\n",
       "      <td>0.0</td>\n",
       "      <td>0.0</td>\n",
       "      <td>1.0</td>\n",
       "      <td>44</td>\n",
       "      <td>0.0</td>\n",
       "      <td>50</td>\n",
       "    </tr>\n",
       "    <tr>\n",
       "      <th>19</th>\n",
       "      <td>1.0</td>\n",
       "      <td>0.0</td>\n",
       "      <td>0.0</td>\n",
       "      <td>29</td>\n",
       "      <td>0.0</td>\n",
       "      <td>40</td>\n",
       "    </tr>\n",
       "  </tbody>\n",
       "</table>\n",
       "</div>"
      ],
      "text/plain": [
       "     fr   tr   us  yas  cinsiyet  kilo\n",
       "20  1.0  0.0  0.0   32       0.0    66\n",
       "10  0.0  0.0  1.0   27       0.0    55\n",
       "14  0.0  0.0  1.0   55       0.0    62\n",
       "13  0.0  0.0  1.0   41       0.0    59\n",
       "1   0.0  1.0  0.0   11       1.0    36\n",
       "21  1.0  0.0  0.0   42       0.0    56\n",
       "11  0.0  0.0  1.0   44       0.0    50\n",
       "19  1.0  0.0  0.0   29       0.0    40"
      ]
     },
     "execution_count": 48,
     "metadata": {},
     "output_type": "execute_result"
    }
   ],
   "source": [
    "x_test  #tahmin edilen veri"
   ]
  },
  {
   "cell_type": "code",
   "execution_count": 49,
   "id": "c68b0daf-3150-4e54-b219-ddccd4426cfe",
   "metadata": {},
   "outputs": [
    {
     "data": {
      "text/plain": [
       "20    164\n",
       "10    165\n",
       "14    167\n",
       "13    162\n",
       "1     125\n",
       "21    166\n",
       "11    155\n",
       "19    159\n",
       "Name: boy, dtype: int64"
      ]
     },
     "execution_count": 49,
     "metadata": {},
     "output_type": "execute_result"
    }
   ],
   "source": [
    "y_test #gerçek değerler"
   ]
  },
  {
   "cell_type": "code",
   "execution_count": 50,
   "id": "611ca8ac-41a7-4281-988e-426c9ed75f2c",
   "metadata": {},
   "outputs": [
    {
     "data": {
      "text/plain": [
       "array([182.26638686, 152.87161474, 162.79386375, 158.30668577,\n",
       "       130.82888952, 173.96138408, 150.12782663, 157.26898922])"
      ]
     },
     "execution_count": 50,
     "metadata": {},
     "output_type": "execute_result"
    }
   ],
   "source": [
    "y_pred  #tahmin edilenler"
   ]
  },
  {
   "cell_type": "code",
   "execution_count": 51,
   "id": "53b1a05a-aa28-435c-9f63-59e58d3510b6",
   "metadata": {},
   "outputs": [],
   "source": [
    "#veriler oldukça yakın tahmin edilmiş mükemmel değil fakat iş görür"
   ]
  },
  {
   "cell_type": "code",
   "execution_count": 52,
   "id": "724803be-b187-4704-b4b4-d6e744fadccb",
   "metadata": {},
   "outputs": [],
   "source": [
    "import statsmodels.api as sm\n",
    "X = np.append(arr = np.ones((22,1)).astype(int),values = veri,axis = 1) #dizinin başına 1 den oluşan kolon ekledik\n",
    "X_l = veri.iloc[:,[0,1,2,3,4,5]].values #bunu yapma sebebi eleme yaparken bazı kolonları çıkartabilmek\n",
    "X_l = np.array(X_l,dtype =float)\n",
    "model = sm.OLS(boy,X_l).fit()"
   ]
  },
  {
   "cell_type": "code",
   "execution_count": 53,
   "id": "c3ade0e8-9e7b-417c-84cb-8d04d92a5231",
   "metadata": {},
   "outputs": [
    {
     "data": {
      "text/html": [
       "<table class=\"simpletable\">\n",
       "<caption>OLS Regression Results</caption>\n",
       "<tr>\n",
       "  <th>Dep. Variable:</th>           <td>boy</td>       <th>  R-squared:         </th> <td>   0.885</td>\n",
       "</tr>\n",
       "<tr>\n",
       "  <th>Model:</th>                   <td>OLS</td>       <th>  Adj. R-squared:    </th> <td>   0.849</td>\n",
       "</tr>\n",
       "<tr>\n",
       "  <th>Method:</th>             <td>Least Squares</td>  <th>  F-statistic:       </th> <td>   24.69</td>\n",
       "</tr>\n",
       "<tr>\n",
       "  <th>Date:</th>             <td>Wed, 27 Jul 2022</td> <th>  Prob (F-statistic):</th> <td>5.41e-07</td>\n",
       "</tr>\n",
       "<tr>\n",
       "  <th>Time:</th>                 <td>04:26:42</td>     <th>  Log-Likelihood:    </th> <td> -73.950</td>\n",
       "</tr>\n",
       "<tr>\n",
       "  <th>No. Observations:</th>      <td>    22</td>      <th>  AIC:               </th> <td>   159.9</td>\n",
       "</tr>\n",
       "<tr>\n",
       "  <th>Df Residuals:</th>          <td>    16</td>      <th>  BIC:               </th> <td>   166.4</td>\n",
       "</tr>\n",
       "<tr>\n",
       "  <th>Df Model:</th>              <td>     5</td>      <th>                     </th>     <td> </td>   \n",
       "</tr>\n",
       "<tr>\n",
       "  <th>Covariance Type:</th>      <td>nonrobust</td>    <th>                     </th>     <td> </td>   \n",
       "</tr>\n",
       "</table>\n",
       "<table class=\"simpletable\">\n",
       "<tr>\n",
       "   <td></td>     <th>coef</th>     <th>std err</th>      <th>t</th>      <th>P>|t|</th>  <th>[0.025</th>    <th>0.975]</th>  \n",
       "</tr>\n",
       "<tr>\n",
       "  <th>x1</th> <td>  114.0688</td> <td>    8.145</td> <td>   14.005</td> <td> 0.000</td> <td>   96.802</td> <td>  131.335</td>\n",
       "</tr>\n",
       "<tr>\n",
       "  <th>x2</th> <td>  108.3030</td> <td>    5.736</td> <td>   18.880</td> <td> 0.000</td> <td>   96.143</td> <td>  120.463</td>\n",
       "</tr>\n",
       "<tr>\n",
       "  <th>x3</th> <td>  104.4714</td> <td>    9.195</td> <td>   11.361</td> <td> 0.000</td> <td>   84.978</td> <td>  123.964</td>\n",
       "</tr>\n",
       "<tr>\n",
       "  <th>x4</th> <td>    0.0814</td> <td>    0.221</td> <td>    0.369</td> <td> 0.717</td> <td>   -0.386</td> <td>    0.549</td>\n",
       "</tr>\n",
       "<tr>\n",
       "  <th>x5</th> <td>  -10.5980</td> <td>    5.052</td> <td>   -2.098</td> <td> 0.052</td> <td>  -21.308</td> <td>    0.112</td>\n",
       "</tr>\n",
       "<tr>\n",
       "  <th>x6</th> <td>    0.9211</td> <td>    0.119</td> <td>    7.737</td> <td> 0.000</td> <td>    0.669</td> <td>    1.174</td>\n",
       "</tr>\n",
       "</table>\n",
       "<table class=\"simpletable\">\n",
       "<tr>\n",
       "  <th>Omnibus:</th>       <td> 1.031</td> <th>  Durbin-Watson:     </th> <td>   2.759</td>\n",
       "</tr>\n",
       "<tr>\n",
       "  <th>Prob(Omnibus):</th> <td> 0.597</td> <th>  Jarque-Bera (JB):  </th> <td>   0.624</td>\n",
       "</tr>\n",
       "<tr>\n",
       "  <th>Skew:</th>          <td> 0.407</td> <th>  Prob(JB):          </th> <td>   0.732</td>\n",
       "</tr>\n",
       "<tr>\n",
       "  <th>Kurtosis:</th>      <td> 2.863</td> <th>  Cond. No.          </th> <td>    524.</td>\n",
       "</tr>\n",
       "</table><br/><br/>Notes:<br/>[1] Standard Errors assume that the covariance matrix of the errors is correctly specified."
      ],
      "text/plain": [
       "<class 'statsmodels.iolib.summary.Summary'>\n",
       "\"\"\"\n",
       "                            OLS Regression Results                            \n",
       "==============================================================================\n",
       "Dep. Variable:                    boy   R-squared:                       0.885\n",
       "Model:                            OLS   Adj. R-squared:                  0.849\n",
       "Method:                 Least Squares   F-statistic:                     24.69\n",
       "Date:                Wed, 27 Jul 2022   Prob (F-statistic):           5.41e-07\n",
       "Time:                        04:26:42   Log-Likelihood:                -73.950\n",
       "No. Observations:                  22   AIC:                             159.9\n",
       "Df Residuals:                      16   BIC:                             166.4\n",
       "Df Model:                           5                                         \n",
       "Covariance Type:            nonrobust                                         \n",
       "==============================================================================\n",
       "                 coef    std err          t      P>|t|      [0.025      0.975]\n",
       "------------------------------------------------------------------------------\n",
       "x1           114.0688      8.145     14.005      0.000      96.802     131.335\n",
       "x2           108.3030      5.736     18.880      0.000      96.143     120.463\n",
       "x3           104.4714      9.195     11.361      0.000      84.978     123.964\n",
       "x4             0.0814      0.221      0.369      0.717      -0.386       0.549\n",
       "x5           -10.5980      5.052     -2.098      0.052     -21.308       0.112\n",
       "x6             0.9211      0.119      7.737      0.000       0.669       1.174\n",
       "==============================================================================\n",
       "Omnibus:                        1.031   Durbin-Watson:                   2.759\n",
       "Prob(Omnibus):                  0.597   Jarque-Bera (JB):                0.624\n",
       "Skew:                           0.407   Prob(JB):                        0.732\n",
       "Kurtosis:                       2.863   Cond. No.                         524.\n",
       "==============================================================================\n",
       "\n",
       "Notes:\n",
       "[1] Standard Errors assume that the covariance matrix of the errors is correctly specified.\n",
       "\"\"\""
      ]
     },
     "execution_count": 53,
     "metadata": {},
     "output_type": "execute_result"
    }
   ],
   "source": [
    "model.summary()  #yukarıdaki tüm olay bu tabloyu çıkarabilmek için"
   ]
  },
  {
   "cell_type": "markdown",
   "id": "266b2b7c-f420-4a5f-8860-e1ef55747286",
   "metadata": {},
   "source": [
    "P değeri ne kadar düşükse o kadar iyi burada en yüksek p değerini eleriz"
   ]
  },
  {
   "cell_type": "code",
   "execution_count": 54,
   "id": "eb201409-4b52-44c6-81b2-4bbc3ecf79cf",
   "metadata": {},
   "outputs": [
    {
     "data": {
      "text/html": [
       "<table class=\"simpletable\">\n",
       "<caption>OLS Regression Results</caption>\n",
       "<tr>\n",
       "  <th>Dep. Variable:</th>           <td>boy</td>       <th>  R-squared:         </th> <td>   0.854</td>\n",
       "</tr>\n",
       "<tr>\n",
       "  <th>Model:</th>                   <td>OLS</td>       <th>  Adj. R-squared:    </th> <td>   0.819</td>\n",
       "</tr>\n",
       "<tr>\n",
       "  <th>Method:</th>             <td>Least Squares</td>  <th>  F-statistic:       </th> <td>   24.80</td>\n",
       "</tr>\n",
       "<tr>\n",
       "  <th>Date:</th>             <td>Wed, 27 Jul 2022</td> <th>  Prob (F-statistic):</th> <td>6.63e-07</td>\n",
       "</tr>\n",
       "<tr>\n",
       "  <th>Time:</th>                 <td>04:26:42</td>     <th>  Log-Likelihood:    </th> <td> -76.623</td>\n",
       "</tr>\n",
       "<tr>\n",
       "  <th>No. Observations:</th>      <td>    22</td>      <th>  AIC:               </th> <td>   163.2</td>\n",
       "</tr>\n",
       "<tr>\n",
       "  <th>Df Residuals:</th>          <td>    17</td>      <th>  BIC:               </th> <td>   168.7</td>\n",
       "</tr>\n",
       "<tr>\n",
       "  <th>Df Model:</th>              <td>     4</td>      <th>                     </th>     <td> </td>   \n",
       "</tr>\n",
       "<tr>\n",
       "  <th>Covariance Type:</th>      <td>nonrobust</td>    <th>                     </th>     <td> </td>   \n",
       "</tr>\n",
       "</table>\n",
       "<table class=\"simpletable\">\n",
       "<tr>\n",
       "   <td></td>     <th>coef</th>     <th>std err</th>      <th>t</th>      <th>P>|t|</th>  <th>[0.025</th>    <th>0.975]</th>  \n",
       "</tr>\n",
       "<tr>\n",
       "  <th>x1</th> <td>  115.2550</td> <td>    8.901</td> <td>   12.949</td> <td> 0.000</td> <td>   96.476</td> <td>  134.034</td>\n",
       "</tr>\n",
       "<tr>\n",
       "  <th>x2</th> <td>  107.7369</td> <td>    6.277</td> <td>   17.164</td> <td> 0.000</td> <td>   94.494</td> <td>  120.980</td>\n",
       "</tr>\n",
       "<tr>\n",
       "  <th>x3</th> <td>  108.1858</td> <td>    9.884</td> <td>   10.945</td> <td> 0.000</td> <td>   87.331</td> <td>  129.040</td>\n",
       "</tr>\n",
       "<tr>\n",
       "  <th>x4</th> <td>    0.2083</td> <td>    0.232</td> <td>    0.896</td> <td> 0.383</td> <td>   -0.282</td> <td>    0.698</td>\n",
       "</tr>\n",
       "<tr>\n",
       "  <th>x5</th> <td>    0.7586</td> <td>    0.099</td> <td>    7.660</td> <td> 0.000</td> <td>    0.550</td> <td>    0.968</td>\n",
       "</tr>\n",
       "</table>\n",
       "<table class=\"simpletable\">\n",
       "<tr>\n",
       "  <th>Omnibus:</th>       <td> 3.252</td> <th>  Durbin-Watson:     </th> <td>   2.976</td>\n",
       "</tr>\n",
       "<tr>\n",
       "  <th>Prob(Omnibus):</th> <td> 0.197</td> <th>  Jarque-Bera (JB):  </th> <td>   1.976</td>\n",
       "</tr>\n",
       "<tr>\n",
       "  <th>Skew:</th>          <td> 0.727</td> <th>  Prob(JB):          </th> <td>   0.372</td>\n",
       "</tr>\n",
       "<tr>\n",
       "  <th>Kurtosis:</th>      <td> 3.200</td> <th>  Cond. No.          </th> <td>    520.</td>\n",
       "</tr>\n",
       "</table><br/><br/>Notes:<br/>[1] Standard Errors assume that the covariance matrix of the errors is correctly specified."
      ],
      "text/plain": [
       "<class 'statsmodels.iolib.summary.Summary'>\n",
       "\"\"\"\n",
       "                            OLS Regression Results                            \n",
       "==============================================================================\n",
       "Dep. Variable:                    boy   R-squared:                       0.854\n",
       "Model:                            OLS   Adj. R-squared:                  0.819\n",
       "Method:                 Least Squares   F-statistic:                     24.80\n",
       "Date:                Wed, 27 Jul 2022   Prob (F-statistic):           6.63e-07\n",
       "Time:                        04:26:42   Log-Likelihood:                -76.623\n",
       "No. Observations:                  22   AIC:                             163.2\n",
       "Df Residuals:                      17   BIC:                             168.7\n",
       "Df Model:                           4                                         \n",
       "Covariance Type:            nonrobust                                         \n",
       "==============================================================================\n",
       "                 coef    std err          t      P>|t|      [0.025      0.975]\n",
       "------------------------------------------------------------------------------\n",
       "x1           115.2550      8.901     12.949      0.000      96.476     134.034\n",
       "x2           107.7369      6.277     17.164      0.000      94.494     120.980\n",
       "x3           108.1858      9.884     10.945      0.000      87.331     129.040\n",
       "x4             0.2083      0.232      0.896      0.383      -0.282       0.698\n",
       "x5             0.7586      0.099      7.660      0.000       0.550       0.968\n",
       "==============================================================================\n",
       "Omnibus:                        3.252   Durbin-Watson:                   2.976\n",
       "Prob(Omnibus):                  0.197   Jarque-Bera (JB):                1.976\n",
       "Skew:                           0.727   Prob(JB):                        0.372\n",
       "Kurtosis:                       3.200   Cond. No.                         520.\n",
       "==============================================================================\n",
       "\n",
       "Notes:\n",
       "[1] Standard Errors assume that the covariance matrix of the errors is correctly specified.\n",
       "\"\"\""
      ]
     },
     "execution_count": 54,
     "metadata": {},
     "output_type": "execute_result"
    }
   ],
   "source": [
    "\n",
    "X_l = veri.iloc[:,[0,1,2,3,5]].values #b5. elamanı eledik\n",
    "X_l = np.array(X_l,dtype =float)\n",
    "model = sm.OLS(boy,X_l).fit()\n",
    "model.summary()"
   ]
  },
  {
   "cell_type": "code",
   "execution_count": 55,
   "id": "d14cb437-9b61-47c8-a37b-10bfa64f4f6c",
   "metadata": {},
   "outputs": [
    {
     "data": {
      "text/html": [
       "<table class=\"simpletable\">\n",
       "<caption>OLS Regression Results</caption>\n",
       "<tr>\n",
       "  <th>Dep. Variable:</th>           <td>boy</td>       <th>  R-squared:         </th> <td>   0.349</td>\n",
       "</tr>\n",
       "<tr>\n",
       "  <th>Model:</th>                   <td>OLS</td>       <th>  Adj. R-squared:    </th> <td>   0.240</td>\n",
       "</tr>\n",
       "<tr>\n",
       "  <th>Method:</th>             <td>Least Squares</td>  <th>  F-statistic:       </th> <td>   3.212</td>\n",
       "</tr>\n",
       "<tr>\n",
       "  <th>Date:</th>             <td>Wed, 27 Jul 2022</td> <th>  Prob (F-statistic):</th>  <td>0.0477</td> \n",
       "</tr>\n",
       "<tr>\n",
       "  <th>Time:</th>                 <td>04:26:42</td>     <th>  Log-Likelihood:    </th> <td> -93.049</td>\n",
       "</tr>\n",
       "<tr>\n",
       "  <th>No. Observations:</th>      <td>    22</td>      <th>  AIC:               </th> <td>   194.1</td>\n",
       "</tr>\n",
       "<tr>\n",
       "  <th>Df Residuals:</th>          <td>    18</td>      <th>  BIC:               </th> <td>   198.5</td>\n",
       "</tr>\n",
       "<tr>\n",
       "  <th>Df Model:</th>              <td>     3</td>      <th>                     </th>     <td> </td>   \n",
       "</tr>\n",
       "<tr>\n",
       "  <th>Covariance Type:</th>      <td>nonrobust</td>    <th>                     </th>     <td> </td>   \n",
       "</tr>\n",
       "</table>\n",
       "<table class=\"simpletable\">\n",
       "<tr>\n",
       "   <td></td>     <th>coef</th>     <th>std err</th>      <th>t</th>      <th>P>|t|</th>  <th>[0.025</th>    <th>0.975]</th>  \n",
       "</tr>\n",
       "<tr>\n",
       "  <th>x1</th> <td>  147.5989</td> <td>   16.066</td> <td>    9.187</td> <td> 0.000</td> <td>  113.845</td> <td>  181.353</td>\n",
       "</tr>\n",
       "<tr>\n",
       "  <th>x2</th> <td>  137.2571</td> <td>   10.159</td> <td>   13.511</td> <td> 0.000</td> <td>  115.914</td> <td>  158.600</td>\n",
       "</tr>\n",
       "<tr>\n",
       "  <th>x3</th> <td>  131.9817</td> <td>   19.241</td> <td>    6.860</td> <td> 0.000</td> <td>   91.559</td> <td>  172.405</td>\n",
       "</tr>\n",
       "<tr>\n",
       "  <th>x4</th> <td>    0.8456</td> <td>    0.445</td> <td>    1.901</td> <td> 0.073</td> <td>   -0.089</td> <td>    1.780</td>\n",
       "</tr>\n",
       "</table>\n",
       "<table class=\"simpletable\">\n",
       "<tr>\n",
       "  <th>Omnibus:</th>       <td> 5.576</td> <th>  Durbin-Watson:     </th> <td>   0.936</td>\n",
       "</tr>\n",
       "<tr>\n",
       "  <th>Prob(Omnibus):</th> <td> 0.062</td> <th>  Jarque-Bera (JB):  </th> <td>   2.350</td>\n",
       "</tr>\n",
       "<tr>\n",
       "  <th>Skew:</th>          <td> 0.483</td> <th>  Prob(JB):          </th> <td>   0.309</td>\n",
       "</tr>\n",
       "<tr>\n",
       "  <th>Kurtosis:</th>      <td> 1.724</td> <th>  Cond. No.          </th> <td>    203.</td>\n",
       "</tr>\n",
       "</table><br/><br/>Notes:<br/>[1] Standard Errors assume that the covariance matrix of the errors is correctly specified."
      ],
      "text/plain": [
       "<class 'statsmodels.iolib.summary.Summary'>\n",
       "\"\"\"\n",
       "                            OLS Regression Results                            \n",
       "==============================================================================\n",
       "Dep. Variable:                    boy   R-squared:                       0.349\n",
       "Model:                            OLS   Adj. R-squared:                  0.240\n",
       "Method:                 Least Squares   F-statistic:                     3.212\n",
       "Date:                Wed, 27 Jul 2022   Prob (F-statistic):             0.0477\n",
       "Time:                        04:26:42   Log-Likelihood:                -93.049\n",
       "No. Observations:                  22   AIC:                             194.1\n",
       "Df Residuals:                      18   BIC:                             198.5\n",
       "Df Model:                           3                                         \n",
       "Covariance Type:            nonrobust                                         \n",
       "==============================================================================\n",
       "                 coef    std err          t      P>|t|      [0.025      0.975]\n",
       "------------------------------------------------------------------------------\n",
       "x1           147.5989     16.066      9.187      0.000     113.845     181.353\n",
       "x2           137.2571     10.159     13.511      0.000     115.914     158.600\n",
       "x3           131.9817     19.241      6.860      0.000      91.559     172.405\n",
       "x4             0.8456      0.445      1.901      0.073      -0.089       1.780\n",
       "==============================================================================\n",
       "Omnibus:                        5.576   Durbin-Watson:                   0.936\n",
       "Prob(Omnibus):                  0.062   Jarque-Bera (JB):                2.350\n",
       "Skew:                           0.483   Prob(JB):                        0.309\n",
       "Kurtosis:                       1.724   Cond. No.                         203.\n",
       "==============================================================================\n",
       "\n",
       "Notes:\n",
       "[1] Standard Errors assume that the covariance matrix of the errors is correctly specified.\n",
       "\"\"\""
      ]
     },
     "execution_count": 55,
     "metadata": {},
     "output_type": "execute_result"
    }
   ],
   "source": [
    "X_l = veri.iloc[:,[0,1,2,3]].values #b5. elamanı eledik\n",
    "X_l = np.array(X_l,dtype =float)\n",
    "model = sm.OLS(boy,X_l).fit()\n",
    "model.summary()"
   ]
  },
  {
   "cell_type": "markdown",
   "id": "bd25ce5c-05a5-4bae-b1c2-5381becdb1fa",
   "metadata": {},
   "source": [
    "# Ödevin çözümü"
   ]
  },
  {
   "cell_type": "code",
   "execution_count": 56,
   "id": "bfc4f370-53c9-4e94-b577-9cbebdf91901",
   "metadata": {},
   "outputs": [],
   "source": [
    "veriler = pd.read_csv(\"odev_tenis.csv\")"
   ]
  },
  {
   "cell_type": "code",
   "execution_count": 57,
   "id": "387c57ce-54f6-4c9f-8965-94ce4e76fe40",
   "metadata": {},
   "outputs": [
    {
     "data": {
      "text/html": [
       "<div>\n",
       "<style scoped>\n",
       "    .dataframe tbody tr th:only-of-type {\n",
       "        vertical-align: middle;\n",
       "    }\n",
       "\n",
       "    .dataframe tbody tr th {\n",
       "        vertical-align: top;\n",
       "    }\n",
       "\n",
       "    .dataframe thead th {\n",
       "        text-align: right;\n",
       "    }\n",
       "</style>\n",
       "<table border=\"1\" class=\"dataframe\">\n",
       "  <thead>\n",
       "    <tr style=\"text-align: right;\">\n",
       "      <th></th>\n",
       "      <th>outlook</th>\n",
       "      <th>temperature</th>\n",
       "      <th>humidity</th>\n",
       "      <th>windy</th>\n",
       "      <th>play</th>\n",
       "    </tr>\n",
       "  </thead>\n",
       "  <tbody>\n",
       "    <tr>\n",
       "      <th>0</th>\n",
       "      <td>sunny</td>\n",
       "      <td>85</td>\n",
       "      <td>85</td>\n",
       "      <td>False</td>\n",
       "      <td>no</td>\n",
       "    </tr>\n",
       "    <tr>\n",
       "      <th>1</th>\n",
       "      <td>sunny</td>\n",
       "      <td>80</td>\n",
       "      <td>90</td>\n",
       "      <td>True</td>\n",
       "      <td>no</td>\n",
       "    </tr>\n",
       "    <tr>\n",
       "      <th>2</th>\n",
       "      <td>overcast</td>\n",
       "      <td>83</td>\n",
       "      <td>86</td>\n",
       "      <td>False</td>\n",
       "      <td>yes</td>\n",
       "    </tr>\n",
       "    <tr>\n",
       "      <th>3</th>\n",
       "      <td>rainy</td>\n",
       "      <td>70</td>\n",
       "      <td>96</td>\n",
       "      <td>False</td>\n",
       "      <td>yes</td>\n",
       "    </tr>\n",
       "    <tr>\n",
       "      <th>4</th>\n",
       "      <td>rainy</td>\n",
       "      <td>68</td>\n",
       "      <td>80</td>\n",
       "      <td>False</td>\n",
       "      <td>yes</td>\n",
       "    </tr>\n",
       "    <tr>\n",
       "      <th>5</th>\n",
       "      <td>rainy</td>\n",
       "      <td>65</td>\n",
       "      <td>70</td>\n",
       "      <td>True</td>\n",
       "      <td>no</td>\n",
       "    </tr>\n",
       "    <tr>\n",
       "      <th>6</th>\n",
       "      <td>overcast</td>\n",
       "      <td>64</td>\n",
       "      <td>65</td>\n",
       "      <td>True</td>\n",
       "      <td>yes</td>\n",
       "    </tr>\n",
       "    <tr>\n",
       "      <th>7</th>\n",
       "      <td>sunny</td>\n",
       "      <td>72</td>\n",
       "      <td>95</td>\n",
       "      <td>False</td>\n",
       "      <td>no</td>\n",
       "    </tr>\n",
       "    <tr>\n",
       "      <th>8</th>\n",
       "      <td>sunny</td>\n",
       "      <td>69</td>\n",
       "      <td>70</td>\n",
       "      <td>False</td>\n",
       "      <td>yes</td>\n",
       "    </tr>\n",
       "    <tr>\n",
       "      <th>9</th>\n",
       "      <td>rainy</td>\n",
       "      <td>75</td>\n",
       "      <td>80</td>\n",
       "      <td>False</td>\n",
       "      <td>yes</td>\n",
       "    </tr>\n",
       "    <tr>\n",
       "      <th>10</th>\n",
       "      <td>sunny</td>\n",
       "      <td>75</td>\n",
       "      <td>70</td>\n",
       "      <td>True</td>\n",
       "      <td>yes</td>\n",
       "    </tr>\n",
       "    <tr>\n",
       "      <th>11</th>\n",
       "      <td>overcast</td>\n",
       "      <td>72</td>\n",
       "      <td>90</td>\n",
       "      <td>True</td>\n",
       "      <td>yes</td>\n",
       "    </tr>\n",
       "    <tr>\n",
       "      <th>12</th>\n",
       "      <td>overcast</td>\n",
       "      <td>81</td>\n",
       "      <td>75</td>\n",
       "      <td>False</td>\n",
       "      <td>yes</td>\n",
       "    </tr>\n",
       "    <tr>\n",
       "      <th>13</th>\n",
       "      <td>rainy</td>\n",
       "      <td>71</td>\n",
       "      <td>91</td>\n",
       "      <td>True</td>\n",
       "      <td>no</td>\n",
       "    </tr>\n",
       "  </tbody>\n",
       "</table>\n",
       "</div>"
      ],
      "text/plain": [
       "     outlook  temperature  humidity  windy play\n",
       "0      sunny           85        85  False   no\n",
       "1      sunny           80        90   True   no\n",
       "2   overcast           83        86  False  yes\n",
       "3      rainy           70        96  False  yes\n",
       "4      rainy           68        80  False  yes\n",
       "5      rainy           65        70   True   no\n",
       "6   overcast           64        65   True  yes\n",
       "7      sunny           72        95  False   no\n",
       "8      sunny           69        70  False  yes\n",
       "9      rainy           75        80  False  yes\n",
       "10     sunny           75        70   True  yes\n",
       "11  overcast           72        90   True  yes\n",
       "12  overcast           81        75  False  yes\n",
       "13     rainy           71        91   True   no"
      ]
     },
     "execution_count": 57,
     "metadata": {},
     "output_type": "execute_result"
    }
   ],
   "source": [
    "veriler"
   ]
  },
  {
   "cell_type": "code",
   "execution_count": 58,
   "id": "da4ca835-33ea-485c-a46d-66ecb9165226",
   "metadata": {},
   "outputs": [],
   "source": [
    " play = veriler.iloc[:,-1:].values"
   ]
  },
  {
   "cell_type": "code",
   "execution_count": 59,
   "id": "77fe1495-2cf6-4c5e-b831-077674a86539",
   "metadata": {},
   "outputs": [
    {
     "data": {
      "text/plain": [
       "array([['no'],\n",
       "       ['no'],\n",
       "       ['yes'],\n",
       "       ['yes'],\n",
       "       ['yes'],\n",
       "       ['no'],\n",
       "       ['yes'],\n",
       "       ['no'],\n",
       "       ['yes'],\n",
       "       ['yes'],\n",
       "       ['yes'],\n",
       "       ['yes'],\n",
       "       ['yes'],\n",
       "       ['no']], dtype=object)"
      ]
     },
     "execution_count": 59,
     "metadata": {},
     "output_type": "execute_result"
    }
   ],
   "source": [
    "play"
   ]
  },
  {
   "cell_type": "code",
   "execution_count": 60,
   "id": "288c8de7-191c-4335-90e6-644425fe8c78",
   "metadata": {},
   "outputs": [
    {
     "data": {
      "text/plain": [
       "array([[0],\n",
       "       [0],\n",
       "       [1],\n",
       "       [1],\n",
       "       [1],\n",
       "       [0],\n",
       "       [1],\n",
       "       [0],\n",
       "       [1],\n",
       "       [1],\n",
       "       [1],\n",
       "       [1],\n",
       "       [1],\n",
       "       [0]], dtype=object)"
      ]
     },
     "execution_count": 60,
     "metadata": {},
     "output_type": "execute_result"
    }
   ],
   "source": [
    "play[:,-1] = le.fit_transform(veriler.iloc[:,-1])\n",
    "play   # yes ler 1 oldu no lar 0"
   ]
  },
  {
   "cell_type": "code",
   "execution_count": 61,
   "id": "def662f6-b4cc-49b7-b60b-a1e1284d9e57",
   "metadata": {},
   "outputs": [
    {
     "data": {
      "text/plain": [
       "array([[False],\n",
       "       [ True],\n",
       "       [False],\n",
       "       [False],\n",
       "       [False],\n",
       "       [ True],\n",
       "       [ True],\n",
       "       [False],\n",
       "       [False],\n",
       "       [False],\n",
       "       [ True],\n",
       "       [ True],\n",
       "       [False],\n",
       "       [ True]])"
      ]
     },
     "execution_count": 61,
     "metadata": {},
     "output_type": "execute_result"
    }
   ],
   "source": [
    "windy = veriler.iloc[:,-2:-1].values\n",
    "windy"
   ]
  },
  {
   "cell_type": "code",
   "execution_count": 62,
   "id": "94181d28-2d8e-4b41-8072-8485ffd64ad5",
   "metadata": {},
   "outputs": [
    {
     "data": {
      "text/plain": [
       "array([[False],\n",
       "       [False],\n",
       "       [ True],\n",
       "       [ True],\n",
       "       [ True],\n",
       "       [False],\n",
       "       [ True],\n",
       "       [False],\n",
       "       [ True],\n",
       "       [ True],\n",
       "       [ True],\n",
       "       [ True],\n",
       "       [ True],\n",
       "       [False]])"
      ]
     },
     "execution_count": 62,
     "metadata": {},
     "output_type": "execute_result"
    }
   ],
   "source": [
    "windy[:,-1] = le.fit_transform(veriler.iloc[:,-1])\n",
    "windy"
   ]
  },
  {
   "cell_type": "markdown",
   "id": "357d0297-7c46-4339-a741-76bc07a7f206",
   "metadata": {},
   "source": [
    "Farklı bir yöntem "
   ]
  },
  {
   "cell_type": "code",
   "execution_count": 63,
   "id": "795f9d1a-6aa5-4e7a-84be-89983288e90f",
   "metadata": {},
   "outputs": [],
   "source": [
    "from sklearn import preprocessing\n",
    "veriler2 = veriler.apply(preprocessing.LabelEncoder().fit_transform)   #tüm veriler üzerinde işlem yapar  #diğer verileri bozar"
   ]
  },
  {
   "cell_type": "code",
   "execution_count": 64,
   "id": "c660f646-2195-449e-b7ce-d0e91437d52c",
   "metadata": {},
   "outputs": [
    {
     "data": {
      "text/plain": [
       "array([[0., 0., 1.],\n",
       "       [0., 0., 1.],\n",
       "       [1., 0., 0.],\n",
       "       [0., 1., 0.],\n",
       "       [0., 1., 0.],\n",
       "       [0., 1., 0.],\n",
       "       [1., 0., 0.],\n",
       "       [0., 0., 1.],\n",
       "       [0., 0., 1.],\n",
       "       [0., 1., 0.],\n",
       "       [0., 0., 1.],\n",
       "       [1., 0., 0.],\n",
       "       [1., 0., 0.],\n",
       "       [0., 1., 0.]])"
      ]
     },
     "execution_count": 64,
     "metadata": {},
     "output_type": "execute_result"
    }
   ],
   "source": [
    "c = veriler2.iloc[:,:1]\n",
    "c\n",
    "c = ohe.fit_transform(c).toarray()\n",
    "c  #ilk kolon c olarak düzenlenmiş halde"
   ]
  },
  {
   "cell_type": "code",
   "execution_count": 65,
   "id": "9ce678e5-8732-418d-a27d-802ad69e7191",
   "metadata": {},
   "outputs": [],
   "source": [
    "# SIRASIYLA İNŞA EDELİM"
   ]
  },
  {
   "cell_type": "code",
   "execution_count": 66,
   "id": "8f4ba802-cf8d-40de-adfa-f0145798b14f",
   "metadata": {},
   "outputs": [],
   "source": [
    "havadurumu = pd.DataFrame(data = c,index = range(14),columns=[\"o\",\"r\",\"s\"])"
   ]
  },
  {
   "cell_type": "code",
   "execution_count": 67,
   "id": "238c0fb9-79fb-4314-89a0-9e8d2fd67722",
   "metadata": {},
   "outputs": [],
   "source": [
    "sonveriler = pd.concat([havadurumu,veriler.iloc[:,1:3]],axis = 1)"
   ]
  },
  {
   "cell_type": "code",
   "execution_count": 68,
   "id": "8c04b00a-f55d-4fe5-827c-c8e7abe9ac80",
   "metadata": {},
   "outputs": [],
   "source": [
    "sonveriler = pd.concat([veriler2.iloc[:,-2:],sonveriler],axis= 1)"
   ]
  },
  {
   "cell_type": "code",
   "execution_count": 69,
   "id": "d17f66d4-55e2-4987-9d82-0972777fea1d",
   "metadata": {},
   "outputs": [
    {
     "data": {
      "text/html": [
       "<div>\n",
       "<style scoped>\n",
       "    .dataframe tbody tr th:only-of-type {\n",
       "        vertical-align: middle;\n",
       "    }\n",
       "\n",
       "    .dataframe tbody tr th {\n",
       "        vertical-align: top;\n",
       "    }\n",
       "\n",
       "    .dataframe thead th {\n",
       "        text-align: right;\n",
       "    }\n",
       "</style>\n",
       "<table border=\"1\" class=\"dataframe\">\n",
       "  <thead>\n",
       "    <tr style=\"text-align: right;\">\n",
       "      <th></th>\n",
       "      <th>windy</th>\n",
       "      <th>play</th>\n",
       "      <th>o</th>\n",
       "      <th>r</th>\n",
       "      <th>s</th>\n",
       "      <th>temperature</th>\n",
       "      <th>humidity</th>\n",
       "    </tr>\n",
       "  </thead>\n",
       "  <tbody>\n",
       "    <tr>\n",
       "      <th>0</th>\n",
       "      <td>0</td>\n",
       "      <td>0</td>\n",
       "      <td>0.0</td>\n",
       "      <td>0.0</td>\n",
       "      <td>1.0</td>\n",
       "      <td>85</td>\n",
       "      <td>85</td>\n",
       "    </tr>\n",
       "    <tr>\n",
       "      <th>1</th>\n",
       "      <td>1</td>\n",
       "      <td>0</td>\n",
       "      <td>0.0</td>\n",
       "      <td>0.0</td>\n",
       "      <td>1.0</td>\n",
       "      <td>80</td>\n",
       "      <td>90</td>\n",
       "    </tr>\n",
       "    <tr>\n",
       "      <th>2</th>\n",
       "      <td>0</td>\n",
       "      <td>1</td>\n",
       "      <td>1.0</td>\n",
       "      <td>0.0</td>\n",
       "      <td>0.0</td>\n",
       "      <td>83</td>\n",
       "      <td>86</td>\n",
       "    </tr>\n",
       "    <tr>\n",
       "      <th>3</th>\n",
       "      <td>0</td>\n",
       "      <td>1</td>\n",
       "      <td>0.0</td>\n",
       "      <td>1.0</td>\n",
       "      <td>0.0</td>\n",
       "      <td>70</td>\n",
       "      <td>96</td>\n",
       "    </tr>\n",
       "    <tr>\n",
       "      <th>4</th>\n",
       "      <td>0</td>\n",
       "      <td>1</td>\n",
       "      <td>0.0</td>\n",
       "      <td>1.0</td>\n",
       "      <td>0.0</td>\n",
       "      <td>68</td>\n",
       "      <td>80</td>\n",
       "    </tr>\n",
       "    <tr>\n",
       "      <th>5</th>\n",
       "      <td>1</td>\n",
       "      <td>0</td>\n",
       "      <td>0.0</td>\n",
       "      <td>1.0</td>\n",
       "      <td>0.0</td>\n",
       "      <td>65</td>\n",
       "      <td>70</td>\n",
       "    </tr>\n",
       "    <tr>\n",
       "      <th>6</th>\n",
       "      <td>1</td>\n",
       "      <td>1</td>\n",
       "      <td>1.0</td>\n",
       "      <td>0.0</td>\n",
       "      <td>0.0</td>\n",
       "      <td>64</td>\n",
       "      <td>65</td>\n",
       "    </tr>\n",
       "    <tr>\n",
       "      <th>7</th>\n",
       "      <td>0</td>\n",
       "      <td>0</td>\n",
       "      <td>0.0</td>\n",
       "      <td>0.0</td>\n",
       "      <td>1.0</td>\n",
       "      <td>72</td>\n",
       "      <td>95</td>\n",
       "    </tr>\n",
       "    <tr>\n",
       "      <th>8</th>\n",
       "      <td>0</td>\n",
       "      <td>1</td>\n",
       "      <td>0.0</td>\n",
       "      <td>0.0</td>\n",
       "      <td>1.0</td>\n",
       "      <td>69</td>\n",
       "      <td>70</td>\n",
       "    </tr>\n",
       "    <tr>\n",
       "      <th>9</th>\n",
       "      <td>0</td>\n",
       "      <td>1</td>\n",
       "      <td>0.0</td>\n",
       "      <td>1.0</td>\n",
       "      <td>0.0</td>\n",
       "      <td>75</td>\n",
       "      <td>80</td>\n",
       "    </tr>\n",
       "    <tr>\n",
       "      <th>10</th>\n",
       "      <td>1</td>\n",
       "      <td>1</td>\n",
       "      <td>0.0</td>\n",
       "      <td>0.0</td>\n",
       "      <td>1.0</td>\n",
       "      <td>75</td>\n",
       "      <td>70</td>\n",
       "    </tr>\n",
       "    <tr>\n",
       "      <th>11</th>\n",
       "      <td>1</td>\n",
       "      <td>1</td>\n",
       "      <td>1.0</td>\n",
       "      <td>0.0</td>\n",
       "      <td>0.0</td>\n",
       "      <td>72</td>\n",
       "      <td>90</td>\n",
       "    </tr>\n",
       "    <tr>\n",
       "      <th>12</th>\n",
       "      <td>0</td>\n",
       "      <td>1</td>\n",
       "      <td>1.0</td>\n",
       "      <td>0.0</td>\n",
       "      <td>0.0</td>\n",
       "      <td>81</td>\n",
       "      <td>75</td>\n",
       "    </tr>\n",
       "    <tr>\n",
       "      <th>13</th>\n",
       "      <td>1</td>\n",
       "      <td>0</td>\n",
       "      <td>0.0</td>\n",
       "      <td>1.0</td>\n",
       "      <td>0.0</td>\n",
       "      <td>71</td>\n",
       "      <td>91</td>\n",
       "    </tr>\n",
       "  </tbody>\n",
       "</table>\n",
       "</div>"
      ],
      "text/plain": [
       "    windy  play    o    r    s  temperature  humidity\n",
       "0       0     0  0.0  0.0  1.0           85        85\n",
       "1       1     0  0.0  0.0  1.0           80        90\n",
       "2       0     1  1.0  0.0  0.0           83        86\n",
       "3       0     1  0.0  1.0  0.0           70        96\n",
       "4       0     1  0.0  1.0  0.0           68        80\n",
       "5       1     0  0.0  1.0  0.0           65        70\n",
       "6       1     1  1.0  0.0  0.0           64        65\n",
       "7       0     0  0.0  0.0  1.0           72        95\n",
       "8       0     1  0.0  0.0  1.0           69        70\n",
       "9       0     1  0.0  1.0  0.0           75        80\n",
       "10      1     1  0.0  0.0  1.0           75        70\n",
       "11      1     1  1.0  0.0  0.0           72        90\n",
       "12      0     1  1.0  0.0  0.0           81        75\n",
       "13      1     0  0.0  1.0  0.0           71        91"
      ]
     },
     "execution_count": 69,
     "metadata": {},
     "output_type": "execute_result"
    }
   ],
   "source": [
    "sonveriler  #veriyi tekrar inşa etmiş olduk"
   ]
  },
  {
   "cell_type": "markdown",
   "id": "0bf0424b-989c-4123-a00a-b8e2a663b719",
   "metadata": {},
   "source": [
    "**Ön işleme bitti tahmine geçebiliriz**"
   ]
  },
  {
   "cell_type": "code",
   "execution_count": 70,
   "id": "80a8e25e-5260-43db-9ac9-3c34858d0e36",
   "metadata": {},
   "outputs": [],
   "source": [
    "from sklearn.model_selection import train_test_split\n",
    "x_train,x_test,y_train,y_test = train_test_split(sonveriler.iloc[:,:-1],sonveriler.iloc[:,-1:],test_size = 0.33,random_state = 0)"
   ]
  },
  {
   "cell_type": "code",
   "execution_count": 71,
   "id": "9b118213-36ad-4307-b958-abc12ede3dd7",
   "metadata": {},
   "outputs": [
    {
     "data": {
      "text/html": [
       "<div>\n",
       "<style scoped>\n",
       "    .dataframe tbody tr th:only-of-type {\n",
       "        vertical-align: middle;\n",
       "    }\n",
       "\n",
       "    .dataframe tbody tr th {\n",
       "        vertical-align: top;\n",
       "    }\n",
       "\n",
       "    .dataframe thead th {\n",
       "        text-align: right;\n",
       "    }\n",
       "</style>\n",
       "<table border=\"1\" class=\"dataframe\">\n",
       "  <thead>\n",
       "    <tr style=\"text-align: right;\">\n",
       "      <th></th>\n",
       "      <th>windy</th>\n",
       "      <th>play</th>\n",
       "      <th>o</th>\n",
       "      <th>r</th>\n",
       "      <th>s</th>\n",
       "      <th>temperature</th>\n",
       "    </tr>\n",
       "  </thead>\n",
       "  <tbody>\n",
       "    <tr>\n",
       "      <th>13</th>\n",
       "      <td>1</td>\n",
       "      <td>0</td>\n",
       "      <td>0.0</td>\n",
       "      <td>1.0</td>\n",
       "      <td>0.0</td>\n",
       "      <td>71</td>\n",
       "    </tr>\n",
       "    <tr>\n",
       "      <th>9</th>\n",
       "      <td>0</td>\n",
       "      <td>1</td>\n",
       "      <td>0.0</td>\n",
       "      <td>1.0</td>\n",
       "      <td>0.0</td>\n",
       "      <td>75</td>\n",
       "    </tr>\n",
       "    <tr>\n",
       "      <th>1</th>\n",
       "      <td>1</td>\n",
       "      <td>0</td>\n",
       "      <td>0.0</td>\n",
       "      <td>0.0</td>\n",
       "      <td>1.0</td>\n",
       "      <td>80</td>\n",
       "    </tr>\n",
       "    <tr>\n",
       "      <th>7</th>\n",
       "      <td>0</td>\n",
       "      <td>0</td>\n",
       "      <td>0.0</td>\n",
       "      <td>0.0</td>\n",
       "      <td>1.0</td>\n",
       "      <td>72</td>\n",
       "    </tr>\n",
       "    <tr>\n",
       "      <th>10</th>\n",
       "      <td>1</td>\n",
       "      <td>1</td>\n",
       "      <td>0.0</td>\n",
       "      <td>0.0</td>\n",
       "      <td>1.0</td>\n",
       "      <td>75</td>\n",
       "    </tr>\n",
       "    <tr>\n",
       "      <th>3</th>\n",
       "      <td>0</td>\n",
       "      <td>1</td>\n",
       "      <td>0.0</td>\n",
       "      <td>1.0</td>\n",
       "      <td>0.0</td>\n",
       "      <td>70</td>\n",
       "    </tr>\n",
       "    <tr>\n",
       "      <th>0</th>\n",
       "      <td>0</td>\n",
       "      <td>0</td>\n",
       "      <td>0.0</td>\n",
       "      <td>0.0</td>\n",
       "      <td>1.0</td>\n",
       "      <td>85</td>\n",
       "    </tr>\n",
       "    <tr>\n",
       "      <th>5</th>\n",
       "      <td>1</td>\n",
       "      <td>0</td>\n",
       "      <td>0.0</td>\n",
       "      <td>1.0</td>\n",
       "      <td>0.0</td>\n",
       "      <td>65</td>\n",
       "    </tr>\n",
       "    <tr>\n",
       "      <th>12</th>\n",
       "      <td>0</td>\n",
       "      <td>1</td>\n",
       "      <td>1.0</td>\n",
       "      <td>0.0</td>\n",
       "      <td>0.0</td>\n",
       "      <td>81</td>\n",
       "    </tr>\n",
       "  </tbody>\n",
       "</table>\n",
       "</div>"
      ],
      "text/plain": [
       "    windy  play    o    r    s  temperature\n",
       "13      1     0  0.0  1.0  0.0           71\n",
       "9       0     1  0.0  1.0  0.0           75\n",
       "1       1     0  0.0  0.0  1.0           80\n",
       "7       0     0  0.0  0.0  1.0           72\n",
       "10      1     1  0.0  0.0  1.0           75\n",
       "3       0     1  0.0  1.0  0.0           70\n",
       "0       0     0  0.0  0.0  1.0           85\n",
       "5       1     0  0.0  1.0  0.0           65\n",
       "12      0     1  1.0  0.0  0.0           81"
      ]
     },
     "execution_count": 71,
     "metadata": {},
     "output_type": "execute_result"
    }
   ],
   "source": [
    "x_train"
   ]
  },
  {
   "cell_type": "code",
   "execution_count": 72,
   "id": "3d9b55fd-13c6-47ca-b5b4-cbbcfc38486b",
   "metadata": {},
   "outputs": [
    {
     "data": {
      "text/html": [
       "<div>\n",
       "<style scoped>\n",
       "    .dataframe tbody tr th:only-of-type {\n",
       "        vertical-align: middle;\n",
       "    }\n",
       "\n",
       "    .dataframe tbody tr th {\n",
       "        vertical-align: top;\n",
       "    }\n",
       "\n",
       "    .dataframe thead th {\n",
       "        text-align: right;\n",
       "    }\n",
       "</style>\n",
       "<table border=\"1\" class=\"dataframe\">\n",
       "  <thead>\n",
       "    <tr style=\"text-align: right;\">\n",
       "      <th></th>\n",
       "      <th>humidity</th>\n",
       "    </tr>\n",
       "  </thead>\n",
       "  <tbody>\n",
       "    <tr>\n",
       "      <th>13</th>\n",
       "      <td>91</td>\n",
       "    </tr>\n",
       "    <tr>\n",
       "      <th>9</th>\n",
       "      <td>80</td>\n",
       "    </tr>\n",
       "    <tr>\n",
       "      <th>1</th>\n",
       "      <td>90</td>\n",
       "    </tr>\n",
       "    <tr>\n",
       "      <th>7</th>\n",
       "      <td>95</td>\n",
       "    </tr>\n",
       "    <tr>\n",
       "      <th>10</th>\n",
       "      <td>70</td>\n",
       "    </tr>\n",
       "    <tr>\n",
       "      <th>3</th>\n",
       "      <td>96</td>\n",
       "    </tr>\n",
       "    <tr>\n",
       "      <th>0</th>\n",
       "      <td>85</td>\n",
       "    </tr>\n",
       "    <tr>\n",
       "      <th>5</th>\n",
       "      <td>70</td>\n",
       "    </tr>\n",
       "    <tr>\n",
       "      <th>12</th>\n",
       "      <td>75</td>\n",
       "    </tr>\n",
       "  </tbody>\n",
       "</table>\n",
       "</div>"
      ],
      "text/plain": [
       "    humidity\n",
       "13        91\n",
       "9         80\n",
       "1         90\n",
       "7         95\n",
       "10        70\n",
       "3         96\n",
       "0         85\n",
       "5         70\n",
       "12        75"
      ]
     },
     "execution_count": 72,
     "metadata": {},
     "output_type": "execute_result"
    }
   ],
   "source": [
    "y_train"
   ]
  },
  {
   "cell_type": "code",
   "execution_count": 73,
   "id": "60433bcc-eedb-4720-a231-032a4ca73a53",
   "metadata": {},
   "outputs": [
    {
     "data": {
      "text/html": [
       "<div>\n",
       "<style scoped>\n",
       "    .dataframe tbody tr th:only-of-type {\n",
       "        vertical-align: middle;\n",
       "    }\n",
       "\n",
       "    .dataframe tbody tr th {\n",
       "        vertical-align: top;\n",
       "    }\n",
       "\n",
       "    .dataframe thead th {\n",
       "        text-align: right;\n",
       "    }\n",
       "</style>\n",
       "<table border=\"1\" class=\"dataframe\">\n",
       "  <thead>\n",
       "    <tr style=\"text-align: right;\">\n",
       "      <th></th>\n",
       "      <th>windy</th>\n",
       "      <th>play</th>\n",
       "      <th>o</th>\n",
       "      <th>r</th>\n",
       "      <th>s</th>\n",
       "      <th>temperature</th>\n",
       "    </tr>\n",
       "  </thead>\n",
       "  <tbody>\n",
       "    <tr>\n",
       "      <th>8</th>\n",
       "      <td>0</td>\n",
       "      <td>1</td>\n",
       "      <td>0.0</td>\n",
       "      <td>0.0</td>\n",
       "      <td>1.0</td>\n",
       "      <td>69</td>\n",
       "    </tr>\n",
       "    <tr>\n",
       "      <th>6</th>\n",
       "      <td>1</td>\n",
       "      <td>1</td>\n",
       "      <td>1.0</td>\n",
       "      <td>0.0</td>\n",
       "      <td>0.0</td>\n",
       "      <td>64</td>\n",
       "    </tr>\n",
       "    <tr>\n",
       "      <th>4</th>\n",
       "      <td>0</td>\n",
       "      <td>1</td>\n",
       "      <td>0.0</td>\n",
       "      <td>1.0</td>\n",
       "      <td>0.0</td>\n",
       "      <td>68</td>\n",
       "    </tr>\n",
       "    <tr>\n",
       "      <th>11</th>\n",
       "      <td>1</td>\n",
       "      <td>1</td>\n",
       "      <td>1.0</td>\n",
       "      <td>0.0</td>\n",
       "      <td>0.0</td>\n",
       "      <td>72</td>\n",
       "    </tr>\n",
       "    <tr>\n",
       "      <th>2</th>\n",
       "      <td>0</td>\n",
       "      <td>1</td>\n",
       "      <td>1.0</td>\n",
       "      <td>0.0</td>\n",
       "      <td>0.0</td>\n",
       "      <td>83</td>\n",
       "    </tr>\n",
       "  </tbody>\n",
       "</table>\n",
       "</div>"
      ],
      "text/plain": [
       "    windy  play    o    r    s  temperature\n",
       "8       0     1  0.0  0.0  1.0           69\n",
       "6       1     1  1.0  0.0  0.0           64\n",
       "4       0     1  0.0  1.0  0.0           68\n",
       "11      1     1  1.0  0.0  0.0           72\n",
       "2       0     1  1.0  0.0  0.0           83"
      ]
     },
     "execution_count": 73,
     "metadata": {},
     "output_type": "execute_result"
    }
   ],
   "source": [
    "x_test"
   ]
  },
  {
   "cell_type": "code",
   "execution_count": 74,
   "id": "71a3127e-80d5-40e0-856f-0c3d001953c9",
   "metadata": {},
   "outputs": [
    {
     "data": {
      "text/html": [
       "<div>\n",
       "<style scoped>\n",
       "    .dataframe tbody tr th:only-of-type {\n",
       "        vertical-align: middle;\n",
       "    }\n",
       "\n",
       "    .dataframe tbody tr th {\n",
       "        vertical-align: top;\n",
       "    }\n",
       "\n",
       "    .dataframe thead th {\n",
       "        text-align: right;\n",
       "    }\n",
       "</style>\n",
       "<table border=\"1\" class=\"dataframe\">\n",
       "  <thead>\n",
       "    <tr style=\"text-align: right;\">\n",
       "      <th></th>\n",
       "      <th>humidity</th>\n",
       "    </tr>\n",
       "  </thead>\n",
       "  <tbody>\n",
       "    <tr>\n",
       "      <th>8</th>\n",
       "      <td>70</td>\n",
       "    </tr>\n",
       "    <tr>\n",
       "      <th>6</th>\n",
       "      <td>65</td>\n",
       "    </tr>\n",
       "    <tr>\n",
       "      <th>4</th>\n",
       "      <td>80</td>\n",
       "    </tr>\n",
       "    <tr>\n",
       "      <th>11</th>\n",
       "      <td>90</td>\n",
       "    </tr>\n",
       "    <tr>\n",
       "      <th>2</th>\n",
       "      <td>86</td>\n",
       "    </tr>\n",
       "  </tbody>\n",
       "</table>\n",
       "</div>"
      ],
      "text/plain": [
       "    humidity\n",
       "8         70\n",
       "6         65\n",
       "4         80\n",
       "11        90\n",
       "2         86"
      ]
     },
     "execution_count": 74,
     "metadata": {},
     "output_type": "execute_result"
    }
   ],
   "source": [
    "y_test"
   ]
  },
  {
   "cell_type": "code",
   "execution_count": 75,
   "id": "5483b132-a9b3-4426-8588-3ad687854d96",
   "metadata": {},
   "outputs": [
    {
     "data": {
      "text/plain": [
       "array([[84.45365573],\n",
       "       [63.93839954],\n",
       "       [85.76050662],\n",
       "       [64.21013241],\n",
       "       [75.06793322]])"
      ]
     },
     "execution_count": 75,
     "metadata": {},
     "output_type": "execute_result"
    }
   ],
   "source": [
    "from sklearn.linear_model import LinearRegression\n",
    "regressor = LinearRegression()\n",
    "regressor.fit(x_train,y_train)\n",
    "y_pred = regressor.predict(x_test)\n",
    "y_pred  #yukarıdaki y teste göre karşılaştırabiliriz"
   ]
  },
  {
   "cell_type": "code",
   "execution_count": 76,
   "id": "7c5908ed-f899-4265-9064-cd3aedf18318",
   "metadata": {},
   "outputs": [
    {
     "data": {
      "text/html": [
       "<table class=\"simpletable\">\n",
       "<caption>OLS Regression Results</caption>\n",
       "<tr>\n",
       "  <th>Dep. Variable:</th>        <td>humidity</td>     <th>  R-squared:         </th> <td>   0.294</td>\n",
       "</tr>\n",
       "<tr>\n",
       "  <th>Model:</th>                   <td>OLS</td>       <th>  Adj. R-squared:    </th> <td>  -0.148</td>\n",
       "</tr>\n",
       "<tr>\n",
       "  <th>Method:</th>             <td>Least Squares</td>  <th>  F-statistic:       </th> <td>  0.6653</td>\n",
       "</tr>\n",
       "<tr>\n",
       "  <th>Date:</th>             <td>Wed, 27 Jul 2022</td> <th>  Prob (F-statistic):</th>  <td> 0.661</td> \n",
       "</tr>\n",
       "<tr>\n",
       "  <th>Time:</th>                 <td>04:26:43</td>     <th>  Log-Likelihood:    </th> <td> -49.542</td>\n",
       "</tr>\n",
       "<tr>\n",
       "  <th>No. Observations:</th>      <td>    14</td>      <th>  AIC:               </th> <td>   111.1</td>\n",
       "</tr>\n",
       "<tr>\n",
       "  <th>Df Residuals:</th>          <td>     8</td>      <th>  BIC:               </th> <td>   114.9</td>\n",
       "</tr>\n",
       "<tr>\n",
       "  <th>Df Model:</th>              <td>     5</td>      <th>                     </th>     <td> </td>   \n",
       "</tr>\n",
       "<tr>\n",
       "  <th>Covariance Type:</th>      <td>nonrobust</td>    <th>                     </th>     <td> </td>   \n",
       "</tr>\n",
       "</table>\n",
       "<table class=\"simpletable\">\n",
       "<tr>\n",
       "   <td></td>     <th>coef</th>     <th>std err</th>      <th>t</th>      <th>P>|t|</th>  <th>[0.025</th>    <th>0.975]</th>  \n",
       "</tr>\n",
       "<tr>\n",
       "  <th>x1</th> <td>   -4.0286</td> <td>    7.229</td> <td>   -0.557</td> <td> 0.593</td> <td>  -20.698</td> <td>   12.641</td>\n",
       "</tr>\n",
       "<tr>\n",
       "  <th>x2</th> <td>   -8.2778</td> <td>    8.029</td> <td>   -1.031</td> <td> 0.333</td> <td>  -26.793</td> <td>   10.237</td>\n",
       "</tr>\n",
       "<tr>\n",
       "  <th>x3</th> <td>   52.3891</td> <td>   50.214</td> <td>    1.043</td> <td> 0.327</td> <td>  -63.404</td> <td>  168.183</td>\n",
       "</tr>\n",
       "<tr>\n",
       "  <th>x4</th> <td>   55.6337</td> <td>   45.233</td> <td>    1.230</td> <td> 0.254</td> <td>  -48.673</td> <td>  159.940</td>\n",
       "</tr>\n",
       "<tr>\n",
       "  <th>x5</th> <td>   49.4291</td> <td>   48.337</td> <td>    1.023</td> <td> 0.336</td> <td>  -62.035</td> <td>  160.893</td>\n",
       "</tr>\n",
       "<tr>\n",
       "  <th>x6</th> <td>    0.4920</td> <td>    0.597</td> <td>    0.825</td> <td> 0.433</td> <td>   -0.884</td> <td>    1.868</td>\n",
       "</tr>\n",
       "</table>\n",
       "<table class=\"simpletable\">\n",
       "<tr>\n",
       "  <th>Omnibus:</th>       <td> 0.935</td> <th>  Durbin-Watson:     </th> <td>   2.416</td>\n",
       "</tr>\n",
       "<tr>\n",
       "  <th>Prob(Omnibus):</th> <td> 0.627</td> <th>  Jarque-Bera (JB):  </th> <td>   0.823</td>\n",
       "</tr>\n",
       "<tr>\n",
       "  <th>Skew:</th>          <td> 0.389</td> <th>  Prob(JB):          </th> <td>   0.663</td>\n",
       "</tr>\n",
       "<tr>\n",
       "  <th>Kurtosis:</th>      <td> 2.103</td> <th>  Cond. No.          </th> <td>2.08e+03</td>\n",
       "</tr>\n",
       "</table><br/><br/>Notes:<br/>[1] Standard Errors assume that the covariance matrix of the errors is correctly specified.<br/>[2] The condition number is large, 2.08e+03. This might indicate that there are<br/>strong multicollinearity or other numerical problems."
      ],
      "text/plain": [
       "<class 'statsmodels.iolib.summary.Summary'>\n",
       "\"\"\"\n",
       "                            OLS Regression Results                            \n",
       "==============================================================================\n",
       "Dep. Variable:               humidity   R-squared:                       0.294\n",
       "Model:                            OLS   Adj. R-squared:                 -0.148\n",
       "Method:                 Least Squares   F-statistic:                    0.6653\n",
       "Date:                Wed, 27 Jul 2022   Prob (F-statistic):              0.661\n",
       "Time:                        04:26:43   Log-Likelihood:                -49.542\n",
       "No. Observations:                  14   AIC:                             111.1\n",
       "Df Residuals:                       8   BIC:                             114.9\n",
       "Df Model:                           5                                         \n",
       "Covariance Type:            nonrobust                                         \n",
       "==============================================================================\n",
       "                 coef    std err          t      P>|t|      [0.025      0.975]\n",
       "------------------------------------------------------------------------------\n",
       "x1            -4.0286      7.229     -0.557      0.593     -20.698      12.641\n",
       "x2            -8.2778      8.029     -1.031      0.333     -26.793      10.237\n",
       "x3            52.3891     50.214      1.043      0.327     -63.404     168.183\n",
       "x4            55.6337     45.233      1.230      0.254     -48.673     159.940\n",
       "x5            49.4291     48.337      1.023      0.336     -62.035     160.893\n",
       "x6             0.4920      0.597      0.825      0.433      -0.884       1.868\n",
       "==============================================================================\n",
       "Omnibus:                        0.935   Durbin-Watson:                   2.416\n",
       "Prob(Omnibus):                  0.627   Jarque-Bera (JB):                0.823\n",
       "Skew:                           0.389   Prob(JB):                        0.663\n",
       "Kurtosis:                       2.103   Cond. No.                     2.08e+03\n",
       "==============================================================================\n",
       "\n",
       "Notes:\n",
       "[1] Standard Errors assume that the covariance matrix of the errors is correctly specified.\n",
       "[2] The condition number is large, 2.08e+03. This might indicate that there are\n",
       "strong multicollinearity or other numerical problems.\n",
       "\"\"\""
      ]
     },
     "execution_count": 76,
     "metadata": {},
     "output_type": "execute_result"
    }
   ],
   "source": [
    "import statsmodels.api as sm\n",
    "X = np.append(arr = np.ones((14,1)).astype(int),values = sonveriler.iloc[:,:-1],axis = 1)\n",
    "X_l = sonveriler.iloc[:,[0,1,2,3,4,5]].values\n",
    "X_l = np.array(X_l,dtype = float)\n",
    "model = sm.OLS(sonveriler.iloc[:,-1:],X_l).fit()\n",
    "model.summary()\n"
   ]
  },
  {
   "cell_type": "code",
   "execution_count": 77,
   "id": "477f274b-6188-491f-935e-91fbe4f04add",
   "metadata": {},
   "outputs": [],
   "source": [
    "# P değerleri çok ama çok yüksek en yüksekten elemeye başlayacağız"
   ]
  },
  {
   "cell_type": "code",
   "execution_count": 78,
   "id": "bc3efbca-8d73-40eb-82d6-3efe536c6dac",
   "metadata": {},
   "outputs": [],
   "source": [
    "sonveriler = sonveriler.iloc[:,1:]"
   ]
  },
  {
   "cell_type": "code",
   "execution_count": 79,
   "id": "17100469-479f-4cd9-b9dd-4f9f8d1893a4",
   "metadata": {},
   "outputs": [
    {
     "data": {
      "text/html": [
       "<div>\n",
       "<style scoped>\n",
       "    .dataframe tbody tr th:only-of-type {\n",
       "        vertical-align: middle;\n",
       "    }\n",
       "\n",
       "    .dataframe tbody tr th {\n",
       "        vertical-align: top;\n",
       "    }\n",
       "\n",
       "    .dataframe thead th {\n",
       "        text-align: right;\n",
       "    }\n",
       "</style>\n",
       "<table border=\"1\" class=\"dataframe\">\n",
       "  <thead>\n",
       "    <tr style=\"text-align: right;\">\n",
       "      <th></th>\n",
       "      <th>play</th>\n",
       "      <th>o</th>\n",
       "      <th>r</th>\n",
       "      <th>s</th>\n",
       "      <th>temperature</th>\n",
       "      <th>humidity</th>\n",
       "    </tr>\n",
       "  </thead>\n",
       "  <tbody>\n",
       "    <tr>\n",
       "      <th>0</th>\n",
       "      <td>0</td>\n",
       "      <td>0.0</td>\n",
       "      <td>0.0</td>\n",
       "      <td>1.0</td>\n",
       "      <td>85</td>\n",
       "      <td>85</td>\n",
       "    </tr>\n",
       "    <tr>\n",
       "      <th>1</th>\n",
       "      <td>0</td>\n",
       "      <td>0.0</td>\n",
       "      <td>0.0</td>\n",
       "      <td>1.0</td>\n",
       "      <td>80</td>\n",
       "      <td>90</td>\n",
       "    </tr>\n",
       "    <tr>\n",
       "      <th>2</th>\n",
       "      <td>1</td>\n",
       "      <td>1.0</td>\n",
       "      <td>0.0</td>\n",
       "      <td>0.0</td>\n",
       "      <td>83</td>\n",
       "      <td>86</td>\n",
       "    </tr>\n",
       "    <tr>\n",
       "      <th>3</th>\n",
       "      <td>1</td>\n",
       "      <td>0.0</td>\n",
       "      <td>1.0</td>\n",
       "      <td>0.0</td>\n",
       "      <td>70</td>\n",
       "      <td>96</td>\n",
       "    </tr>\n",
       "    <tr>\n",
       "      <th>4</th>\n",
       "      <td>1</td>\n",
       "      <td>0.0</td>\n",
       "      <td>1.0</td>\n",
       "      <td>0.0</td>\n",
       "      <td>68</td>\n",
       "      <td>80</td>\n",
       "    </tr>\n",
       "    <tr>\n",
       "      <th>5</th>\n",
       "      <td>0</td>\n",
       "      <td>0.0</td>\n",
       "      <td>1.0</td>\n",
       "      <td>0.0</td>\n",
       "      <td>65</td>\n",
       "      <td>70</td>\n",
       "    </tr>\n",
       "    <tr>\n",
       "      <th>6</th>\n",
       "      <td>1</td>\n",
       "      <td>1.0</td>\n",
       "      <td>0.0</td>\n",
       "      <td>0.0</td>\n",
       "      <td>64</td>\n",
       "      <td>65</td>\n",
       "    </tr>\n",
       "    <tr>\n",
       "      <th>7</th>\n",
       "      <td>0</td>\n",
       "      <td>0.0</td>\n",
       "      <td>0.0</td>\n",
       "      <td>1.0</td>\n",
       "      <td>72</td>\n",
       "      <td>95</td>\n",
       "    </tr>\n",
       "    <tr>\n",
       "      <th>8</th>\n",
       "      <td>1</td>\n",
       "      <td>0.0</td>\n",
       "      <td>0.0</td>\n",
       "      <td>1.0</td>\n",
       "      <td>69</td>\n",
       "      <td>70</td>\n",
       "    </tr>\n",
       "    <tr>\n",
       "      <th>9</th>\n",
       "      <td>1</td>\n",
       "      <td>0.0</td>\n",
       "      <td>1.0</td>\n",
       "      <td>0.0</td>\n",
       "      <td>75</td>\n",
       "      <td>80</td>\n",
       "    </tr>\n",
       "    <tr>\n",
       "      <th>10</th>\n",
       "      <td>1</td>\n",
       "      <td>0.0</td>\n",
       "      <td>0.0</td>\n",
       "      <td>1.0</td>\n",
       "      <td>75</td>\n",
       "      <td>70</td>\n",
       "    </tr>\n",
       "    <tr>\n",
       "      <th>11</th>\n",
       "      <td>1</td>\n",
       "      <td>1.0</td>\n",
       "      <td>0.0</td>\n",
       "      <td>0.0</td>\n",
       "      <td>72</td>\n",
       "      <td>90</td>\n",
       "    </tr>\n",
       "    <tr>\n",
       "      <th>12</th>\n",
       "      <td>1</td>\n",
       "      <td>1.0</td>\n",
       "      <td>0.0</td>\n",
       "      <td>0.0</td>\n",
       "      <td>81</td>\n",
       "      <td>75</td>\n",
       "    </tr>\n",
       "    <tr>\n",
       "      <th>13</th>\n",
       "      <td>0</td>\n",
       "      <td>0.0</td>\n",
       "      <td>1.0</td>\n",
       "      <td>0.0</td>\n",
       "      <td>71</td>\n",
       "      <td>91</td>\n",
       "    </tr>\n",
       "  </tbody>\n",
       "</table>\n",
       "</div>"
      ],
      "text/plain": [
       "    play    o    r    s  temperature  humidity\n",
       "0      0  0.0  0.0  1.0           85        85\n",
       "1      0  0.0  0.0  1.0           80        90\n",
       "2      1  1.0  0.0  0.0           83        86\n",
       "3      1  0.0  1.0  0.0           70        96\n",
       "4      1  0.0  1.0  0.0           68        80\n",
       "5      0  0.0  1.0  0.0           65        70\n",
       "6      1  1.0  0.0  0.0           64        65\n",
       "7      0  0.0  0.0  1.0           72        95\n",
       "8      1  0.0  0.0  1.0           69        70\n",
       "9      1  0.0  1.0  0.0           75        80\n",
       "10     1  0.0  0.0  1.0           75        70\n",
       "11     1  1.0  0.0  0.0           72        90\n",
       "12     1  1.0  0.0  0.0           81        75\n",
       "13     0  0.0  1.0  0.0           71        91"
      ]
     },
     "execution_count": 79,
     "metadata": {},
     "output_type": "execute_result"
    }
   ],
   "source": [
    "sonveriler  # windy kolonunu attık p si en yüksek olduğu için"
   ]
  },
  {
   "cell_type": "code",
   "execution_count": 80,
   "id": "ff8569bb-1563-457d-9f6b-be3a6c2aee64",
   "metadata": {},
   "outputs": [
    {
     "data": {
      "text/html": [
       "<table class=\"simpletable\">\n",
       "<caption>OLS Regression Results</caption>\n",
       "<tr>\n",
       "  <th>Dep. Variable:</th>        <td>humidity</td>     <th>  R-squared:         </th> <td>   0.266</td>\n",
       "</tr>\n",
       "<tr>\n",
       "  <th>Model:</th>                   <td>OLS</td>       <th>  Adj. R-squared:    </th> <td>  -0.060</td>\n",
       "</tr>\n",
       "<tr>\n",
       "  <th>Method:</th>             <td>Least Squares</td>  <th>  F-statistic:       </th> <td>  0.8165</td>\n",
       "</tr>\n",
       "<tr>\n",
       "  <th>Date:</th>             <td>Wed, 27 Jul 2022</td> <th>  Prob (F-statistic):</th>  <td> 0.546</td> \n",
       "</tr>\n",
       "<tr>\n",
       "  <th>Time:</th>                 <td>04:26:44</td>     <th>  Log-Likelihood:    </th> <td> -49.809</td>\n",
       "</tr>\n",
       "<tr>\n",
       "  <th>No. Observations:</th>      <td>    14</td>      <th>  AIC:               </th> <td>   109.6</td>\n",
       "</tr>\n",
       "<tr>\n",
       "  <th>Df Residuals:</th>          <td>     9</td>      <th>  BIC:               </th> <td>   112.8</td>\n",
       "</tr>\n",
       "<tr>\n",
       "  <th>Df Model:</th>              <td>     4</td>      <th>                     </th>     <td> </td>   \n",
       "</tr>\n",
       "<tr>\n",
       "  <th>Covariance Type:</th>      <td>nonrobust</td>    <th>                     </th>     <td> </td>   \n",
       "</tr>\n",
       "</table>\n",
       "<table class=\"simpletable\">\n",
       "<tr>\n",
       "   <td></td>     <th>coef</th>     <th>std err</th>      <th>t</th>      <th>P>|t|</th>  <th>[0.025</th>    <th>0.975]</th>  \n",
       "</tr>\n",
       "<tr>\n",
       "  <th>x1</th> <td>   -6.2865</td> <td>    6.909</td> <td>   -0.910</td> <td> 0.387</td> <td>  -21.916</td> <td>    9.343</td>\n",
       "</tr>\n",
       "<tr>\n",
       "  <th>x2</th> <td>   36.6564</td> <td>   39.905</td> <td>    0.919</td> <td> 0.382</td> <td>  -53.615</td> <td>  126.927</td>\n",
       "</tr>\n",
       "<tr>\n",
       "  <th>x3</th> <td>   41.9135</td> <td>   36.464</td> <td>    1.149</td> <td> 0.280</td> <td>  -40.573</td> <td>  124.400</td>\n",
       "</tr>\n",
       "<tr>\n",
       "  <th>x4</th> <td>   35.1064</td> <td>   39.339</td> <td>    0.892</td> <td> 0.395</td> <td>  -53.884</td> <td>  124.097</td>\n",
       "</tr>\n",
       "<tr>\n",
       "  <th>x5</th> <td>    0.6484</td> <td>    0.506</td> <td>    1.282</td> <td> 0.232</td> <td>   -0.496</td> <td>    1.793</td>\n",
       "</tr>\n",
       "</table>\n",
       "<table class=\"simpletable\">\n",
       "<tr>\n",
       "  <th>Omnibus:</th>       <td> 0.887</td> <th>  Durbin-Watson:     </th> <td>   2.360</td>\n",
       "</tr>\n",
       "<tr>\n",
       "  <th>Prob(Omnibus):</th> <td> 0.642</td> <th>  Jarque-Bera (JB):  </th> <td>   0.810</td>\n",
       "</tr>\n",
       "<tr>\n",
       "  <th>Skew:</th>          <td> 0.424</td> <th>  Prob(JB):          </th> <td>   0.667</td>\n",
       "</tr>\n",
       "<tr>\n",
       "  <th>Kurtosis:</th>      <td> 2.181</td> <th>  Cond. No.          </th> <td>1.73e+03</td>\n",
       "</tr>\n",
       "</table><br/><br/>Notes:<br/>[1] Standard Errors assume that the covariance matrix of the errors is correctly specified.<br/>[2] The condition number is large, 1.73e+03. This might indicate that there are<br/>strong multicollinearity or other numerical problems."
      ],
      "text/plain": [
       "<class 'statsmodels.iolib.summary.Summary'>\n",
       "\"\"\"\n",
       "                            OLS Regression Results                            \n",
       "==============================================================================\n",
       "Dep. Variable:               humidity   R-squared:                       0.266\n",
       "Model:                            OLS   Adj. R-squared:                 -0.060\n",
       "Method:                 Least Squares   F-statistic:                    0.8165\n",
       "Date:                Wed, 27 Jul 2022   Prob (F-statistic):              0.546\n",
       "Time:                        04:26:44   Log-Likelihood:                -49.809\n",
       "No. Observations:                  14   AIC:                             109.6\n",
       "Df Residuals:                       9   BIC:                             112.8\n",
       "Df Model:                           4                                         \n",
       "Covariance Type:            nonrobust                                         \n",
       "==============================================================================\n",
       "                 coef    std err          t      P>|t|      [0.025      0.975]\n",
       "------------------------------------------------------------------------------\n",
       "x1            -6.2865      6.909     -0.910      0.387     -21.916       9.343\n",
       "x2            36.6564     39.905      0.919      0.382     -53.615     126.927\n",
       "x3            41.9135     36.464      1.149      0.280     -40.573     124.400\n",
       "x4            35.1064     39.339      0.892      0.395     -53.884     124.097\n",
       "x5             0.6484      0.506      1.282      0.232      -0.496       1.793\n",
       "==============================================================================\n",
       "Omnibus:                        0.887   Durbin-Watson:                   2.360\n",
       "Prob(Omnibus):                  0.642   Jarque-Bera (JB):                0.810\n",
       "Skew:                           0.424   Prob(JB):                        0.667\n",
       "Kurtosis:                       2.181   Cond. No.                     1.73e+03\n",
       "==============================================================================\n",
       "\n",
       "Notes:\n",
       "[1] Standard Errors assume that the covariance matrix of the errors is correctly specified.\n",
       "[2] The condition number is large, 1.73e+03. This might indicate that there are\n",
       "strong multicollinearity or other numerical problems.\n",
       "\"\"\""
      ]
     },
     "execution_count": 80,
     "metadata": {},
     "output_type": "execute_result"
    }
   ],
   "source": [
    "X_l = sonveriler.iloc[:,[0,1,2,3,4]].values\n",
    "X_l = np.array(X_l,dtype = float)\n",
    "model = sm.OLS(sonveriler.iloc[:,-1:],X_l).fit()\n",
    "model.summary()"
   ]
  },
  {
   "cell_type": "code",
   "execution_count": 81,
   "id": "56e48663-19e9-4d2b-80f1-7be634b6cc28",
   "metadata": {},
   "outputs": [],
   "source": [
    "x_train = x_train.iloc[:,1:]\n",
    "x_test = x_test.iloc[:,1:]\n",
    "# tekrardan sistemi egiteceğiz windyi çıkarttık çünkü"
   ]
  },
  {
   "cell_type": "code",
   "execution_count": 82,
   "id": "5b569c7c-aeaf-4a18-a81e-36957ecac24a",
   "metadata": {},
   "outputs": [],
   "source": [
    "regressor.fit(x_train,y_train)\n",
    "y_pred2 = regressor.predict(x_test)"
   ]
  },
  {
   "cell_type": "code",
   "execution_count": 83,
   "id": "37022485-0009-49aa-90f5-ea7e28e38e0f",
   "metadata": {},
   "outputs": [
    {
     "data": {
      "text/plain": [
       "array([[84.45365573],\n",
       "       [63.93839954],\n",
       "       [85.76050662],\n",
       "       [64.21013241],\n",
       "       [75.06793322]])"
      ]
     },
     "execution_count": 83,
     "metadata": {},
     "output_type": "execute_result"
    }
   ],
   "source": [
    "y_pred  #wilk tahmin"
   ]
  },
  {
   "cell_type": "code",
   "execution_count": 84,
   "id": "f8607593-c863-4831-940f-669435b371f4",
   "metadata": {},
   "outputs": [
    {
     "data": {
      "text/plain": [
       "array([[77.98135142],\n",
       "       [68.29304916],\n",
       "       [81.05037539],\n",
       "       [71.44926132],\n",
       "       [75.78905304]])"
      ]
     },
     "execution_count": 84,
     "metadata": {},
     "output_type": "execute_result"
    }
   ],
   "source": [
    "y_pred2 #windy çıkınca tahmin  #veriler gerçeğe daha da yaklaşmış çünkü windy nin p değeri çok yüksekti"
   ]
  },
  {
   "cell_type": "code",
   "execution_count": 85,
   "id": "3aeed4a0-0a49-43ea-91de-475ba37647ac",
   "metadata": {},
   "outputs": [
    {
     "data": {
      "text/html": [
       "<div>\n",
       "<style scoped>\n",
       "    .dataframe tbody tr th:only-of-type {\n",
       "        vertical-align: middle;\n",
       "    }\n",
       "\n",
       "    .dataframe tbody tr th {\n",
       "        vertical-align: top;\n",
       "    }\n",
       "\n",
       "    .dataframe thead th {\n",
       "        text-align: right;\n",
       "    }\n",
       "</style>\n",
       "<table border=\"1\" class=\"dataframe\">\n",
       "  <thead>\n",
       "    <tr style=\"text-align: right;\">\n",
       "      <th></th>\n",
       "      <th>humidity</th>\n",
       "    </tr>\n",
       "  </thead>\n",
       "  <tbody>\n",
       "    <tr>\n",
       "      <th>8</th>\n",
       "      <td>70</td>\n",
       "    </tr>\n",
       "    <tr>\n",
       "      <th>6</th>\n",
       "      <td>65</td>\n",
       "    </tr>\n",
       "    <tr>\n",
       "      <th>4</th>\n",
       "      <td>80</td>\n",
       "    </tr>\n",
       "    <tr>\n",
       "      <th>11</th>\n",
       "      <td>90</td>\n",
       "    </tr>\n",
       "    <tr>\n",
       "      <th>2</th>\n",
       "      <td>86</td>\n",
       "    </tr>\n",
       "  </tbody>\n",
       "</table>\n",
       "</div>"
      ],
      "text/plain": [
       "    humidity\n",
       "8         70\n",
       "6         65\n",
       "4         80\n",
       "11        90\n",
       "2         86"
      ]
     },
     "execution_count": 85,
     "metadata": {},
     "output_type": "execute_result"
    }
   ],
   "source": [
    "y_test"
   ]
  },
  {
   "cell_type": "code",
   "execution_count": 86,
   "id": "5dd96dcf-2583-4c32-b539-d7e31ef50484",
   "metadata": {},
   "outputs": [],
   "source": [
    "#bunu devam ettirebiliriz aynı şekilde "
   ]
  },
  {
   "cell_type": "markdown",
   "id": "6a936f78-c925-4666-8489-ee31ea4496f3",
   "metadata": {},
   "source": [
    "# Polynomial Regression"
   ]
  },
  {
   "cell_type": "code",
   "execution_count": 87,
   "id": "2867c039-c0eb-4d55-b5a7-9732900f6533",
   "metadata": {},
   "outputs": [],
   "source": [
    "veriler= pd.read_csv(\"maaslar.csv\")"
   ]
  },
  {
   "cell_type": "code",
   "execution_count": 88,
   "id": "dd9f479d-abfd-4345-bd6e-3fbab569c31c",
   "metadata": {},
   "outputs": [
    {
     "data": {
      "text/html": [
       "<div>\n",
       "<style scoped>\n",
       "    .dataframe tbody tr th:only-of-type {\n",
       "        vertical-align: middle;\n",
       "    }\n",
       "\n",
       "    .dataframe tbody tr th {\n",
       "        vertical-align: top;\n",
       "    }\n",
       "\n",
       "    .dataframe thead th {\n",
       "        text-align: right;\n",
       "    }\n",
       "</style>\n",
       "<table border=\"1\" class=\"dataframe\">\n",
       "  <thead>\n",
       "    <tr style=\"text-align: right;\">\n",
       "      <th></th>\n",
       "      <th>unvan</th>\n",
       "      <th>Egitim Seviyesi</th>\n",
       "      <th>maas</th>\n",
       "    </tr>\n",
       "  </thead>\n",
       "  <tbody>\n",
       "    <tr>\n",
       "      <th>0</th>\n",
       "      <td>Cayci</td>\n",
       "      <td>1</td>\n",
       "      <td>2250</td>\n",
       "    </tr>\n",
       "    <tr>\n",
       "      <th>1</th>\n",
       "      <td>Sekreter</td>\n",
       "      <td>2</td>\n",
       "      <td>2500</td>\n",
       "    </tr>\n",
       "    <tr>\n",
       "      <th>2</th>\n",
       "      <td>Uzman Yardimcisi</td>\n",
       "      <td>3</td>\n",
       "      <td>3000</td>\n",
       "    </tr>\n",
       "    <tr>\n",
       "      <th>3</th>\n",
       "      <td>Uzman</td>\n",
       "      <td>4</td>\n",
       "      <td>4000</td>\n",
       "    </tr>\n",
       "    <tr>\n",
       "      <th>4</th>\n",
       "      <td>Proje Yoneticisi</td>\n",
       "      <td>5</td>\n",
       "      <td>5500</td>\n",
       "    </tr>\n",
       "    <tr>\n",
       "      <th>5</th>\n",
       "      <td>Sef</td>\n",
       "      <td>6</td>\n",
       "      <td>7500</td>\n",
       "    </tr>\n",
       "    <tr>\n",
       "      <th>6</th>\n",
       "      <td>Mudur</td>\n",
       "      <td>7</td>\n",
       "      <td>10000</td>\n",
       "    </tr>\n",
       "    <tr>\n",
       "      <th>7</th>\n",
       "      <td>Direktor</td>\n",
       "      <td>8</td>\n",
       "      <td>15000</td>\n",
       "    </tr>\n",
       "    <tr>\n",
       "      <th>8</th>\n",
       "      <td>C-level</td>\n",
       "      <td>9</td>\n",
       "      <td>25000</td>\n",
       "    </tr>\n",
       "    <tr>\n",
       "      <th>9</th>\n",
       "      <td>CEO</td>\n",
       "      <td>10</td>\n",
       "      <td>50000</td>\n",
       "    </tr>\n",
       "  </tbody>\n",
       "</table>\n",
       "</div>"
      ],
      "text/plain": [
       "              unvan  Egitim Seviyesi   maas\n",
       "0             Cayci                1   2250\n",
       "1          Sekreter                2   2500\n",
       "2  Uzman Yardimcisi                3   3000\n",
       "3             Uzman                4   4000\n",
       "4  Proje Yoneticisi                5   5500\n",
       "5               Sef                6   7500\n",
       "6             Mudur                7  10000\n",
       "7          Direktor                8  15000\n",
       "8           C-level                9  25000\n",
       "9               CEO               10  50000"
      ]
     },
     "execution_count": 88,
     "metadata": {},
     "output_type": "execute_result"
    }
   ],
   "source": [
    "veriler"
   ]
  },
  {
   "cell_type": "code",
   "execution_count": 89,
   "id": "837265cb-2fe8-4f45-a699-e751bc2ca599",
   "metadata": {},
   "outputs": [],
   "source": [
    "x = veriler.iloc[:,1:2]\n",
    "y = veriler.iloc[:,2:]"
   ]
  },
  {
   "cell_type": "code",
   "execution_count": 90,
   "id": "9bbb3936-f91c-42a3-a297-361d8313e5bc",
   "metadata": {},
   "outputs": [
    {
     "data": {
      "text/html": [
       "<div>\n",
       "<style scoped>\n",
       "    .dataframe tbody tr th:only-of-type {\n",
       "        vertical-align: middle;\n",
       "    }\n",
       "\n",
       "    .dataframe tbody tr th {\n",
       "        vertical-align: top;\n",
       "    }\n",
       "\n",
       "    .dataframe thead th {\n",
       "        text-align: right;\n",
       "    }\n",
       "</style>\n",
       "<table border=\"1\" class=\"dataframe\">\n",
       "  <thead>\n",
       "    <tr style=\"text-align: right;\">\n",
       "      <th></th>\n",
       "      <th>Egitim Seviyesi</th>\n",
       "    </tr>\n",
       "  </thead>\n",
       "  <tbody>\n",
       "    <tr>\n",
       "      <th>0</th>\n",
       "      <td>1</td>\n",
       "    </tr>\n",
       "    <tr>\n",
       "      <th>1</th>\n",
       "      <td>2</td>\n",
       "    </tr>\n",
       "    <tr>\n",
       "      <th>2</th>\n",
       "      <td>3</td>\n",
       "    </tr>\n",
       "    <tr>\n",
       "      <th>3</th>\n",
       "      <td>4</td>\n",
       "    </tr>\n",
       "    <tr>\n",
       "      <th>4</th>\n",
       "      <td>5</td>\n",
       "    </tr>\n",
       "    <tr>\n",
       "      <th>5</th>\n",
       "      <td>6</td>\n",
       "    </tr>\n",
       "    <tr>\n",
       "      <th>6</th>\n",
       "      <td>7</td>\n",
       "    </tr>\n",
       "    <tr>\n",
       "      <th>7</th>\n",
       "      <td>8</td>\n",
       "    </tr>\n",
       "    <tr>\n",
       "      <th>8</th>\n",
       "      <td>9</td>\n",
       "    </tr>\n",
       "    <tr>\n",
       "      <th>9</th>\n",
       "      <td>10</td>\n",
       "    </tr>\n",
       "  </tbody>\n",
       "</table>\n",
       "</div>"
      ],
      "text/plain": [
       "   Egitim Seviyesi\n",
       "0                1\n",
       "1                2\n",
       "2                3\n",
       "3                4\n",
       "4                5\n",
       "5                6\n",
       "6                7\n",
       "7                8\n",
       "8                9\n",
       "9               10"
      ]
     },
     "execution_count": 90,
     "metadata": {},
     "output_type": "execute_result"
    }
   ],
   "source": [
    "x"
   ]
  },
  {
   "cell_type": "code",
   "execution_count": 91,
   "id": "70f0a59c-70ae-4d01-a007-fdc7e7d2fd17",
   "metadata": {},
   "outputs": [
    {
     "data": {
      "text/html": [
       "<div>\n",
       "<style scoped>\n",
       "    .dataframe tbody tr th:only-of-type {\n",
       "        vertical-align: middle;\n",
       "    }\n",
       "\n",
       "    .dataframe tbody tr th {\n",
       "        vertical-align: top;\n",
       "    }\n",
       "\n",
       "    .dataframe thead th {\n",
       "        text-align: right;\n",
       "    }\n",
       "</style>\n",
       "<table border=\"1\" class=\"dataframe\">\n",
       "  <thead>\n",
       "    <tr style=\"text-align: right;\">\n",
       "      <th></th>\n",
       "      <th>maas</th>\n",
       "    </tr>\n",
       "  </thead>\n",
       "  <tbody>\n",
       "    <tr>\n",
       "      <th>0</th>\n",
       "      <td>2250</td>\n",
       "    </tr>\n",
       "    <tr>\n",
       "      <th>1</th>\n",
       "      <td>2500</td>\n",
       "    </tr>\n",
       "    <tr>\n",
       "      <th>2</th>\n",
       "      <td>3000</td>\n",
       "    </tr>\n",
       "    <tr>\n",
       "      <th>3</th>\n",
       "      <td>4000</td>\n",
       "    </tr>\n",
       "    <tr>\n",
       "      <th>4</th>\n",
       "      <td>5500</td>\n",
       "    </tr>\n",
       "    <tr>\n",
       "      <th>5</th>\n",
       "      <td>7500</td>\n",
       "    </tr>\n",
       "    <tr>\n",
       "      <th>6</th>\n",
       "      <td>10000</td>\n",
       "    </tr>\n",
       "    <tr>\n",
       "      <th>7</th>\n",
       "      <td>15000</td>\n",
       "    </tr>\n",
       "    <tr>\n",
       "      <th>8</th>\n",
       "      <td>25000</td>\n",
       "    </tr>\n",
       "    <tr>\n",
       "      <th>9</th>\n",
       "      <td>50000</td>\n",
       "    </tr>\n",
       "  </tbody>\n",
       "</table>\n",
       "</div>"
      ],
      "text/plain": [
       "    maas\n",
       "0   2250\n",
       "1   2500\n",
       "2   3000\n",
       "3   4000\n",
       "4   5500\n",
       "5   7500\n",
       "6  10000\n",
       "7  15000\n",
       "8  25000\n",
       "9  50000"
      ]
     },
     "execution_count": 91,
     "metadata": {},
     "output_type": "execute_result"
    }
   ],
   "source": [
    "y"
   ]
  },
  {
   "cell_type": "code",
   "execution_count": 92,
   "id": "ef102764-c6fa-4fd2-ba73-6b26ff569e6d",
   "metadata": {},
   "outputs": [],
   "source": [
    "from sklearn.linear_model import LinearRegression\n",
    "from matplotlib import pyplot as plt"
   ]
  },
  {
   "cell_type": "code",
   "execution_count": 93,
   "id": "075b3674-8bbd-47e1-942b-df53b3ec8909",
   "metadata": {},
   "outputs": [
    {
     "data": {
      "text/plain": [
       "LinearRegression()"
      ]
     },
     "execution_count": 93,
     "metadata": {},
     "output_type": "execute_result"
    }
   ],
   "source": [
    "lin_reg = LinearRegression()\n",
    "lin_reg.fit(x.values,y.values)  #x den y yi öğren"
   ]
  },
  {
   "cell_type": "code",
   "execution_count": 94,
   "id": "deb4e066-094b-4d7d-a203-6b17256a68cd",
   "metadata": {},
   "outputs": [
    {
     "ename": "NameError",
     "evalue": "name 'lin_reg2' is not defined",
     "output_type": "error",
     "traceback": [
      "\u001b[0;31m---------------------------------------------------------------------------\u001b[0m",
      "\u001b[0;31mNameError\u001b[0m                                 Traceback (most recent call last)",
      "Input \u001b[0;32mIn [94]\u001b[0m, in \u001b[0;36m<cell line: 2>\u001b[0;34m()\u001b[0m\n\u001b[1;32m      1\u001b[0m plt\u001b[38;5;241m.\u001b[39mscatter(x\u001b[38;5;241m.\u001b[39mvalues,y\u001b[38;5;241m.\u001b[39mvalues,color \u001b[38;5;241m=\u001b[39m \u001b[38;5;124m\"\u001b[39m\u001b[38;5;124mred\u001b[39m\u001b[38;5;124m\"\u001b[39m)\n\u001b[0;32m----> 2\u001b[0m plt\u001b[38;5;241m.\u001b[39mplot(x\u001b[38;5;241m.\u001b[39mvalues,\u001b[43mlin_reg2\u001b[49m\u001b[38;5;241m.\u001b[39mpredict(poly_reg\u001b[38;5;241m.\u001b[39mfit_transform(x\u001b[38;5;241m.\u001b[39mvalues)),color \u001b[38;5;241m=\u001b[39m \u001b[38;5;124m\"\u001b[39m\u001b[38;5;124mblue\u001b[39m\u001b[38;5;124m\"\u001b[39m)\n",
      "\u001b[0;31mNameError\u001b[0m: name 'lin_reg2' is not defined"
     ]
    },
    {
     "data": {
      "image/png": "[encoded data removed]",
      "text/plain": [
       "<Figure size 432x288 with 1 Axes>"
      ]
     },
     "metadata": {
      "needs_background": "light"
     },
     "output_type": "display_data"
    }
   ],
   "source": [
    "plt.scatter(x.values,y.values,color = \"red\")\n",
    "plt.plot(x.values,lin_reg2.predict(poly_reg.fit_transform(x.values)),color = \"blue\")"
   ]
  },
  {
   "cell_type": "code",
   "execution_count": null,
   "id": "56181701-087c-4856-aea2-aedabdb6e9af",
   "metadata": {},
   "outputs": [],
   "source": [
    "lin_reg.predict(x.values)"
   ]
  },
  {
   "cell_type": "code",
   "execution_count": null,
   "id": "b811ef41-87c0-43cd-b28a-40dbcb4640f3",
   "metadata": {},
   "outputs": [],
   "source": [
    "y"
   ]
  },
  {
   "cell_type": "code",
   "execution_count": null,
   "id": "e878c9f1-8b46-4912-bb24-44b36cb5a8b6",
   "metadata": {},
   "outputs": [],
   "source": [
    "from sklearn.preprocessing import PolynomialFeatures\n",
    "poly_reg = PolynomialFeatures(degree = 2)\n",
    "\n",
    "x_poly = poly_reg.fit_transform(x.values)"
   ]
  },
  {
   "cell_type": "code",
   "execution_count": null,
   "id": "f847313c-4282-4958-b9d4-b36817a7c253",
   "metadata": {},
   "outputs": [],
   "source": [
    "x_poly"
   ]
  },
  {
   "cell_type": "code",
   "execution_count": null,
   "id": "094591aa-386b-429c-852f-c4adc597530a",
   "metadata": {},
   "outputs": [],
   "source": [
    "lin_reg2 = LinearRegression()\n",
    "lin_reg2.fit(x_poly,y)"
   ]
  },
  {
   "cell_type": "markdown",
   "id": "751c0c79-08ed-4f05-9779-9e0b4a29921a",
   "metadata": {},
   "source": [
    "plt.scatter(x.values,y.values)"
   ]
  },
  {
   "cell_type": "code",
   "execution_count": null,
   "id": "cca4d0eb-7be2-4583-8b30-7c5c1a1257ab",
   "metadata": {},
   "outputs": [],
   "source": [
    "lin_reg2.predict(poly_reg.fit_transform(x.values))\n",
    "poly_reg.fit_transform(x.values)"
   ]
  },
  {
   "cell_type": "code",
   "execution_count": null,
   "id": "7d16efa9-1c66-4701-a54c-476d630bcc57",
   "metadata": {},
   "outputs": [],
   "source": [
    "lin_reg.predict([[11]])"
   ]
  },
  {
   "cell_type": "code",
   "execution_count": null,
   "id": "554aee5e-2834-4692-9a5a-eb493f029bdf",
   "metadata": {},
   "outputs": [],
   "source": [
    "lin_reg2.predict(poly_reg.fit_transform([[6.6]]))"
   ]
  },
  {
   "cell_type": "markdown",
   "id": "a532575e-52ba-4d81-a995-cf126f926a1d",
   "metadata": {},
   "source": [
    "# Support Vector Regression"
   ]
  },
  {
   "cell_type": "code",
   "execution_count": null,
   "id": "eadede0e-a3ef-4c51-81ce-134eac85b083",
   "metadata": {},
   "outputs": [],
   "source": [
    "from sklearn.preprocessing import StandardScaler"
   ]
  },
  {
   "cell_type": "code",
   "execution_count": null,
   "id": "d90f0ab2-5308-469c-9752-73f509609b36",
   "metadata": {},
   "outputs": [],
   "source": [
    "sc1 = StandardScaler()"
   ]
  },
  {
   "cell_type": "code",
   "execution_count": null,
   "id": "4daf0784-3d5e-4e42-975b-1dd2e80bfe0d",
   "metadata": {},
   "outputs": [],
   "source": [
    "x_olcekli = sc1.fit_transform(x.values)"
   ]
  },
  {
   "cell_type": "code",
   "execution_count": 95,
   "id": "67c90a3d-7737-431a-9007-72fea9488880",
   "metadata": {},
   "outputs": [],
   "source": [
    "sc2 = StandardScaler()"
   ]
  },
  {
   "cell_type": "code",
   "execution_count": 96,
   "id": "01b9eddc-83f9-43d2-b3c1-7f165626f1d0",
   "metadata": {},
   "outputs": [],
   "source": [
    "y_olcekli = sc2.fit_transform(y.values)"
   ]
  },
  {
   "cell_type": "code",
   "execution_count": 97,
   "id": "f462be2b-9346-4e08-9b8f-85d2b13ab0c1",
   "metadata": {},
   "outputs": [],
   "source": [
    "from sklearn.svm import SVR"
   ]
  },
  {
   "cell_type": "code",
   "execution_count": 98,
   "id": "c84b37bc-2ef5-4a2f-9598-5b69a56908d7",
   "metadata": {},
   "outputs": [],
   "source": [
    "svr_reg = SVR(kernel = \"rbf\")"
   ]
  },
  {
   "cell_type": "code",
   "execution_count": 99,
   "id": "7b7371eb-236e-4766-93b9-556f136812e2",
   "metadata": {},
   "outputs": [
    {
     "ename": "NameError",
     "evalue": "name 'x_olcekli' is not defined",
     "output_type": "error",
     "traceback": [
      "\u001b[0;31m---------------------------------------------------------------------------\u001b[0m",
      "\u001b[0;31mNameError\u001b[0m                                 Traceback (most recent call last)",
      "Input \u001b[0;32mIn [99]\u001b[0m, in \u001b[0;36m<cell line: 1>\u001b[0;34m()\u001b[0m\n\u001b[0;32m----> 1\u001b[0m svr_reg\u001b[38;5;241m.\u001b[39mfit(\u001b[43mx_olcekli\u001b[49m,y_olcekli)\n",
      "\u001b[0;31mNameError\u001b[0m: name 'x_olcekli' is not defined"
     ]
    }
   ],
   "source": [
    "svr_reg.fit(x_olcekli,y_olcekli)"
   ]
  },
  {
   "cell_type": "code",
   "execution_count": 100,
   "id": "73b0e6ed-28d2-4774-8265-aa56df7eb23e",
   "metadata": {},
   "outputs": [
    {
     "ename": "NameError",
     "evalue": "name 'x_olcekli' is not defined",
     "output_type": "error",
     "traceback": [
      "\u001b[0;31m---------------------------------------------------------------------------\u001b[0m",
      "\u001b[0;31mNameError\u001b[0m                                 Traceback (most recent call last)",
      "Input \u001b[0;32mIn [100]\u001b[0m, in \u001b[0;36m<cell line: 1>\u001b[0;34m()\u001b[0m\n\u001b[0;32m----> 1\u001b[0m plt\u001b[38;5;241m.\u001b[39mscatter(\u001b[43mx_olcekli\u001b[49m,y_olcekli,color \u001b[38;5;241m=\u001b[39m \u001b[38;5;124m\"\u001b[39m\u001b[38;5;124mred\u001b[39m\u001b[38;5;124m\"\u001b[39m)   \u001b[38;5;66;03m#veri noktaları \u001b[39;00m\n\u001b[1;32m      2\u001b[0m plt\u001b[38;5;241m.\u001b[39mplot(x_olcekli,svr_reg\u001b[38;5;241m.\u001b[39mpredict(x_olcekli),color \u001b[38;5;241m=\u001b[39m \u001b[38;5;124m\"\u001b[39m\u001b[38;5;124mblue\u001b[39m\u001b[38;5;124m\"\u001b[39m)\n",
      "\u001b[0;31mNameError\u001b[0m: name 'x_olcekli' is not defined"
     ]
    }
   ],
   "source": [
    "plt.scatter(x_olcekli,y_olcekli,color = \"red\")   #veri noktaları \n",
    "plt.plot(x_olcekli,svr_reg.predict(x_olcekli),color = \"blue\")  #herbir data point için predict edilmiş değer"
   ]
  },
  {
   "cell_type": "markdown",
   "id": "00b32ee5-59b5-4e09-8f84-3213d09d314b",
   "metadata": {},
   "source": [
    "# Decision Tree"
   ]
  },
  {
   "cell_type": "code",
   "execution_count": 101,
   "id": "1716eb94-6230-46f1-8cf8-56f801ba81e7",
   "metadata": {},
   "outputs": [],
   "source": [
    "from sklearn.tree import DecisionTreeRegressor"
   ]
  },
  {
   "cell_type": "code",
   "execution_count": 102,
   "id": "e87ebb2e-f783-4cbf-98f5-a42565326a26",
   "metadata": {},
   "outputs": [],
   "source": [
    "r_dt = DecisionTreeRegressor(random_state = 0)"
   ]
  },
  {
   "cell_type": "code",
   "execution_count": 103,
   "id": "fe57f7f2-d533-404a-a0b6-63bbf923f9c8",
   "metadata": {},
   "outputs": [
    {
     "data": {
      "text/plain": [
       "DecisionTreeRegressor(random_state=0)"
      ]
     },
     "execution_count": 103,
     "metadata": {},
     "output_type": "execute_result"
    }
   ],
   "source": [
    "r_dt.fit(x.values,y.values)"
   ]
  },
  {
   "cell_type": "code",
   "execution_count": 104,
   "id": "b144c11f-b289-498d-a074-16d900db94c9",
   "metadata": {},
   "outputs": [
    {
     "data": {
      "text/plain": [
       "[<matplotlib.lines.Line2D at 0x7f65b81825e0>]"
      ]
     },
     "execution_count": 104,
     "metadata": {},
     "output_type": "execute_result"
    },
    {
     "data": {
      "image/png": "[encoded data removed]",
      "text/plain": [
       "<Figure size 432x288 with 1 Axes>"
      ]
     },
     "metadata": {
      "needs_background": "light"
     },
     "output_type": "display_data"
    }
   ],
   "source": [
    "plt.scatter(x.values,y.values,color = \"red\")\n",
    "plt.plot(x.values,r_dt.predict(x.values),color = \"blue\")\n",
    "z = x +0.5\n",
    "k = x-0.4\n",
    "plt.plot(x.values,r_dt.predict(z),color = \"green\")\n",
    "plt.plot(x.values,r_dt.predict(k),color = \"yellow\")\n",
    "#burada bütün değerler aynı gruba indirildi "
   ]
  },
  {
   "cell_type": "code",
   "execution_count": 105,
   "id": "58a26071-943f-42d8-b551-3e039e8bfbdb",
   "metadata": {},
   "outputs": [
    {
     "data": {
      "text/plain": [
       "array([50000.])"
      ]
     },
     "execution_count": 105,
     "metadata": {},
     "output_type": "execute_result"
    }
   ],
   "source": [
    "r_dt.predict([[11]])"
   ]
  },
  {
   "cell_type": "code",
   "execution_count": 106,
   "id": "3a4b1fb1-1763-46d0-80c7-f023855f9907",
   "metadata": {},
   "outputs": [
    {
     "data": {
      "text/plain": [
       "array([10000.])"
      ]
     },
     "execution_count": 106,
     "metadata": {},
     "output_type": "execute_result"
    }
   ],
   "source": [
    "r_dt.predict([[6.6]])  #aralığa göre aynı değere dönderme sebebi karar ağacından dolayı\n",
    "#çünkü o aralıktakileri aynı değere atıyor daima"
   ]
  },
  {
   "cell_type": "markdown",
   "id": "87388916-4370-4e70-af60-bf5a4a810b2e",
   "metadata": {},
   "source": [
    "# Random Forest"
   ]
  },
  {
   "cell_type": "code",
   "execution_count": 107,
   "id": "9d417c8c-f797-4c7f-b48f-7d1a1b42d948",
   "metadata": {},
   "outputs": [],
   "source": [
    "from sklearn.ensemble import RandomForestRegressor"
   ]
  },
  {
   "cell_type": "code",
   "execution_count": 108,
   "id": "56e7288f-dfaa-432d-8731-3666518edb0d",
   "metadata": {},
   "outputs": [],
   "source": [
    "rf_reg = RandomForestRegressor(random_state=0 , n_estimators = 10 )   # estimaters kaç tane ağaç çizileceği sayısı"
   ]
  },
  {
   "cell_type": "code",
   "execution_count": 109,
   "id": "f588efdc-7941-47ea-b34c-affe209affb6",
   "metadata": {},
   "outputs": [
    {
     "data": {
      "text/plain": [
       "RandomForestRegressor(n_estimators=10, random_state=0)"
      ]
     },
     "execution_count": 109,
     "metadata": {},
     "output_type": "execute_result"
    }
   ],
   "source": [
    "rf_reg.fit(x.values,y.values.ravel())"
   ]
  },
  {
   "cell_type": "code",
   "execution_count": 110,
   "id": "4a490375-b71b-4b64-b418-6dbd586dbc37",
   "metadata": {},
   "outputs": [
    {
     "data": {
      "text/plain": [
       "array([8350.])"
      ]
     },
     "execution_count": 110,
     "metadata": {},
     "output_type": "execute_result"
    }
   ],
   "source": [
    "rf_reg.predict([[6.5]])"
   ]
  },
  {
   "cell_type": "code",
   "execution_count": 111,
   "id": "9404d209-e0c0-4a51-8ab6-1e4cd42606c4",
   "metadata": {},
   "outputs": [
    {
     "data": {
      "text/plain": [
       "array([10500.])"
      ]
     },
     "execution_count": 111,
     "metadata": {},
     "output_type": "execute_result"
    }
   ],
   "source": [
    "rf_reg.predict([[6.6]])"
   ]
  },
  {
   "cell_type": "code",
   "execution_count": 112,
   "id": "86684df5-dec9-42ff-978b-22204cb48240",
   "metadata": {},
   "outputs": [
    {
     "data": {
      "text/plain": [
       "array([19500.])"
      ]
     },
     "execution_count": 112,
     "metadata": {},
     "output_type": "execute_result"
    }
   ],
   "source": [
    "rf_reg.predict([[8.4]])"
   ]
  },
  {
   "cell_type": "code",
   "execution_count": 113,
   "id": "03021e55-7ada-4498-aa92-ff36ef63b065",
   "metadata": {},
   "outputs": [
    {
     "data": {
      "text/plain": [
       "[<matplotlib.lines.Line2D at 0x7f65b7e93c70>]"
      ]
     },
     "execution_count": 113,
     "metadata": {},
     "output_type": "execute_result"
    },
    {
     "data": {
      "image/png": "[encoded data removed]",
      "text/plain": [
       "<Figure size 432x288 with 1 Axes>"
      ]
     },
     "metadata": {
      "needs_background": "light"
     },
     "output_type": "display_data"
    }
   ],
   "source": [
    "plt.scatter(x.values,y.values,color = \"red\")\n",
    "plt.plot(x.values,rf_reg.predict(x.values),color = \"blue\")\n",
    "plt.plot(x.values,r_dt.predict(z),color = \"green\")\n",
    "plt.plot(x.values,r_dt.predict(k),color = \"yellow\")"
   ]
  },
  {
   "cell_type": "markdown",
   "id": "d889078a-9453-4b32-a599-8858fe5b40cd",
   "metadata": {},
   "source": [
    "# Değerlendirm ve Metotların karşılaştırılması"
   ]
  },
  {
   "cell_type": "code",
   "execution_count": 114,
   "id": "620a09ba-3302-4493-b85f-62d9e6c2e6c0",
   "metadata": {},
   "outputs": [],
   "source": [
    "from sklearn.metrics import r2_score  #Rkare değerini hesaplıyoruz bu değer doğruluk oranını belirtir"
   ]
  },
  {
   "cell_type": "code",
   "execution_count": 115,
   "id": "9db3bdd3-6488-497a-9bfd-777b8aa004d1",
   "metadata": {},
   "outputs": [
    {
     "data": {
      "text/plain": [
       "0.9704434230386582"
      ]
     },
     "execution_count": 115,
     "metadata": {},
     "output_type": "execute_result"
    }
   ],
   "source": [
    "r2_score(y.values,rf_reg.predict(x.values))  #YUkarıda random forest ile yaptığımız tahminin sonucu"
   ]
  },
  {
   "cell_type": "code",
   "execution_count": 116,
   "id": "f94c2e38-052e-47b9-8a6c-ee44093d295d",
   "metadata": {},
   "outputs": [
    {
     "data": {
      "text/plain": [
       "1.0"
      ]
     },
     "execution_count": 116,
     "metadata": {},
     "output_type": "execute_result"
    }
   ],
   "source": [
    "r2_score(y.values,r_dt.predict(x.values)) # Desicion tree r2 değeri bunda veriler basit olduğu için nokta atış yaptı\n",
    "#veri sayısı kadar dallandırma koymuştuk   #bu sayı yüksek diye bunu almak kötü sonuçlar doğurur\n",
    "#burada hangi veriye hangi algoritma uygulanır onun önemini anlıyoruz"
   ]
  },
  {
   "cell_type": "code",
   "execution_count": 117,
   "id": "6842c29d-3d05-47b8-ad69-d60e0eccaa5b",
   "metadata": {},
   "outputs": [
    {
     "ename": "NameError",
     "evalue": "name 'x_olcekli' is not defined",
     "output_type": "error",
     "traceback": [
      "\u001b[0;31m---------------------------------------------------------------------------\u001b[0m",
      "\u001b[0;31mNameError\u001b[0m                                 Traceback (most recent call last)",
      "Input \u001b[0;32mIn [117]\u001b[0m, in \u001b[0;36m<cell line: 1>\u001b[0;34m()\u001b[0m\n\u001b[0;32m----> 1\u001b[0m r2_score(y_olcekli,svr_reg\u001b[38;5;241m.\u001b[39mpredict(\u001b[43mx_olcekli\u001b[49m))\n",
      "\u001b[0;31mNameError\u001b[0m: name 'x_olcekli' is not defined"
     ]
    }
   ],
   "source": [
    "r2_score(y_olcekli,svr_reg.predict(x_olcekli))  #Burada SUpport vektör regression algoritmasının sonucunu gösteriyor"
   ]
  },
  {
   "cell_type": "code",
   "execution_count": 118,
   "id": "d6ddb117-d143-4481-a272-72be9ade0691",
   "metadata": {},
   "outputs": [
    {
     "ename": "NameError",
     "evalue": "name 'lin_reg2' is not defined",
     "output_type": "error",
     "traceback": [
      "\u001b[0;31m---------------------------------------------------------------------------\u001b[0m",
      "\u001b[0;31mNameError\u001b[0m                                 Traceback (most recent call last)",
      "Input \u001b[0;32mIn [118]\u001b[0m, in \u001b[0;36m<cell line: 1>\u001b[0;34m()\u001b[0m\n\u001b[0;32m----> 1\u001b[0m r2_score(y\u001b[38;5;241m.\u001b[39mvalues,\u001b[43mlin_reg2\u001b[49m\u001b[38;5;241m.\u001b[39mpredict(poly_reg\u001b[38;5;241m.\u001b[39mfit_transform(x\u001b[38;5;241m.\u001b[39mvalues)))\n",
      "\u001b[0;31mNameError\u001b[0m: name 'lin_reg2' is not defined"
     ]
    }
   ],
   "source": [
    "r2_score(y.values,lin_reg2.predict(poly_reg.fit_transform(x.values)))  # POlinom regression sonucu"
   ]
  },
  {
   "cell_type": "code",
   "execution_count": 119,
   "id": "7846cdad-9883-47fc-a735-a45be9ba0db5",
   "metadata": {},
   "outputs": [
    {
     "data": {
      "text/plain": [
       "0.6690412331929894"
      ]
     },
     "execution_count": 119,
     "metadata": {},
     "output_type": "execute_result"
    }
   ],
   "source": [
    "r2_score(y.values,lin_reg.predict(x.values))  #Linear regression r2 değeri"
   ]
  },
  {
   "cell_type": "code",
   "execution_count": 120,
   "id": "8fd033a3-f17e-47c2-bcb8-b34bb7763de1",
   "metadata": {},
   "outputs": [],
   "source": [
    "#Yukarıdaki r2 değerleri veri setlerine göre verimlilliği değişir veri setinin tarzına bağlıdır"
   ]
  },
  {
   "cell_type": "markdown",
   "id": "d1ff7318-2b85-41f6-ab74-3f53cc502151",
   "metadata": {},
   "source": [
    "# Maaşlar Ödev (Predict Özet)"
   ]
  },
  {
   "cell_type": "code",
   "execution_count": 121,
   "id": "f82118ac-3819-469b-bd9c-d4153b629132",
   "metadata": {},
   "outputs": [],
   "source": [
    "veriler = pd.read_csv(\"maaslar_yeni.csv\")"
   ]
  },
  {
   "cell_type": "code",
   "execution_count": 122,
   "id": "3e2d0feb-7729-482f-9058-68288abff169",
   "metadata": {},
   "outputs": [
    {
     "data": {
      "text/html": [
       "<div>\n",
       "<style scoped>\n",
       "    .dataframe tbody tr th:only-of-type {\n",
       "        vertical-align: middle;\n",
       "    }\n",
       "\n",
       "    .dataframe tbody tr th {\n",
       "        vertical-align: top;\n",
       "    }\n",
       "\n",
       "    .dataframe thead th {\n",
       "        text-align: right;\n",
       "    }\n",
       "</style>\n",
       "<table border=\"1\" class=\"dataframe\">\n",
       "  <thead>\n",
       "    <tr style=\"text-align: right;\">\n",
       "      <th></th>\n",
       "      <th>Calisan ID</th>\n",
       "      <th>unvan</th>\n",
       "      <th>UnvanSeviyesi</th>\n",
       "      <th>Kidem</th>\n",
       "      <th>Puan</th>\n",
       "      <th>maas</th>\n",
       "    </tr>\n",
       "  </thead>\n",
       "  <tbody>\n",
       "    <tr>\n",
       "      <th>0</th>\n",
       "      <td>1</td>\n",
       "      <td>Cayci</td>\n",
       "      <td>1</td>\n",
       "      <td>5</td>\n",
       "      <td>70</td>\n",
       "      <td>2250</td>\n",
       "    </tr>\n",
       "    <tr>\n",
       "      <th>1</th>\n",
       "      <td>2</td>\n",
       "      <td>Sekreter</td>\n",
       "      <td>2</td>\n",
       "      <td>5</td>\n",
       "      <td>70</td>\n",
       "      <td>2500</td>\n",
       "    </tr>\n",
       "    <tr>\n",
       "      <th>2</th>\n",
       "      <td>3</td>\n",
       "      <td>Uzman Yardimcisi</td>\n",
       "      <td>3</td>\n",
       "      <td>5</td>\n",
       "      <td>70</td>\n",
       "      <td>3000</td>\n",
       "    </tr>\n",
       "    <tr>\n",
       "      <th>3</th>\n",
       "      <td>4</td>\n",
       "      <td>Uzman</td>\n",
       "      <td>4</td>\n",
       "      <td>5</td>\n",
       "      <td>70</td>\n",
       "      <td>4000</td>\n",
       "    </tr>\n",
       "    <tr>\n",
       "      <th>4</th>\n",
       "      <td>5</td>\n",
       "      <td>Proje Yoneticisi</td>\n",
       "      <td>5</td>\n",
       "      <td>5</td>\n",
       "      <td>70</td>\n",
       "      <td>5500</td>\n",
       "    </tr>\n",
       "    <tr>\n",
       "      <th>5</th>\n",
       "      <td>6</td>\n",
       "      <td>Sef</td>\n",
       "      <td>6</td>\n",
       "      <td>5</td>\n",
       "      <td>70</td>\n",
       "      <td>7500</td>\n",
       "    </tr>\n",
       "    <tr>\n",
       "      <th>6</th>\n",
       "      <td>7</td>\n",
       "      <td>Mudur</td>\n",
       "      <td>7</td>\n",
       "      <td>5</td>\n",
       "      <td>70</td>\n",
       "      <td>10000</td>\n",
       "    </tr>\n",
       "    <tr>\n",
       "      <th>7</th>\n",
       "      <td>8</td>\n",
       "      <td>Direktor</td>\n",
       "      <td>8</td>\n",
       "      <td>5</td>\n",
       "      <td>70</td>\n",
       "      <td>15000</td>\n",
       "    </tr>\n",
       "    <tr>\n",
       "      <th>8</th>\n",
       "      <td>9</td>\n",
       "      <td>C-level</td>\n",
       "      <td>9</td>\n",
       "      <td>5</td>\n",
       "      <td>70</td>\n",
       "      <td>25000</td>\n",
       "    </tr>\n",
       "    <tr>\n",
       "      <th>9</th>\n",
       "      <td>10</td>\n",
       "      <td>CEO</td>\n",
       "      <td>10</td>\n",
       "      <td>5</td>\n",
       "      <td>70</td>\n",
       "      <td>50000</td>\n",
       "    </tr>\n",
       "    <tr>\n",
       "      <th>10</th>\n",
       "      <td>11</td>\n",
       "      <td>Cayci</td>\n",
       "      <td>1</td>\n",
       "      <td>7</td>\n",
       "      <td>99</td>\n",
       "      <td>2000</td>\n",
       "    </tr>\n",
       "    <tr>\n",
       "      <th>11</th>\n",
       "      <td>12</td>\n",
       "      <td>Sekreter</td>\n",
       "      <td>2</td>\n",
       "      <td>7</td>\n",
       "      <td>9</td>\n",
       "      <td>2500</td>\n",
       "    </tr>\n",
       "    <tr>\n",
       "      <th>12</th>\n",
       "      <td>13</td>\n",
       "      <td>Uzman Yardimcisi</td>\n",
       "      <td>3</td>\n",
       "      <td>7</td>\n",
       "      <td>62</td>\n",
       "      <td>4000</td>\n",
       "    </tr>\n",
       "    <tr>\n",
       "      <th>13</th>\n",
       "      <td>14</td>\n",
       "      <td>Uzman</td>\n",
       "      <td>4</td>\n",
       "      <td>4</td>\n",
       "      <td>38</td>\n",
       "      <td>3000</td>\n",
       "    </tr>\n",
       "    <tr>\n",
       "      <th>14</th>\n",
       "      <td>15</td>\n",
       "      <td>Proje Yoneticisi</td>\n",
       "      <td>5</td>\n",
       "      <td>1</td>\n",
       "      <td>80</td>\n",
       "      <td>5000</td>\n",
       "    </tr>\n",
       "    <tr>\n",
       "      <th>15</th>\n",
       "      <td>16</td>\n",
       "      <td>Sef</td>\n",
       "      <td>6</td>\n",
       "      <td>2</td>\n",
       "      <td>35</td>\n",
       "      <td>5000</td>\n",
       "    </tr>\n",
       "    <tr>\n",
       "      <th>16</th>\n",
       "      <td>17</td>\n",
       "      <td>Mudur</td>\n",
       "      <td>7</td>\n",
       "      <td>8</td>\n",
       "      <td>99</td>\n",
       "      <td>12000</td>\n",
       "    </tr>\n",
       "    <tr>\n",
       "      <th>17</th>\n",
       "      <td>18</td>\n",
       "      <td>Direktor</td>\n",
       "      <td>8</td>\n",
       "      <td>4</td>\n",
       "      <td>58</td>\n",
       "      <td>11000</td>\n",
       "    </tr>\n",
       "    <tr>\n",
       "      <th>18</th>\n",
       "      <td>19</td>\n",
       "      <td>C-level</td>\n",
       "      <td>9</td>\n",
       "      <td>2</td>\n",
       "      <td>20</td>\n",
       "      <td>15000</td>\n",
       "    </tr>\n",
       "    <tr>\n",
       "      <th>19</th>\n",
       "      <td>20</td>\n",
       "      <td>CEO</td>\n",
       "      <td>10</td>\n",
       "      <td>4</td>\n",
       "      <td>42</td>\n",
       "      <td>22000</td>\n",
       "    </tr>\n",
       "    <tr>\n",
       "      <th>20</th>\n",
       "      <td>21</td>\n",
       "      <td>Cayci</td>\n",
       "      <td>1</td>\n",
       "      <td>8</td>\n",
       "      <td>11</td>\n",
       "      <td>2200</td>\n",
       "    </tr>\n",
       "    <tr>\n",
       "      <th>21</th>\n",
       "      <td>22</td>\n",
       "      <td>Sekreter</td>\n",
       "      <td>2</td>\n",
       "      <td>2</td>\n",
       "      <td>53</td>\n",
       "      <td>2200</td>\n",
       "    </tr>\n",
       "    <tr>\n",
       "      <th>22</th>\n",
       "      <td>23</td>\n",
       "      <td>Uzman Yardimcisi</td>\n",
       "      <td>3</td>\n",
       "      <td>8</td>\n",
       "      <td>50</td>\n",
       "      <td>2800</td>\n",
       "    </tr>\n",
       "    <tr>\n",
       "      <th>23</th>\n",
       "      <td>24</td>\n",
       "      <td>Uzman</td>\n",
       "      <td>4</td>\n",
       "      <td>9</td>\n",
       "      <td>91</td>\n",
       "      <td>6000</td>\n",
       "    </tr>\n",
       "    <tr>\n",
       "      <th>24</th>\n",
       "      <td>25</td>\n",
       "      <td>Proje Yoneticisi</td>\n",
       "      <td>5</td>\n",
       "      <td>9</td>\n",
       "      <td>71</td>\n",
       "      <td>5400</td>\n",
       "    </tr>\n",
       "    <tr>\n",
       "      <th>25</th>\n",
       "      <td>26</td>\n",
       "      <td>Sef</td>\n",
       "      <td>6</td>\n",
       "      <td>1</td>\n",
       "      <td>2</td>\n",
       "      <td>4000</td>\n",
       "    </tr>\n",
       "    <tr>\n",
       "      <th>26</th>\n",
       "      <td>27</td>\n",
       "      <td>Mudur</td>\n",
       "      <td>7</td>\n",
       "      <td>10</td>\n",
       "      <td>81</td>\n",
       "      <td>12000</td>\n",
       "    </tr>\n",
       "    <tr>\n",
       "      <th>27</th>\n",
       "      <td>28</td>\n",
       "      <td>Direktor</td>\n",
       "      <td>8</td>\n",
       "      <td>10</td>\n",
       "      <td>38</td>\n",
       "      <td>10000</td>\n",
       "    </tr>\n",
       "    <tr>\n",
       "      <th>28</th>\n",
       "      <td>29</td>\n",
       "      <td>C-level</td>\n",
       "      <td>9</td>\n",
       "      <td>1</td>\n",
       "      <td>50</td>\n",
       "      <td>15000</td>\n",
       "    </tr>\n",
       "    <tr>\n",
       "      <th>29</th>\n",
       "      <td>30</td>\n",
       "      <td>CEO</td>\n",
       "      <td>10</td>\n",
       "      <td>9</td>\n",
       "      <td>83</td>\n",
       "      <td>60000</td>\n",
       "    </tr>\n",
       "  </tbody>\n",
       "</table>\n",
       "</div>"
      ],
      "text/plain": [
       "    Calisan ID             unvan  UnvanSeviyesi  Kidem  Puan   maas\n",
       "0            1             Cayci              1      5    70   2250\n",
       "1            2          Sekreter              2      5    70   2500\n",
       "2            3  Uzman Yardimcisi              3      5    70   3000\n",
       "3            4             Uzman              4      5    70   4000\n",
       "4            5  Proje Yoneticisi              5      5    70   5500\n",
       "5            6               Sef              6      5    70   7500\n",
       "6            7             Mudur              7      5    70  10000\n",
       "7            8          Direktor              8      5    70  15000\n",
       "8            9           C-level              9      5    70  25000\n",
       "9           10               CEO             10      5    70  50000\n",
       "10          11             Cayci              1      7    99   2000\n",
       "11          12          Sekreter              2      7     9   2500\n",
       "12          13  Uzman Yardimcisi              3      7    62   4000\n",
       "13          14             Uzman              4      4    38   3000\n",
       "14          15  Proje Yoneticisi              5      1    80   5000\n",
       "15          16               Sef              6      2    35   5000\n",
       "16          17             Mudur              7      8    99  12000\n",
       "17          18          Direktor              8      4    58  11000\n",
       "18          19           C-level              9      2    20  15000\n",
       "19          20               CEO             10      4    42  22000\n",
       "20          21             Cayci              1      8    11   2200\n",
       "21          22          Sekreter              2      2    53   2200\n",
       "22          23  Uzman Yardimcisi              3      8    50   2800\n",
       "23          24             Uzman              4      9    91   6000\n",
       "24          25  Proje Yoneticisi              5      9    71   5400\n",
       "25          26               Sef              6      1     2   4000\n",
       "26          27             Mudur              7     10    81  12000\n",
       "27          28          Direktor              8     10    38  10000\n",
       "28          29           C-level              9      1    50  15000\n",
       "29          30               CEO             10      9    83  60000"
      ]
     },
     "execution_count": 122,
     "metadata": {},
     "output_type": "execute_result"
    }
   ],
   "source": [
    "veriler"
   ]
  },
  {
   "cell_type": "code",
   "execution_count": 123,
   "id": "a3afacca-ff3c-4526-a6c6-12d372931de6",
   "metadata": {},
   "outputs": [],
   "source": [
    "# çalışan ıd si alınmaz overfittinge sebeb olur \n",
    "# unvanlar burada kukladır çünkü unvan seviyesi olarak ayrı bir kolon verilmiş oo yüzden gereksiz"
   ]
  },
  {
   "cell_type": "code",
   "execution_count": 124,
   "id": "00527cf7-783c-451e-b46f-5577e6dbd5de",
   "metadata": {},
   "outputs": [],
   "source": [
    "#bağımlı değişkenimiz maaştır \n",
    "#ünvan seviyesi kıdem ve puanlar bağımsız değişkendir"
   ]
  },
  {
   "cell_type": "code",
   "execution_count": 125,
   "id": "b90f721c-5460-44ed-b9a6-085d3cb8340a",
   "metadata": {},
   "outputs": [],
   "source": [
    "x = veriler.iloc[:,2:5]  #unvan seviyesi kıdem ve puanı aldık\n",
    "y = veriler.iloc[:,5:]  # sadece maaşı aldık\n",
    "#veriler dataframe bunları values olarak almamız gerek \n",
    "X = x.values\n",
    "Y = y.values"
   ]
  },
  {
   "cell_type": "markdown",
   "id": "5301f050-d3f3-485e-85db-6b9977cf5656",
   "metadata": {},
   "source": [
    "**Linear Regression**"
   ]
  },
  {
   "cell_type": "code",
   "execution_count": 126,
   "id": "977ebfff-fae8-4e78-b316-e9fdb49485bb",
   "metadata": {},
   "outputs": [
    {
     "data": {
      "text/plain": [
       "LinearRegression()"
      ]
     },
     "execution_count": 126,
     "metadata": {},
     "output_type": "execute_result"
    }
   ],
   "source": [
    "from sklearn.linear_model import LinearRegression\n",
    "lin_reg =  LinearRegression()\n",
    "lin_reg.fit(X,Y) "
   ]
  },
  {
   "cell_type": "code",
   "execution_count": 127,
   "id": "52e3af98-be22-40a9-b6b7-efdb793d8b12",
   "metadata": {},
   "outputs": [
    {
     "data": {
      "text/html": [
       "<table class=\"simpletable\">\n",
       "<caption>OLS Regression Results</caption>\n",
       "<tr>\n",
       "  <th>Dep. Variable:</th>            <td>y</td>        <th>  R-squared (uncentered):</th>      <td>   0.903</td>\n",
       "</tr>\n",
       "<tr>\n",
       "  <th>Model:</th>                   <td>OLS</td>       <th>  Adj. R-squared (uncentered):</th> <td>   0.892</td>\n",
       "</tr>\n",
       "<tr>\n",
       "  <th>Method:</th>             <td>Least Squares</td>  <th>  F-statistic:       </th>          <td>   83.89</td>\n",
       "</tr>\n",
       "<tr>\n",
       "  <th>Date:</th>             <td>Wed, 27 Jul 2022</td> <th>  Prob (F-statistic):</th>          <td>8.38e-14</td>\n",
       "</tr>\n",
       "<tr>\n",
       "  <th>Time:</th>                 <td>04:26:47</td>     <th>  Log-Likelihood:    </th>          <td> -295.74</td>\n",
       "</tr>\n",
       "<tr>\n",
       "  <th>No. Observations:</th>      <td>    30</td>      <th>  AIC:               </th>          <td>   597.5</td>\n",
       "</tr>\n",
       "<tr>\n",
       "  <th>Df Residuals:</th>          <td>    27</td>      <th>  BIC:               </th>          <td>   601.7</td>\n",
       "</tr>\n",
       "<tr>\n",
       "  <th>Df Model:</th>              <td>     3</td>      <th>                     </th>              <td> </td>   \n",
       "</tr>\n",
       "<tr>\n",
       "  <th>Covariance Type:</th>      <td>nonrobust</td>    <th>                     </th>              <td> </td>   \n",
       "</tr>\n",
       "</table>\n",
       "<table class=\"simpletable\">\n",
       "<tr>\n",
       "   <td></td>     <th>coef</th>     <th>std err</th>      <th>t</th>      <th>P>|t|</th>  <th>[0.025</th>    <th>0.975]</th>  \n",
       "</tr>\n",
       "<tr>\n",
       "  <th>x1</th> <td> 2494.8107</td> <td>  256.145</td> <td>    9.740</td> <td> 0.000</td> <td> 1969.244</td> <td> 3020.377</td>\n",
       "</tr>\n",
       "<tr>\n",
       "  <th>x2</th> <td>    1.3531</td> <td>  318.990</td> <td>    0.004</td> <td> 0.997</td> <td> -653.161</td> <td>  655.867</td>\n",
       "</tr>\n",
       "<tr>\n",
       "  <th>x3</th> <td>  -26.5687</td> <td>   33.657</td> <td>   -0.789</td> <td> 0.437</td> <td>  -95.626</td> <td>   42.489</td>\n",
       "</tr>\n",
       "</table>\n",
       "<table class=\"simpletable\">\n",
       "<tr>\n",
       "  <th>Omnibus:</th>       <td> 0.440</td> <th>  Durbin-Watson:     </th> <td>   1.617</td>\n",
       "</tr>\n",
       "<tr>\n",
       "  <th>Prob(Omnibus):</th> <td> 0.803</td> <th>  Jarque-Bera (JB):  </th> <td>   0.573</td>\n",
       "</tr>\n",
       "<tr>\n",
       "  <th>Skew:</th>          <td> 0.109</td> <th>  Prob(JB):          </th> <td>   0.751</td>\n",
       "</tr>\n",
       "<tr>\n",
       "  <th>Kurtosis:</th>      <td> 2.359</td> <th>  Cond. No.          </th> <td>    23.7</td>\n",
       "</tr>\n",
       "</table><br/><br/>Notes:<br/>[1] R² is computed without centering (uncentered) since the model does not contain a constant.<br/>[2] Standard Errors assume that the covariance matrix of the errors is correctly specified."
      ],
      "text/plain": [
       "<class 'statsmodels.iolib.summary.Summary'>\n",
       "\"\"\"\n",
       "                                 OLS Regression Results                                \n",
       "=======================================================================================\n",
       "Dep. Variable:                      y   R-squared (uncentered):                   0.903\n",
       "Model:                            OLS   Adj. R-squared (uncentered):              0.892\n",
       "Method:                 Least Squares   F-statistic:                              83.89\n",
       "Date:                Wed, 27 Jul 2022   Prob (F-statistic):                    8.38e-14\n",
       "Time:                        04:26:47   Log-Likelihood:                         -295.74\n",
       "No. Observations:                  30   AIC:                                      597.5\n",
       "Df Residuals:                      27   BIC:                                      601.7\n",
       "Df Model:                           3                                                  \n",
       "Covariance Type:            nonrobust                                                  \n",
       "==============================================================================\n",
       "                 coef    std err          t      P>|t|      [0.025      0.975]\n",
       "------------------------------------------------------------------------------\n",
       "x1          2494.8107    256.145      9.740      0.000    1969.244    3020.377\n",
       "x2             1.3531    318.990      0.004      0.997    -653.161     655.867\n",
       "x3           -26.5687     33.657     -0.789      0.437     -95.626      42.489\n",
       "==============================================================================\n",
       "Omnibus:                        0.440   Durbin-Watson:                   1.617\n",
       "Prob(Omnibus):                  0.803   Jarque-Bera (JB):                0.573\n",
       "Skew:                           0.109   Prob(JB):                        0.751\n",
       "Kurtosis:                       2.359   Cond. No.                         23.7\n",
       "==============================================================================\n",
       "\n",
       "Notes:\n",
       "[1] R² is computed without centering (uncentered) since the model does not contain a constant.\n",
       "[2] Standard Errors assume that the covariance matrix of the errors is correctly specified.\n",
       "\"\"\""
      ]
     },
     "execution_count": 127,
     "metadata": {},
     "output_type": "execute_result"
    }
   ],
   "source": [
    "import statsmodels.api as sm\n",
    "model = sm.OLS(lin_reg.predict(X),X)\n",
    "model.fit().summary()  "
   ]
  },
  {
   "cell_type": "code",
   "execution_count": 128,
   "id": "0bd9d656-0239-4868-abf3-4f49a5770bab",
   "metadata": {},
   "outputs": [],
   "source": [
    "# x2 ve x3 değerlerinde P değerleri çok yüksek bu yüzden onları çıkartıp deneyelim"
   ]
  },
  {
   "cell_type": "code",
   "execution_count": 129,
   "id": "9e00bf55-28a4-48af-bd11-89fbd674273e",
   "metadata": {},
   "outputs": [],
   "source": [
    "x = veriler.iloc[:,2:3] \n",
    "y = veriler.iloc[:,5:] \n",
    "X = x.values\n",
    "Y = y.values"
   ]
  },
  {
   "cell_type": "code",
   "execution_count": 130,
   "id": "fb2e6347-c63f-46b4-9cc0-65646646e510",
   "metadata": {},
   "outputs": [
    {
     "data": {
      "text/plain": [
       "LinearRegression()"
      ]
     },
     "execution_count": 130,
     "metadata": {},
     "output_type": "execute_result"
    }
   ],
   "source": [
    "from sklearn.linear_model import LinearRegression\n",
    "lin_reg =  LinearRegression()\n",
    "lin_reg.fit(X,Y) "
   ]
  },
  {
   "cell_type": "code",
   "execution_count": 131,
   "id": "7ad2f2f8-38eb-4d00-9596-73642a1feff1",
   "metadata": {},
   "outputs": [
    {
     "data": {
      "text/html": [
       "<table class=\"simpletable\">\n",
       "<caption>OLS Regression Results</caption>\n",
       "<tr>\n",
       "  <th>Dep. Variable:</th>            <td>y</td>        <th>  R-squared (uncentered):</th>      <td>   0.942</td>\n",
       "</tr>\n",
       "<tr>\n",
       "  <th>Model:</th>                   <td>OLS</td>       <th>  Adj. R-squared (uncentered):</th> <td>   0.940</td>\n",
       "</tr>\n",
       "<tr>\n",
       "  <th>Method:</th>             <td>Least Squares</td>  <th>  F-statistic:       </th>          <td>   468.1</td>\n",
       "</tr>\n",
       "<tr>\n",
       "  <th>Date:</th>             <td>Wed, 27 Jul 2022</td> <th>  Prob (F-statistic):</th>          <td>1.93e-19</td>\n",
       "</tr>\n",
       "<tr>\n",
       "  <th>Time:</th>                 <td>04:26:47</td>     <th>  Log-Likelihood:    </th>          <td> -287.43</td>\n",
       "</tr>\n",
       "<tr>\n",
       "  <th>No. Observations:</th>      <td>    30</td>      <th>  AIC:               </th>          <td>   576.9</td>\n",
       "</tr>\n",
       "<tr>\n",
       "  <th>Df Residuals:</th>          <td>    29</td>      <th>  BIC:               </th>          <td>   578.3</td>\n",
       "</tr>\n",
       "<tr>\n",
       "  <th>Df Model:</th>              <td>     1</td>      <th>                     </th>              <td> </td>   \n",
       "</tr>\n",
       "<tr>\n",
       "  <th>Covariance Type:</th>      <td>nonrobust</td>    <th>                     </th>              <td> </td>   \n",
       "</tr>\n",
       "</table>\n",
       "<table class=\"simpletable\">\n",
       "<tr>\n",
       "   <td></td>     <th>coef</th>     <th>std err</th>      <th>t</th>      <th>P>|t|</th>  <th>[0.025</th>    <th>0.975]</th>  \n",
       "</tr>\n",
       "<tr>\n",
       "  <th>x1</th> <td> 2269.9134</td> <td>  104.919</td> <td>   21.635</td> <td> 0.000</td> <td> 2055.330</td> <td> 2484.497</td>\n",
       "</tr>\n",
       "</table>\n",
       "<table class=\"simpletable\">\n",
       "<tr>\n",
       "  <th>Omnibus:</th>       <td> 5.870</td> <th>  Durbin-Watson:     </th> <td>   0.600</td>\n",
       "</tr>\n",
       "<tr>\n",
       "  <th>Prob(Omnibus):</th> <td> 0.053</td> <th>  Jarque-Bera (JB):  </th> <td>   1.873</td>\n",
       "</tr>\n",
       "<tr>\n",
       "  <th>Skew:</th>          <td>-0.000</td> <th>  Prob(JB):          </th> <td>   0.392</td>\n",
       "</tr>\n",
       "<tr>\n",
       "  <th>Kurtosis:</th>      <td> 1.776</td> <th>  Cond. No.          </th> <td>    1.00</td>\n",
       "</tr>\n",
       "</table><br/><br/>Notes:<br/>[1] R² is computed without centering (uncentered) since the model does not contain a constant.<br/>[2] Standard Errors assume that the covariance matrix of the errors is correctly specified."
      ],
      "text/plain": [
       "<class 'statsmodels.iolib.summary.Summary'>\n",
       "\"\"\"\n",
       "                                 OLS Regression Results                                \n",
       "=======================================================================================\n",
       "Dep. Variable:                      y   R-squared (uncentered):                   0.942\n",
       "Model:                            OLS   Adj. R-squared (uncentered):              0.940\n",
       "Method:                 Least Squares   F-statistic:                              468.1\n",
       "Date:                Wed, 27 Jul 2022   Prob (F-statistic):                    1.93e-19\n",
       "Time:                        04:26:47   Log-Likelihood:                         -287.43\n",
       "No. Observations:                  30   AIC:                                      576.9\n",
       "Df Residuals:                      29   BIC:                                      578.3\n",
       "Df Model:                           1                                                  \n",
       "Covariance Type:            nonrobust                                                  \n",
       "==============================================================================\n",
       "                 coef    std err          t      P>|t|      [0.025      0.975]\n",
       "------------------------------------------------------------------------------\n",
       "x1          2269.9134    104.919     21.635      0.000    2055.330    2484.497\n",
       "==============================================================================\n",
       "Omnibus:                        5.870   Durbin-Watson:                   0.600\n",
       "Prob(Omnibus):                  0.053   Jarque-Bera (JB):                1.873\n",
       "Skew:                          -0.000   Prob(JB):                        0.392\n",
       "Kurtosis:                       1.776   Cond. No.                         1.00\n",
       "==============================================================================\n",
       "\n",
       "Notes:\n",
       "[1] R² is computed without centering (uncentered) since the model does not contain a constant.\n",
       "[2] Standard Errors assume that the covariance matrix of the errors is correctly specified.\n",
       "\"\"\""
      ]
     },
     "execution_count": 131,
     "metadata": {},
     "output_type": "execute_result"
    }
   ],
   "source": [
    "import statsmodels.api as sm\n",
    "model = sm.OLS(lin_reg.predict(X),X)\n",
    "model.fit().summary()  "
   ]
  },
  {
   "cell_type": "code",
   "execution_count": 132,
   "id": "58953a0f-877c-4a08-b3f6-0a6981c48240",
   "metadata": {},
   "outputs": [],
   "source": [
    "# x2 ve x3 değerlerini çıkartınca R değeri büyüdü "
   ]
  },
  {
   "cell_type": "markdown",
   "id": "5f214668-54ed-4304-ab12-278bb43783c9",
   "metadata": {},
   "source": [
    "**Polynomial Regression**"
   ]
  },
  {
   "cell_type": "code",
   "execution_count": 133,
   "id": "9f924ad4-cbc7-45b0-ace9-6b4e1be49da5",
   "metadata": {},
   "outputs": [],
   "source": [
    "x = veriler.iloc[:,2:5] \n",
    "y = veriler.iloc[:,5:] \n",
    "X = x.values\n",
    "Y = y.values"
   ]
  },
  {
   "cell_type": "code",
   "execution_count": 134,
   "id": "d78f460a-d4fc-47c6-8845-268d9a7cf9c9",
   "metadata": {},
   "outputs": [],
   "source": [
    "from sklearn.preprocessing import PolynomialFeatures\n",
    "poly_reg = PolynomialFeatures(degree = 4)\n",
    "x_poly = poly_reg.fit_transform(x.values)"
   ]
  },
  {
   "cell_type": "code",
   "execution_count": 135,
   "id": "8869a30b-6e99-4664-986b-dcd2d1d70666",
   "metadata": {},
   "outputs": [
    {
     "data": {
      "text/plain": [
       "LinearRegression()"
      ]
     },
     "execution_count": 135,
     "metadata": {},
     "output_type": "execute_result"
    }
   ],
   "source": [
    "lin_reg2 = LinearRegression()\n",
    "lin_reg2.fit(x_poly,y)"
   ]
  },
  {
   "cell_type": "code",
   "execution_count": 136,
   "id": "8f694210-44c6-4cb9-8101-cee1acaa3903",
   "metadata": {},
   "outputs": [
    {
     "data": {
      "text/html": [
       "<table class=\"simpletable\">\n",
       "<caption>OLS Regression Results</caption>\n",
       "<tr>\n",
       "  <th>Dep. Variable:</th>            <td>y</td>        <th>  R-squared (uncentered):</th>      <td>   0.680</td>\n",
       "</tr>\n",
       "<tr>\n",
       "  <th>Model:</th>                   <td>OLS</td>       <th>  Adj. R-squared (uncentered):</th> <td>   0.644</td>\n",
       "</tr>\n",
       "<tr>\n",
       "  <th>Method:</th>             <td>Least Squares</td>  <th>  F-statistic:       </th>          <td>   19.11</td>\n",
       "</tr>\n",
       "<tr>\n",
       "  <th>Date:</th>             <td>Wed, 27 Jul 2022</td> <th>  Prob (F-statistic):</th>          <td>7.49e-07</td>\n",
       "</tr>\n",
       "<tr>\n",
       "  <th>Time:</th>                 <td>04:26:47</td>     <th>  Log-Likelihood:    </th>          <td> -317.93</td>\n",
       "</tr>\n",
       "<tr>\n",
       "  <th>No. Observations:</th>      <td>    30</td>      <th>  AIC:               </th>          <td>   641.9</td>\n",
       "</tr>\n",
       "<tr>\n",
       "  <th>Df Residuals:</th>          <td>    27</td>      <th>  BIC:               </th>          <td>   646.1</td>\n",
       "</tr>\n",
       "<tr>\n",
       "  <th>Df Model:</th>              <td>     3</td>      <th>                     </th>              <td> </td>   \n",
       "</tr>\n",
       "<tr>\n",
       "  <th>Covariance Type:</th>      <td>nonrobust</td>    <th>                     </th>              <td> </td>   \n",
       "</tr>\n",
       "</table>\n",
       "<table class=\"simpletable\">\n",
       "<tr>\n",
       "   <td></td>     <th>coef</th>     <th>std err</th>      <th>t</th>      <th>P>|t|</th>  <th>[0.025</th>    <th>0.975]</th>  \n",
       "</tr>\n",
       "<tr>\n",
       "  <th>x1</th> <td> 2494.8107</td> <td>  536.645</td> <td>    4.649</td> <td> 0.000</td> <td> 1393.705</td> <td> 3595.916</td>\n",
       "</tr>\n",
       "<tr>\n",
       "  <th>x2</th> <td>    1.3531</td> <td>  668.311</td> <td>    0.002</td> <td> 0.998</td> <td>-1369.907</td> <td> 1372.614</td>\n",
       "</tr>\n",
       "<tr>\n",
       "  <th>x3</th> <td>  -26.5687</td> <td>   70.513</td> <td>   -0.377</td> <td> 0.709</td> <td> -171.250</td> <td>  118.113</td>\n",
       "</tr>\n",
       "</table>\n",
       "<table class=\"simpletable\">\n",
       "<tr>\n",
       "  <th>Omnibus:</th>       <td>39.861</td> <th>  Durbin-Watson:     </th> <td>   1.171</td>\n",
       "</tr>\n",
       "<tr>\n",
       "  <th>Prob(Omnibus):</th> <td> 0.000</td> <th>  Jarque-Bera (JB):  </th> <td> 121.882</td>\n",
       "</tr>\n",
       "<tr>\n",
       "  <th>Skew:</th>          <td> 2.862</td> <th>  Prob(JB):          </th> <td>3.42e-27</td>\n",
       "</tr>\n",
       "<tr>\n",
       "  <th>Kurtosis:</th>      <td>11.046</td> <th>  Cond. No.          </th> <td>    23.7</td>\n",
       "</tr>\n",
       "</table><br/><br/>Notes:<br/>[1] R² is computed without centering (uncentered) since the model does not contain a constant.<br/>[2] Standard Errors assume that the covariance matrix of the errors is correctly specified."
      ],
      "text/plain": [
       "<class 'statsmodels.iolib.summary.Summary'>\n",
       "\"\"\"\n",
       "                                 OLS Regression Results                                \n",
       "=======================================================================================\n",
       "Dep. Variable:                      y   R-squared (uncentered):                   0.680\n",
       "Model:                            OLS   Adj. R-squared (uncentered):              0.644\n",
       "Method:                 Least Squares   F-statistic:                              19.11\n",
       "Date:                Wed, 27 Jul 2022   Prob (F-statistic):                    7.49e-07\n",
       "Time:                        04:26:47   Log-Likelihood:                         -317.93\n",
       "No. Observations:                  30   AIC:                                      641.9\n",
       "Df Residuals:                      27   BIC:                                      646.1\n",
       "Df Model:                           3                                                  \n",
       "Covariance Type:            nonrobust                                                  \n",
       "==============================================================================\n",
       "                 coef    std err          t      P>|t|      [0.025      0.975]\n",
       "------------------------------------------------------------------------------\n",
       "x1          2494.8107    536.645      4.649      0.000    1393.705    3595.916\n",
       "x2             1.3531    668.311      0.002      0.998   -1369.907    1372.614\n",
       "x3           -26.5687     70.513     -0.377      0.709    -171.250     118.113\n",
       "==============================================================================\n",
       "Omnibus:                       39.861   Durbin-Watson:                   1.171\n",
       "Prob(Omnibus):                  0.000   Jarque-Bera (JB):              121.882\n",
       "Skew:                           2.862   Prob(JB):                     3.42e-27\n",
       "Kurtosis:                      11.046   Cond. No.                         23.7\n",
       "==============================================================================\n",
       "\n",
       "Notes:\n",
       "[1] R² is computed without centering (uncentered) since the model does not contain a constant.\n",
       "[2] Standard Errors assume that the covariance matrix of the errors is correctly specified.\n",
       "\"\"\""
      ]
     },
     "execution_count": 136,
     "metadata": {},
     "output_type": "execute_result"
    }
   ],
   "source": [
    "model2 = sm.OLS(lin_reg2.predict(poly_reg.fit_transform(X)),X)\n",
    "model2.fit().summary()  "
   ]
  },
  {
   "cell_type": "code",
   "execution_count": 137,
   "id": "0fe45c38-37b8-4574-a90e-28bdd214ec43",
   "metadata": {},
   "outputs": [],
   "source": [
    "# Aynı şekilde x2 ve x3 değerlerinin Pvalue değerleri yüksek onları çıkartabiliriz"
   ]
  },
  {
   "cell_type": "code",
   "execution_count": 138,
   "id": "456829e6-5288-4d76-8fd5-f4b46ff820d7",
   "metadata": {},
   "outputs": [],
   "source": [
    "x = veriler.iloc[:,2:3] \n",
    "y = veriler.iloc[:,5:] \n",
    "X = x.values\n",
    "Y = y.values"
   ]
  },
  {
   "cell_type": "code",
   "execution_count": 139,
   "id": "ce58f078-166c-4468-bb19-48a00ac4632f",
   "metadata": {},
   "outputs": [],
   "source": [
    "from sklearn.preprocessing import PolynomialFeatures\n",
    "poly_reg = PolynomialFeatures(degree = 4)\n",
    "x_poly = poly_reg.fit_transform(x.values)"
   ]
  },
  {
   "cell_type": "code",
   "execution_count": 140,
   "id": "b199d932-e19e-4848-b25d-9de0fc3c1227",
   "metadata": {},
   "outputs": [
    {
     "data": {
      "text/plain": [
       "LinearRegression()"
      ]
     },
     "execution_count": 140,
     "metadata": {},
     "output_type": "execute_result"
    }
   ],
   "source": [
    "lin_reg2 = LinearRegression()\n",
    "lin_reg2.fit(x_poly,y)"
   ]
  },
  {
   "cell_type": "code",
   "execution_count": 141,
   "id": "bdf8f324-7a94-48eb-98a1-9e20e5c5e43f",
   "metadata": {},
   "outputs": [
    {
     "data": {
      "text/html": [
       "<table class=\"simpletable\">\n",
       "<caption>OLS Regression Results</caption>\n",
       "<tr>\n",
       "  <th>Dep. Variable:</th>            <td>y</td>        <th>  R-squared (uncentered):</th>      <td>   0.759</td>\n",
       "</tr>\n",
       "<tr>\n",
       "  <th>Model:</th>                   <td>OLS</td>       <th>  Adj. R-squared (uncentered):</th> <td>   0.751</td>\n",
       "</tr>\n",
       "<tr>\n",
       "  <th>Method:</th>             <td>Least Squares</td>  <th>  F-statistic:       </th>          <td>   91.39</td>\n",
       "</tr>\n",
       "<tr>\n",
       "  <th>Date:</th>             <td>Wed, 27 Jul 2022</td> <th>  Prob (F-statistic):</th>          <td>1.82e-10</td>\n",
       "</tr>\n",
       "<tr>\n",
       "  <th>Time:</th>                 <td>04:26:47</td>     <th>  Log-Likelihood:    </th>          <td> -311.94</td>\n",
       "</tr>\n",
       "<tr>\n",
       "  <th>No. Observations:</th>      <td>    30</td>      <th>  AIC:               </th>          <td>   625.9</td>\n",
       "</tr>\n",
       "<tr>\n",
       "  <th>Df Residuals:</th>          <td>    29</td>      <th>  BIC:               </th>          <td>   627.3</td>\n",
       "</tr>\n",
       "<tr>\n",
       "  <th>Df Model:</th>              <td>     1</td>      <th>                     </th>              <td> </td>   \n",
       "</tr>\n",
       "<tr>\n",
       "  <th>Covariance Type:</th>      <td>nonrobust</td>    <th>                     </th>              <td> </td>   \n",
       "</tr>\n",
       "</table>\n",
       "<table class=\"simpletable\">\n",
       "<tr>\n",
       "   <td></td>     <th>coef</th>     <th>std err</th>      <th>t</th>      <th>P>|t|</th>  <th>[0.025</th>    <th>0.975]</th>  \n",
       "</tr>\n",
       "<tr>\n",
       "  <th>x1</th> <td> 2269.9134</td> <td>  237.448</td> <td>    9.560</td> <td> 0.000</td> <td> 1784.278</td> <td> 2755.548</td>\n",
       "</tr>\n",
       "</table>\n",
       "<table class=\"simpletable\">\n",
       "<tr>\n",
       "  <th>Omnibus:</th>       <td>23.972</td> <th>  Durbin-Watson:     </th> <td>   1.119</td>\n",
       "</tr>\n",
       "<tr>\n",
       "  <th>Prob(Omnibus):</th> <td> 0.000</td> <th>  Jarque-Bera (JB):  </th> <td>  34.342</td>\n",
       "</tr>\n",
       "<tr>\n",
       "  <th>Skew:</th>          <td> 2.067</td> <th>  Prob(JB):          </th> <td>3.49e-08</td>\n",
       "</tr>\n",
       "<tr>\n",
       "  <th>Kurtosis:</th>      <td> 6.223</td> <th>  Cond. No.          </th> <td>    1.00</td>\n",
       "</tr>\n",
       "</table><br/><br/>Notes:<br/>[1] R² is computed without centering (uncentered) since the model does not contain a constant.<br/>[2] Standard Errors assume that the covariance matrix of the errors is correctly specified."
      ],
      "text/plain": [
       "<class 'statsmodels.iolib.summary.Summary'>\n",
       "\"\"\"\n",
       "                                 OLS Regression Results                                \n",
       "=======================================================================================\n",
       "Dep. Variable:                      y   R-squared (uncentered):                   0.759\n",
       "Model:                            OLS   Adj. R-squared (uncentered):              0.751\n",
       "Method:                 Least Squares   F-statistic:                              91.39\n",
       "Date:                Wed, 27 Jul 2022   Prob (F-statistic):                    1.82e-10\n",
       "Time:                        04:26:47   Log-Likelihood:                         -311.94\n",
       "No. Observations:                  30   AIC:                                      625.9\n",
       "Df Residuals:                      29   BIC:                                      627.3\n",
       "Df Model:                           1                                                  \n",
       "Covariance Type:            nonrobust                                                  \n",
       "==============================================================================\n",
       "                 coef    std err          t      P>|t|      [0.025      0.975]\n",
       "------------------------------------------------------------------------------\n",
       "x1          2269.9134    237.448      9.560      0.000    1784.278    2755.548\n",
       "==============================================================================\n",
       "Omnibus:                       23.972   Durbin-Watson:                   1.119\n",
       "Prob(Omnibus):                  0.000   Jarque-Bera (JB):               34.342\n",
       "Skew:                           2.067   Prob(JB):                     3.49e-08\n",
       "Kurtosis:                       6.223   Cond. No.                         1.00\n",
       "==============================================================================\n",
       "\n",
       "Notes:\n",
       "[1] R² is computed without centering (uncentered) since the model does not contain a constant.\n",
       "[2] Standard Errors assume that the covariance matrix of the errors is correctly specified.\n",
       "\"\"\""
      ]
     },
     "execution_count": 141,
     "metadata": {},
     "output_type": "execute_result"
    }
   ],
   "source": [
    "model2 = sm.OLS(lin_reg2.predict(poly_reg.fit_transform(X)),X)\n",
    "model2.fit().summary()  "
   ]
  },
  {
   "cell_type": "code",
   "execution_count": 142,
   "id": "4237c73b-ae7f-4d73-8d95-2a92e776e0a9",
   "metadata": {},
   "outputs": [],
   "source": [
    "# R2 değeri büyüdü"
   ]
  },
  {
   "cell_type": "code",
   "execution_count": 143,
   "id": "0617b9f0-c5c5-4d2e-8e04-4744d11e2951",
   "metadata": {},
   "outputs": [],
   "source": [
    "x = veriler.iloc[:,2:5] \n",
    "y = veriler.iloc[:,5:] \n",
    "X = x.values\n",
    "Y = y.values"
   ]
  },
  {
   "cell_type": "code",
   "execution_count": 144,
   "id": "6383bcbb-2a3c-4d12-af4d-edd16b27f089",
   "metadata": {},
   "outputs": [],
   "source": [
    "from sklearn.preprocessing import StandardScaler\n",
    "sc1 = StandardScaler()\n",
    "x_olcekli = sc1.fit_transform(x.values)\n",
    "sc2 = StandardScaler()\n",
    "y_olcekli = sc2.fit_transform(y.values)"
   ]
  },
  {
   "cell_type": "code",
   "execution_count": 145,
   "id": "99c460d9-f952-4c78-8e44-9378b6f1282c",
   "metadata": {},
   "outputs": [
    {
     "data": {
      "text/plain": [
       "SVR()"
      ]
     },
     "execution_count": 145,
     "metadata": {},
     "output_type": "execute_result"
    }
   ],
   "source": [
    "from sklearn.svm import SVR\n",
    "svr_reg = SVR(kernel = \"rbf\")\n",
    "svr_reg.fit(x_olcekli,y_olcekli)"
   ]
  },
  {
   "cell_type": "code",
   "execution_count": 146,
   "id": "6e6c486e-12d4-4446-8b73-f4c50a81a89f",
   "metadata": {},
   "outputs": [
    {
     "data": {
      "text/html": [
       "<table class=\"simpletable\">\n",
       "<caption>OLS Regression Results</caption>\n",
       "<tr>\n",
       "  <th>Dep. Variable:</th>            <td>y</td>        <th>  R-squared (uncentered):</th>      <td>   0.782</td>\n",
       "</tr>\n",
       "<tr>\n",
       "  <th>Model:</th>                   <td>OLS</td>       <th>  Adj. R-squared (uncentered):</th> <td>   0.758</td>\n",
       "</tr>\n",
       "<tr>\n",
       "  <th>Method:</th>             <td>Least Squares</td>  <th>  F-statistic:       </th>          <td>   32.37</td>\n",
       "</tr>\n",
       "<tr>\n",
       "  <th>Date:</th>             <td>Wed, 27 Jul 2022</td> <th>  Prob (F-statistic):</th>          <td>4.34e-09</td>\n",
       "</tr>\n",
       "<tr>\n",
       "  <th>Time:</th>                 <td>04:26:47</td>     <th>  Log-Likelihood:    </th>          <td>-0.92453</td>\n",
       "</tr>\n",
       "<tr>\n",
       "  <th>No. Observations:</th>      <td>    30</td>      <th>  AIC:               </th>          <td>   7.849</td>\n",
       "</tr>\n",
       "<tr>\n",
       "  <th>Df Residuals:</th>          <td>    27</td>      <th>  BIC:               </th>          <td>   12.05</td>\n",
       "</tr>\n",
       "<tr>\n",
       "  <th>Df Model:</th>              <td>     3</td>      <th>                     </th>              <td> </td>   \n",
       "</tr>\n",
       "<tr>\n",
       "  <th>Covariance Type:</th>      <td>nonrobust</td>    <th>                     </th>              <td> </td>   \n",
       "</tr>\n",
       "</table>\n",
       "<table class=\"simpletable\">\n",
       "<tr>\n",
       "   <td></td>     <th>coef</th>     <th>std err</th>      <th>t</th>      <th>P>|t|</th>  <th>[0.025</th>    <th>0.975]</th>  \n",
       "</tr>\n",
       "<tr>\n",
       "  <th>x1</th> <td>    0.4715</td> <td>    0.049</td> <td>    9.709</td> <td> 0.000</td> <td>    0.372</td> <td>    0.571</td>\n",
       "</tr>\n",
       "<tr>\n",
       "  <th>x2</th> <td>    0.0674</td> <td>    0.051</td> <td>    1.314</td> <td> 0.200</td> <td>   -0.038</td> <td>    0.173</td>\n",
       "</tr>\n",
       "<tr>\n",
       "  <th>x3</th> <td>    0.0427</td> <td>    0.051</td> <td>    0.839</td> <td> 0.409</td> <td>   -0.062</td> <td>    0.147</td>\n",
       "</tr>\n",
       "</table>\n",
       "<table class=\"simpletable\">\n",
       "<tr>\n",
       "  <th>Omnibus:</th>       <td> 3.662</td> <th>  Durbin-Watson:     </th> <td>   0.494</td>\n",
       "</tr>\n",
       "<tr>\n",
       "  <th>Prob(Omnibus):</th> <td> 0.160</td> <th>  Jarque-Bera (JB):  </th> <td>   2.279</td>\n",
       "</tr>\n",
       "<tr>\n",
       "  <th>Skew:</th>          <td> 0.464</td> <th>  Prob(JB):          </th> <td>   0.320</td>\n",
       "</tr>\n",
       "<tr>\n",
       "  <th>Kurtosis:</th>      <td> 2.019</td> <th>  Cond. No.          </th> <td>    1.44</td>\n",
       "</tr>\n",
       "</table><br/><br/>Notes:<br/>[1] R² is computed without centering (uncentered) since the model does not contain a constant.<br/>[2] Standard Errors assume that the covariance matrix of the errors is correctly specified."
      ],
      "text/plain": [
       "<class 'statsmodels.iolib.summary.Summary'>\n",
       "\"\"\"\n",
       "                                 OLS Regression Results                                \n",
       "=======================================================================================\n",
       "Dep. Variable:                      y   R-squared (uncentered):                   0.782\n",
       "Model:                            OLS   Adj. R-squared (uncentered):              0.758\n",
       "Method:                 Least Squares   F-statistic:                              32.37\n",
       "Date:                Wed, 27 Jul 2022   Prob (F-statistic):                    4.34e-09\n",
       "Time:                        04:26:47   Log-Likelihood:                        -0.92453\n",
       "No. Observations:                  30   AIC:                                      7.849\n",
       "Df Residuals:                      27   BIC:                                      12.05\n",
       "Df Model:                           3                                                  \n",
       "Covariance Type:            nonrobust                                                  \n",
       "==============================================================================\n",
       "                 coef    std err          t      P>|t|      [0.025      0.975]\n",
       "------------------------------------------------------------------------------\n",
       "x1             0.4715      0.049      9.709      0.000       0.372       0.571\n",
       "x2             0.0674      0.051      1.314      0.200      -0.038       0.173\n",
       "x3             0.0427      0.051      0.839      0.409      -0.062       0.147\n",
       "==============================================================================\n",
       "Omnibus:                        3.662   Durbin-Watson:                   0.494\n",
       "Prob(Omnibus):                  0.160   Jarque-Bera (JB):                2.279\n",
       "Skew:                           0.464   Prob(JB):                        0.320\n",
       "Kurtosis:                       2.019   Cond. No.                         1.44\n",
       "==============================================================================\n",
       "\n",
       "Notes:\n",
       "[1] R² is computed without centering (uncentered) since the model does not contain a constant.\n",
       "[2] Standard Errors assume that the covariance matrix of the errors is correctly specified.\n",
       "\"\"\""
      ]
     },
     "execution_count": 146,
     "metadata": {},
     "output_type": "execute_result"
    }
   ],
   "source": [
    "model3 = sm.OLS(svr_reg.predict(x_olcekli),x_olcekli)\n",
    "model3.fit().summary()  "
   ]
  },
  {
   "cell_type": "code",
   "execution_count": 147,
   "id": "dcead808-092d-4a5d-92b1-5aa3b5155807",
   "metadata": {},
   "outputs": [],
   "source": [
    "# x3 değerini kaldırıp tekrardan deneyelim ve sonuca birdaha bakalım"
   ]
  },
  {
   "cell_type": "code",
   "execution_count": 148,
   "id": "c7b1da59-34a6-4e05-a514-75994cc55ef9",
   "metadata": {},
   "outputs": [],
   "source": [
    "x = veriler.iloc[:,2:4] \n",
    "y = veriler.iloc[:,5:] \n",
    "X = x.values\n",
    "Y = y.values"
   ]
  },
  {
   "cell_type": "code",
   "execution_count": 149,
   "id": "e43e9beb-1564-43b5-a5bf-ea8cdcf147d2",
   "metadata": {},
   "outputs": [],
   "source": [
    "from sklearn.preprocessing import StandardScaler\n",
    "sc1 = StandardScaler()\n",
    "x_olcekli = sc1.fit_transform(x.values)\n",
    "sc2 = StandardScaler()\n",
    "y_olcekli = sc2.fit_transform(y.values)"
   ]
  },
  {
   "cell_type": "code",
   "execution_count": 150,
   "id": "2616003a-668d-4ed9-97bb-832e459e503e",
   "metadata": {},
   "outputs": [
    {
     "data": {
      "text/plain": [
       "SVR()"
      ]
     },
     "execution_count": 150,
     "metadata": {},
     "output_type": "execute_result"
    }
   ],
   "source": [
    "from sklearn.svm import SVR\n",
    "svr_reg = SVR(kernel = \"rbf\")\n",
    "svr_reg.fit(x_olcekli,y_olcekli)"
   ]
  },
  {
   "cell_type": "code",
   "execution_count": 151,
   "id": "8a8090c1-b577-464c-b736-9cbe12c75030",
   "metadata": {},
   "outputs": [
    {
     "data": {
      "text/html": [
       "<table class=\"simpletable\">\n",
       "<caption>OLS Regression Results</caption>\n",
       "<tr>\n",
       "  <th>Dep. Variable:</th>            <td>y</td>        <th>  R-squared (uncentered):</th>      <td>   0.763</td>\n",
       "</tr>\n",
       "<tr>\n",
       "  <th>Model:</th>                   <td>OLS</td>       <th>  Adj. R-squared (uncentered):</th> <td>   0.746</td>\n",
       "</tr>\n",
       "<tr>\n",
       "  <th>Method:</th>             <td>Least Squares</td>  <th>  F-statistic:       </th>          <td>   44.99</td>\n",
       "</tr>\n",
       "<tr>\n",
       "  <th>Date:</th>             <td>Wed, 27 Jul 2022</td> <th>  Prob (F-statistic):</th>          <td>1.80e-09</td>\n",
       "</tr>\n",
       "<tr>\n",
       "  <th>Time:</th>                 <td>04:26:48</td>     <th>  Log-Likelihood:    </th>          <td> -2.8457</td>\n",
       "</tr>\n",
       "<tr>\n",
       "  <th>No. Observations:</th>      <td>    30</td>      <th>  AIC:               </th>          <td>   9.691</td>\n",
       "</tr>\n",
       "<tr>\n",
       "  <th>Df Residuals:</th>          <td>    28</td>      <th>  BIC:               </th>          <td>   12.49</td>\n",
       "</tr>\n",
       "<tr>\n",
       "  <th>Df Model:</th>              <td>     2</td>      <th>                     </th>              <td> </td>   \n",
       "</tr>\n",
       "<tr>\n",
       "  <th>Covariance Type:</th>      <td>nonrobust</td>    <th>                     </th>              <td> </td>   \n",
       "</tr>\n",
       "</table>\n",
       "<table class=\"simpletable\">\n",
       "<tr>\n",
       "   <td></td>     <th>coef</th>     <th>std err</th>      <th>t</th>      <th>P>|t|</th>  <th>[0.025</th>    <th>0.975]</th>  \n",
       "</tr>\n",
       "<tr>\n",
       "  <th>x1</th> <td>    0.4803</td> <td>    0.051</td> <td>    9.477</td> <td> 0.000</td> <td>    0.376</td> <td>    0.584</td>\n",
       "</tr>\n",
       "<tr>\n",
       "  <th>x2</th> <td>    0.0806</td> <td>    0.051</td> <td>    1.591</td> <td> 0.123</td> <td>   -0.023</td> <td>    0.184</td>\n",
       "</tr>\n",
       "</table>\n",
       "<table class=\"simpletable\">\n",
       "<tr>\n",
       "  <th>Omnibus:</th>       <td> 3.061</td> <th>  Durbin-Watson:     </th> <td>   0.413</td>\n",
       "</tr>\n",
       "<tr>\n",
       "  <th>Prob(Omnibus):</th> <td> 0.216</td> <th>  Jarque-Bera (JB):  </th> <td>   2.419</td>\n",
       "</tr>\n",
       "<tr>\n",
       "  <th>Skew:</th>          <td> 0.564</td> <th>  Prob(JB):          </th> <td>   0.298</td>\n",
       "</tr>\n",
       "<tr>\n",
       "  <th>Kurtosis:</th>      <td> 2.184</td> <th>  Cond. No.          </th> <td>    1.13</td>\n",
       "</tr>\n",
       "</table><br/><br/>Notes:<br/>[1] R² is computed without centering (uncentered) since the model does not contain a constant.<br/>[2] Standard Errors assume that the covariance matrix of the errors is correctly specified."
      ],
      "text/plain": [
       "<class 'statsmodels.iolib.summary.Summary'>\n",
       "\"\"\"\n",
       "                                 OLS Regression Results                                \n",
       "=======================================================================================\n",
       "Dep. Variable:                      y   R-squared (uncentered):                   0.763\n",
       "Model:                            OLS   Adj. R-squared (uncentered):              0.746\n",
       "Method:                 Least Squares   F-statistic:                              44.99\n",
       "Date:                Wed, 27 Jul 2022   Prob (F-statistic):                    1.80e-09\n",
       "Time:                        04:26:48   Log-Likelihood:                         -2.8457\n",
       "No. Observations:                  30   AIC:                                      9.691\n",
       "Df Residuals:                      28   BIC:                                      12.49\n",
       "Df Model:                           2                                                  \n",
       "Covariance Type:            nonrobust                                                  \n",
       "==============================================================================\n",
       "                 coef    std err          t      P>|t|      [0.025      0.975]\n",
       "------------------------------------------------------------------------------\n",
       "x1             0.4803      0.051      9.477      0.000       0.376       0.584\n",
       "x2             0.0806      0.051      1.591      0.123      -0.023       0.184\n",
       "==============================================================================\n",
       "Omnibus:                        3.061   Durbin-Watson:                   0.413\n",
       "Prob(Omnibus):                  0.216   Jarque-Bera (JB):                2.419\n",
       "Skew:                           0.564   Prob(JB):                        0.298\n",
       "Kurtosis:                       2.184   Cond. No.                         1.13\n",
       "==============================================================================\n",
       "\n",
       "Notes:\n",
       "[1] R² is computed without centering (uncentered) since the model does not contain a constant.\n",
       "[2] Standard Errors assume that the covariance matrix of the errors is correctly specified.\n",
       "\"\"\""
      ]
     },
     "execution_count": 151,
     "metadata": {},
     "output_type": "execute_result"
    }
   ],
   "source": [
    "model3 = sm.OLS(svr_reg.predict(x_olcekli),x_olcekli)\n",
    "model3.fit().summary()  "
   ]
  },
  {
   "cell_type": "code",
   "execution_count": 152,
   "id": "19d6b88f-4374-4955-ab7c-8ab35600de43",
   "metadata": {},
   "outputs": [],
   "source": [
    "#değer düştü x2 yi kaldırıp birde öyle bakalım"
   ]
  },
  {
   "cell_type": "code",
   "execution_count": 153,
   "id": "740227f5-44fe-457b-99d0-7f0aba03f33c",
   "metadata": {},
   "outputs": [],
   "source": [
    "x = veriler.iloc[:,2:3] \n",
    "y = veriler.iloc[:,5:] \n",
    "X = x.values\n",
    "Y = y.values"
   ]
  },
  {
   "cell_type": "code",
   "execution_count": 154,
   "id": "ff2ef40d-653d-4e39-9d76-1741205f0202",
   "metadata": {},
   "outputs": [],
   "source": [
    "from sklearn.preprocessing import StandardScaler\n",
    "sc1 = StandardScaler()\n",
    "x_olcekli = sc1.fit_transform(x.values)\n",
    "sc2 = StandardScaler()\n",
    "y_olcekli = sc2.fit_transform(y.values)"
   ]
  },
  {
   "cell_type": "code",
   "execution_count": 155,
   "id": "60cfaba3-97a0-413c-a351-7c9e843553e5",
   "metadata": {},
   "outputs": [
    {
     "data": {
      "text/plain": [
       "SVR()"
      ]
     },
     "execution_count": 155,
     "metadata": {},
     "output_type": "execute_result"
    }
   ],
   "source": [
    "from sklearn.svm import SVR\n",
    "svr_reg = SVR(kernel = \"rbf\")\n",
    "svr_reg.fit(x_olcekli,y_olcekli)"
   ]
  },
  {
   "cell_type": "code",
   "execution_count": 156,
   "id": "5ec27f56-7079-45df-ade5-c50cd362bf52",
   "metadata": {},
   "outputs": [
    {
     "data": {
      "text/html": [
       "<table class=\"simpletable\">\n",
       "<caption>OLS Regression Results</caption>\n",
       "<tr>\n",
       "  <th>Dep. Variable:</th>            <td>y</td>        <th>  R-squared (uncentered):</th>      <td>   0.770</td>\n",
       "</tr>\n",
       "<tr>\n",
       "  <th>Model:</th>                   <td>OLS</td>       <th>  Adj. R-squared (uncentered):</th> <td>   0.762</td>\n",
       "</tr>\n",
       "<tr>\n",
       "  <th>Method:</th>             <td>Least Squares</td>  <th>  F-statistic:       </th>          <td>   97.19</td>\n",
       "</tr>\n",
       "<tr>\n",
       "  <th>Date:</th>             <td>Wed, 27 Jul 2022</td> <th>  Prob (F-statistic):</th>          <td>9.11e-11</td>\n",
       "</tr>\n",
       "<tr>\n",
       "  <th>Time:</th>                 <td>04:26:48</td>     <th>  Log-Likelihood:    </th>          <td> -1.3680</td>\n",
       "</tr>\n",
       "<tr>\n",
       "  <th>No. Observations:</th>      <td>    30</td>      <th>  AIC:               </th>          <td>   4.736</td>\n",
       "</tr>\n",
       "<tr>\n",
       "  <th>Df Residuals:</th>          <td>    29</td>      <th>  BIC:               </th>          <td>   6.137</td>\n",
       "</tr>\n",
       "<tr>\n",
       "  <th>Df Model:</th>              <td>     1</td>      <th>                     </th>              <td> </td>   \n",
       "</tr>\n",
       "<tr>\n",
       "  <th>Covariance Type:</th>      <td>nonrobust</td>    <th>                     </th>              <td> </td>   \n",
       "</tr>\n",
       "</table>\n",
       "<table class=\"simpletable\">\n",
       "<tr>\n",
       "   <td></td>     <th>coef</th>     <th>std err</th>      <th>t</th>      <th>P>|t|</th>  <th>[0.025</th>    <th>0.975]</th>  \n",
       "</tr>\n",
       "<tr>\n",
       "  <th>x1</th> <td>    0.4636</td> <td>    0.047</td> <td>    9.858</td> <td> 0.000</td> <td>    0.367</td> <td>    0.560</td>\n",
       "</tr>\n",
       "</table>\n",
       "<table class=\"simpletable\">\n",
       "<tr>\n",
       "  <th>Omnibus:</th>       <td> 9.456</td> <th>  Durbin-Watson:     </th> <td>   0.304</td>\n",
       "</tr>\n",
       "<tr>\n",
       "  <th>Prob(Omnibus):</th> <td> 0.009</td> <th>  Jarque-Bera (JB):  </th> <td>   2.433</td>\n",
       "</tr>\n",
       "<tr>\n",
       "  <th>Skew:</th>          <td> 0.179</td> <th>  Prob(JB):          </th> <td>   0.296</td>\n",
       "</tr>\n",
       "<tr>\n",
       "  <th>Kurtosis:</th>      <td> 1.652</td> <th>  Cond. No.          </th> <td>    1.00</td>\n",
       "</tr>\n",
       "</table><br/><br/>Notes:<br/>[1] R² is computed without centering (uncentered) since the model does not contain a constant.<br/>[2] Standard Errors assume that the covariance matrix of the errors is correctly specified."
      ],
      "text/plain": [
       "<class 'statsmodels.iolib.summary.Summary'>\n",
       "\"\"\"\n",
       "                                 OLS Regression Results                                \n",
       "=======================================================================================\n",
       "Dep. Variable:                      y   R-squared (uncentered):                   0.770\n",
       "Model:                            OLS   Adj. R-squared (uncentered):              0.762\n",
       "Method:                 Least Squares   F-statistic:                              97.19\n",
       "Date:                Wed, 27 Jul 2022   Prob (F-statistic):                    9.11e-11\n",
       "Time:                        04:26:48   Log-Likelihood:                         -1.3680\n",
       "No. Observations:                  30   AIC:                                      4.736\n",
       "Df Residuals:                      29   BIC:                                      6.137\n",
       "Df Model:                           1                                                  \n",
       "Covariance Type:            nonrobust                                                  \n",
       "==============================================================================\n",
       "                 coef    std err          t      P>|t|      [0.025      0.975]\n",
       "------------------------------------------------------------------------------\n",
       "x1             0.4636      0.047      9.858      0.000       0.367       0.560\n",
       "==============================================================================\n",
       "Omnibus:                        9.456   Durbin-Watson:                   0.304\n",
       "Prob(Omnibus):                  0.009   Jarque-Bera (JB):                2.433\n",
       "Skew:                           0.179   Prob(JB):                        0.296\n",
       "Kurtosis:                       1.652   Cond. No.                         1.00\n",
       "==============================================================================\n",
       "\n",
       "Notes:\n",
       "[1] R² is computed without centering (uncentered) since the model does not contain a constant.\n",
       "[2] Standard Errors assume that the covariance matrix of the errors is correctly specified.\n",
       "\"\"\""
      ]
     },
     "execution_count": 156,
     "metadata": {},
     "output_type": "execute_result"
    }
   ],
   "source": [
    "model3 = sm.OLS(svr_reg.predict(x_olcekli),x_olcekli)\n",
    "model3.fit().summary()  "
   ]
  },
  {
   "cell_type": "code",
   "execution_count": 157,
   "id": "750aa5a6-105a-47e8-9320-fe3bfd843490",
   "metadata": {},
   "outputs": [],
   "source": [
    "# sadece x1 ile R2 değeri daha düşük çıktı \n",
    "# Bu tahmin algoritmasında 3 değişkenide kullanarak yapılan tahmin daha doğru sonuçlar veriyor"
   ]
  },
  {
   "cell_type": "markdown",
   "id": "e8f953cf-2a86-49a9-9c0f-24c5928004d1",
   "metadata": {},
   "source": [
    "**Desicion Tree**"
   ]
  },
  {
   "cell_type": "code",
   "execution_count": 158,
   "id": "4a575f80-f373-4a05-a68a-6b9b2d408e33",
   "metadata": {},
   "outputs": [],
   "source": [
    "x = veriler.iloc[:,2:5] \n",
    "y = veriler.iloc[:,5:] \n",
    "X = x.values\n",
    "Y = y.values"
   ]
  },
  {
   "cell_type": "code",
   "execution_count": 159,
   "id": "59eccfae-6d84-4861-be44-c0fd84963038",
   "metadata": {},
   "outputs": [
    {
     "data": {
      "text/plain": [
       "DecisionTreeRegressor(random_state=0)"
      ]
     },
     "execution_count": 159,
     "metadata": {},
     "output_type": "execute_result"
    }
   ],
   "source": [
    "from sklearn.tree import DecisionTreeRegressor\n",
    "r_dt = DecisionTreeRegressor(random_state = 0)\n",
    "r_dt.fit(x.values,y.values)"
   ]
  },
  {
   "cell_type": "code",
   "execution_count": 160,
   "id": "c6ac6df4-49b5-4877-ab29-f2786309c54b",
   "metadata": {},
   "outputs": [
    {
     "data": {
      "text/html": [
       "<table class=\"simpletable\">\n",
       "<caption>OLS Regression Results</caption>\n",
       "<tr>\n",
       "  <th>Dep. Variable:</th>            <td>y</td>        <th>  R-squared (uncentered):</th>      <td>   0.679</td>\n",
       "</tr>\n",
       "<tr>\n",
       "  <th>Model:</th>                   <td>OLS</td>       <th>  Adj. R-squared (uncentered):</th> <td>   0.644</td>\n",
       "</tr>\n",
       "<tr>\n",
       "  <th>Method:</th>             <td>Least Squares</td>  <th>  F-statistic:       </th>          <td>   19.08</td>\n",
       "</tr>\n",
       "<tr>\n",
       "  <th>Date:</th>             <td>Wed, 27 Jul 2022</td> <th>  Prob (F-statistic):</th>          <td>7.62e-07</td>\n",
       "</tr>\n",
       "<tr>\n",
       "  <th>Time:</th>                 <td>04:26:48</td>     <th>  Log-Likelihood:    </th>          <td> -317.95</td>\n",
       "</tr>\n",
       "<tr>\n",
       "  <th>No. Observations:</th>      <td>    30</td>      <th>  AIC:               </th>          <td>   641.9</td>\n",
       "</tr>\n",
       "<tr>\n",
       "  <th>Df Residuals:</th>          <td>    27</td>      <th>  BIC:               </th>          <td>   646.1</td>\n",
       "</tr>\n",
       "<tr>\n",
       "  <th>Df Model:</th>              <td>     3</td>      <th>                     </th>              <td> </td>   \n",
       "</tr>\n",
       "<tr>\n",
       "  <th>Covariance Type:</th>      <td>nonrobust</td>    <th>                     </th>              <td> </td>   \n",
       "</tr>\n",
       "</table>\n",
       "<table class=\"simpletable\">\n",
       "<tr>\n",
       "   <td></td>     <th>coef</th>     <th>std err</th>      <th>t</th>      <th>P>|t|</th>  <th>[0.025</th>    <th>0.975]</th>  \n",
       "</tr>\n",
       "<tr>\n",
       "  <th>x1</th> <td> 2494.8107</td> <td>  537.146</td> <td>    4.645</td> <td> 0.000</td> <td> 1392.677</td> <td> 3596.944</td>\n",
       "</tr>\n",
       "<tr>\n",
       "  <th>x2</th> <td>    1.3531</td> <td>  668.935</td> <td>    0.002</td> <td> 0.998</td> <td>-1371.187</td> <td> 1373.894</td>\n",
       "</tr>\n",
       "<tr>\n",
       "  <th>x3</th> <td>  -26.5687</td> <td>   70.579</td> <td>   -0.376</td> <td> 0.710</td> <td> -171.385</td> <td>  118.248</td>\n",
       "</tr>\n",
       "</table>\n",
       "<table class=\"simpletable\">\n",
       "<tr>\n",
       "  <th>Omnibus:</th>       <td>40.370</td> <th>  Durbin-Watson:     </th> <td>   1.194</td>\n",
       "</tr>\n",
       "<tr>\n",
       "  <th>Prob(Omnibus):</th> <td> 0.000</td> <th>  Jarque-Bera (JB):  </th> <td> 125.722</td>\n",
       "</tr>\n",
       "<tr>\n",
       "  <th>Skew:</th>          <td> 2.897</td> <th>  Prob(JB):          </th> <td>5.01e-28</td>\n",
       "</tr>\n",
       "<tr>\n",
       "  <th>Kurtosis:</th>      <td>11.186</td> <th>  Cond. No.          </th> <td>    23.7</td>\n",
       "</tr>\n",
       "</table><br/><br/>Notes:<br/>[1] R² is computed without centering (uncentered) since the model does not contain a constant.<br/>[2] Standard Errors assume that the covariance matrix of the errors is correctly specified."
      ],
      "text/plain": [
       "<class 'statsmodels.iolib.summary.Summary'>\n",
       "\"\"\"\n",
       "                                 OLS Regression Results                                \n",
       "=======================================================================================\n",
       "Dep. Variable:                      y   R-squared (uncentered):                   0.679\n",
       "Model:                            OLS   Adj. R-squared (uncentered):              0.644\n",
       "Method:                 Least Squares   F-statistic:                              19.08\n",
       "Date:                Wed, 27 Jul 2022   Prob (F-statistic):                    7.62e-07\n",
       "Time:                        04:26:48   Log-Likelihood:                         -317.95\n",
       "No. Observations:                  30   AIC:                                      641.9\n",
       "Df Residuals:                      27   BIC:                                      646.1\n",
       "Df Model:                           3                                                  \n",
       "Covariance Type:            nonrobust                                                  \n",
       "==============================================================================\n",
       "                 coef    std err          t      P>|t|      [0.025      0.975]\n",
       "------------------------------------------------------------------------------\n",
       "x1          2494.8107    537.146      4.645      0.000    1392.677    3596.944\n",
       "x2             1.3531    668.935      0.002      0.998   -1371.187    1373.894\n",
       "x3           -26.5687     70.579     -0.376      0.710    -171.385     118.248\n",
       "==============================================================================\n",
       "Omnibus:                       40.370   Durbin-Watson:                   1.194\n",
       "Prob(Omnibus):                  0.000   Jarque-Bera (JB):              125.722\n",
       "Skew:                           2.897   Prob(JB):                     5.01e-28\n",
       "Kurtosis:                      11.186   Cond. No.                         23.7\n",
       "==============================================================================\n",
       "\n",
       "Notes:\n",
       "[1] R² is computed without centering (uncentered) since the model does not contain a constant.\n",
       "[2] Standard Errors assume that the covariance matrix of the errors is correctly specified.\n",
       "\"\"\""
      ]
     },
     "execution_count": 160,
     "metadata": {},
     "output_type": "execute_result"
    }
   ],
   "source": [
    "model4 = sm.OLS(r_dt.predict(X),X)\n",
    "model4.fit().summary()"
   ]
  },
  {
   "cell_type": "code",
   "execution_count": 161,
   "id": "a1cfeb29-5a7a-4b40-bc99-7c60236ffdad",
   "metadata": {},
   "outputs": [],
   "source": [
    "# x2 ve x3 değerlerini atabiliriz"
   ]
  },
  {
   "cell_type": "code",
   "execution_count": 162,
   "id": "26dda09a-a6f9-4f32-b5cb-bb4d95c40d3a",
   "metadata": {},
   "outputs": [],
   "source": [
    "x = veriler.iloc[:,2:3] \n",
    "y = veriler.iloc[:,5:] \n",
    "X = x.values\n",
    "Y = y.values"
   ]
  },
  {
   "cell_type": "code",
   "execution_count": 163,
   "id": "e4ed9d9c-5f33-4ac9-9ecb-45b9756b8bcd",
   "metadata": {},
   "outputs": [
    {
     "data": {
      "text/plain": [
       "DecisionTreeRegressor(random_state=0)"
      ]
     },
     "execution_count": 163,
     "metadata": {},
     "output_type": "execute_result"
    }
   ],
   "source": [
    "from sklearn.tree import DecisionTreeRegressor\n",
    "r_dt = DecisionTreeRegressor(random_state = 0)\n",
    "r_dt.fit(x.values,y.values)"
   ]
  },
  {
   "cell_type": "code",
   "execution_count": 164,
   "id": "d4a0acf0-6689-496c-b8ab-158da0cf09c1",
   "metadata": {},
   "outputs": [
    {
     "data": {
      "text/html": [
       "<table class=\"simpletable\">\n",
       "<caption>OLS Regression Results</caption>\n",
       "<tr>\n",
       "  <th>Dep. Variable:</th>            <td>y</td>        <th>  R-squared (uncentered):</th>      <td>   0.751</td>\n",
       "</tr>\n",
       "<tr>\n",
       "  <th>Model:</th>                   <td>OLS</td>       <th>  Adj. R-squared (uncentered):</th> <td>   0.742</td>\n",
       "</tr>\n",
       "<tr>\n",
       "  <th>Method:</th>             <td>Least Squares</td>  <th>  F-statistic:       </th>          <td>   87.29</td>\n",
       "</tr>\n",
       "<tr>\n",
       "  <th>Date:</th>             <td>Wed, 27 Jul 2022</td> <th>  Prob (F-statistic):</th>          <td>3.01e-10</td>\n",
       "</tr>\n",
       "<tr>\n",
       "  <th>Time:</th>                 <td>04:26:50</td>     <th>  Log-Likelihood:    </th>          <td> -312.62</td>\n",
       "</tr>\n",
       "<tr>\n",
       "  <th>No. Observations:</th>      <td>    30</td>      <th>  AIC:               </th>          <td>   627.2</td>\n",
       "</tr>\n",
       "<tr>\n",
       "  <th>Df Residuals:</th>          <td>    29</td>      <th>  BIC:               </th>          <td>   628.6</td>\n",
       "</tr>\n",
       "<tr>\n",
       "  <th>Df Model:</th>              <td>     1</td>      <th>                     </th>              <td> </td>   \n",
       "</tr>\n",
       "<tr>\n",
       "  <th>Covariance Type:</th>      <td>nonrobust</td>    <th>                     </th>              <td> </td>   \n",
       "</tr>\n",
       "</table>\n",
       "<table class=\"simpletable\">\n",
       "<tr>\n",
       "   <td></td>     <th>coef</th>     <th>std err</th>      <th>t</th>      <th>P>|t|</th>  <th>[0.025</th>    <th>0.975]</th>  \n",
       "</tr>\n",
       "<tr>\n",
       "  <th>x1</th> <td> 2269.9134</td> <td>  242.950</td> <td>    9.343</td> <td> 0.000</td> <td> 1773.025</td> <td> 2766.802</td>\n",
       "</tr>\n",
       "</table>\n",
       "<table class=\"simpletable\">\n",
       "<tr>\n",
       "  <th>Omnibus:</th>       <td>27.769</td> <th>  Durbin-Watson:     </th> <td>   1.364</td>\n",
       "</tr>\n",
       "<tr>\n",
       "  <th>Prob(Omnibus):</th> <td> 0.000</td> <th>  Jarque-Bera (JB):  </th> <td>  45.942</td>\n",
       "</tr>\n",
       "<tr>\n",
       "  <th>Skew:</th>          <td> 2.292</td> <th>  Prob(JB):          </th> <td>1.06e-10</td>\n",
       "</tr>\n",
       "<tr>\n",
       "  <th>Kurtosis:</th>      <td> 6.968</td> <th>  Cond. No.          </th> <td>    1.00</td>\n",
       "</tr>\n",
       "</table><br/><br/>Notes:<br/>[1] R² is computed without centering (uncentered) since the model does not contain a constant.<br/>[2] Standard Errors assume that the covariance matrix of the errors is correctly specified."
      ],
      "text/plain": [
       "<class 'statsmodels.iolib.summary.Summary'>\n",
       "\"\"\"\n",
       "                                 OLS Regression Results                                \n",
       "=======================================================================================\n",
       "Dep. Variable:                      y   R-squared (uncentered):                   0.751\n",
       "Model:                            OLS   Adj. R-squared (uncentered):              0.742\n",
       "Method:                 Least Squares   F-statistic:                              87.29\n",
       "Date:                Wed, 27 Jul 2022   Prob (F-statistic):                    3.01e-10\n",
       "Time:                        04:26:50   Log-Likelihood:                         -312.62\n",
       "No. Observations:                  30   AIC:                                      627.2\n",
       "Df Residuals:                      29   BIC:                                      628.6\n",
       "Df Model:                           1                                                  \n",
       "Covariance Type:            nonrobust                                                  \n",
       "==============================================================================\n",
       "                 coef    std err          t      P>|t|      [0.025      0.975]\n",
       "------------------------------------------------------------------------------\n",
       "x1          2269.9134    242.950      9.343      0.000    1773.025    2766.802\n",
       "==============================================================================\n",
       "Omnibus:                       27.769   Durbin-Watson:                   1.364\n",
       "Prob(Omnibus):                  0.000   Jarque-Bera (JB):               45.942\n",
       "Skew:                           2.292   Prob(JB):                     1.06e-10\n",
       "Kurtosis:                       6.968   Cond. No.                         1.00\n",
       "==============================================================================\n",
       "\n",
       "Notes:\n",
       "[1] R² is computed without centering (uncentered) since the model does not contain a constant.\n",
       "[2] Standard Errors assume that the covariance matrix of the errors is correctly specified.\n",
       "\"\"\""
      ]
     },
     "execution_count": 164,
     "metadata": {},
     "output_type": "execute_result"
    }
   ],
   "source": [
    "model4 = sm.OLS(r_dt.predict(X),X)\n",
    "model4.fit().summary()"
   ]
  },
  {
   "cell_type": "code",
   "execution_count": 165,
   "id": "31b6a4a9-2e13-4719-85f0-5e984093a338",
   "metadata": {},
   "outputs": [],
   "source": [
    "# R2 Değeri büyüdü"
   ]
  },
  {
   "cell_type": "markdown",
   "id": "b1df10aa-3734-4745-8501-97409e12d627",
   "metadata": {},
   "source": [
    "**Random Forest**"
   ]
  },
  {
   "cell_type": "code",
   "execution_count": 166,
   "id": "34bfab6d-81c8-4c5b-bdb2-e732f8ac5c06",
   "metadata": {},
   "outputs": [],
   "source": [
    "x = veriler.iloc[:,2:5] \n",
    "y = veriler.iloc[:,5:] \n",
    "X = x.values\n",
    "Y = y.values"
   ]
  },
  {
   "cell_type": "code",
   "execution_count": 167,
   "id": "089fb23a-cd1e-4dcf-9ef6-a2312446f854",
   "metadata": {},
   "outputs": [
    {
     "data": {
      "text/plain": [
       "RandomForestRegressor(n_estimators=10, random_state=0)"
      ]
     },
     "execution_count": 167,
     "metadata": {},
     "output_type": "execute_result"
    }
   ],
   "source": [
    "from sklearn.ensemble import RandomForestRegressor\n",
    "rf_reg = RandomForestRegressor(random_state=0 , n_estimators = 10 )   # estimaters kaç tane ağaç çizileceği sayısı\n",
    "rf_reg.fit(x.values,y.values.ravel())"
   ]
  },
  {
   "cell_type": "code",
   "execution_count": 168,
   "id": "26665cf8-187f-400f-a5a2-e6c882ce5205",
   "metadata": {},
   "outputs": [
    {
     "data": {
      "text/html": [
       "<table class=\"simpletable\">\n",
       "<caption>OLS Regression Results</caption>\n",
       "<tr>\n",
       "  <th>Dep. Variable:</th>            <td>y</td>        <th>  R-squared (uncentered):</th>      <td>   0.713</td>\n",
       "</tr>\n",
       "<tr>\n",
       "  <th>Model:</th>                   <td>OLS</td>       <th>  Adj. R-squared (uncentered):</th> <td>   0.681</td>\n",
       "</tr>\n",
       "<tr>\n",
       "  <th>Method:</th>             <td>Least Squares</td>  <th>  F-statistic:       </th>          <td>   22.31</td>\n",
       "</tr>\n",
       "<tr>\n",
       "  <th>Date:</th>             <td>Wed, 27 Jul 2022</td> <th>  Prob (F-statistic):</th>          <td>1.79e-07</td>\n",
       "</tr>\n",
       "<tr>\n",
       "  <th>Time:</th>                 <td>04:26:53</td>     <th>  Log-Likelihood:    </th>          <td> -316.07</td>\n",
       "</tr>\n",
       "<tr>\n",
       "  <th>No. Observations:</th>      <td>    30</td>      <th>  AIC:               </th>          <td>   638.1</td>\n",
       "</tr>\n",
       "<tr>\n",
       "  <th>Df Residuals:</th>          <td>    27</td>      <th>  BIC:               </th>          <td>   642.3</td>\n",
       "</tr>\n",
       "<tr>\n",
       "  <th>Df Model:</th>              <td>     3</td>      <th>                     </th>              <td> </td>   \n",
       "</tr>\n",
       "<tr>\n",
       "  <th>Covariance Type:</th>      <td>nonrobust</td>    <th>                     </th>              <td> </td>   \n",
       "</tr>\n",
       "</table>\n",
       "<table class=\"simpletable\">\n",
       "<tr>\n",
       "   <td></td>     <th>coef</th>     <th>std err</th>      <th>t</th>      <th>P>|t|</th>  <th>[0.025</th>    <th>0.975]</th>  \n",
       "</tr>\n",
       "<tr>\n",
       "  <th>x1</th> <td> 2671.9265</td> <td>  504.444</td> <td>    5.297</td> <td> 0.000</td> <td> 1636.892</td> <td> 3706.961</td>\n",
       "</tr>\n",
       "<tr>\n",
       "  <th>x2</th> <td>    1.0522</td> <td>  628.209</td> <td>    0.002</td> <td> 0.999</td> <td>-1287.927</td> <td> 1290.031</td>\n",
       "</tr>\n",
       "<tr>\n",
       "  <th>x3</th> <td>  -44.2927</td> <td>   66.282</td> <td>   -0.668</td> <td> 0.510</td> <td> -180.293</td> <td>   91.707</td>\n",
       "</tr>\n",
       "</table>\n",
       "<table class=\"simpletable\">\n",
       "<tr>\n",
       "  <th>Omnibus:</th>       <td>32.588</td> <th>  Durbin-Watson:     </th> <td>   1.349</td>\n",
       "</tr>\n",
       "<tr>\n",
       "  <th>Prob(Omnibus):</th> <td> 0.000</td> <th>  Jarque-Bera (JB):  </th> <td>  73.156</td>\n",
       "</tr>\n",
       "<tr>\n",
       "  <th>Skew:</th>          <td> 2.425</td> <th>  Prob(JB):          </th> <td>1.30e-16</td>\n",
       "</tr>\n",
       "<tr>\n",
       "  <th>Kurtosis:</th>      <td> 8.916</td> <th>  Cond. No.          </th> <td>    23.7</td>\n",
       "</tr>\n",
       "</table><br/><br/>Notes:<br/>[1] R² is computed without centering (uncentered) since the model does not contain a constant.<br/>[2] Standard Errors assume that the covariance matrix of the errors is correctly specified."
      ],
      "text/plain": [
       "<class 'statsmodels.iolib.summary.Summary'>\n",
       "\"\"\"\n",
       "                                 OLS Regression Results                                \n",
       "=======================================================================================\n",
       "Dep. Variable:                      y   R-squared (uncentered):                   0.713\n",
       "Model:                            OLS   Adj. R-squared (uncentered):              0.681\n",
       "Method:                 Least Squares   F-statistic:                              22.31\n",
       "Date:                Wed, 27 Jul 2022   Prob (F-statistic):                    1.79e-07\n",
       "Time:                        04:26:53   Log-Likelihood:                         -316.07\n",
       "No. Observations:                  30   AIC:                                      638.1\n",
       "Df Residuals:                      27   BIC:                                      642.3\n",
       "Df Model:                           3                                                  \n",
       "Covariance Type:            nonrobust                                                  \n",
       "==============================================================================\n",
       "                 coef    std err          t      P>|t|      [0.025      0.975]\n",
       "------------------------------------------------------------------------------\n",
       "x1          2671.9265    504.444      5.297      0.000    1636.892    3706.961\n",
       "x2             1.0522    628.209      0.002      0.999   -1287.927    1290.031\n",
       "x3           -44.2927     66.282     -0.668      0.510    -180.293      91.707\n",
       "==============================================================================\n",
       "Omnibus:                       32.588   Durbin-Watson:                   1.349\n",
       "Prob(Omnibus):                  0.000   Jarque-Bera (JB):               73.156\n",
       "Skew:                           2.425   Prob(JB):                     1.30e-16\n",
       "Kurtosis:                       8.916   Cond. No.                         23.7\n",
       "==============================================================================\n",
       "\n",
       "Notes:\n",
       "[1] R² is computed without centering (uncentered) since the model does not contain a constant.\n",
       "[2] Standard Errors assume that the covariance matrix of the errors is correctly specified.\n",
       "\"\"\""
      ]
     },
     "execution_count": 168,
     "metadata": {},
     "output_type": "execute_result"
    }
   ],
   "source": [
    "model5 = sm.OLS(rf_reg.predict(X),X)\n",
    "model5.fit().summary()"
   ]
  },
  {
   "cell_type": "code",
   "execution_count": 169,
   "id": "0669d424-60ce-4561-b77e-54da9a1789ce",
   "metadata": {},
   "outputs": [],
   "source": [
    "# x2 ve x3 değerlerini kaldırabiliriz Pvalue değerleri çok yüksek"
   ]
  },
  {
   "cell_type": "code",
   "execution_count": 170,
   "id": "986a58a7-5310-4bc9-b177-6ebd8839017d",
   "metadata": {},
   "outputs": [],
   "source": [
    "x = veriler.iloc[:,2:3] \n",
    "y = veriler.iloc[:,5:] \n",
    "X = x.values\n",
    "Y = y.values"
   ]
  },
  {
   "cell_type": "code",
   "execution_count": 171,
   "id": "e6ea3d6c-6e08-480e-9d6a-6175175d4bf3",
   "metadata": {},
   "outputs": [
    {
     "data": {
      "text/plain": [
       "RandomForestRegressor(n_estimators=10, random_state=0)"
      ]
     },
     "execution_count": 171,
     "metadata": {},
     "output_type": "execute_result"
    }
   ],
   "source": [
    "from sklearn.ensemble import RandomForestRegressor\n",
    "rf_reg = RandomForestRegressor(random_state=0 , n_estimators = 10 )   # estimaters kaç tane ağaç çizileceği sayısı\n",
    "rf_reg.fit(x.values,y.values.ravel())"
   ]
  },
  {
   "cell_type": "code",
   "execution_count": 172,
   "id": "4c52320a-3fa2-4557-b63c-b6a7f8c54055",
   "metadata": {},
   "outputs": [
    {
     "data": {
      "text/html": [
       "<table class=\"simpletable\">\n",
       "<caption>OLS Regression Results</caption>\n",
       "<tr>\n",
       "  <th>Dep. Variable:</th>            <td>y</td>        <th>  R-squared (uncentered):</th>      <td>   0.719</td>\n",
       "</tr>\n",
       "<tr>\n",
       "  <th>Model:</th>                   <td>OLS</td>       <th>  Adj. R-squared (uncentered):</th> <td>   0.709</td>\n",
       "</tr>\n",
       "<tr>\n",
       "  <th>Method:</th>             <td>Least Squares</td>  <th>  F-statistic:       </th>          <td>   74.13</td>\n",
       "</tr>\n",
       "<tr>\n",
       "  <th>Date:</th>             <td>Wed, 27 Jul 2022</td> <th>  Prob (F-statistic):</th>          <td>1.75e-09</td>\n",
       "</tr>\n",
       "<tr>\n",
       "  <th>Time:</th>                 <td>04:26:55</td>     <th>  Log-Likelihood:    </th>          <td> -315.35</td>\n",
       "</tr>\n",
       "<tr>\n",
       "  <th>No. Observations:</th>      <td>    30</td>      <th>  AIC:               </th>          <td>   632.7</td>\n",
       "</tr>\n",
       "<tr>\n",
       "  <th>Df Residuals:</th>          <td>    29</td>      <th>  BIC:               </th>          <td>   634.1</td>\n",
       "</tr>\n",
       "<tr>\n",
       "  <th>Df Model:</th>              <td>     1</td>      <th>                     </th>              <td> </td>   \n",
       "</tr>\n",
       "<tr>\n",
       "  <th>Covariance Type:</th>      <td>nonrobust</td>    <th>                     </th>              <td> </td>   \n",
       "</tr>\n",
       "</table>\n",
       "<table class=\"simpletable\">\n",
       "<tr>\n",
       "   <td></td>     <th>coef</th>     <th>std err</th>      <th>t</th>      <th>P>|t|</th>  <th>[0.025</th>    <th>0.975]</th>  \n",
       "</tr>\n",
       "<tr>\n",
       "  <th>x1</th> <td> 2290.6820</td> <td>  266.050</td> <td>    8.610</td> <td> 0.000</td> <td> 1746.548</td> <td> 2834.816</td>\n",
       "</tr>\n",
       "</table>\n",
       "<table class=\"simpletable\">\n",
       "<tr>\n",
       "  <th>Omnibus:</th>       <td>28.961</td> <th>  Durbin-Watson:     </th> <td>   1.503</td>\n",
       "</tr>\n",
       "<tr>\n",
       "  <th>Prob(Omnibus):</th> <td> 0.000</td> <th>  Jarque-Bera (JB):  </th> <td>  49.982</td>\n",
       "</tr>\n",
       "<tr>\n",
       "  <th>Skew:</th>          <td> 2.369</td> <th>  Prob(JB):          </th> <td>1.40e-11</td>\n",
       "</tr>\n",
       "<tr>\n",
       "  <th>Kurtosis:</th>      <td> 7.189</td> <th>  Cond. No.          </th> <td>    1.00</td>\n",
       "</tr>\n",
       "</table><br/><br/>Notes:<br/>[1] R² is computed without centering (uncentered) since the model does not contain a constant.<br/>[2] Standard Errors assume that the covariance matrix of the errors is correctly specified."
      ],
      "text/plain": [
       "<class 'statsmodels.iolib.summary.Summary'>\n",
       "\"\"\"\n",
       "                                 OLS Regression Results                                \n",
       "=======================================================================================\n",
       "Dep. Variable:                      y   R-squared (uncentered):                   0.719\n",
       "Model:                            OLS   Adj. R-squared (uncentered):              0.709\n",
       "Method:                 Least Squares   F-statistic:                              74.13\n",
       "Date:                Wed, 27 Jul 2022   Prob (F-statistic):                    1.75e-09\n",
       "Time:                        04:26:55   Log-Likelihood:                         -315.35\n",
       "No. Observations:                  30   AIC:                                      632.7\n",
       "Df Residuals:                      29   BIC:                                      634.1\n",
       "Df Model:                           1                                                  \n",
       "Covariance Type:            nonrobust                                                  \n",
       "==============================================================================\n",
       "                 coef    std err          t      P>|t|      [0.025      0.975]\n",
       "------------------------------------------------------------------------------\n",
       "x1          2290.6820    266.050      8.610      0.000    1746.548    2834.816\n",
       "==============================================================================\n",
       "Omnibus:                       28.961   Durbin-Watson:                   1.503\n",
       "Prob(Omnibus):                  0.000   Jarque-Bera (JB):               49.982\n",
       "Skew:                           2.369   Prob(JB):                     1.40e-11\n",
       "Kurtosis:                       7.189   Cond. No.                         1.00\n",
       "==============================================================================\n",
       "\n",
       "Notes:\n",
       "[1] R² is computed without centering (uncentered) since the model does not contain a constant.\n",
       "[2] Standard Errors assume that the covariance matrix of the errors is correctly specified.\n",
       "\"\"\""
      ]
     },
     "execution_count": 172,
     "metadata": {},
     "output_type": "execute_result"
    }
   ],
   "source": [
    "model5 = sm.OLS(rf_reg.predict(X),X)\n",
    "model5.fit().summary()"
   ]
  },
  {
   "cell_type": "markdown",
   "id": "333fec89-fa2d-47f2-a9fd-f85b5ae8fd2e",
   "metadata": {},
   "source": [
    "**5 PREDİCT YÖNTEMİNİN YORUMLANMASI** "
   ]
  },
  {
   "cell_type": "markdown",
   "id": "1334d4e6-f45a-4cc9-bff7-436d0429404e",
   "metadata": {},
   "source": [
    "Tüm yöntemlerde tek parametreli olanlar yüksek sonuç verdi"
   ]
  },
  {
   "cell_type": "markdown",
   "id": "67c431e3-dca2-4192-ab75-cccbf59a22b4",
   "metadata": {},
   "source": [
    "Linear R2 = 0.942"
   ]
  },
  {
   "cell_type": "markdown",
   "id": "9f20aa7d-8423-4a83-99a1-32b1fb5ea38f",
   "metadata": {},
   "source": [
    "Polynomial R2 = 0.782"
   ]
  },
  {
   "cell_type": "markdown",
   "id": "ee03fc06-0a97-4332-a94f-87f15e6c1088",
   "metadata": {},
   "source": [
    "SVR R2 = 0.770  # burada 3 parametreli olan 0.782 Çıktı"
   ]
  },
  {
   "cell_type": "markdown",
   "id": "98344d59-9d06-4547-837f-b51561921026",
   "metadata": {},
   "source": [
    "Desicion Tree R2 = 0.751"
   ]
  },
  {
   "cell_type": "markdown",
   "id": "cad5d7a1-46d9-4ed6-90c6-1a64a6a03be7",
   "metadata": {},
   "source": [
    "Random Forest R2 = 0.719"
   ]
  },
  {
   "cell_type": "code",
   "execution_count": 173,
   "id": "84dd4322-3a7e-41e0-9dd4-0b51bb9b7e7b",
   "metadata": {},
   "outputs": [],
   "source": [
    "# 3 Parametreli değerleri isterseniz yukarıdaki tablolardan inceleyebilirsiniz"
   ]
  },
  {
   "cell_type": "code",
   "execution_count": 174,
   "id": "00014cc5-1595-4ec7-b460-325f47cdeca2",
   "metadata": {},
   "outputs": [
    {
     "data": {
      "text/html": [
       "<div>\n",
       "<style scoped>\n",
       "    .dataframe tbody tr th:only-of-type {\n",
       "        vertical-align: middle;\n",
       "    }\n",
       "\n",
       "    .dataframe tbody tr th {\n",
       "        vertical-align: top;\n",
       "    }\n",
       "\n",
       "    .dataframe thead th {\n",
       "        text-align: right;\n",
       "    }\n",
       "</style>\n",
       "<table border=\"1\" class=\"dataframe\">\n",
       "  <thead>\n",
       "    <tr style=\"text-align: right;\">\n",
       "      <th></th>\n",
       "      <th>Calisan ID</th>\n",
       "      <th>UnvanSeviyesi</th>\n",
       "      <th>Kidem</th>\n",
       "      <th>Puan</th>\n",
       "      <th>maas</th>\n",
       "    </tr>\n",
       "  </thead>\n",
       "  <tbody>\n",
       "    <tr>\n",
       "      <th>Calisan ID</th>\n",
       "      <td>1.000000</td>\n",
       "      <td>0.331847</td>\n",
       "      <td>0.206278</td>\n",
       "      <td>-0.251278</td>\n",
       "      <td>0.226287</td>\n",
       "    </tr>\n",
       "    <tr>\n",
       "      <th>UnvanSeviyesi</th>\n",
       "      <td>0.331847</td>\n",
       "      <td>1.000000</td>\n",
       "      <td>-0.125200</td>\n",
       "      <td>0.034948</td>\n",
       "      <td>0.727036</td>\n",
       "    </tr>\n",
       "    <tr>\n",
       "      <th>Kidem</th>\n",
       "      <td>0.206278</td>\n",
       "      <td>-0.125200</td>\n",
       "      <td>1.000000</td>\n",
       "      <td>0.322796</td>\n",
       "      <td>0.117964</td>\n",
       "    </tr>\n",
       "    <tr>\n",
       "      <th>Puan</th>\n",
       "      <td>-0.251278</td>\n",
       "      <td>0.034948</td>\n",
       "      <td>0.322796</td>\n",
       "      <td>1.000000</td>\n",
       "      <td>0.201474</td>\n",
       "    </tr>\n",
       "    <tr>\n",
       "      <th>maas</th>\n",
       "      <td>0.226287</td>\n",
       "      <td>0.727036</td>\n",
       "      <td>0.117964</td>\n",
       "      <td>0.201474</td>\n",
       "      <td>1.000000</td>\n",
       "    </tr>\n",
       "  </tbody>\n",
       "</table>\n",
       "</div>"
      ],
      "text/plain": [
       "               Calisan ID  UnvanSeviyesi     Kidem      Puan      maas\n",
       "Calisan ID       1.000000       0.331847  0.206278 -0.251278  0.226287\n",
       "UnvanSeviyesi    0.331847       1.000000 -0.125200  0.034948  0.727036\n",
       "Kidem            0.206278      -0.125200  1.000000  0.322796  0.117964\n",
       "Puan            -0.251278       0.034948  0.322796  1.000000  0.201474\n",
       "maas             0.226287       0.727036  0.117964  0.201474  1.000000"
      ]
     },
     "execution_count": 174,
     "metadata": {},
     "output_type": "execute_result"
    }
   ],
   "source": [
    "veriler.corr()"
   ]
  },
  {
   "cell_type": "markdown",
   "id": "30ffe14b-68a1-4d22-8fb5-f3edfc8db16e",
   "metadata": {},
   "source": [
    "Korelasyon tablosuna bakarak kolonların birbirleriyle etkileşimleri gözükür"
   ]
  },
  {
   "cell_type": "code",
   "execution_count": null,
   "id": "dafc2e4a-0862-44e8-9b4b-019735fe31ce",
   "metadata": {},
   "outputs": [],
   "source": []
  }
 ],
 "metadata": {
  "kernelspec": {
   "display_name": "Python 3 (ipykernel)",
   "language": "python",
   "name": "python3"
  },
  "language_info": {
   "codemirror_mode": {
    "name": "ipython",
    "version": 3
   },
   "file_extension": ".py",
   "mimetype": "text/x-python",
   "name": "python",
   "nbconvert_exporter": "python",
   "pygments_lexer": "ipython3",
   "version": "3.9.12"
  }
 },
 "nbformat": 4,
 "nbformat_minor": 5
}
